{
  "nbformat": 4,
  "nbformat_minor": 0,
  "metadata": {
    "colab": {
      "provenance": [],
      "authorship_tag": "ABX9TyMDOlBHezqgB2XsBZC9kyfc",
      "include_colab_link": true
    },
    "kernelspec": {
      "name": "python3",
      "display_name": "Python 3"
    },
    "language_info": {
      "name": "python"
    }
  },
  "cells": [
    {
      "cell_type": "markdown",
      "metadata": {
        "id": "view-in-github",
        "colab_type": "text"
      },
      "source": [
        "<a href=\"https://colab.research.google.com/github/preetmodi/Credit-Risk-Analytics/blob/main/LGD_Caliberation.ipynb\" target=\"_parent\"><img src=\"https://colab.research.google.com/assets/colab-badge.svg\" alt=\"Open In Colab\"/></a>"
      ]
    },
    {
      "cell_type": "code",
      "execution_count": 1,
      "metadata": {
        "colab": {
          "base_uri": "https://localhost:8080/"
        },
        "id": "BTLV5AHKaXbA",
        "outputId": "9a89614e-256f-437e-d2ae-a9869c464695"
      },
      "outputs": [
        {
          "output_type": "stream",
          "name": "stdout",
          "text": [
            "/usr/bin/xdg-open: 869: www-browser: not found\n",
            "/usr/bin/xdg-open: 869: links2: not found\n",
            "/usr/bin/xdg-open: 869: elinks: not found\n",
            "/usr/bin/xdg-open: 869: links: not found\n",
            "/usr/bin/xdg-open: 869: lynx: not found\n",
            "/usr/bin/xdg-open: 869: w3m: not found\n",
            "xdg-open: no method available for opening 'https://accounts.google.com/o/oauth2/auth?client_id=564921029129.apps.googleusercontent.com&redirect_uri=https%3A%2F%2Fgd-ocaml-auth.appspot.com%2Foauth2callback&scope=https%3A%2F%2Fwww.googleapis.com%2Fauth%2Fdrive&response_type=code&access_type=offline&approval_prompt=force&state=9npNcdl%2FcBeYt95i0X1mGK83xUoajH%2FKE1saTeh5EuU'\n",
            "/bin/sh: 1: firefox: not found\n",
            "/bin/sh: 1: google-chrome: not found\n",
            "/bin/sh: 1: chromium-browser: not found\n",
            "/bin/sh: 1: open: not found\n",
            "Cannot retrieve auth tokens.\n",
            "Failure(\"Error opening URL:https://accounts.google.com/o/oauth2/auth?client_id=564921029129.apps.googleusercontent.com&redirect_uri=https%3A%2F%2Fgd-ocaml-auth.appspot.com%2Foauth2callback&scope=https%3A%2F%2Fwww.googleapis.com%2Fauth%2Fdrive&response_type=code&access_type=offline&approval_prompt=force&state=9npNcdl%2FcBeYt95i0X1mGK83xUoajH%2FKE1saTeh5EuU\")\n",
            "/content\n",
            "/content/gdrive\n",
            "Access token retrieved correctly.\n"
          ]
        }
      ],
      "source": [
        "!sudo echo -ne '\\n' | sudo add-apt-repository ppa:alessandro-strada/ppa >/dev/null 2>&1 # note: >/dev/null 2>&1 is used to supress printing\n",
        "!sudo apt update >/dev/null 2>&1\n",
        "!sudo apt install google-drive-ocamlfuse >/dev/null 2>&1\n",
        "!google-drive-ocamlfuse\n",
        "!sudo apt-get install w3m >/dev/null 2>&1 # to act as web browser \n",
        "!xdg-settings set default-web-browser w3m.desktop >/dev/null 2>&1 # to set default browser \n",
        "%cd /content\n",
        "!mkdir gdrive\n",
        "%cd gdrive\n",
        "!mkdir \"My Drive\"\n",
        "!google-drive-ocamlfuse \"/content/gdrive/My Drive\""
      ]
    },
    {
      "cell_type": "code",
      "source": [
        "# !pip install git+https://github.com/CBravoR/scorecardpy\n",
        "\n",
        "%cd /content/gdrive/My Drive/Data/"
      ],
      "metadata": {
        "colab": {
          "base_uri": "https://localhost:8080/"
        },
        "id": "BJHaNY-naofv",
        "outputId": "1347b184-5e5d-4486-8b80-9fb3f473f4e7"
      },
      "execution_count": 2,
      "outputs": [
        {
          "output_type": "stream",
          "name": "stdout",
          "text": [
            "/content/gdrive/My Drive/Data\n"
          ]
        }
      ]
    },
    {
      "cell_type": "code",
      "source": [
        "import numpy as np\n",
        "import pandas as pd\n",
        "from sklearn.model_selection import train_test_split\n",
        "\n",
        "import matplotlib.pyplot as plt\n",
        "import seaborn as sns\n",
        "%matplotlib inline\n",
        "\n",
        "from sklearn.metrics import mean_squared_error\n",
        "from sklearn.linear_model import ElasticNetCV\n",
        "from sklearn.model_selection import GridSearchCV\n",
        "\n",
        "sns.set_theme(style=\"darkgrid\")"
      ],
      "metadata": {
        "id": "h_M5JW-9aq1e"
      },
      "execution_count": 3,
      "outputs": []
    },
    {
      "cell_type": "code",
      "source": [
        "# performance_df = pd.read_pickle('model/data/performance_cleaned.pkl')\n",
        "# df = pd.read_csv('LCOrigination.csv')\n",
        "\n",
        "performance_df = pd.read_pickle('model/data/performance_with_LGD.pkl')\n",
        "\n",
        "performance_df['id'] =  performance_df['id'].astype('int')\n",
        "\n",
        "df = df.dropna(subset=['funded_amnt'])\n",
        "\n",
        "df['id'] = df['id'].astype('int')"
      ],
      "metadata": {
        "id": "B_yLGYNTav4O"
      },
      "execution_count": 102,
      "outputs": []
    },
    {
      "cell_type": "code",
      "source": [
        "performance_df['funded_amnt'] = df['funded_amnt']"
      ],
      "metadata": {
        "id": "4KJ4SnSNycbv"
      },
      "execution_count": 167,
      "outputs": []
    },
    {
      "cell_type": "markdown",
      "source": [
        "\n",
        "# LGD Calculation"
      ],
      "metadata": {
        "id": "IP-hHT_lgM_p"
      }
    },
    {
      "cell_type": "code",
      "source": [
        "# performance_df['loan_amnt'] = df['loan_amnt']\n",
        "\n",
        "performance_df.columns"
      ],
      "metadata": {
        "id": "iYldn1S3a4Nl",
        "colab": {
          "base_uri": "https://localhost:8080/"
        },
        "outputId": "5e9abf4c-38db-4ab9-aa03-e469b5e16624"
      },
      "execution_count": 168,
      "outputs": [
        {
          "output_type": "execute_result",
          "data": {
            "text/plain": [
              "Index(['collection_recovery_fee', 'delinq_amnt', 'issue_d', 'last_pymnt_amnt',\n",
              "       'last_pymnt_d', 'loan_status', 'mths_since_last_delinq',\n",
              "       'mths_since_last_major_derog', 'pymnt_plan', 'recoveries',\n",
              "       'hardship_flag', 'int_rate', 'total_pymnt', 'total_rec_int',\n",
              "       'total_rec_late_fee', 'total_rec_prncp', 'total_rev_hi_lim',\n",
              "       'out_prncp', 'out_prncp_inv', 'Default', 'hardship_broken',\n",
              "       'next_payment_date', 'id', 'loan_amnt', 'LGD', 'term',\n",
              "       'remaining_terms', 'expected_int_profit', 'loan_profit', 'funded_amnt'],\n",
              "      dtype='object')"
            ]
          },
          "metadata": {},
          "execution_count": 168
        }
      ]
    },
    {
      "cell_type": "code",
      "source": [
        "performance_df['EAD'] = performance_df['funded_amnt'] - performance_df['total_pymnt']"
      ],
      "metadata": {
        "id": "rDdssOc5XAlL"
      },
      "execution_count": 169,
      "outputs": []
    },
    {
      "cell_type": "code",
      "source": [
        "performance_df[(performance_df['total_pymnt'] - (performance_df['total_rec_late_fee'] + performance_df['total_rec_int'] + performance_df['total_rec_prncp']+ performance_df['recoveries'] - performance_df['collection_recovery_fee']))<-1]"
      ],
      "metadata": {
        "colab": {
          "base_uri": "https://localhost:8080/",
          "height": 143
        },
        "id": "R1nicWBhY7Ov",
        "outputId": "4be83364-54c5-44d8-dc7b-0044f238c5bb"
      },
      "execution_count": 176,
      "outputs": [
        {
          "output_type": "execute_result",
          "data": {
            "text/plain": [
              "Empty DataFrame\n",
              "Columns: [collection_recovery_fee, delinq_amnt, issue_d, last_pymnt_amnt, last_pymnt_d, loan_status, mths_since_last_delinq, mths_since_last_major_derog, pymnt_plan, recoveries, hardship_flag, int_rate, total_pymnt, total_rec_int, total_rec_late_fee, total_rec_prncp, total_rev_hi_lim, out_prncp, out_prncp_inv, Default, hardship_broken, next_payment_date, id, loan_amnt, LGD, term, remaining_terms, expected_int_profit, loan_profit, funded_amnt, EAD]\n",
              "Index: []\n",
              "\n",
              "[0 rows x 31 columns]"
            ],
            "text/html": [
              "\n",
              "  <div id=\"df-4ba092b0-e6b0-4260-82cd-48aa5a0524ac\">\n",
              "    <div class=\"colab-df-container\">\n",
              "      <div>\n",
              "<style scoped>\n",
              "    .dataframe tbody tr th:only-of-type {\n",
              "        vertical-align: middle;\n",
              "    }\n",
              "\n",
              "    .dataframe tbody tr th {\n",
              "        vertical-align: top;\n",
              "    }\n",
              "\n",
              "    .dataframe thead th {\n",
              "        text-align: right;\n",
              "    }\n",
              "</style>\n",
              "<table border=\"1\" class=\"dataframe\">\n",
              "  <thead>\n",
              "    <tr style=\"text-align: right;\">\n",
              "      <th></th>\n",
              "      <th>collection_recovery_fee</th>\n",
              "      <th>delinq_amnt</th>\n",
              "      <th>issue_d</th>\n",
              "      <th>last_pymnt_amnt</th>\n",
              "      <th>last_pymnt_d</th>\n",
              "      <th>loan_status</th>\n",
              "      <th>mths_since_last_delinq</th>\n",
              "      <th>mths_since_last_major_derog</th>\n",
              "      <th>pymnt_plan</th>\n",
              "      <th>recoveries</th>\n",
              "      <th>...</th>\n",
              "      <th>next_payment_date</th>\n",
              "      <th>id</th>\n",
              "      <th>loan_amnt</th>\n",
              "      <th>LGD</th>\n",
              "      <th>term</th>\n",
              "      <th>remaining_terms</th>\n",
              "      <th>expected_int_profit</th>\n",
              "      <th>loan_profit</th>\n",
              "      <th>funded_amnt</th>\n",
              "      <th>EAD</th>\n",
              "    </tr>\n",
              "  </thead>\n",
              "  <tbody>\n",
              "  </tbody>\n",
              "</table>\n",
              "<p>0 rows × 31 columns</p>\n",
              "</div>\n",
              "      <button class=\"colab-df-convert\" onclick=\"convertToInteractive('df-4ba092b0-e6b0-4260-82cd-48aa5a0524ac')\"\n",
              "              title=\"Convert this dataframe to an interactive table.\"\n",
              "              style=\"display:none;\">\n",
              "        \n",
              "  <svg xmlns=\"http://www.w3.org/2000/svg\" height=\"24px\"viewBox=\"0 0 24 24\"\n",
              "       width=\"24px\">\n",
              "    <path d=\"M0 0h24v24H0V0z\" fill=\"none\"/>\n",
              "    <path d=\"M18.56 5.44l.94 2.06.94-2.06 2.06-.94-2.06-.94-.94-2.06-.94 2.06-2.06.94zm-11 1L8.5 8.5l.94-2.06 2.06-.94-2.06-.94L8.5 2.5l-.94 2.06-2.06.94zm10 10l.94 2.06.94-2.06 2.06-.94-2.06-.94-.94-2.06-.94 2.06-2.06.94z\"/><path d=\"M17.41 7.96l-1.37-1.37c-.4-.4-.92-.59-1.43-.59-.52 0-1.04.2-1.43.59L10.3 9.45l-7.72 7.72c-.78.78-.78 2.05 0 2.83L4 21.41c.39.39.9.59 1.41.59.51 0 1.02-.2 1.41-.59l7.78-7.78 2.81-2.81c.8-.78.8-2.07 0-2.86zM5.41 20L4 18.59l7.72-7.72 1.47 1.35L5.41 20z\"/>\n",
              "  </svg>\n",
              "      </button>\n",
              "      \n",
              "  <style>\n",
              "    .colab-df-container {\n",
              "      display:flex;\n",
              "      flex-wrap:wrap;\n",
              "      gap: 12px;\n",
              "    }\n",
              "\n",
              "    .colab-df-convert {\n",
              "      background-color: #E8F0FE;\n",
              "      border: none;\n",
              "      border-radius: 50%;\n",
              "      cursor: pointer;\n",
              "      display: none;\n",
              "      fill: #1967D2;\n",
              "      height: 32px;\n",
              "      padding: 0 0 0 0;\n",
              "      width: 32px;\n",
              "    }\n",
              "\n",
              "    .colab-df-convert:hover {\n",
              "      background-color: #E2EBFA;\n",
              "      box-shadow: 0px 1px 2px rgba(60, 64, 67, 0.3), 0px 1px 3px 1px rgba(60, 64, 67, 0.15);\n",
              "      fill: #174EA6;\n",
              "    }\n",
              "\n",
              "    [theme=dark] .colab-df-convert {\n",
              "      background-color: #3B4455;\n",
              "      fill: #D2E3FC;\n",
              "    }\n",
              "\n",
              "    [theme=dark] .colab-df-convert:hover {\n",
              "      background-color: #434B5C;\n",
              "      box-shadow: 0px 1px 3px 1px rgba(0, 0, 0, 0.15);\n",
              "      filter: drop-shadow(0px 1px 2px rgba(0, 0, 0, 0.3));\n",
              "      fill: #FFFFFF;\n",
              "    }\n",
              "  </style>\n",
              "\n",
              "      <script>\n",
              "        const buttonEl =\n",
              "          document.querySelector('#df-4ba092b0-e6b0-4260-82cd-48aa5a0524ac button.colab-df-convert');\n",
              "        buttonEl.style.display =\n",
              "          google.colab.kernel.accessAllowed ? 'block' : 'none';\n",
              "\n",
              "        async function convertToInteractive(key) {\n",
              "          const element = document.querySelector('#df-4ba092b0-e6b0-4260-82cd-48aa5a0524ac');\n",
              "          const dataTable =\n",
              "            await google.colab.kernel.invokeFunction('convertToInteractive',\n",
              "                                                     [key], {});\n",
              "          if (!dataTable) return;\n",
              "\n",
              "          const docLinkHtml = 'Like what you see? Visit the ' +\n",
              "            '<a target=\"_blank\" href=https://colab.research.google.com/notebooks/data_table.ipynb>data table notebook</a>'\n",
              "            + ' to learn more about interactive tables.';\n",
              "          element.innerHTML = '';\n",
              "          dataTable['output_type'] = 'display_data';\n",
              "          await google.colab.output.renderOutput(dataTable, element);\n",
              "          const docLink = document.createElement('div');\n",
              "          docLink.innerHTML = docLinkHtml;\n",
              "          element.appendChild(docLink);\n",
              "        }\n",
              "      </script>\n",
              "    </div>\n",
              "  </div>\n",
              "  "
            ]
          },
          "metadata": {},
          "execution_count": 176
        }
      ]
    },
    {
      "cell_type": "code",
      "source": [
        "performance_df['LGD'] = (performance_df['total_pymnt']/performance_df['EAD'])"
      ],
      "metadata": {
        "id": "hdEw1zyzbD2F"
      },
      "execution_count": 178,
      "outputs": []
    },
    {
      "cell_type": "code",
      "source": [
        "performance_df = performance_df.dropna(subset=['loan_amnt'])"
      ],
      "metadata": {
        "id": "Coh1CsyKbYc-"
      },
      "execution_count": 7,
      "outputs": []
    },
    {
      "cell_type": "code",
      "source": [
        "performance_df.to_pickle('model/data/performance_with_LGD.pkl')"
      ],
      "metadata": {
        "id": "YMVGmExnfK49"
      },
      "execution_count": 179,
      "outputs": []
    },
    {
      "cell_type": "markdown",
      "source": [
        "# Calculate Profit"
      ],
      "metadata": {
        "id": "7OURkQf1gSvU"
      }
    },
    {
      "cell_type": "code",
      "source": [
        "performance_df.columns"
      ],
      "metadata": {
        "colab": {
          "base_uri": "https://localhost:8080/"
        },
        "id": "Riqv3bAzfoHG",
        "outputId": "546bc52e-f92e-40d6-eadb-12e47ebf66e4"
      },
      "execution_count": 194,
      "outputs": [
        {
          "output_type": "execute_result",
          "data": {
            "text/plain": [
              "Index(['collection_recovery_fee', 'delinq_amnt', 'issue_d', 'last_pymnt_amnt',\n",
              "       'last_pymnt_d', 'loan_status', 'mths_since_last_delinq',\n",
              "       'mths_since_last_major_derog', 'pymnt_plan', 'recoveries',\n",
              "       'hardship_flag', 'int_rate', 'total_pymnt', 'total_rec_int',\n",
              "       'total_rec_late_fee', 'total_rec_prncp', 'total_rev_hi_lim',\n",
              "       'out_prncp', 'out_prncp_inv', 'Default', 'hardship_broken',\n",
              "       'next_payment_date', 'id', 'loan_amnt', 'LGD', 'remaining_terms',\n",
              "       'expected_int_profit', 'loan_profit', 'funded_amnt', 'EAD', 'term'],\n",
              "      dtype='object')"
            ]
          },
          "metadata": {},
          "execution_count": 194
        }
      ]
    },
    {
      "cell_type": "code",
      "source": [
        "performance_df = performance_df.merge(df[['id', 'term']], on='id') \n",
        "performance_df['issue_d'] = pd.to_datetime(performance_df['issue_d'])\n",
        "performance_df['last_pymnt_d'] = pd.to_datetime(performance_df['last_pymnt_d'])"
      ],
      "metadata": {
        "id": "u2wbwDkzh9vR"
      },
      "execution_count": 189,
      "outputs": []
    },
    {
      "cell_type": "code",
      "source": [
        "performance_df['term'] = performance_df['term'].replace({' 36 months':36, ' 60 months': 60})\n",
        "# performance_df['term']\n",
        "# remaining_payments = \n",
        "# performance_df.loc[performance_df['last_pymnt_d'] < performance_df['issue_d'],['loan_status','issue_d', 'last_pymnt_d']].sort_values(by=['issue_d'])\n",
        "# ((performance_df['last_pymnt_d'] - performance_df['issue_d'])//np.timedelta64(1, 'M')).value_counts()"
      ],
      "metadata": {
        "id": "0Kt3BcNjjwXV"
      },
      "execution_count": 190,
      "outputs": []
    },
    {
      "cell_type": "code",
      "source": [
        "performance_df['remaining_terms'] = performance_df['term'] - ((performance_df['last_pymnt_d'] - performance_df['issue_d'])//np.timedelta64(1, 'M'))\n",
        "performance_df['remaining_terms'] = np.where(performance_df['remaining_terms']<0, 0, performance_df['remaining_terms'])\n",
        "# performance_df['term'].value_counts(dropna=False)\n",
        "\n",
        "# performance_df.loc[performance_df['remaining_terms']<0,\"loan_status\"].value_counts()\n",
        "# performance_df['term'] - ((performance_df['last_pymnt_d'] - performance_df['issue_d'])//np.timedelta64(1, 'M'))"
      ],
      "metadata": {
        "id": "Yneq03F3w9h3"
      },
      "execution_count": 191,
      "outputs": []
    },
    {
      "cell_type": "markdown",
      "source": [
        "# DO NOT ADD PROFIT OVER COLUMNS AS IT IS SEPERATE FOR DEFAULTERS AND NON DEFAULTERS"
      ],
      "metadata": {
        "id": "EmCCd86k9Fgl"
      }
    },
    {
      "cell_type": "code",
      "source": [
        "performance_df['expected_int_profit'] = (performance_df['int_rate'])/100 * performance_df['out_prncp'] * performance_df['remaining_terms']/12\n",
        "\n",
        "# performance_df['loan_profit'] = \n",
        "# (performance_df['total_rec_int'] + performance_df['total_rec_late_fee'] + performance_df['expected_int_profit'] - performance_df['int_rate']*performance_df['loan_amnt']*performance_df['term']*0.5/100).sum()\n",
        "int_revenues = performance_df['total_rec_int'] + performance_df['expected_int_profit'] \n",
        "cost = 0.5*int_revenues \n",
        "performance_df['loan_profit'] = int_revenues - cost + performance_df['total_rec_late_fee']\n",
        "performance_df.loc[performance_df['Default'] ==0, 'loan_profit'].sum()\n",
        "# performance_df.loc[(performance_df['total_pymnt'] + performance_df['expected_int_profit'] - ((100+performance_df['int_rate'])*performance_df['loan_amnt']*performance_df['term']*0.5/100))<0, 'loan_status'].value_counts()\n",
        "# performance_df['int_rate']*performance_df['loan_amnt']*performance_df['term']*0.5/100"
      ],
      "metadata": {
        "colab": {
          "base_uri": "https://localhost:8080/"
        },
        "id": "_A-E2lJz7Ow1",
        "outputId": "18ade2a4-4ed1-4701-fd06-d11d0fd977e1"
      },
      "execution_count": 192,
      "outputs": [
        {
          "output_type": "execute_result",
          "data": {
            "text/plain": [
              "2235250118.204241"
            ]
          },
          "metadata": {},
          "execution_count": 192
        }
      ]
    },
    {
      "cell_type": "code",
      "source": [
        "#For Defaulters\n",
        "\n",
        "mean_LGD = performance_df.loc[performance_df['Default']==1,'LGD'].mean()\n",
        "performance_df.loc[performance_df['Default']==1, 'loan_profit'] = -1*mean_LGD*performance_df['EAD']\n",
        "# cost = performance_df['int_rate']*performance_df['loan_amnt']*performance_df['term']/12*0.5/100"
      ],
      "metadata": {
        "id": "Dg0_5o2MLWfq"
      },
      "execution_count": 193,
      "outputs": []
    },
    {
      "cell_type": "code",
      "source": [
        "\n",
        "performance_df.to_pickle('model/data/performance_loan_profit.pkl')"
      ],
      "metadata": {
        "id": "2THioJZULeuK"
      },
      "execution_count": 195,
      "outputs": []
    },
    {
      "cell_type": "code",
      "source": [
        "performance_df['int_rate']"
      ],
      "metadata": {
        "colab": {
          "base_uri": "https://localhost:8080/"
        },
        "id": "O0VssOhT_ZGw",
        "outputId": "208ea028-679b-4f9c-d546-b114039ebe10"
      },
      "execution_count": 144,
      "outputs": [
        {
          "output_type": "execute_result",
          "data": {
            "text/plain": [
              "0          11.99\n",
              "1          10.78\n",
              "2           8.49\n",
              "3          11.48\n",
              "4          12.88\n",
              "           ...  \n",
              "1280610    10.49\n",
              "1280611    12.79\n",
              "1280612    10.49\n",
              "1280613    14.49\n",
              "1280614    14.49\n",
              "Name: int_rate, Length: 1280615, dtype: float64"
            ]
          },
          "metadata": {},
          "execution_count": 144
        }
      ]
    },
    {
      "cell_type": "code",
      "source": [
        "loan_profit = (performance_df['total_rec_int'] + performance_df['total_rec_late_fee'] )"
      ],
      "metadata": {
        "colab": {
          "base_uri": "https://localhost:8080/",
          "height": 130
        },
        "id": "1fdMKhBsgViH",
        "outputId": "73c4259a-afbf-4f13-e43c-48dbcd924f92"
      },
      "execution_count": 141,
      "outputs": [
        {
          "output_type": "error",
          "ename": "SyntaxError",
          "evalue": "ignored",
          "traceback": [
            "\u001b[0;36m  File \u001b[0;32m\"<ipython-input-141-dceb3a71caeb>\"\u001b[0;36m, line \u001b[0;32m1\u001b[0m\n\u001b[0;31m    loan_profit = (performance_df['total_rec_int'] + performance_df['total_rec_late_fee'] + performance_df['out_prncp']*\u001b[0m\n\u001b[0m                                                                                                                        ^\u001b[0m\n\u001b[0;31mSyntaxError\u001b[0m\u001b[0;31m:\u001b[0m unexpected EOF while parsing\n"
          ]
        }
      ]
    },
    {
      "cell_type": "code",
      "source": [
        "performance_df['out_prncp']/performance_df['last_pymnt_amnt']/((performance_df['int_rate']/100)+1)"
      ],
      "metadata": {
        "colab": {
          "base_uri": "https://localhost:8080/"
        },
        "id": "wZt7AUeXd69S",
        "outputId": "cf60344b-d3cc-4a0e-da0d-7260ee834c3b"
      },
      "execution_count": 9,
      "outputs": [
        {
          "output_type": "execute_result",
          "data": {
            "text/plain": [
              "0           0.000000\n",
              "1           0.000000\n",
              "2           0.000000\n",
              "3           0.000000\n",
              "4          17.276777\n",
              "             ...    \n",
              "1280641    24.483017\n",
              "1280642    23.306806\n",
              "1280643    24.482999\n",
              "1280644     0.000000\n",
              "1280645    22.427057\n",
              "Length: 1280615, dtype: float64"
            ]
          },
          "metadata": {},
          "execution_count": 9
        }
      ]
    },
    {
      "cell_type": "code",
      "source": [
        "(performance_df['total_rec_int'] + performance_df['total_rec_late_fee'] + performance_df['total_rec_prncp'] - performance_df['total_pymnt'])"
      ],
      "metadata": {
        "colab": {
          "base_uri": "https://localhost:8080/",
          "height": 467
        },
        "id": "dsS9ycbw7e-o",
        "outputId": "d27c1cb8-c3be-4d9a-c60b-3f345834a1b6"
      },
      "execution_count": null,
      "outputs": [
        {
          "output_type": "execute_result",
          "data": {
            "text/plain": [
              "<Axes: >"
            ]
          },
          "metadata": {},
          "execution_count": 81
        },
        {
          "output_type": "display_data",
          "data": {
            "text/plain": [
              "<Figure size 640x480 with 1 Axes>"
            ],
            "image/png": "[encoded data removed]"
          },
          "metadata": {}
        }
      ]
    },
    {
      "cell_type": "code",
      "source": [
        "performance_df[performance_df['Default'] == 1, 'loan_amnt']performance_df[]-performance_df['total_rec_prncp']"
      ],
      "metadata": {
        "colab": {
          "base_uri": "https://localhost:8080/"
        },
        "id": "l4cw6QpM8gQT",
        "outputId": "43f7feca-f6a5-408a-fe6f-c2806e9f5942"
      },
      "execution_count": null,
      "outputs": [
        {
          "output_type": "execute_result",
          "data": {
            "text/plain": [
              "15202165275.0"
            ]
          },
          "metadata": {},
          "execution_count": 66
        }
      ]
    },
    {
      "cell_type": "code",
      "source": [
        "performance_df['total_rec_int']"
      ],
      "metadata": {
        "colab": {
          "base_uri": "https://localhost:8080/"
        },
        "id": "icIgrWCrpDon",
        "outputId": "4cd3f976-b056-44c3-f055-f568f54793e9"
      },
      "execution_count": null,
      "outputs": [
        {
          "output_type": "execute_result",
          "data": {
            "text/plain": [
              "0           979.66\n",
              "1          2705.92\n",
              "2          1538.51\n",
              "3           939.58\n",
              "4          6788.21\n",
              "            ...   \n",
              "1280641    4928.86\n",
              "1280642    6047.89\n",
              "1280643    4959.95\n",
              "1280644    3233.49\n",
              "1280645    4027.96\n",
              "Name: total_rec_int, Length: 1280615, dtype: float64"
            ]
          },
          "metadata": {},
          "execution_count": 40
        }
      ]
    },
    {
      "cell_type": "code",
      "source": [],
      "metadata": {
        "id": "uSthad_Gpb6m"
      },
      "execution_count": null,
      "outputs": []
    },
    {
      "cell_type": "markdown",
      "source": [
        "# LGD Modelling"
      ],
      "metadata": {
        "id": "MRG-I6AZ4nLy"
      }
    },
    {
      "cell_type": "code",
      "source": [
        "x_train, x_test, y_train, y_LGD_test = train_test_split( performance_df, # Predictors\n",
        "                                                    LGD_data['LGD'],         # Target variable\n",
        "                                                    test_size=0.33,          # Test size percentage\n",
        "                                                    random_state=20201209    # Seed\n",
        "                                                    )"
      ],
      "metadata": {
        "id": "zps97qUF4rf2"
      },
      "execution_count": null,
      "outputs": []
    }
  ]
}