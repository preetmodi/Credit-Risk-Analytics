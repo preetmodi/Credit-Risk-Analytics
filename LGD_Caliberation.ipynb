{
 "cells": [
  {
   "cell_type": "markdown",
   "metadata": {
    "colab_type": "text",
    "id": "view-in-github"
   },
   "source": [
    "<a href=\"https://colab.research.google.com/github/preetmodi/Credit-Risk-Analytics/blob/main/LGD_Caliberation.ipynb\" target=\"_parent\"><img src=\"https://colab.research.google.com/assets/colab-badge.svg\" alt=\"Open In Colab\"/></a>"
   ]
  },
  {
   "cell_type": "code",
   "execution_count": 2,
   "metadata": {
    "colab": {
     "base_uri": "https://localhost:8080/"
    },
    "id": "BTLV5AHKaXbA",
    "outputId": "9d288139-c8c9-44fc-b329-74c8c275d449"
   },
   "outputs": [
    {
     "name": "stdout",
     "output_type": "stream",
     "text": [
      "/usr/bin/xdg-open: 869: www-browser: not found\n",
      "/usr/bin/xdg-open: 869: links2: not found\n",
      "/usr/bin/xdg-open: 869: elinks: not found\n",
      "/usr/bin/xdg-open: 869: links: not found\n",
      "/usr/bin/xdg-open: 869: lynx: not found\n",
      "/usr/bin/xdg-open: 869: w3m: not found\n",
      "xdg-open: no method available for opening 'https://accounts.google.com/o/oauth2/auth?client_id=564921029129.apps.googleusercontent.com&redirect_uri=https%3A%2F%2Fgd-ocaml-auth.appspot.com%2Foauth2callback&scope=https%3A%2F%2Fwww.googleapis.com%2Fauth%2Fdrive&response_type=code&access_type=offline&approval_prompt=force&state=6Ku%2FTHeeVyv4Yge7-5adbPfGwvvQ8-nZMvnVSebqhYY'\n",
      "/bin/sh: 1: firefox: not found\n",
      "/bin/sh: 1: google-chrome: not found\n",
      "/bin/sh: 1: chromium-browser: not found\n",
      "/bin/sh: 1: open: not found\n",
      "Cannot retrieve auth tokens.\n",
      "Failure(\"Error opening URL:https://accounts.google.com/o/oauth2/auth?client_id=564921029129.apps.googleusercontent.com&redirect_uri=https%3A%2F%2Fgd-ocaml-auth.appspot.com%2Foauth2callback&scope=https%3A%2F%2Fwww.googleapis.com%2Fauth%2Fdrive&response_type=code&access_type=offline&approval_prompt=force&state=6Ku%2FTHeeVyv4Yge7-5adbPfGwvvQ8-nZMvnVSebqhYY\")\n",
      "/content\n",
      "/content/gdrive\n",
      "Access token retrieved correctly.\n"
     ]
    }
   ],
   "source": [
    "!sudo echo -ne '\\n' | sudo add-apt-repository ppa:alessandro-strada/ppa >/dev/null 2>&1 # note: >/dev/null 2>&1 is used to supress printing\n",
    "!sudo apt update >/dev/null 2>&1\n",
    "!sudo apt install google-drive-ocamlfuse >/dev/null 2>&1\n",
    "!google-drive-ocamlfuse\n",
    "!sudo apt-get install w3m >/dev/null 2>&1 # to act as web browser \n",
    "!xdg-settings set default-web-browser w3m.desktop >/dev/null 2>&1 # to set default browser \n",
    "%cd /content\n",
    "!mkdir gdrive\n",
    "%cd gdrive\n",
    "!mkdir \"My Drive\"\n",
    "!google-drive-ocamlfuse \"/content/gdrive/My Drive\""
   ]
  },
  {
   "cell_type": "code",
   "execution_count": 3,
   "metadata": {
    "colab": {
     "base_uri": "https://localhost:8080/"
    },
    "id": "BJHaNY-naofv",
    "outputId": "c427dd47-7375-42b1-bdd4-5dabec9704f1"
   },
   "outputs": [
    {
     "name": "stdout",
     "output_type": "stream",
     "text": [
      "/content/gdrive/My Drive/Data\n"
     ]
    }
   ],
   "source": [
    "# !pip install git+https://github.com/CBravoR/scorecardpy\n",
    "\n",
    "%cd /content/gdrive/My Drive/Data/"
   ]
  },
  {
   "cell_type": "code",
   "execution_count": 73,
   "metadata": {
    "id": "h_M5JW-9aq1e"
   },
   "outputs": [],
   "source": [
    "import numpy as np\n",
    "import pandas as pd\n",
    "from sklearn.model_selection import train_test_split\n",
    "\n",
    "import matplotlib.pyplot as plt\n",
    "import seaborn as sns\n",
    "%matplotlib inline\n",
    "\n",
    "from sklearn.metrics import mean_squared_error\n",
    "from sklearn.linear_model import ElasticNetCV\n",
    "from sklearn.model_selection import GridSearchCV\n",
    "\n",
    "sns.set_theme(style=\"darkgrid\")"
   ]
  },
  {
   "cell_type": "code",
   "execution_count": 74,
   "metadata": {
    "colab": {
     "base_uri": "https://localhost:8080/"
    },
    "id": "B_yLGYNTav4O",
    "outputId": "150831c8-2fea-4fb8-bfe5-87eb5f776699"
   },
   "outputs": [
    {
     "name": "stderr",
     "output_type": "stream",
     "text": [
      "<ipython-input-74-4dcc5afacf0f>:2: DtypeWarning: Columns (0,14,42,98,109,110,111,114,115,116,119,123,124) have mixed types. Specify dtype option on import or set low_memory=False.\n",
      "  df = pd.read_csv('LCOrigination.csv')\n"
     ]
    }
   ],
   "source": [
    "performance_df = pd.read_pickle('model/data/performance_cleaned.pkl')\n",
    "df = pd.read_csv('LCOrigination.csv')\n",
    "\n",
    "# performance_df = pd.read_pickle('model/data/performance_with_LGD.pkl')\n",
    "# performance_df = performance_df.dropna(subset=['loan_status'])\n",
    "\n",
    "performance_df['id'] =  performance_df['id'].astype('int')\n",
    "\n",
    "df = df.dropna(subset=['funded_amnt'])\n",
    "\n",
    "df['id'] = df['id'].astype('int')"
   ]
  },
  {
   "cell_type": "code",
   "execution_count": 75,
   "metadata": {
    "colab": {
     "base_uri": "https://localhost:8080/"
    },
    "id": "oFXNf6p5acxU",
    "outputId": "e434da31-642d-420b-cd2a-7ac97274b3b4"
   },
   "outputs": [
    {
     "data": {
      "text/plain": [
       "collection_recovery_fee        0\n",
       "delinq_amnt                    0\n",
       "issue_d                        0\n",
       "last_pymnt_amnt                0\n",
       "last_pymnt_d                   0\n",
       "loan_status                    0\n",
       "mths_since_last_delinq         0\n",
       "mths_since_last_major_derog    0\n",
       "pymnt_plan                     0\n",
       "recoveries                     0\n",
       "hardship_flag                  0\n",
       "int_rate                       0\n",
       "total_pymnt                    0\n",
       "total_rec_int                  0\n",
       "total_rec_late_fee             0\n",
       "total_rec_prncp                0\n",
       "total_rev_hi_lim               0\n",
       "out_prncp                      0\n",
       "out_prncp_inv                  0\n",
       "Default                        0\n",
       "id                             0\n",
       "hardship_broken                0\n",
       "next_payment_date              0\n",
       "funded_amnt                    0\n",
       "dtype: int64"
      ]
     },
     "execution_count": 75,
     "metadata": {},
     "output_type": "execute_result"
    }
   ],
   "source": [
    "performance_df.isna().sum()"
   ]
  },
  {
   "cell_type": "code",
   "execution_count": 76,
   "metadata": {
    "id": "4KJ4SnSNycbv"
   },
   "outputs": [],
   "source": [
    "# performance_df['funded_amnt'] = df['funded_amnt']"
   ]
  },
  {
   "cell_type": "markdown",
   "metadata": {
    "id": "IP-hHT_lgM_p"
   },
   "source": [
    "\n",
    "# LGD Calculation"
   ]
  },
  {
   "cell_type": "code",
   "execution_count": 77,
   "metadata": {
    "colab": {
     "base_uri": "https://localhost:8080/"
    },
    "id": "iYldn1S3a4Nl",
    "outputId": "a0c38401-a5e8-425f-8b21-44cd4bc6e152"
   },
   "outputs": [
    {
     "data": {
      "text/plain": [
       "Index(['collection_recovery_fee', 'delinq_amnt', 'issue_d', 'last_pymnt_amnt',\n",
       "       'last_pymnt_d', 'loan_status', 'mths_since_last_delinq',\n",
       "       'mths_since_last_major_derog', 'pymnt_plan', 'recoveries',\n",
       "       'hardship_flag', 'int_rate', 'total_pymnt', 'total_rec_int',\n",
       "       'total_rec_late_fee', 'total_rec_prncp', 'total_rev_hi_lim',\n",
       "       'out_prncp', 'out_prncp_inv', 'Default', 'id', 'hardship_broken',\n",
       "       'next_payment_date', 'funded_amnt'],\n",
       "      dtype='object')"
      ]
     },
     "execution_count": 77,
     "metadata": {},
     "output_type": "execute_result"
    }
   ],
   "source": [
    "# performance_df['loan_amnt'] = df['loan_amnt']\n",
    "\n",
    "performance_df.columns"
   ]
  },
  {
   "cell_type": "markdown",
   "metadata": {
    "id": "T82wd2htXqnW"
   },
   "source": [
    "# Assumption: Profit is seperate. EAD is only using Funded amount and Recovered principle."
   ]
  },
  {
   "cell_type": "code",
   "execution_count": 79,
   "metadata": {
    "colab": {
     "base_uri": "https://localhost:8080/",
     "height": 739
    },
    "id": "_Ymu_gRha_ny",
    "outputId": "7dd46938-8852-4b45-afc8-ef3fdc2da4b5"
   },
   "outputs": [
    {
     "data": {
      "text/html": [
       "\n",
       "  <div id=\"df-c27da161-090c-4ca4-a529-23567f62d3b9\">\n",
       "    <div class=\"colab-df-container\">\n",
       "      <div>\n",
       "<style scoped>\n",
       "    .dataframe tbody tr th:only-of-type {\n",
       "        vertical-align: middle;\n",
       "    }\n",
       "\n",
       "    .dataframe tbody tr th {\n",
       "        vertical-align: top;\n",
       "    }\n",
       "\n",
       "    .dataframe thead th {\n",
       "        text-align: right;\n",
       "    }\n",
       "</style>\n",
       "<table border=\"1\" class=\"dataframe\">\n",
       "  <thead>\n",
       "    <tr style=\"text-align: right;\">\n",
       "      <th></th>\n",
       "      <th>funded_amnt</th>\n",
       "      <th>total_rec_prncp</th>\n",
       "    </tr>\n",
       "  </thead>\n",
       "  <tbody>\n",
       "    <tr>\n",
       "      <th>5341</th>\n",
       "      <td>18000.0</td>\n",
       "      <td>18000.0</td>\n",
       "    </tr>\n",
       "    <tr>\n",
       "      <th>47663</th>\n",
       "      <td>6000.0</td>\n",
       "      <td>6000.0</td>\n",
       "    </tr>\n",
       "    <tr>\n",
       "      <th>57385</th>\n",
       "      <td>8200.0</td>\n",
       "      <td>8200.0</td>\n",
       "    </tr>\n",
       "    <tr>\n",
       "      <th>61095</th>\n",
       "      <td>20575.0</td>\n",
       "      <td>20575.0</td>\n",
       "    </tr>\n",
       "    <tr>\n",
       "      <th>310098</th>\n",
       "      <td>12000.0</td>\n",
       "      <td>12000.0</td>\n",
       "    </tr>\n",
       "    <tr>\n",
       "      <th>337338</th>\n",
       "      <td>7000.0</td>\n",
       "      <td>7000.0</td>\n",
       "    </tr>\n",
       "    <tr>\n",
       "      <th>413575</th>\n",
       "      <td>35000.0</td>\n",
       "      <td>35000.0</td>\n",
       "    </tr>\n",
       "    <tr>\n",
       "      <th>424728</th>\n",
       "      <td>21000.0</td>\n",
       "      <td>21000.0</td>\n",
       "    </tr>\n",
       "    <tr>\n",
       "      <th>468981</th>\n",
       "      <td>6025.0</td>\n",
       "      <td>6025.0</td>\n",
       "    </tr>\n",
       "    <tr>\n",
       "      <th>537889</th>\n",
       "      <td>29000.0</td>\n",
       "      <td>29000.0</td>\n",
       "    </tr>\n",
       "    <tr>\n",
       "      <th>559297</th>\n",
       "      <td>32000.0</td>\n",
       "      <td>32000.0</td>\n",
       "    </tr>\n",
       "    <tr>\n",
       "      <th>561563</th>\n",
       "      <td>2550.0</td>\n",
       "      <td>2550.0</td>\n",
       "    </tr>\n",
       "    <tr>\n",
       "      <th>599124</th>\n",
       "      <td>14500.0</td>\n",
       "      <td>14500.0</td>\n",
       "    </tr>\n",
       "    <tr>\n",
       "      <th>623451</th>\n",
       "      <td>2400.0</td>\n",
       "      <td>2400.0</td>\n",
       "    </tr>\n",
       "    <tr>\n",
       "      <th>627081</th>\n",
       "      <td>7800.0</td>\n",
       "      <td>7800.0</td>\n",
       "    </tr>\n",
       "    <tr>\n",
       "      <th>629701</th>\n",
       "      <td>25000.0</td>\n",
       "      <td>25000.0</td>\n",
       "    </tr>\n",
       "    <tr>\n",
       "      <th>1138201</th>\n",
       "      <td>6925.0</td>\n",
       "      <td>6925.0</td>\n",
       "    </tr>\n",
       "    <tr>\n",
       "      <th>1176281</th>\n",
       "      <td>9600.0</td>\n",
       "      <td>9600.0</td>\n",
       "    </tr>\n",
       "    <tr>\n",
       "      <th>1186255</th>\n",
       "      <td>15000.0</td>\n",
       "      <td>15000.0</td>\n",
       "    </tr>\n",
       "    <tr>\n",
       "      <th>1204783</th>\n",
       "      <td>7500.0</td>\n",
       "      <td>7500.0</td>\n",
       "    </tr>\n",
       "    <tr>\n",
       "      <th>1232239</th>\n",
       "      <td>9000.0</td>\n",
       "      <td>9000.0</td>\n",
       "    </tr>\n",
       "    <tr>\n",
       "      <th>1259563</th>\n",
       "      <td>20000.0</td>\n",
       "      <td>20000.0</td>\n",
       "    </tr>\n",
       "  </tbody>\n",
       "</table>\n",
       "</div>\n",
       "      <button class=\"colab-df-convert\" onclick=\"convertToInteractive('df-c27da161-090c-4ca4-a529-23567f62d3b9')\"\n",
       "              title=\"Convert this dataframe to an interactive table.\"\n",
       "              style=\"display:none;\">\n",
       "        \n",
       "  <svg xmlns=\"http://www.w3.org/2000/svg\" height=\"24px\"viewBox=\"0 0 24 24\"\n",
       "       width=\"24px\">\n",
       "    <path d=\"M0 0h24v24H0V0z\" fill=\"none\"/>\n",
       "    <path d=\"M18.56 5.44l.94 2.06.94-2.06 2.06-.94-2.06-.94-.94-2.06-.94 2.06-2.06.94zm-11 1L8.5 8.5l.94-2.06 2.06-.94-2.06-.94L8.5 2.5l-.94 2.06-2.06.94zm10 10l.94 2.06.94-2.06 2.06-.94-2.06-.94-.94-2.06-.94 2.06-2.06.94z\"/><path d=\"M17.41 7.96l-1.37-1.37c-.4-.4-.92-.59-1.43-.59-.52 0-1.04.2-1.43.59L10.3 9.45l-7.72 7.72c-.78.78-.78 2.05 0 2.83L4 21.41c.39.39.9.59 1.41.59.51 0 1.02-.2 1.41-.59l7.78-7.78 2.81-2.81c.8-.78.8-2.07 0-2.86zM5.41 20L4 18.59l7.72-7.72 1.47 1.35L5.41 20z\"/>\n",
       "  </svg>\n",
       "      </button>\n",
       "      \n",
       "  <style>\n",
       "    .colab-df-container {\n",
       "      display:flex;\n",
       "      flex-wrap:wrap;\n",
       "      gap: 12px;\n",
       "    }\n",
       "\n",
       "    .colab-df-convert {\n",
       "      background-color: #E8F0FE;\n",
       "      border: none;\n",
       "      border-radius: 50%;\n",
       "      cursor: pointer;\n",
       "      display: none;\n",
       "      fill: #1967D2;\n",
       "      height: 32px;\n",
       "      padding: 0 0 0 0;\n",
       "      width: 32px;\n",
       "    }\n",
       "\n",
       "    .colab-df-convert:hover {\n",
       "      background-color: #E2EBFA;\n",
       "      box-shadow: 0px 1px 2px rgba(60, 64, 67, 0.3), 0px 1px 3px 1px rgba(60, 64, 67, 0.15);\n",
       "      fill: #174EA6;\n",
       "    }\n",
       "\n",
       "    [theme=dark] .colab-df-convert {\n",
       "      background-color: #3B4455;\n",
       "      fill: #D2E3FC;\n",
       "    }\n",
       "\n",
       "    [theme=dark] .colab-df-convert:hover {\n",
       "      background-color: #434B5C;\n",
       "      box-shadow: 0px 1px 3px 1px rgba(0, 0, 0, 0.15);\n",
       "      filter: drop-shadow(0px 1px 2px rgba(0, 0, 0, 0.3));\n",
       "      fill: #FFFFFF;\n",
       "    }\n",
       "  </style>\n",
       "\n",
       "      <script>\n",
       "        const buttonEl =\n",
       "          document.querySelector('#df-c27da161-090c-4ca4-a529-23567f62d3b9 button.colab-df-convert');\n",
       "        buttonEl.style.display =\n",
       "          google.colab.kernel.accessAllowed ? 'block' : 'none';\n",
       "\n",
       "        async function convertToInteractive(key) {\n",
       "          const element = document.querySelector('#df-c27da161-090c-4ca4-a529-23567f62d3b9');\n",
       "          const dataTable =\n",
       "            await google.colab.kernel.invokeFunction('convertToInteractive',\n",
       "                                                     [key], {});\n",
       "          if (!dataTable) return;\n",
       "\n",
       "          const docLinkHtml = 'Like what you see? Visit the ' +\n",
       "            '<a target=\"_blank\" href=https://colab.research.google.com/notebooks/data_table.ipynb>data table notebook</a>'\n",
       "            + ' to learn more about interactive tables.';\n",
       "          element.innerHTML = '';\n",
       "          dataTable['output_type'] = 'display_data';\n",
       "          await google.colab.output.renderOutput(dataTable, element);\n",
       "          const docLink = document.createElement('div');\n",
       "          docLink.innerHTML = docLinkHtml;\n",
       "          element.appendChild(docLink);\n",
       "        }\n",
       "      </script>\n",
       "    </div>\n",
       "  </div>\n",
       "  "
      ],
      "text/plain": [
       "         funded_amnt  total_rec_prncp\n",
       "5341         18000.0          18000.0\n",
       "47663         6000.0           6000.0\n",
       "57385         8200.0           8200.0\n",
       "61095        20575.0          20575.0\n",
       "310098       12000.0          12000.0\n",
       "337338        7000.0           7000.0\n",
       "413575       35000.0          35000.0\n",
       "424728       21000.0          21000.0\n",
       "468981        6025.0           6025.0\n",
       "537889       29000.0          29000.0\n",
       "559297       32000.0          32000.0\n",
       "561563        2550.0           2550.0\n",
       "599124       14500.0          14500.0\n",
       "623451        2400.0           2400.0\n",
       "627081        7800.0           7800.0\n",
       "629701       25000.0          25000.0\n",
       "1138201       6925.0           6925.0\n",
       "1176281       9600.0           9600.0\n",
       "1186255      15000.0          15000.0\n",
       "1204783       7500.0           7500.0\n",
       "1232239       9000.0           9000.0\n",
       "1259563      20000.0          20000.0"
      ]
     },
     "execution_count": 79,
     "metadata": {},
     "output_type": "execute_result"
    }
   ],
   "source": []
  },
  {
   "cell_type": "code",
   "execution_count": 125,
   "metadata": {
    "colab": {
     "base_uri": "https://localhost:8080/",
     "height": 739
    },
    "id": "jlna7AKLuvVI",
    "outputId": "180eafa7-eaef-4c47-ae8c-4877d80bdfe1"
   },
   "outputs": [
    {
     "data": {
      "text/html": [
       "\n",
       "  <div id=\"df-dd45cd7e-784e-4682-be55-a8fc2d7a515d\">\n",
       "    <div class=\"colab-df-container\">\n",
       "      <div>\n",
       "<style scoped>\n",
       "    .dataframe tbody tr th:only-of-type {\n",
       "        vertical-align: middle;\n",
       "    }\n",
       "\n",
       "    .dataframe tbody tr th {\n",
       "        vertical-align: top;\n",
       "    }\n",
       "\n",
       "    .dataframe thead th {\n",
       "        text-align: right;\n",
       "    }\n",
       "</style>\n",
       "<table border=\"1\" class=\"dataframe\">\n",
       "  <thead>\n",
       "    <tr style=\"text-align: right;\">\n",
       "      <th></th>\n",
       "      <th>total_rec_int</th>\n",
       "      <th>total_pymnt</th>\n",
       "      <th>funded_amnt</th>\n",
       "      <th>total_rec_prncp</th>\n",
       "      <th>recoveries</th>\n",
       "    </tr>\n",
       "  </thead>\n",
       "  <tbody>\n",
       "    <tr>\n",
       "      <th>5341</th>\n",
       "      <td>4752.37</td>\n",
       "      <td>22752.370000</td>\n",
       "      <td>18000.0</td>\n",
       "      <td>18000.0</td>\n",
       "      <td>0.00</td>\n",
       "    </tr>\n",
       "    <tr>\n",
       "      <th>47663</th>\n",
       "      <td>1131.63</td>\n",
       "      <td>7131.633222</td>\n",
       "      <td>6000.0</td>\n",
       "      <td>6000.0</td>\n",
       "      <td>0.00</td>\n",
       "    </tr>\n",
       "    <tr>\n",
       "      <th>57385</th>\n",
       "      <td>2027.52</td>\n",
       "      <td>10227.519291</td>\n",
       "      <td>8200.0</td>\n",
       "      <td>8200.0</td>\n",
       "      <td>0.00</td>\n",
       "    </tr>\n",
       "    <tr>\n",
       "      <th>61095</th>\n",
       "      <td>7579.80</td>\n",
       "      <td>28154.800000</td>\n",
       "      <td>20575.0</td>\n",
       "      <td>20575.0</td>\n",
       "      <td>0.00</td>\n",
       "    </tr>\n",
       "    <tr>\n",
       "      <th>310098</th>\n",
       "      <td>455.46</td>\n",
       "      <td>12471.360000</td>\n",
       "      <td>12000.0</td>\n",
       "      <td>12000.0</td>\n",
       "      <td>0.00</td>\n",
       "    </tr>\n",
       "    <tr>\n",
       "      <th>337338</th>\n",
       "      <td>610.23</td>\n",
       "      <td>7625.230000</td>\n",
       "      <td>7000.0</td>\n",
       "      <td>7000.0</td>\n",
       "      <td>0.00</td>\n",
       "    </tr>\n",
       "    <tr>\n",
       "      <th>413575</th>\n",
       "      <td>15131.63</td>\n",
       "      <td>50131.630000</td>\n",
       "      <td>35000.0</td>\n",
       "      <td>35000.0</td>\n",
       "      <td>0.00</td>\n",
       "    </tr>\n",
       "    <tr>\n",
       "      <th>424728</th>\n",
       "      <td>1797.38</td>\n",
       "      <td>22831.630000</td>\n",
       "      <td>21000.0</td>\n",
       "      <td>21000.0</td>\n",
       "      <td>0.00</td>\n",
       "    </tr>\n",
       "    <tr>\n",
       "      <th>468981</th>\n",
       "      <td>0.00</td>\n",
       "      <td>6025.000000</td>\n",
       "      <td>6025.0</td>\n",
       "      <td>6025.0</td>\n",
       "      <td>0.00</td>\n",
       "    </tr>\n",
       "    <tr>\n",
       "      <th>537889</th>\n",
       "      <td>5896.46</td>\n",
       "      <td>34896.460000</td>\n",
       "      <td>29000.0</td>\n",
       "      <td>29000.0</td>\n",
       "      <td>0.00</td>\n",
       "    </tr>\n",
       "    <tr>\n",
       "      <th>559297</th>\n",
       "      <td>7208.20</td>\n",
       "      <td>39246.930000</td>\n",
       "      <td>32000.0</td>\n",
       "      <td>32000.0</td>\n",
       "      <td>38.73</td>\n",
       "    </tr>\n",
       "    <tr>\n",
       "      <th>561563</th>\n",
       "      <td>356.89</td>\n",
       "      <td>2916.000000</td>\n",
       "      <td>2550.0</td>\n",
       "      <td>2550.0</td>\n",
       "      <td>9.11</td>\n",
       "    </tr>\n",
       "    <tr>\n",
       "      <th>599124</th>\n",
       "      <td>2073.80</td>\n",
       "      <td>16635.120000</td>\n",
       "      <td>14500.0</td>\n",
       "      <td>14500.0</td>\n",
       "      <td>37.67</td>\n",
       "    </tr>\n",
       "    <tr>\n",
       "      <th>623451</th>\n",
       "      <td>430.26</td>\n",
       "      <td>2845.259430</td>\n",
       "      <td>2400.0</td>\n",
       "      <td>2400.0</td>\n",
       "      <td>0.00</td>\n",
       "    </tr>\n",
       "    <tr>\n",
       "      <th>627081</th>\n",
       "      <td>972.60</td>\n",
       "      <td>8802.599257</td>\n",
       "      <td>7800.0</td>\n",
       "      <td>7800.0</td>\n",
       "      <td>0.00</td>\n",
       "    </tr>\n",
       "    <tr>\n",
       "      <th>629701</th>\n",
       "      <td>11238.73</td>\n",
       "      <td>36238.730000</td>\n",
       "      <td>25000.0</td>\n",
       "      <td>25000.0</td>\n",
       "      <td>0.00</td>\n",
       "    </tr>\n",
       "    <tr>\n",
       "      <th>1138201</th>\n",
       "      <td>814.51</td>\n",
       "      <td>7739.510000</td>\n",
       "      <td>6925.0</td>\n",
       "      <td>6925.0</td>\n",
       "      <td>0.00</td>\n",
       "    </tr>\n",
       "    <tr>\n",
       "      <th>1176281</th>\n",
       "      <td>320.82</td>\n",
       "      <td>9937.130000</td>\n",
       "      <td>9600.0</td>\n",
       "      <td>9600.0</td>\n",
       "      <td>0.00</td>\n",
       "    </tr>\n",
       "    <tr>\n",
       "      <th>1186255</th>\n",
       "      <td>2579.88</td>\n",
       "      <td>17579.880000</td>\n",
       "      <td>15000.0</td>\n",
       "      <td>15000.0</td>\n",
       "      <td>0.00</td>\n",
       "    </tr>\n",
       "    <tr>\n",
       "      <th>1204783</th>\n",
       "      <td>685.46</td>\n",
       "      <td>8185.460000</td>\n",
       "      <td>7500.0</td>\n",
       "      <td>7500.0</td>\n",
       "      <td>0.00</td>\n",
       "    </tr>\n",
       "    <tr>\n",
       "      <th>1232239</th>\n",
       "      <td>1098.88</td>\n",
       "      <td>10098.880000</td>\n",
       "      <td>9000.0</td>\n",
       "      <td>9000.0</td>\n",
       "      <td>0.00</td>\n",
       "    </tr>\n",
       "    <tr>\n",
       "      <th>1259563</th>\n",
       "      <td>3949.42</td>\n",
       "      <td>23968.630000</td>\n",
       "      <td>20000.0</td>\n",
       "      <td>20000.0</td>\n",
       "      <td>19.21</td>\n",
       "    </tr>\n",
       "  </tbody>\n",
       "</table>\n",
       "</div>\n",
       "      <button class=\"colab-df-convert\" onclick=\"convertToInteractive('df-dd45cd7e-784e-4682-be55-a8fc2d7a515d')\"\n",
       "              title=\"Convert this dataframe to an interactive table.\"\n",
       "              style=\"display:none;\">\n",
       "        \n",
       "  <svg xmlns=\"http://www.w3.org/2000/svg\" height=\"24px\"viewBox=\"0 0 24 24\"\n",
       "       width=\"24px\">\n",
       "    <path d=\"M0 0h24v24H0V0z\" fill=\"none\"/>\n",
       "    <path d=\"M18.56 5.44l.94 2.06.94-2.06 2.06-.94-2.06-.94-.94-2.06-.94 2.06-2.06.94zm-11 1L8.5 8.5l.94-2.06 2.06-.94-2.06-.94L8.5 2.5l-.94 2.06-2.06.94zm10 10l.94 2.06.94-2.06 2.06-.94-2.06-.94-.94-2.06-.94 2.06-2.06.94z\"/><path d=\"M17.41 7.96l-1.37-1.37c-.4-.4-.92-.59-1.43-.59-.52 0-1.04.2-1.43.59L10.3 9.45l-7.72 7.72c-.78.78-.78 2.05 0 2.83L4 21.41c.39.39.9.59 1.41.59.51 0 1.02-.2 1.41-.59l7.78-7.78 2.81-2.81c.8-.78.8-2.07 0-2.86zM5.41 20L4 18.59l7.72-7.72 1.47 1.35L5.41 20z\"/>\n",
       "  </svg>\n",
       "      </button>\n",
       "      \n",
       "  <style>\n",
       "    .colab-df-container {\n",
       "      display:flex;\n",
       "      flex-wrap:wrap;\n",
       "      gap: 12px;\n",
       "    }\n",
       "\n",
       "    .colab-df-convert {\n",
       "      background-color: #E8F0FE;\n",
       "      border: none;\n",
       "      border-radius: 50%;\n",
       "      cursor: pointer;\n",
       "      display: none;\n",
       "      fill: #1967D2;\n",
       "      height: 32px;\n",
       "      padding: 0 0 0 0;\n",
       "      width: 32px;\n",
       "    }\n",
       "\n",
       "    .colab-df-convert:hover {\n",
       "      background-color: #E2EBFA;\n",
       "      box-shadow: 0px 1px 2px rgba(60, 64, 67, 0.3), 0px 1px 3px 1px rgba(60, 64, 67, 0.15);\n",
       "      fill: #174EA6;\n",
       "    }\n",
       "\n",
       "    [theme=dark] .colab-df-convert {\n",
       "      background-color: #3B4455;\n",
       "      fill: #D2E3FC;\n",
       "    }\n",
       "\n",
       "    [theme=dark] .colab-df-convert:hover {\n",
       "      background-color: #434B5C;\n",
       "      box-shadow: 0px 1px 3px 1px rgba(0, 0, 0, 0.15);\n",
       "      filter: drop-shadow(0px 1px 2px rgba(0, 0, 0, 0.3));\n",
       "      fill: #FFFFFF;\n",
       "    }\n",
       "  </style>\n",
       "\n",
       "      <script>\n",
       "        const buttonEl =\n",
       "          document.querySelector('#df-dd45cd7e-784e-4682-be55-a8fc2d7a515d button.colab-df-convert');\n",
       "        buttonEl.style.display =\n",
       "          google.colab.kernel.accessAllowed ? 'block' : 'none';\n",
       "\n",
       "        async function convertToInteractive(key) {\n",
       "          const element = document.querySelector('#df-dd45cd7e-784e-4682-be55-a8fc2d7a515d');\n",
       "          const dataTable =\n",
       "            await google.colab.kernel.invokeFunction('convertToInteractive',\n",
       "                                                     [key], {});\n",
       "          if (!dataTable) return;\n",
       "\n",
       "          const docLinkHtml = 'Like what you see? Visit the ' +\n",
       "            '<a target=\"_blank\" href=https://colab.research.google.com/notebooks/data_table.ipynb>data table notebook</a>'\n",
       "            + ' to learn more about interactive tables.';\n",
       "          element.innerHTML = '';\n",
       "          dataTable['output_type'] = 'display_data';\n",
       "          await google.colab.output.renderOutput(dataTable, element);\n",
       "          const docLink = document.createElement('div');\n",
       "          docLink.innerHTML = docLinkHtml;\n",
       "          element.appendChild(docLink);\n",
       "        }\n",
       "      </script>\n",
       "    </div>\n",
       "  </div>\n",
       "  "
      ],
      "text/plain": [
       "         total_rec_int   total_pymnt  funded_amnt  total_rec_prncp  recoveries\n",
       "5341           4752.37  22752.370000      18000.0          18000.0        0.00\n",
       "47663          1131.63   7131.633222       6000.0           6000.0        0.00\n",
       "57385          2027.52  10227.519291       8200.0           8200.0        0.00\n",
       "61095          7579.80  28154.800000      20575.0          20575.0        0.00\n",
       "310098          455.46  12471.360000      12000.0          12000.0        0.00\n",
       "337338          610.23   7625.230000       7000.0           7000.0        0.00\n",
       "413575        15131.63  50131.630000      35000.0          35000.0        0.00\n",
       "424728         1797.38  22831.630000      21000.0          21000.0        0.00\n",
       "468981            0.00   6025.000000       6025.0           6025.0        0.00\n",
       "537889         5896.46  34896.460000      29000.0          29000.0        0.00\n",
       "559297         7208.20  39246.930000      32000.0          32000.0       38.73\n",
       "561563          356.89   2916.000000       2550.0           2550.0        9.11\n",
       "599124         2073.80  16635.120000      14500.0          14500.0       37.67\n",
       "623451          430.26   2845.259430       2400.0           2400.0        0.00\n",
       "627081          972.60   8802.599257       7800.0           7800.0        0.00\n",
       "629701        11238.73  36238.730000      25000.0          25000.0        0.00\n",
       "1138201         814.51   7739.510000       6925.0           6925.0        0.00\n",
       "1176281         320.82   9937.130000       9600.0           9600.0        0.00\n",
       "1186255        2579.88  17579.880000      15000.0          15000.0        0.00\n",
       "1204783         685.46   8185.460000       7500.0           7500.0        0.00\n",
       "1232239        1098.88  10098.880000       9000.0           9000.0        0.00\n",
       "1259563        3949.42  23968.630000      20000.0          20000.0       19.21"
      ]
     },
     "execution_count": 125,
     "metadata": {},
     "output_type": "execute_result"
    }
   ],
   "source": [
    "df[df['id'].isin(ids_list)][['total_rec_int', 'total_pymnt', 'funded_amnt', 'total_rec_prncp', 'recoveries']]"
   ]
  },
  {
   "cell_type": "code",
   "execution_count": 124,
   "metadata": {
    "id": "rDdssOc5XAlL"
   },
   "outputs": [],
   "source": [
    "performance_df['EAD'] = performance_df['funded_amnt'] - performance_df['total_rec_prncp'] \n",
    "\n",
    "ids_list = performance_df.loc[(performance_df['Default'] == 1) & (performance_df['EAD'] <= 0), 'id'].to_list()"
   ]
  },
  {
   "cell_type": "code",
   "execution_count": 9,
   "metadata": {
    "colab": {
     "base_uri": "https://localhost:8080/",
     "height": 142
    },
    "id": "R1nicWBhY7Ov",
    "outputId": "ee514855-46b4-405e-fb4d-5acb02a4ba8c"
   },
   "outputs": [
    {
     "data": {
      "text/html": [
       "\n",
       "  <div id=\"df-c04061c5-4175-449c-9835-aaf578b6433b\">\n",
       "    <div class=\"colab-df-container\">\n",
       "      <div>\n",
       "<style scoped>\n",
       "    .dataframe tbody tr th:only-of-type {\n",
       "        vertical-align: middle;\n",
       "    }\n",
       "\n",
       "    .dataframe tbody tr th {\n",
       "        vertical-align: top;\n",
       "    }\n",
       "\n",
       "    .dataframe thead th {\n",
       "        text-align: right;\n",
       "    }\n",
       "</style>\n",
       "<table border=\"1\" class=\"dataframe\">\n",
       "  <thead>\n",
       "    <tr style=\"text-align: right;\">\n",
       "      <th></th>\n",
       "      <th>collection_recovery_fee</th>\n",
       "      <th>delinq_amnt</th>\n",
       "      <th>issue_d</th>\n",
       "      <th>last_pymnt_amnt</th>\n",
       "      <th>last_pymnt_d</th>\n",
       "      <th>loan_status</th>\n",
       "      <th>mths_since_last_delinq</th>\n",
       "      <th>mths_since_last_major_derog</th>\n",
       "      <th>pymnt_plan</th>\n",
       "      <th>recoveries</th>\n",
       "      <th>...</th>\n",
       "      <th>next_payment_date</th>\n",
       "      <th>id</th>\n",
       "      <th>loan_amnt</th>\n",
       "      <th>LGD</th>\n",
       "      <th>term</th>\n",
       "      <th>remaining_terms</th>\n",
       "      <th>expected_int_profit</th>\n",
       "      <th>loan_profit</th>\n",
       "      <th>funded_amnt</th>\n",
       "      <th>EAD</th>\n",
       "    </tr>\n",
       "  </thead>\n",
       "  <tbody>\n",
       "  </tbody>\n",
       "</table>\n",
       "<p>0 rows × 31 columns</p>\n",
       "</div>\n",
       "      <button class=\"colab-df-convert\" onclick=\"convertToInteractive('df-c04061c5-4175-449c-9835-aaf578b6433b')\"\n",
       "              title=\"Convert this dataframe to an interactive table.\"\n",
       "              style=\"display:none;\">\n",
       "        \n",
       "  <svg xmlns=\"http://www.w3.org/2000/svg\" height=\"24px\"viewBox=\"0 0 24 24\"\n",
       "       width=\"24px\">\n",
       "    <path d=\"M0 0h24v24H0V0z\" fill=\"none\"/>\n",
       "    <path d=\"M18.56 5.44l.94 2.06.94-2.06 2.06-.94-2.06-.94-.94-2.06-.94 2.06-2.06.94zm-11 1L8.5 8.5l.94-2.06 2.06-.94-2.06-.94L8.5 2.5l-.94 2.06-2.06.94zm10 10l.94 2.06.94-2.06 2.06-.94-2.06-.94-.94-2.06-.94 2.06-2.06.94z\"/><path d=\"M17.41 7.96l-1.37-1.37c-.4-.4-.92-.59-1.43-.59-.52 0-1.04.2-1.43.59L10.3 9.45l-7.72 7.72c-.78.78-.78 2.05 0 2.83L4 21.41c.39.39.9.59 1.41.59.51 0 1.02-.2 1.41-.59l7.78-7.78 2.81-2.81c.8-.78.8-2.07 0-2.86zM5.41 20L4 18.59l7.72-7.72 1.47 1.35L5.41 20z\"/>\n",
       "  </svg>\n",
       "      </button>\n",
       "      \n",
       "  <style>\n",
       "    .colab-df-container {\n",
       "      display:flex;\n",
       "      flex-wrap:wrap;\n",
       "      gap: 12px;\n",
       "    }\n",
       "\n",
       "    .colab-df-convert {\n",
       "      background-color: #E8F0FE;\n",
       "      border: none;\n",
       "      border-radius: 50%;\n",
       "      cursor: pointer;\n",
       "      display: none;\n",
       "      fill: #1967D2;\n",
       "      height: 32px;\n",
       "      padding: 0 0 0 0;\n",
       "      width: 32px;\n",
       "    }\n",
       "\n",
       "    .colab-df-convert:hover {\n",
       "      background-color: #E2EBFA;\n",
       "      box-shadow: 0px 1px 2px rgba(60, 64, 67, 0.3), 0px 1px 3px 1px rgba(60, 64, 67, 0.15);\n",
       "      fill: #174EA6;\n",
       "    }\n",
       "\n",
       "    [theme=dark] .colab-df-convert {\n",
       "      background-color: #3B4455;\n",
       "      fill: #D2E3FC;\n",
       "    }\n",
       "\n",
       "    [theme=dark] .colab-df-convert:hover {\n",
       "      background-color: #434B5C;\n",
       "      box-shadow: 0px 1px 3px 1px rgba(0, 0, 0, 0.15);\n",
       "      filter: drop-shadow(0px 1px 2px rgba(0, 0, 0, 0.3));\n",
       "      fill: #FFFFFF;\n",
       "    }\n",
       "  </style>\n",
       "\n",
       "      <script>\n",
       "        const buttonEl =\n",
       "          document.querySelector('#df-c04061c5-4175-449c-9835-aaf578b6433b button.colab-df-convert');\n",
       "        buttonEl.style.display =\n",
       "          google.colab.kernel.accessAllowed ? 'block' : 'none';\n",
       "\n",
       "        async function convertToInteractive(key) {\n",
       "          const element = document.querySelector('#df-c04061c5-4175-449c-9835-aaf578b6433b');\n",
       "          const dataTable =\n",
       "            await google.colab.kernel.invokeFunction('convertToInteractive',\n",
       "                                                     [key], {});\n",
       "          if (!dataTable) return;\n",
       "\n",
       "          const docLinkHtml = 'Like what you see? Visit the ' +\n",
       "            '<a target=\"_blank\" href=https://colab.research.google.com/notebooks/data_table.ipynb>data table notebook</a>'\n",
       "            + ' to learn more about interactive tables.';\n",
       "          element.innerHTML = '';\n",
       "          dataTable['output_type'] = 'display_data';\n",
       "          await google.colab.output.renderOutput(dataTable, element);\n",
       "          const docLink = document.createElement('div');\n",
       "          docLink.innerHTML = docLinkHtml;\n",
       "          element.appendChild(docLink);\n",
       "        }\n",
       "      </script>\n",
       "    </div>\n",
       "  </div>\n",
       "  "
      ],
      "text/plain": [
       "Empty DataFrame\n",
       "Columns: [collection_recovery_fee, delinq_amnt, issue_d, last_pymnt_amnt, last_pymnt_d, loan_status, mths_since_last_delinq, mths_since_last_major_derog, pymnt_plan, recoveries, hardship_flag, int_rate, total_pymnt, total_rec_int, total_rec_late_fee, total_rec_prncp, total_rev_hi_lim, out_prncp, out_prncp_inv, Default, hardship_broken, next_payment_date, id, loan_amnt, LGD, term, remaining_terms, expected_int_profit, loan_profit, funded_amnt, EAD]\n",
       "Index: []\n",
       "\n",
       "[0 rows x 31 columns]"
      ]
     },
     "execution_count": 9,
     "metadata": {},
     "output_type": "execute_result"
    }
   ],
   "source": [
    "performance_df[(performance_df['total_pymnt'] - (performance_df['total_rec_late_fee'] + performance_df['total_rec_int'] + performance_df['total_rec_prncp']+ performance_df['recoveries'] - performance_df['collection_recovery_fee']))<-1]"
   ]
  },
  {
   "cell_type": "markdown",
   "metadata": {
    "id": "tmJ4zNmDxB1n"
   },
   "source": [
    "# Keeping LGD at 0 if EAD is equal to 0 as it means there is no outstanding amount."
   ]
  },
  {
   "cell_type": "code",
   "execution_count": 126,
   "metadata": {
    "colab": {
     "base_uri": "https://localhost:8080/"
    },
    "id": "hdEw1zyzbD2F",
    "outputId": "0f49d1d6-5b41-4124-e615-0786a3f93fd6"
   },
   "outputs": [
    {
     "data": {
      "text/plain": [
       "count    268581.000000\n",
       "mean          0.890441\n",
       "std           0.133160\n",
       "min           0.000000\n",
       "25%           0.857651\n",
       "50%           0.896921\n",
       "75%           1.000000\n",
       "max           1.000000\n",
       "Name: LGD, dtype: float64"
      ]
     },
     "execution_count": 126,
     "metadata": {},
     "output_type": "execute_result"
    }
   ],
   "source": [
    "\n",
    "performance_df['LGD'] = 1 - (performance_df['recoveries']/performance_df['EAD'])\n",
    "performance_df.loc[performance_df['LGD']<0,'LGD'] = 0\n",
    "performance_df.loc[performance_df['Default'] == 1, 'LGD'].describe()"
   ]
  },
  {
   "cell_type": "code",
   "execution_count": 102,
   "metadata": {
    "id": "cVHv2sYDwuXt"
   },
   "outputs": [],
   "source": []
  },
  {
   "cell_type": "code",
   "execution_count": 104,
   "metadata": {
    "colab": {
     "base_uri": "https://localhost:8080/"
    },
    "id": "tbVJcCidVXOt",
    "outputId": "a5eec62a-4c44-4634-c296-2a55d5265b63"
   },
   "outputs": [
    {
     "data": {
      "text/plain": [
       "Fully Paid            537621\n",
       "Current                 2257\n",
       "In Grace Period          107\n",
       "Late (16-30 days)         35\n",
       "Late (31-120 days)        26\n",
       "Charged Off               22\n",
       "Name: loan_status, dtype: int64"
      ]
     },
     "execution_count": 104,
     "metadata": {},
     "output_type": "execute_result"
    }
   ],
   "source": [
    "performance_df.loc[performance_df['EAD'] == 0, 'loan_status'].value_counts()\n"
   ]
  },
  {
   "cell_type": "code",
   "execution_count": 11,
   "metadata": {
    "id": "Coh1CsyKbYc-"
   },
   "outputs": [],
   "source": [
    "# performance_df = performance_df.dropna(subset=['loan_amnt'])"
   ]
  },
  {
   "cell_type": "code",
   "execution_count": 105,
   "metadata": {
    "id": "YMVGmExnfK49"
   },
   "outputs": [],
   "source": [
    "performance_df.to_pickle('model/data/performance_with_LGD.pkl')"
   ]
  },
  {
   "cell_type": "markdown",
   "metadata": {
    "id": "7OURkQf1gSvU"
   },
   "source": [
    "# Calculate Profit"
   ]
  },
  {
   "cell_type": "code",
   "execution_count": 127,
   "metadata": {
    "colab": {
     "base_uri": "https://localhost:8080/"
    },
    "id": "WnV4Q0KfxSSa",
    "outputId": "d485cbb6-7f1d-47ca-8698-bb82ef20092f"
   },
   "outputs": [
    {
     "data": {
      "text/plain": [
       "Index(['collection_recovery_fee', 'delinq_amnt', 'issue_d', 'last_pymnt_amnt',\n",
       "       'last_pymnt_d', 'loan_status', 'mths_since_last_delinq',\n",
       "       'mths_since_last_major_derog', 'pymnt_plan', 'recoveries',\n",
       "       'hardship_flag', 'int_rate', 'total_pymnt', 'total_rec_int',\n",
       "       'total_rec_late_fee', 'total_rec_prncp', 'total_rev_hi_lim',\n",
       "       'out_prncp', 'out_prncp_inv', 'Default', 'id', 'hardship_broken',\n",
       "       'next_payment_date', 'funded_amnt', 'EAD', 'LGD', 'term',\n",
       "       'remaining_terms', 'expected_int_profit', 'loan_profit'],\n",
       "      dtype='object')"
      ]
     },
     "execution_count": 127,
     "metadata": {},
     "output_type": "execute_result"
    }
   ],
   "source": [
    "performance_df.columns"
   ]
  },
  {
   "cell_type": "code",
   "execution_count": 18,
   "metadata": {
    "id": "Riqv3bAzfoHG"
   },
   "outputs": [],
   "source": [
    "# performance_df = performance_df.drop(['term_x', 'term_y'], axis = 1)"
   ]
  },
  {
   "cell_type": "code",
   "execution_count": 107,
   "metadata": {
    "id": "u2wbwDkzh9vR"
   },
   "outputs": [],
   "source": [
    "performance_df = performance_df.merge(df[['id', 'term']], on='id') \n",
    "performance_df['issue_d'] = pd.to_datetime(performance_df['issue_d'])\n",
    "performance_df['last_pymnt_d'] = pd.to_datetime(performance_df['last_pymnt_d'])"
   ]
  },
  {
   "cell_type": "code",
   "execution_count": 108,
   "metadata": {
    "id": "0Kt3BcNjjwXV"
   },
   "outputs": [],
   "source": [
    "\n",
    "performance_df['term'] = performance_df['term'].replace({' 36 months':36, ' 60 months': 60})\n",
    "# performance_df['term']\n",
    "# remaining_payments = \n",
    "# performance_df.loc[performance_df['last_pymnt_d'] < performance_df['issue_d'],['loan_status','issue_d', 'last_pymnt_d']].sort_values(by=['issue_d'])\n",
    "# ((performance_df['last_pymnt_d'] - performance_df['issue_d'])//np.timedelta64(1, 'M')).value_counts()"
   ]
  },
  {
   "cell_type": "code",
   "execution_count": 109,
   "metadata": {
    "id": "Yneq03F3w9h3"
   },
   "outputs": [],
   "source": [
    "performance_df['remaining_terms'] = performance_df['term'] - ((performance_df['last_pymnt_d'] - performance_df['issue_d'])//np.timedelta64(1, 'M'))\n",
    "performance_df['remaining_terms'] = np.where(performance_df['remaining_terms']<0, 0, performance_df['remaining_terms'])\n",
    "# performance_df['term'].value_counts(dropna=False)\n",
    "\n",
    "# performance_df.loc[performance_df['remaining_terms']<0,\"loan_status\"].value_counts()\n",
    "# performance_df['term'] - ((performance_df['last_pymnt_d'] - performance_df['issue_d'])//np.timedelta64(1, 'M'))"
   ]
  },
  {
   "cell_type": "markdown",
   "metadata": {
    "id": "EmCCd86k9Fgl"
   },
   "source": [
    "# DO NOT ADD PROFIT OVER COLUMNS AS IT IS SEPERATE FOR DEFAULTERS AND NON DEFAULTERS"
   ]
  },
  {
   "cell_type": "code",
   "execution_count": 128,
   "metadata": {
    "colab": {
     "base_uri": "https://localhost:8080/"
    },
    "id": "_A-E2lJz7Ow1",
    "outputId": "3b2ace1c-f315-46c8-84d7-1420676901de"
   },
   "outputs": [
    {
     "data": {
      "text/plain": [
       "2235250118.204241"
      ]
     },
     "execution_count": 128,
     "metadata": {},
     "output_type": "execute_result"
    }
   ],
   "source": [
    "performance_df['expected_int_profit'] = (performance_df['int_rate'])/100 * performance_df['out_prncp'] * performance_df['remaining_terms']/12\n",
    "\n",
    "# performance_df['loan_profit'] = \n",
    "# (performance_df['total_rec_int'] + performance_df['total_rec_late_fee'] + performance_df['expected_int_profit'] - performance_df['int_rate']*performance_df['loan_amnt']*performance_df['term']*0.5/100).sum()\n",
    "int_revenues = performance_df['total_rec_int'] + performance_df['expected_int_profit'] \n",
    "cost = 0.5*int_revenues \n",
    "performance_df['loan_profit'] = int_revenues - cost + performance_df['total_rec_late_fee']\n",
    "performance_df.loc[performance_df['Default'] == 0, 'loan_profit'].sum()\n",
    "# performance_df.loc[(performance_df['total_pymnt'] + performance_df['expected_int_profit'] - ((100+performance_df['int_rate'])*performance_df['loan_amnt']*performance_df['term']*0.5/100))<0, 'loan_status'].value_counts()\n",
    "# performance_df['int_rate']*performance_df['loan_amnt']*performance_df['term']*0.5/100"
   ]
  },
  {
   "cell_type": "code",
   "execution_count": 24,
   "metadata": {
    "colab": {
     "base_uri": "https://localhost:8080/"
    },
    "id": "5B15FeHcU0qt",
    "outputId": "32c857cd-99bf-49ed-f930-8082a3530fac"
   },
   "outputs": [
    {
     "data": {
      "text/plain": [
       "10000.0    104249\n",
       "20000.0     73815\n",
       "15000.0     69166\n",
       "12000.0     68467\n",
       "35000.0     50447\n",
       "            ...  \n",
       "725.0           1\n",
       "700.0           1\n",
       "950.0           1\n",
       "750.0           1\n",
       "900.0           1\n",
       "Name: loan_amnt, Length: 1567, dtype: int64"
      ]
     },
     "execution_count": 24,
     "metadata": {},
     "output_type": "execute_result"
    }
   ],
   "source": []
  },
  {
   "cell_type": "code",
   "execution_count": 129,
   "metadata": {
    "id": "Dg0_5o2MLWfq"
   },
   "outputs": [],
   "source": [
    "#For Defaulters\n",
    "\n",
    "mean_LGD = performance_df.loc[performance_df['Default']==1,'LGD'].mean()\n",
    "performance_df.loc[performance_df['Default']==1, 'loan_profit'] = -1*mean_LGD*performance_df['EAD']\n",
    "# cost = performance_df['int_rate']*performance_df['loan_amnt']*performance_df['term']/12*0.5/100\n"
   ]
  },
  {
   "cell_type": "code",
   "execution_count": 131,
   "metadata": {
    "colab": {
     "base_uri": "https://localhost:8080/"
    },
    "id": "x2Br5VxvVC-H",
    "outputId": "459df40e-8958-4763-e9ce-05500d5f9acb"
   },
   "outputs": [
    {
     "data": {
      "text/plain": [
       "-2671292746.5192857"
      ]
     },
     "execution_count": 131,
     "metadata": {},
     "output_type": "execute_result"
    }
   ],
   "source": [
    "performance_df.loc[performance_df['Default']==1, 'loan_profit']\n",
    "# performance_df.loc[performance_df['Default'] == 1,'EAD']\n",
    "# performance_df['EAD']"
   ]
  },
  {
   "cell_type": "code",
   "execution_count": 132,
   "metadata": {
    "id": "2THioJZULeuK"
   },
   "outputs": [],
   "source": [
    "\n",
    "performance_df.to_pickle('model/data/performance_loan_profit.pkl')"
   ]
  },
  {
   "cell_type": "code",
   "execution_count": null,
   "metadata": {
    "colab": {
     "base_uri": "https://localhost:8080/"
    },
    "id": "O0VssOhT_ZGw",
    "outputId": "208ea028-679b-4f9c-d546-b114039ebe10"
   },
   "outputs": [
    {
     "data": {
      "text/plain": [
       "0          11.99\n",
       "1          10.78\n",
       "2           8.49\n",
       "3          11.48\n",
       "4          12.88\n",
       "           ...  \n",
       "1280610    10.49\n",
       "1280611    12.79\n",
       "1280612    10.49\n",
       "1280613    14.49\n",
       "1280614    14.49\n",
       "Name: int_rate, Length: 1280615, dtype: float64"
      ]
     },
     "execution_count": 144,
     "metadata": {},
     "output_type": "execute_result"
    }
   ],
   "source": [
    "performance_df['int_rate']"
   ]
  },
  {
   "cell_type": "code",
   "execution_count": null,
   "metadata": {
    "colab": {
     "base_uri": "https://localhost:8080/",
     "height": 131
    },
    "id": "1fdMKhBsgViH",
    "outputId": "73c4259a-afbf-4f13-e43c-48dbcd924f92"
   },
   "outputs": [
    {
     "ename": "SyntaxError",
     "evalue": "ignored",
     "output_type": "error",
     "traceback": [
      "\u001b[0;36m  File \u001b[0;32m\"<ipython-input-141-dceb3a71caeb>\"\u001b[0;36m, line \u001b[0;32m1\u001b[0m\n\u001b[0;31m    loan_profit = (performance_df['total_rec_int'] + performance_df['total_rec_late_fee'] + performance_df['out_prncp']*\u001b[0m\n\u001b[0m                                                                                                                        ^\u001b[0m\n\u001b[0;31mSyntaxError\u001b[0m\u001b[0;31m:\u001b[0m unexpected EOF while parsing\n"
     ]
    }
   ],
   "source": [
    "# loan_profit = (performance_df['total_rec_int'] + performance_df['total_rec_late_fee'] )"
   ]
  },
  {
   "cell_type": "code",
   "execution_count": null,
   "metadata": {
    "colab": {
     "base_uri": "https://localhost:8080/"
    },
    "id": "wZt7AUeXd69S",
    "outputId": "cf60344b-d3cc-4a0e-da0d-7260ee834c3b"
   },
   "outputs": [
    {
     "data": {
      "text/plain": [
       "0           0.000000\n",
       "1           0.000000\n",
       "2           0.000000\n",
       "3           0.000000\n",
       "4          17.276777\n",
       "             ...    \n",
       "1280641    24.483017\n",
       "1280642    23.306806\n",
       "1280643    24.482999\n",
       "1280644     0.000000\n",
       "1280645    22.427057\n",
       "Length: 1280615, dtype: float64"
      ]
     },
     "execution_count": 9,
     "metadata": {},
     "output_type": "execute_result"
    }
   ],
   "source": [
    "# performance_df['out_prncp']/performance_df['last_pymnt_amnt']/((performance_df['int_rate']/100)+1)"
   ]
  },
  {
   "cell_type": "code",
   "execution_count": null,
   "metadata": {
    "colab": {
     "base_uri": "https://localhost:8080/",
     "height": 467
    },
    "id": "dsS9ycbw7e-o",
    "outputId": "d27c1cb8-c3be-4d9a-c60b-3f345834a1b6"
   },
   "outputs": [
    {
     "data": {
      "text/plain": [
       "<Axes: >"
      ]
     },
     "execution_count": 81,
     "metadata": {},
     "output_type": "execute_result"
    },
    {
     "data": {
      "image/png": "[encoded data removed]",
      "text/plain": [
       "<Figure size 640x480 with 1 Axes>"
      ]
     },
     "metadata": {},
     "output_type": "display_data"
    }
   ],
   "source": [
    "# (performance_df['total_rec_int'] + performance_df['total_rec_late_fee'] + performance_df['total_rec_prncp'] - performance_df['total_pymnt'])"
   ]
  },
  {
   "cell_type": "code",
   "execution_count": null,
   "metadata": {
    "colab": {
     "base_uri": "https://localhost:8080/"
    },
    "id": "l4cw6QpM8gQT",
    "outputId": "43f7feca-f6a5-408a-fe6f-c2806e9f5942"
   },
   "outputs": [
    {
     "data": {
      "text/plain": [
       "15202165275.0"
      ]
     },
     "execution_count": 66,
     "metadata": {},
     "output_type": "execute_result"
    }
   ],
   "source": [
    "performance_df[performance_df['Default'] == 1, 'loan_amnt']performance_df[]-performance_df['total_rec_prncp']"
   ]
  },
  {
   "cell_type": "code",
   "execution_count": null,
   "metadata": {
    "colab": {
     "base_uri": "https://localhost:8080/"
    },
    "id": "icIgrWCrpDon",
    "outputId": "4cd3f976-b056-44c3-f055-f568f54793e9"
   },
   "outputs": [
    {
     "data": {
      "text/plain": [
       "0           979.66\n",
       "1          2705.92\n",
       "2          1538.51\n",
       "3           939.58\n",
       "4          6788.21\n",
       "            ...   \n",
       "1280641    4928.86\n",
       "1280642    6047.89\n",
       "1280643    4959.95\n",
       "1280644    3233.49\n",
       "1280645    4027.96\n",
       "Name: total_rec_int, Length: 1280615, dtype: float64"
      ]
     },
     "execution_count": 40,
     "metadata": {},
     "output_type": "execute_result"
    }
   ],
   "source": [
    "performance_df['total_rec_int']"
   ]
  },
  {
   "cell_type": "code",
   "execution_count": null,
   "metadata": {
    "id": "uSthad_Gpb6m"
   },
   "outputs": [],
   "source": []
  },
  {
   "cell_type": "markdown",
   "metadata": {
    "id": "MRG-I6AZ4nLy"
   },
   "source": [
    "# LGD Modelling"
   ]
  },
  {
   "cell_type": "code",
   "execution_count": null,
   "metadata": {
    "id": "zps97qUF4rf2"
   },
   "outputs": [],
   "source": [
    "x_train, x_test, y_train, y_LGD_test = train_test_split( performance_df, # Predictors\n",
    "                                                    LGD_data['LGD'],         # Target variable\n",
    "                                                    test_size=0.33,          # Test size percentage\n",
    "                                                    random_state=20201209    # Seed\n",
    "                                                    )"
   ]
  }
 ],
 "metadata": {
  "colab": {
   "authorship_tag": "ABX9TyN1l9+XZ+QtL2RAhVW1mXq/",
   "include_colab_link": true,
   "provenance": []
  },
  "kernelspec": {
   "display_name": "Python 3 (ipykernel)",
   "language": "python",
   "name": "python3"
  },
  "language_info": {
   "codemirror_mode": {
    "name": "ipython",
    "version": 3
   },
   "file_extension": ".py",
   "mimetype": "text/x-python",
   "name": "python",
   "nbconvert_exporter": "python",
   "pygments_lexer": "ipython3",
   "version": "3.9.12"
  }
 },
 "nbformat": 4,
 "nbformat_minor": 1
}
