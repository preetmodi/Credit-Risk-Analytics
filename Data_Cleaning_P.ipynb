{
 "cells": [
  {
   "cell_type": "markdown",
   "metadata": {
    "colab_type": "text",
    "id": "view-in-github"
   },
   "source": [
    "<a href=\"https://colab.research.google.com/github/preetmodi/Credit-Risk-Analytics/blob/main/Data_Cleaning_P.ipynb\" target=\"_parent\"><img src=\"https://colab.research.google.com/assets/colab-badge.svg\" alt=\"Open In Colab\"/></a>"
   ]
  },
  {
   "cell_type": "markdown",
   "metadata": {
    "id": "NtgvoRHSF4ie"
   },
   "source": [
    "# Mount Drive"
   ]
  },
  {
   "cell_type": "code",
   "execution_count": 1,
   "metadata": {
    "colab": {
     "base_uri": "https://localhost:8080/"
    },
    "id": "Z6dkh-fcBcVp",
    "outputId": "d3078fc0-4aa8-4f8d-cfcc-580801f1edcf"
   },
   "outputs": [
    {
     "name": "stdout",
     "output_type": "stream",
     "text": [
      "/usr/bin/xdg-open: 869: www-browser: not found\n",
      "/usr/bin/xdg-open: 869: links2: not found\n",
      "/usr/bin/xdg-open: 869: elinks: not found\n",
      "/usr/bin/xdg-open: 869: links: not found\n",
      "/usr/bin/xdg-open: 869: lynx: not found\n",
      "/usr/bin/xdg-open: 869: w3m: not found\n",
      "xdg-open: no method available for opening 'https://accounts.google.com/o/oauth2/auth?client_id=564921029129.apps.googleusercontent.com&redirect_uri=https%3A%2F%2Fgd-ocaml-auth.appspot.com%2Foauth2callback&scope=https%3A%2F%2Fwww.googleapis.com%2Fauth%2Fdrive&response_type=code&access_type=offline&approval_prompt=force&state=2cJUYufG9EAPB97x4SPgQoUM9V4kZXfeU3UrUIHPn%2F4'\n",
      "/bin/sh: 1: firefox: not found\n",
      "/bin/sh: 1: google-chrome: not found\n",
      "/bin/sh: 1: chromium-browser: not found\n",
      "/bin/sh: 1: open: not found\n",
      "Cannot retrieve auth tokens.\n",
      "Failure(\"Error opening URL:https://accounts.google.com/o/oauth2/auth?client_id=564921029129.apps.googleusercontent.com&redirect_uri=https%3A%2F%2Fgd-ocaml-auth.appspot.com%2Foauth2callback&scope=https%3A%2F%2Fwww.googleapis.com%2Fauth%2Fdrive&response_type=code&access_type=offline&approval_prompt=force&state=2cJUYufG9EAPB97x4SPgQoUM9V4kZXfeU3UrUIHPn%2F4\")\n",
      "/content\n",
      "/content/gdrive\n",
      "Access token retrieved correctly.\n"
     ]
    }
   ],
   "source": [
    "!sudo echo -ne '\\n' | sudo add-apt-repository ppa:alessandro-strada/ppa >/dev/null 2>&1 # note: >/dev/null 2>&1 is used to supress printing\n",
    "!sudo apt update >/dev/null 2>&1\n",
    "!sudo apt install google-drive-ocamlfuse >/dev/null 2>&1\n",
    "!google-drive-ocamlfuse\n",
    "!sudo apt-get install w3m >/dev/null 2>&1 # to act as web browser \n",
    "!xdg-settings set default-web-browser w3m.desktop >/dev/null 2>&1 # to set default browser \n",
    "%cd /content\n",
    "!mkdir gdrive\n",
    "%cd gdrive\n",
    "!mkdir \"My Drive\"\n",
    "!google-drive-ocamlfuse \"/content/gdrive/My Drive\""
   ]
  },
  {
   "cell_type": "markdown",
   "metadata": {
    "id": "d2a0vCHCF7hp"
   },
   "source": [
    "# Unzip files"
   ]
  },
  {
   "cell_type": "code",
   "execution_count": null,
   "metadata": {
    "id": "QNH6SprFCefA"
   },
   "outputs": [],
   "source": [
    "# %cd /content/gdrive/My Drive/Data/"
   ]
  },
  {
   "cell_type": "code",
   "execution_count": null,
   "metadata": {
    "id": "DoIJP9iBDZmn"
   },
   "outputs": [],
   "source": [
    "# !unzip \"LCOrigination Data.zip\""
   ]
  },
  {
   "cell_type": "markdown",
   "metadata": {
    "id": "tfWlCxbYJmw2"
   },
   "source": [
    "# Data Exploration"
   ]
  },
  {
   "cell_type": "code",
   "execution_count": 2,
   "metadata": {
    "colab": {
     "base_uri": "https://localhost:8080/"
    },
    "id": "gVEmiquVKMa1",
    "outputId": "fdf675f3-5176-4b3c-a2c9-c5b1a42fd3c1"
   },
   "outputs": [
    {
     "name": "stdout",
     "output_type": "stream",
     "text": [
      "/content/gdrive/My Drive/Data\n"
     ]
    }
   ],
   "source": [
    "%cd /content/gdrive/My Drive/Data/"
   ]
  },
  {
   "cell_type": "code",
   "execution_count": 1,
   "metadata": {
    "id": "SRQkiTBhDbM-"
   },
   "outputs": [],
   "source": [
    "import pandas as pd\n",
    "import matplotlib.pyplot as plt\n",
    "import seaborn as sns\n",
    "import numpy as np\n",
    "%matplotlib inline"
   ]
  },
  {
   "cell_type": "code",
   "execution_count": 2,
   "metadata": {
    "colab": {
     "base_uri": "https://localhost:8080/"
    },
    "id": "07YJywABKVxN",
    "outputId": "85c569fc-9e4d-48c3-d673-2c159afe8ab4"
   },
   "outputs": [
    {
     "name": "stderr",
     "output_type": "stream",
     "text": [
      "'ls' is not recognized as an internal or external command,\n",
      "operable program or batch file.\n"
     ]
    }
   ],
   "source": [
    "!ls"
   ]
  },
  {
   "cell_type": "code",
   "execution_count": 3,
   "metadata": {
    "id": "ZszezLABKAve"
   },
   "outputs": [],
   "source": [
    "df = pd.read_csv(\"./../LCOrigination Data/LCOrigination.csv\", low_memory=False)"
   ]
  },
  {
   "cell_type": "code",
   "execution_count": 4,
   "metadata": {
    "colab": {
     "base_uri": "https://localhost:8080/",
     "height": 487
    },
    "id": "leM3SrIOKPKE",
    "outputId": "af61f3c6-ab38-4ccd-d8bf-815db724f789"
   },
   "outputs": [
    {
     "data": {
      "text/html": [
       "<div>\n",
       "<style scoped>\n",
       "    .dataframe tbody tr th:only-of-type {\n",
       "        vertical-align: middle;\n",
       "    }\n",
       "\n",
       "    .dataframe tbody tr th {\n",
       "        vertical-align: top;\n",
       "    }\n",
       "\n",
       "    .dataframe thead th {\n",
       "        text-align: right;\n",
       "    }\n",
       "</style>\n",
       "<table border=\"1\" class=\"dataframe\">\n",
       "  <thead>\n",
       "    <tr style=\"text-align: right;\">\n",
       "      <th></th>\n",
       "      <th>hardship_dpd</th>\n",
       "      <th>hardship_loan_status</th>\n",
       "      <th>orig_projected_additional_accrued_interest</th>\n",
       "      <th>hardship_payoff_balance_amount</th>\n",
       "      <th>hardship_last_payment_amount</th>\n",
       "      <th>settlement_status</th>\n",
       "      <th>settlement_date</th>\n",
       "      <th>settlement_amount</th>\n",
       "      <th>settlement_percentage</th>\n",
       "      <th>settlement_term</th>\n",
       "    </tr>\n",
       "  </thead>\n",
       "  <tbody>\n",
       "    <tr>\n",
       "      <th>0</th>\n",
       "      <td>NaN</td>\n",
       "      <td>NaN</td>\n",
       "      <td>NaN</td>\n",
       "      <td>NaN</td>\n",
       "      <td>NaN</td>\n",
       "      <td>NaN</td>\n",
       "      <td>NaN</td>\n",
       "      <td>NaN</td>\n",
       "      <td>NaN</td>\n",
       "      <td>NaN</td>\n",
       "    </tr>\n",
       "    <tr>\n",
       "      <th>1</th>\n",
       "      <td>NaN</td>\n",
       "      <td>NaN</td>\n",
       "      <td>NaN</td>\n",
       "      <td>NaN</td>\n",
       "      <td>NaN</td>\n",
       "      <td>NaN</td>\n",
       "      <td>NaN</td>\n",
       "      <td>NaN</td>\n",
       "      <td>NaN</td>\n",
       "      <td>NaN</td>\n",
       "    </tr>\n",
       "    <tr>\n",
       "      <th>2</th>\n",
       "      <td>NaN</td>\n",
       "      <td>NaN</td>\n",
       "      <td>NaN</td>\n",
       "      <td>NaN</td>\n",
       "      <td>NaN</td>\n",
       "      <td>NaN</td>\n",
       "      <td>NaN</td>\n",
       "      <td>NaN</td>\n",
       "      <td>NaN</td>\n",
       "      <td>NaN</td>\n",
       "    </tr>\n",
       "    <tr>\n",
       "      <th>3</th>\n",
       "      <td>NaN</td>\n",
       "      <td>NaN</td>\n",
       "      <td>NaN</td>\n",
       "      <td>NaN</td>\n",
       "      <td>NaN</td>\n",
       "      <td>NaN</td>\n",
       "      <td>NaN</td>\n",
       "      <td>NaN</td>\n",
       "      <td>NaN</td>\n",
       "      <td>NaN</td>\n",
       "    </tr>\n",
       "    <tr>\n",
       "      <th>4</th>\n",
       "      <td>NaN</td>\n",
       "      <td>NaN</td>\n",
       "      <td>NaN</td>\n",
       "      <td>NaN</td>\n",
       "      <td>NaN</td>\n",
       "      <td>NaN</td>\n",
       "      <td>NaN</td>\n",
       "      <td>NaN</td>\n",
       "      <td>NaN</td>\n",
       "      <td>NaN</td>\n",
       "    </tr>\n",
       "    <tr>\n",
       "      <th>...</th>\n",
       "      <td>...</td>\n",
       "      <td>...</td>\n",
       "      <td>...</td>\n",
       "      <td>...</td>\n",
       "      <td>...</td>\n",
       "      <td>...</td>\n",
       "      <td>...</td>\n",
       "      <td>...</td>\n",
       "      <td>...</td>\n",
       "      <td>...</td>\n",
       "    </tr>\n",
       "    <tr>\n",
       "      <th>1280641</th>\n",
       "      <td>NaN</td>\n",
       "      <td>NaN</td>\n",
       "      <td>NaN</td>\n",
       "      <td>NaN</td>\n",
       "      <td>NaN</td>\n",
       "      <td>NaN</td>\n",
       "      <td>NaN</td>\n",
       "      <td>NaN</td>\n",
       "      <td>NaN</td>\n",
       "      <td>NaN</td>\n",
       "    </tr>\n",
       "    <tr>\n",
       "      <th>1280642</th>\n",
       "      <td>NaN</td>\n",
       "      <td>NaN</td>\n",
       "      <td>NaN</td>\n",
       "      <td>NaN</td>\n",
       "      <td>NaN</td>\n",
       "      <td>NaN</td>\n",
       "      <td>NaN</td>\n",
       "      <td>NaN</td>\n",
       "      <td>NaN</td>\n",
       "      <td>NaN</td>\n",
       "    </tr>\n",
       "    <tr>\n",
       "      <th>1280643</th>\n",
       "      <td>NaN</td>\n",
       "      <td>NaN</td>\n",
       "      <td>NaN</td>\n",
       "      <td>NaN</td>\n",
       "      <td>NaN</td>\n",
       "      <td>NaN</td>\n",
       "      <td>NaN</td>\n",
       "      <td>NaN</td>\n",
       "      <td>NaN</td>\n",
       "      <td>NaN</td>\n",
       "    </tr>\n",
       "    <tr>\n",
       "      <th>1280644</th>\n",
       "      <td>NaN</td>\n",
       "      <td>NaN</td>\n",
       "      <td>NaN</td>\n",
       "      <td>NaN</td>\n",
       "      <td>NaN</td>\n",
       "      <td>ACTIVE</td>\n",
       "      <td>Mar-2019</td>\n",
       "      <td>10000.0</td>\n",
       "      <td>44.82</td>\n",
       "      <td>1.0</td>\n",
       "    </tr>\n",
       "    <tr>\n",
       "      <th>1280645</th>\n",
       "      <td>NaN</td>\n",
       "      <td>NaN</td>\n",
       "      <td>NaN</td>\n",
       "      <td>NaN</td>\n",
       "      <td>NaN</td>\n",
       "      <td>NaN</td>\n",
       "      <td>NaN</td>\n",
       "      <td>NaN</td>\n",
       "      <td>NaN</td>\n",
       "      <td>NaN</td>\n",
       "    </tr>\n",
       "  </tbody>\n",
       "</table>\n",
       "<p>1280646 rows × 10 columns</p>\n",
       "</div>"
      ],
      "text/plain": [
       "         hardship_dpd hardship_loan_status  \\\n",
       "0                 NaN                  NaN   \n",
       "1                 NaN                  NaN   \n",
       "2                 NaN                  NaN   \n",
       "3                 NaN                  NaN   \n",
       "4                 NaN                  NaN   \n",
       "...               ...                  ...   \n",
       "1280641           NaN                  NaN   \n",
       "1280642           NaN                  NaN   \n",
       "1280643           NaN                  NaN   \n",
       "1280644           NaN                  NaN   \n",
       "1280645           NaN                  NaN   \n",
       "\n",
       "         orig_projected_additional_accrued_interest  \\\n",
       "0                                               NaN   \n",
       "1                                               NaN   \n",
       "2                                               NaN   \n",
       "3                                               NaN   \n",
       "4                                               NaN   \n",
       "...                                             ...   \n",
       "1280641                                         NaN   \n",
       "1280642                                         NaN   \n",
       "1280643                                         NaN   \n",
       "1280644                                         NaN   \n",
       "1280645                                         NaN   \n",
       "\n",
       "         hardship_payoff_balance_amount  hardship_last_payment_amount  \\\n",
       "0                                   NaN                           NaN   \n",
       "1                                   NaN                           NaN   \n",
       "2                                   NaN                           NaN   \n",
       "3                                   NaN                           NaN   \n",
       "4                                   NaN                           NaN   \n",
       "...                                 ...                           ...   \n",
       "1280641                             NaN                           NaN   \n",
       "1280642                             NaN                           NaN   \n",
       "1280643                             NaN                           NaN   \n",
       "1280644                             NaN                           NaN   \n",
       "1280645                             NaN                           NaN   \n",
       "\n",
       "        settlement_status settlement_date  settlement_amount  \\\n",
       "0                     NaN             NaN                NaN   \n",
       "1                     NaN             NaN                NaN   \n",
       "2                     NaN             NaN                NaN   \n",
       "3                     NaN             NaN                NaN   \n",
       "4                     NaN             NaN                NaN   \n",
       "...                   ...             ...                ...   \n",
       "1280641               NaN             NaN                NaN   \n",
       "1280642               NaN             NaN                NaN   \n",
       "1280643               NaN             NaN                NaN   \n",
       "1280644            ACTIVE        Mar-2019            10000.0   \n",
       "1280645               NaN             NaN                NaN   \n",
       "\n",
       "         settlement_percentage  settlement_term  \n",
       "0                          NaN              NaN  \n",
       "1                          NaN              NaN  \n",
       "2                          NaN              NaN  \n",
       "3                          NaN              NaN  \n",
       "4                          NaN              NaN  \n",
       "...                        ...              ...  \n",
       "1280641                    NaN              NaN  \n",
       "1280642                    NaN              NaN  \n",
       "1280643                    NaN              NaN  \n",
       "1280644                  44.82              1.0  \n",
       "1280645                    NaN              NaN  \n",
       "\n",
       "[1280646 rows x 10 columns]"
      ]
     },
     "execution_count": 4,
     "metadata": {},
     "output_type": "execute_result"
    }
   ],
   "source": [
    "df.iloc[:,-10:]"
   ]
  },
  {
   "cell_type": "code",
   "execution_count": 5,
   "metadata": {
    "colab": {
     "base_uri": "https://localhost:8080/"
    },
    "id": "m24N7QoKL9py",
    "outputId": "6ea36a0e-b8f5-4b21-85fd-db27e56ad72d"
   },
   "outputs": [
    {
     "data": {
      "text/plain": [
       "39"
      ]
     },
     "execution_count": 5,
     "metadata": {},
     "output_type": "execute_result"
    }
   ],
   "source": [
    "df.columns.to_list().index('collection_recovery_fee')"
   ]
  },
  {
   "cell_type": "code",
   "execution_count": 6,
   "metadata": {
    "colab": {
     "base_uri": "https://localhost:8080/",
     "height": 393
    },
    "id": "ugpiqIuFKfvE",
    "outputId": "09d0beae-a2d3-4f4b-84a4-8316138d59b3"
   },
   "outputs": [
    {
     "data": {
      "text/html": [
       "<div>\n",
       "<style scoped>\n",
       "    .dataframe tbody tr th:only-of-type {\n",
       "        vertical-align: middle;\n",
       "    }\n",
       "\n",
       "    .dataframe tbody tr th {\n",
       "        vertical-align: top;\n",
       "    }\n",
       "\n",
       "    .dataframe thead th {\n",
       "        text-align: right;\n",
       "    }\n",
       "</style>\n",
       "<table border=\"1\" class=\"dataframe\">\n",
       "  <thead>\n",
       "    <tr style=\"text-align: right;\">\n",
       "      <th></th>\n",
       "      <th>loan_amnt</th>\n",
       "      <th>funded_amnt</th>\n",
       "      <th>funded_amnt_inv</th>\n",
       "      <th>int_rate</th>\n",
       "      <th>installment</th>\n",
       "      <th>annual_inc</th>\n",
       "      <th>dti</th>\n",
       "      <th>delinq_2yrs</th>\n",
       "      <th>fico_range_low</th>\n",
       "      <th>fico_range_high</th>\n",
       "      <th>...</th>\n",
       "      <th>deferral_term</th>\n",
       "      <th>hardship_amount</th>\n",
       "      <th>hardship_length</th>\n",
       "      <th>hardship_dpd</th>\n",
       "      <th>orig_projected_additional_accrued_interest</th>\n",
       "      <th>hardship_payoff_balance_amount</th>\n",
       "      <th>hardship_last_payment_amount</th>\n",
       "      <th>settlement_amount</th>\n",
       "      <th>settlement_percentage</th>\n",
       "      <th>settlement_term</th>\n",
       "    </tr>\n",
       "  </thead>\n",
       "  <tbody>\n",
       "    <tr>\n",
       "      <th>count</th>\n",
       "      <td>1.280615e+06</td>\n",
       "      <td>1.280615e+06</td>\n",
       "      <td>1.280615e+06</td>\n",
       "      <td>1.280615e+06</td>\n",
       "      <td>1.280615e+06</td>\n",
       "      <td>1.280615e+06</td>\n",
       "      <td>1.279707e+06</td>\n",
       "      <td>1.280615e+06</td>\n",
       "      <td>1.280615e+06</td>\n",
       "      <td>1.280615e+06</td>\n",
       "      <td>...</td>\n",
       "      <td>8610.0</td>\n",
       "      <td>8610.000000</td>\n",
       "      <td>8610.0</td>\n",
       "      <td>8610.000000</td>\n",
       "      <td>6432.000000</td>\n",
       "      <td>8610.000000</td>\n",
       "      <td>8610.000000</td>\n",
       "      <td>34214.000000</td>\n",
       "      <td>34214.000000</td>\n",
       "      <td>34214.000000</td>\n",
       "    </tr>\n",
       "    <tr>\n",
       "      <th>mean</th>\n",
       "      <td>1.513560e+04</td>\n",
       "      <td>1.513023e+04</td>\n",
       "      <td>1.511406e+04</td>\n",
       "      <td>1.340095e+01</td>\n",
       "      <td>4.488773e+02</td>\n",
       "      <td>7.715590e+04</td>\n",
       "      <td>1.898675e+01</td>\n",
       "      <td>3.123031e-01</td>\n",
       "      <td>6.973707e+02</td>\n",
       "      <td>7.013708e+02</td>\n",
       "      <td>...</td>\n",
       "      <td>3.0</td>\n",
       "      <td>159.393786</td>\n",
       "      <td>3.0</td>\n",
       "      <td>14.445296</td>\n",
       "      <td>467.320499</td>\n",
       "      <td>11812.129483</td>\n",
       "      <td>197.559281</td>\n",
       "      <td>5011.163605</td>\n",
       "      <td>47.773142</td>\n",
       "      <td>13.196031</td>\n",
       "    </tr>\n",
       "    <tr>\n",
       "      <th>std</th>\n",
       "      <td>9.164207e+03</td>\n",
       "      <td>9.162097e+03</td>\n",
       "      <td>9.163897e+03</td>\n",
       "      <td>4.923413e+00</td>\n",
       "      <td>2.672979e+02</td>\n",
       "      <td>7.592994e+04</td>\n",
       "      <td>1.399290e+01</td>\n",
       "      <td>8.765886e-01</td>\n",
       "      <td>3.246384e+01</td>\n",
       "      <td>3.246464e+01</td>\n",
       "      <td>...</td>\n",
       "      <td>0.0</td>\n",
       "      <td>132.041083</td>\n",
       "      <td>0.0</td>\n",
       "      <td>9.440823</td>\n",
       "      <td>384.066227</td>\n",
       "      <td>7668.925156</td>\n",
       "      <td>199.297305</td>\n",
       "      <td>3691.736410</td>\n",
       "      <td>7.304390</td>\n",
       "      <td>8.159966</td>\n",
       "    </tr>\n",
       "    <tr>\n",
       "      <th>min</th>\n",
       "      <td>5.000000e+02</td>\n",
       "      <td>5.000000e+02</td>\n",
       "      <td>0.000000e+00</td>\n",
       "      <td>5.310000e+00</td>\n",
       "      <td>4.930000e+00</td>\n",
       "      <td>0.000000e+00</td>\n",
       "      <td>-1.000000e+00</td>\n",
       "      <td>0.000000e+00</td>\n",
       "      <td>6.250000e+02</td>\n",
       "      <td>6.290000e+02</td>\n",
       "      <td>...</td>\n",
       "      <td>3.0</td>\n",
       "      <td>1.470000</td>\n",
       "      <td>3.0</td>\n",
       "      <td>0.000000</td>\n",
       "      <td>4.410000</td>\n",
       "      <td>174.150000</td>\n",
       "      <td>0.010000</td>\n",
       "      <td>44.210000</td>\n",
       "      <td>0.200000</td>\n",
       "      <td>0.000000</td>\n",
       "    </tr>\n",
       "    <tr>\n",
       "      <th>25%</th>\n",
       "      <td>8.000000e+03</td>\n",
       "      <td>8.000000e+03</td>\n",
       "      <td>8.000000e+03</td>\n",
       "      <td>9.930000e+00</td>\n",
       "      <td>2.552500e+02</td>\n",
       "      <td>4.550000e+04</td>\n",
       "      <td>1.206000e+01</td>\n",
       "      <td>0.000000e+00</td>\n",
       "      <td>6.700000e+02</td>\n",
       "      <td>6.740000e+02</td>\n",
       "      <td>...</td>\n",
       "      <td>3.0</td>\n",
       "      <td>61.402500</td>\n",
       "      <td>3.0</td>\n",
       "      <td>7.000000</td>\n",
       "      <td>180.592500</td>\n",
       "      <td>5736.040000</td>\n",
       "      <td>48.102500</td>\n",
       "      <td>2208.370000</td>\n",
       "      <td>45.000000</td>\n",
       "      <td>6.000000</td>\n",
       "    </tr>\n",
       "    <tr>\n",
       "      <th>50%</th>\n",
       "      <td>1.300000e+04</td>\n",
       "      <td>1.300000e+04</td>\n",
       "      <td>1.300000e+04</td>\n",
       "      <td>1.279000e+01</td>\n",
       "      <td>3.816400e+02</td>\n",
       "      <td>6.500000e+04</td>\n",
       "      <td>1.805000e+01</td>\n",
       "      <td>0.000000e+00</td>\n",
       "      <td>6.900000e+02</td>\n",
       "      <td>6.940000e+02</td>\n",
       "      <td>...</td>\n",
       "      <td>3.0</td>\n",
       "      <td>122.420000</td>\n",
       "      <td>3.0</td>\n",
       "      <td>16.000000</td>\n",
       "      <td>362.700000</td>\n",
       "      <td>10211.385000</td>\n",
       "      <td>136.885000</td>\n",
       "      <td>4147.000000</td>\n",
       "      <td>45.000000</td>\n",
       "      <td>14.000000</td>\n",
       "    </tr>\n",
       "    <tr>\n",
       "      <th>75%</th>\n",
       "      <td>2.000000e+04</td>\n",
       "      <td>2.000000e+04</td>\n",
       "      <td>2.000000e+04</td>\n",
       "      <td>1.614000e+01</td>\n",
       "      <td>5.953100e+02</td>\n",
       "      <td>9.200000e+04</td>\n",
       "      <td>2.472000e+01</td>\n",
       "      <td>0.000000e+00</td>\n",
       "      <td>7.150000e+02</td>\n",
       "      <td>7.190000e+02</td>\n",
       "      <td>...</td>\n",
       "      <td>3.0</td>\n",
       "      <td>220.037500</td>\n",
       "      <td>3.0</td>\n",
       "      <td>23.000000</td>\n",
       "      <td>642.285000</td>\n",
       "      <td>16410.052500</td>\n",
       "      <td>287.407500</td>\n",
       "      <td>6851.195000</td>\n",
       "      <td>50.000000</td>\n",
       "      <td>18.000000</td>\n",
       "    </tr>\n",
       "    <tr>\n",
       "      <th>max</th>\n",
       "      <td>4.000000e+04</td>\n",
       "      <td>4.000000e+04</td>\n",
       "      <td>4.000000e+04</td>\n",
       "      <td>3.099000e+01</td>\n",
       "      <td>1.719830e+03</td>\n",
       "      <td>1.099920e+07</td>\n",
       "      <td>9.990000e+02</td>\n",
       "      <td>5.800000e+01</td>\n",
       "      <td>8.450000e+02</td>\n",
       "      <td>8.500000e+02</td>\n",
       "      <td>...</td>\n",
       "      <td>3.0</td>\n",
       "      <td>943.940000</td>\n",
       "      <td>3.0</td>\n",
       "      <td>32.000000</td>\n",
       "      <td>2680.890000</td>\n",
       "      <td>38399.000000</td>\n",
       "      <td>1407.860000</td>\n",
       "      <td>33601.000000</td>\n",
       "      <td>521.350000</td>\n",
       "      <td>181.000000</td>\n",
       "    </tr>\n",
       "  </tbody>\n",
       "</table>\n",
       "<p>8 rows × 100 columns</p>\n",
       "</div>"
      ],
      "text/plain": [
       "          loan_amnt   funded_amnt  funded_amnt_inv      int_rate  \\\n",
       "count  1.280615e+06  1.280615e+06     1.280615e+06  1.280615e+06   \n",
       "mean   1.513560e+04  1.513023e+04     1.511406e+04  1.340095e+01   \n",
       "std    9.164207e+03  9.162097e+03     9.163897e+03  4.923413e+00   \n",
       "min    5.000000e+02  5.000000e+02     0.000000e+00  5.310000e+00   \n",
       "25%    8.000000e+03  8.000000e+03     8.000000e+03  9.930000e+00   \n",
       "50%    1.300000e+04  1.300000e+04     1.300000e+04  1.279000e+01   \n",
       "75%    2.000000e+04  2.000000e+04     2.000000e+04  1.614000e+01   \n",
       "max    4.000000e+04  4.000000e+04     4.000000e+04  3.099000e+01   \n",
       "\n",
       "        installment    annual_inc           dti   delinq_2yrs  fico_range_low  \\\n",
       "count  1.280615e+06  1.280615e+06  1.279707e+06  1.280615e+06    1.280615e+06   \n",
       "mean   4.488773e+02  7.715590e+04  1.898675e+01  3.123031e-01    6.973707e+02   \n",
       "std    2.672979e+02  7.592994e+04  1.399290e+01  8.765886e-01    3.246384e+01   \n",
       "min    4.930000e+00  0.000000e+00 -1.000000e+00  0.000000e+00    6.250000e+02   \n",
       "25%    2.552500e+02  4.550000e+04  1.206000e+01  0.000000e+00    6.700000e+02   \n",
       "50%    3.816400e+02  6.500000e+04  1.805000e+01  0.000000e+00    6.900000e+02   \n",
       "75%    5.953100e+02  9.200000e+04  2.472000e+01  0.000000e+00    7.150000e+02   \n",
       "max    1.719830e+03  1.099920e+07  9.990000e+02  5.800000e+01    8.450000e+02   \n",
       "\n",
       "       fico_range_high  ...  deferral_term  hardship_amount  hardship_length  \\\n",
       "count     1.280615e+06  ...         8610.0      8610.000000           8610.0   \n",
       "mean      7.013708e+02  ...            3.0       159.393786              3.0   \n",
       "std       3.246464e+01  ...            0.0       132.041083              0.0   \n",
       "min       6.290000e+02  ...            3.0         1.470000              3.0   \n",
       "25%       6.740000e+02  ...            3.0        61.402500              3.0   \n",
       "50%       6.940000e+02  ...            3.0       122.420000              3.0   \n",
       "75%       7.190000e+02  ...            3.0       220.037500              3.0   \n",
       "max       8.500000e+02  ...            3.0       943.940000              3.0   \n",
       "\n",
       "       hardship_dpd  orig_projected_additional_accrued_interest  \\\n",
       "count   8610.000000                                 6432.000000   \n",
       "mean      14.445296                                  467.320499   \n",
       "std        9.440823                                  384.066227   \n",
       "min        0.000000                                    4.410000   \n",
       "25%        7.000000                                  180.592500   \n",
       "50%       16.000000                                  362.700000   \n",
       "75%       23.000000                                  642.285000   \n",
       "max       32.000000                                 2680.890000   \n",
       "\n",
       "       hardship_payoff_balance_amount  hardship_last_payment_amount  \\\n",
       "count                     8610.000000                   8610.000000   \n",
       "mean                     11812.129483                    197.559281   \n",
       "std                       7668.925156                    199.297305   \n",
       "min                        174.150000                      0.010000   \n",
       "25%                       5736.040000                     48.102500   \n",
       "50%                      10211.385000                    136.885000   \n",
       "75%                      16410.052500                    287.407500   \n",
       "max                      38399.000000                   1407.860000   \n",
       "\n",
       "       settlement_amount  settlement_percentage  settlement_term  \n",
       "count       34214.000000           34214.000000     34214.000000  \n",
       "mean         5011.163605              47.773142        13.196031  \n",
       "std          3691.736410               7.304390         8.159966  \n",
       "min            44.210000               0.200000         0.000000  \n",
       "25%          2208.370000              45.000000         6.000000  \n",
       "50%          4147.000000              45.000000        14.000000  \n",
       "75%          6851.195000              50.000000        18.000000  \n",
       "max         33601.000000             521.350000       181.000000  \n",
       "\n",
       "[8 rows x 100 columns]"
      ]
     },
     "execution_count": 6,
     "metadata": {},
     "output_type": "execute_result"
    }
   ],
   "source": [
    "df.describe()"
   ]
  },
  {
   "cell_type": "code",
   "execution_count": null,
   "metadata": {
    "id": "wStZkFWbKitM"
   },
   "outputs": [],
   "source": []
  },
  {
   "cell_type": "markdown",
   "metadata": {
    "id": "EzKj3FbvM4IS"
   },
   "source": [
    "# Open Metadata FIle"
   ]
  },
  {
   "cell_type": "code",
   "execution_count": 7,
   "metadata": {
    "colab": {
     "base_uri": "https://localhost:8080/"
    },
    "id": "828rEwSvM5Uq",
    "outputId": "4ce56bef-dd9d-41d5-9330-01494c617ed9"
   },
   "outputs": [
    {
     "data": {
      "text/plain": [
       "['id',\n",
       " 'AmountRequested',\n",
       " 'loan_amnt',\n",
       " 'term',\n",
       " 'ApplicationDate',\n",
       " 'Risk_Score',\n",
       " 'ficoRangeHigh',\n",
       " 'ficoRangeLow',\n",
       " 'acc_open_past_24mths',\n",
       " 'addr_state',\n",
       " 'all_util',\n",
       " 'annual_inc',\n",
       " 'annual_inc_joint',\n",
       " 'application_type',\n",
       " 'avg_cur_bal',\n",
       " 'bc_open_to_buy',\n",
       " 'bc_util',\n",
       " 'chargeoff_within_12_mths',\n",
       " 'delinq_2yrs',\n",
       " 'desc',\n",
       " 'dti',\n",
       " 'dti_joint',\n",
       " 'earliest_cr_line',\n",
       " 'emp_length',\n",
       " 'emp_title',\n",
       " 'fico_range_high',\n",
       " 'fico_range_low',\n",
       " 'funded_amnt',\n",
       " 'funded_amnt_inv',\n",
       " 'home_ownership',\n",
       " 'il_util',\n",
       " 'inq_fi',\n",
       " 'inq_last_12m',\n",
       " 'inq_last_6mths',\n",
       " 'max_bal_bc',\n",
       " 'mo_sin_old_il_acct',\n",
       " 'mo_sin_old_rev_tl_op',\n",
       " 'mo_sin_rcnt_rev_tl_op',\n",
       " 'mo_sin_rcnt_tl',\n",
       " 'mort_acc',\n",
       " 'mths_since_last_record',\n",
       " 'mths_since_rcnt_il',\n",
       " 'mths_since_recent_bc',\n",
       " 'mths_since_recent_bc_dlq',\n",
       " 'mths_since_recent_inq',\n",
       " 'mths_since_recent_revol_delinq',\n",
       " 'num_accts_ever_120_pd',\n",
       " 'num_actv_bc_tl',\n",
       " 'num_actv_rev_tl',\n",
       " 'num_bc_sats',\n",
       " 'num_bc_tl',\n",
       " 'num_il_tl',\n",
       " 'num_op_rev_tl',\n",
       " 'num_rev_accts',\n",
       " 'num_rev_tl_bal_gt_0',\n",
       " 'num_sats',\n",
       " 'open_acc',\n",
       " 'open_acc_6m',\n",
       " 'open_il_12m',\n",
       " 'open_il_24m',\n",
       " 'open_act_il',\n",
       " 'open_rv_12m',\n",
       " 'open_rv_24m',\n",
       " 'pct_tl_nvr_dlq',\n",
       " 'percent_bc_gt_75',\n",
       " 'pub_rec',\n",
       " 'pub_rec_bankruptcies',\n",
       " 'purpose',\n",
       " 'revol_bal',\n",
       " 'revol_util',\n",
       " 'tax_liens',\n",
       " 'title',\n",
       " 'tot_coll_amt',\n",
       " 'tot_cur_bal',\n",
       " 'tot_hi_cred_lim',\n",
       " 'total_acc',\n",
       " 'total_bal_ex_mort',\n",
       " 'total_bal_il',\n",
       " 'total_bc_limit',\n",
       " 'total_cu_tl',\n",
       " 'total_il_high_credit_limit',\n",
       " 'verification_status',\n",
       " 'zip_code',\n",
       " 'revol_bal_joint',\n",
       " 'sec_app_earliest_cr_line',\n",
       " 'sec_app_inq_last_6mths',\n",
       " 'sec_app_mort_acc',\n",
       " 'sec_app_open_acc',\n",
       " 'sec_app_revol_util',\n",
       " 'sec_app_open_act_il',\n",
       " 'sec_app_num_rev_accts',\n",
       " 'sec_app_chargeoff_within_12_mths',\n",
       " 'sec_app_collections_12_mths_ex_med',\n",
       " 'sec_app_mths_since_last_major_derog',\n",
       " 'addrState',\n",
       " 'annual_inc_joint',\n",
       " 'annualInc',\n",
       " 'bcOpenToBuy',\n",
       " 'bcUtil',\n",
       " 'delinq2Yrs',\n",
       " 'delinqAmnt',\n",
       " 'dti',\n",
       " 'dti_joint',\n",
       " 'earliestCrLine',\n",
       " 'empLength',\n",
       " 'homeOwnership',\n",
       " 'inqLast6Mths',\n",
       " 'isIncV',\n",
       " 'mortAcc',\n",
       " 'msa',\n",
       " 'mths_since_oldest_il_open',\n",
       " 'mthsSinceLastDelinq',\n",
       " 'mthsSinceLastRecord',\n",
       " 'mthsSinceMostRecentInq',\n",
       " 'mthsSinceRecentBc',\n",
       " 'mthsSinceRecentLoanDelinq',\n",
       " 'mthsSinceRecentRevolDelinq',\n",
       " 'openAcc',\n",
       " 'percentBcGt75',\n",
       " 'pubRec',\n",
       " 'revolBal',\n",
       " 'revolUtil',\n",
       " 'totalAcc',\n",
       " 'totalBalExMort',\n",
       " 'totalBcLimit',\n",
       " 'sec_app_chargeoff_within_12_mths',\n",
       " 'Debt_To_IncomeRatio',\n",
       " 'ZipCode',\n",
       " 'State',\n",
       " 'EmploymentLength',\n",
       " 'installment']"
      ]
     },
     "execution_count": 7,
     "metadata": {},
     "output_type": "execute_result"
    }
   ],
   "source": [
    "columns = pd.read_excel(\"./../LCDataDictionaryClean.xlsx\")['Variable'].to_list()\n",
    "columns"
   ]
  },
  {
   "cell_type": "code",
   "execution_count": 8,
   "metadata": {
    "colab": {
     "base_uri": "https://localhost:8080/"
    },
    "id": "aYue7cxdNFya",
    "outputId": "691c104a-2a23-4755-f274-94d5fb2bf90e"
   },
   "outputs": [
    {
     "data": {
      "text/plain": [
       "['id',\n",
       " 'loan_amnt',\n",
       " 'funded_amnt',\n",
       " 'funded_amnt_inv',\n",
       " 'term',\n",
       " 'installment',\n",
       " 'emp_title',\n",
       " 'emp_length',\n",
       " 'home_ownership',\n",
       " 'annual_inc',\n",
       " 'desc',\n",
       " 'purpose',\n",
       " 'title',\n",
       " 'zip_code',\n",
       " 'addr_state',\n",
       " 'dti',\n",
       " 'delinq_2yrs',\n",
       " 'earliest_cr_line',\n",
       " 'fico_range_low',\n",
       " 'fico_range_high',\n",
       " 'inq_last_6mths',\n",
       " 'mths_since_last_record',\n",
       " 'open_acc',\n",
       " 'pub_rec',\n",
       " 'revol_bal',\n",
       " 'revol_util',\n",
       " 'total_acc',\n",
       " 'application_type',\n",
       " 'annual_inc_joint',\n",
       " 'dti_joint',\n",
       " 'tot_coll_amt',\n",
       " 'tot_cur_bal',\n",
       " 'open_acc_6m',\n",
       " 'open_act_il',\n",
       " 'open_il_12m',\n",
       " 'open_il_24m',\n",
       " 'mths_since_rcnt_il',\n",
       " 'total_bal_il',\n",
       " 'il_util',\n",
       " 'open_rv_12m',\n",
       " 'open_rv_24m',\n",
       " 'max_bal_bc',\n",
       " 'all_util',\n",
       " 'inq_fi',\n",
       " 'total_cu_tl',\n",
       " 'inq_last_12m',\n",
       " 'acc_open_past_24mths',\n",
       " 'avg_cur_bal',\n",
       " 'bc_open_to_buy',\n",
       " 'bc_util',\n",
       " 'chargeoff_within_12_mths',\n",
       " 'mo_sin_old_il_acct',\n",
       " 'mo_sin_old_rev_tl_op',\n",
       " 'mo_sin_rcnt_rev_tl_op',\n",
       " 'mo_sin_rcnt_tl',\n",
       " 'mort_acc',\n",
       " 'mths_since_recent_bc',\n",
       " 'mths_since_recent_bc_dlq',\n",
       " 'mths_since_recent_inq',\n",
       " 'mths_since_recent_revol_delinq',\n",
       " 'num_accts_ever_120_pd',\n",
       " 'num_actv_bc_tl',\n",
       " 'num_actv_rev_tl',\n",
       " 'num_bc_sats',\n",
       " 'num_bc_tl',\n",
       " 'num_il_tl',\n",
       " 'num_op_rev_tl',\n",
       " 'num_rev_accts',\n",
       " 'num_rev_tl_bal_gt_0',\n",
       " 'num_sats',\n",
       " 'pct_tl_nvr_dlq',\n",
       " 'percent_bc_gt_75',\n",
       " 'pub_rec_bankruptcies',\n",
       " 'tax_liens',\n",
       " 'tot_hi_cred_lim',\n",
       " 'total_bal_ex_mort',\n",
       " 'total_bc_limit',\n",
       " 'total_il_high_credit_limit',\n",
       " 'revol_bal_joint',\n",
       " 'sec_app_earliest_cr_line',\n",
       " 'sec_app_inq_last_6mths',\n",
       " 'sec_app_mort_acc',\n",
       " 'sec_app_open_acc',\n",
       " 'sec_app_revol_util',\n",
       " 'sec_app_open_act_il',\n",
       " 'sec_app_num_rev_accts',\n",
       " 'sec_app_chargeoff_within_12_mths',\n",
       " 'sec_app_collections_12_mths_ex_med',\n",
       " 'sec_app_mths_since_last_major_derog']"
      ]
     },
     "execution_count": 8,
     "metadata": {},
     "output_type": "execute_result"
    }
   ],
   "source": [
    "total_columns = [column for column in df.columns.to_list() if column in columns]\n",
    "total_columns"
   ]
  },
  {
   "cell_type": "markdown",
   "metadata": {
    "id": "ZDi6Gs5Sw_nS"
   },
   "source": [
    "# Performance DF "
   ]
  },
  {
   "cell_type": "code",
   "execution_count": 9,
   "metadata": {
    "id": "fgQt9XouxDdp"
   },
   "outputs": [],
   "source": [
    "# perfromance_columns = df.drop(columns = total_columns).columns.to_list()"
   ]
  },
  {
   "cell_type": "code",
   "execution_count": 10,
   "metadata": {
    "id": "yBc0q2lDxtAJ"
   },
   "outputs": [],
   "source": [
    "# perfromance_columns_orig = pd.read_excel(\"LCDataDictionaryClean.xlsx\", sheet_name=\"Performance\")['Variable'].to_list()\n",
    "# sum([1 for column in perfromance_columns if column in perfromance_columns_orig])\n"
   ]
  },
  {
   "cell_type": "code",
   "execution_count": null,
   "metadata": {
    "id": "XgXJfFO2-Paz"
   },
   "outputs": [],
   "source": []
  },
  {
   "cell_type": "markdown",
   "metadata": {
    "id": "X7799h9mhf09"
   },
   "source": [
    "#Origination DF"
   ]
  },
  {
   "cell_type": "code",
   "execution_count": null,
   "metadata": {
    "id": "EfJdBrojhnXL"
   },
   "outputs": [],
   "source": []
  },
  {
   "cell_type": "code",
   "execution_count": 11,
   "metadata": {
    "colab": {
     "base_uri": "https://localhost:8080/"
    },
    "id": "yrlt7gEQhq5L",
    "outputId": "01b3df14-4a70-42bb-aa6e-7a2dc089cf72"
   },
   "outputs": [
    {
     "data": {
      "text/plain": [
       "89"
      ]
     },
     "execution_count": 11,
     "metadata": {},
     "output_type": "execute_result"
    }
   ],
   "source": [
    "len(total_columns)"
   ]
  },
  {
   "cell_type": "code",
   "execution_count": 12,
   "metadata": {
    "id": "y8CePFIChtqk"
   },
   "outputs": [],
   "source": [
    "df['Default'] = df['loan_status'].apply(lambda x: 1 if x == 'Default' or x=='Charged Off' else 0)\n",
    "origination_df = df[total_columns+['Default']]"
   ]
  },
  {
   "cell_type": "code",
   "execution_count": 13,
   "metadata": {
    "colab": {
     "base_uri": "https://localhost:8080/"
    },
    "id": "ZTYTb1wF6Dpd",
    "outputId": "f9a3c255-58c9-4080-cbdd-3acc279f7b51"
   },
   "outputs": [
    {
     "data": {
      "text/plain": [
       "id                                           0\n",
       "loan_amnt                                   31\n",
       "funded_amnt                                 31\n",
       "funded_amnt_inv                             31\n",
       "term                                        31\n",
       "                                        ...   \n",
       "sec_app_num_rev_accts                  1222471\n",
       "sec_app_chargeoff_within_12_mths       1222471\n",
       "sec_app_collections_12_mths_ex_med     1222471\n",
       "sec_app_mths_since_last_major_derog    1260860\n",
       "Default                                      0\n",
       "Length: 90, dtype: int64"
      ]
     },
     "execution_count": 13,
     "metadata": {},
     "output_type": "execute_result"
    }
   ],
   "source": [
    "origination_df.isnull().sum()"
   ]
  },
  {
   "cell_type": "code",
   "execution_count": 14,
   "metadata": {
    "id": "VIAOTSpS6OPV"
   },
   "outputs": [],
   "source": [
    "null_columns = origination_df.columns[origination_df.isnull().any()]\n",
    "null = origination_df[null_columns[60:]].isnull().sum()\n"
   ]
  },
  {
   "cell_type": "code",
   "execution_count": 15,
   "metadata": {
    "id": "yoWDWJYJ8DPc"
   },
   "outputs": [],
   "source": [
    "# null[null>31].value_counts()"
   ]
  },
  {
   "cell_type": "code",
   "execution_count": 16,
   "metadata": {
    "id": "5JAMMDhXXvz_"
   },
   "outputs": [],
   "source": [
    "# null"
   ]
  },
  {
   "cell_type": "code",
   "execution_count": 17,
   "metadata": {
    "id": "n_A84fGkBMRH"
   },
   "outputs": [],
   "source": [
    "last_30_df = origination_df[null.index[:17]].dropna()"
   ]
  },
  {
   "cell_type": "code",
   "execution_count": 18,
   "metadata": {
    "id": "3rRXqMnkXsY1"
   },
   "outputs": [],
   "source": [
    "# last_30_df.describe()"
   ]
  },
  {
   "cell_type": "code",
   "execution_count": 19,
   "metadata": {
    "id": "SnNUaUBdX-nB"
   },
   "outputs": [],
   "source": [
    "# print(origination_df['num_bc_tl'].value_counts()[0])"
   ]
  },
  {
   "cell_type": "code",
   "execution_count": 20,
   "metadata": {
    "id": "2gpIqbXgYu63"
   },
   "outputs": [],
   "source": [
    "# origination_df[null.index[:17]].describe()"
   ]
  },
  {
   "cell_type": "code",
   "execution_count": 21,
   "metadata": {
    "id": "EOmEfSrkZfMi"
   },
   "outputs": [],
   "source": [
    "# origination_df[origination_df['application_type']=='Joint App']['dti_joint'] # 'annual_inc_joint']].value_counts()"
   ]
  },
  {
   "cell_type": "code",
   "execution_count": 22,
   "metadata": {
    "id": "-FGqSJarqpKL"
   },
   "outputs": [],
   "source": [
    "# origination_df['pub_rec'].value_counts(dropna=False)\n",
    "# origination_df['mths_since_recent_bc_dlq'].isnull().sum()\n",
    "# origination_df['emp_title'].dropna()[origination_df['emp_title'].dropna().str.startswith(\"\")]"
   ]
  },
  {
   "cell_type": "code",
   "execution_count": 23,
   "metadata": {
    "id": "PpiW8IB30aF5"
   },
   "outputs": [],
   "source": [
    "# origination_df['emp_length'].value_counts(dropna=False)[np.nan]"
   ]
  },
  {
   "cell_type": "code",
   "execution_count": 24,
   "metadata": {
    "id": "MROYbGRx00yJ"
   },
   "outputs": [],
   "source": [
    "# origination_df.columns[origination_df.columns.str.contains(\"emp\")]\n",
    "# origination_df[origination_df['emp_length'].isnull()]['emp_title'].value_counts(dropna=False)"
   ]
  },
  {
   "cell_type": "code",
   "execution_count": 25,
   "metadata": {
    "id": "N0oj8Xfg1i22"
   },
   "outputs": [],
   "source": [
    "# origination_df['emp_length']"
   ]
  },
  {
   "cell_type": "code",
   "execution_count": 26,
   "metadata": {
    "id": "PPngsxkF3Ygq"
   },
   "outputs": [],
   "source": [
    "# origination_df['mths_since_recent_bc_dlq'].value_counts()"
   ]
  },
  {
   "cell_type": "code",
   "execution_count": 27,
   "metadata": {
    "id": "UiYWA0Zz4IIF"
   },
   "outputs": [],
   "source": [
    "# origination_df['open_acc_6m'][origination_df['mths_since_rcnt_il'].isnull()].value_counts(dropna=False)"
   ]
  },
  {
   "cell_type": "code",
   "execution_count": 28,
   "metadata": {
    "id": "-9Wr_k_M9t1w"
   },
   "outputs": [],
   "source": [
    "# origination_df['mo_sin_old_rev_tl_op'].dropna()"
   ]
  },
  {
   "cell_type": "code",
   "execution_count": 29,
   "metadata": {
    "id": "kKHt_Tjy_jZ_"
   },
   "outputs": [],
   "source": [
    "# origination_df['percent_bc_gt_75'].value_counts(dropna=False)"
   ]
  },
  {
   "cell_type": "code",
   "execution_count": 30,
   "metadata": {
    "id": "zXqioQYCKw5S"
   },
   "outputs": [],
   "source": [
    "# origination_df[origination_df['application_type']=='Joint App']['sec_app_mort_acc'].value_counts(dropna=False).sum()"
   ]
  },
  {
   "cell_type": "code",
   "execution_count": 31,
   "metadata": {
    "id": "RIsPARnHNT3u"
   },
   "outputs": [],
   "source": [
    "# len(origination_df) - 1260860 #58175"
   ]
  },
  {
   "cell_type": "code",
   "execution_count": 32,
   "metadata": {
    "id": "Gxmf-R76N6Hi"
   },
   "outputs": [],
   "source": [
    "# origination_df['sec_app_mths_since_last_major_derog']"
   ]
  },
  {
   "cell_type": "code",
   "execution_count": null,
   "metadata": {
    "id": "OIbO0-I1O5VW"
   },
   "outputs": [],
   "source": []
  },
  {
   "cell_type": "markdown",
   "metadata": {
    "id": "oPTf4XI3jLKC"
   },
   "source": [
    "#Transformation First 30"
   ]
  },
  {
   "cell_type": "code",
   "execution_count": 33,
   "metadata": {
    "id": "AGd2EBwVkw28"
   },
   "outputs": [],
   "source": [
    "transformed_data = origination_df.copy()"
   ]
  },
  {
   "cell_type": "markdown",
   "metadata": {
    "id": "0c8A_yPQlUG3"
   },
   "source": [
    "### Generate Coborrower income column and delete annual_inc_joint column"
   ]
  },
  {
   "cell_type": "code",
   "execution_count": 34,
   "metadata": {
    "colab": {
     "base_uri": "https://localhost:8080/"
    },
    "id": "bopZay2xjM_m",
    "outputId": "341e5021-a355-4a6c-a73d-b9bc50056950"
   },
   "outputs": [
    {
     "name": "stderr",
     "output_type": "stream",
     "text": [
      "C:\\Users\\preet\\AppData\\Local\\Temp\\ipykernel_23804\\2597307426.py:1: SettingWithCopyWarning: \n",
      "A value is trying to be set on a copy of a slice from a DataFrame\n",
      "\n",
      "See the caveats in the documentation: https://pandas.pydata.org/pandas-docs/stable/user_guide/indexing.html#returning-a-view-versus-a-copy\n",
      "  transformed_data['annual_inc_joint'][transformed_data['annual_inc_joint'].isna()] = origination_df['annual_inc'][transformed_data['annual_inc_joint'].isna()]\n"
     ]
    }
   ],
   "source": [
    "transformed_data['annual_inc_joint'][transformed_data['annual_inc_joint'].isna()] = origination_df['annual_inc'][transformed_data['annual_inc_joint'].isna()]\n",
    "drop_columns = ['annual_inc']"
   ]
  },
  {
   "cell_type": "code",
   "execution_count": 35,
   "metadata": {
    "id": "16tQ2QW-jaLf"
   },
   "outputs": [],
   "source": [
    "transformed_data['dti_joint'] = origination_df['dti_joint'].fillna(-1)"
   ]
  },
  {
   "cell_type": "code",
   "execution_count": 36,
   "metadata": {
    "id": "gT4QaHeqkfDF"
   },
   "outputs": [],
   "source": [
    "drop_columns.append('mths_since_last_record')\n"
   ]
  },
  {
   "cell_type": "code",
   "execution_count": 37,
   "metadata": {
    "id": "1sTMQsNLlplt"
   },
   "outputs": [],
   "source": [
    "drop_columns+=['emp_length', 'emp_title']"
   ]
  },
  {
   "cell_type": "code",
   "execution_count": 38,
   "metadata": {
    "id": "5EyWNr0cnKaq"
   },
   "outputs": [],
   "source": [
    "drop_columns+=['desc']"
   ]
  },
  {
   "cell_type": "code",
   "execution_count": 39,
   "metadata": {
    "id": "HCBXpX5tnuFc"
   },
   "outputs": [],
   "source": [
    "transformed_data['bank_dlq'] = np.where(origination_df['mths_since_recent_bc_dlq'].isnull(), 0, 1)\n",
    "\n",
    "# drop_columns+=['mths_since_recent_bc_dlq']\n",
    "transformed_data['mths_since_recent_bc_dlq'] = transformed_data['mths_since_recent_bc_dlq'].fillna(-1)"
   ]
  },
  {
   "cell_type": "markdown",
   "metadata": {
    "id": "7aqneJCzpe4s"
   },
   "source": [
    "# Transformation Mid 30"
   ]
  },
  {
   "cell_type": "code",
   "execution_count": 40,
   "metadata": {
    "id": "XkRZ6NXHn8bz"
   },
   "outputs": [],
   "source": [
    "transformed_data['il_acc'] = np.where(origination_df['mths_since_rcnt_il'].isnull(), 0, 1)\n",
    "# drop_columns += ['mths_since_rcnt_il']\n",
    "transformed_data['mths_since_rcnt_il'] = transformed_data['mths_since_rcnt_il'].fillna(-1)"
   ]
  },
  {
   "cell_type": "code",
   "execution_count": 41,
   "metadata": {
    "id": "XmpMLH70pqCh"
   },
   "outputs": [],
   "source": [
    "transformed_data['total_bal_il'] = origination_df['total_bal_il'].fillna(-1)"
   ]
  },
  {
   "cell_type": "code",
   "execution_count": 42,
   "metadata": {
    "colab": {
     "base_uri": "https://localhost:8080/"
    },
    "id": "x7JtZx-kpxpp",
    "outputId": "6045b713-a398-41dc-de82-b53144c621fb"
   },
   "outputs": [
    {
     "data": {
      "text/plain": [
       "['annual_inc', 'mths_since_last_record', 'emp_length', 'emp_title', 'desc']"
      ]
     },
     "execution_count": 42,
     "metadata": {},
     "output_type": "execute_result"
    }
   ],
   "source": [
    "drop_columns"
   ]
  },
  {
   "cell_type": "code",
   "execution_count": 43,
   "metadata": {
    "id": "DN0XTqOLrGs5"
   },
   "outputs": [],
   "source": [
    "# origination_df['il_util'].value_counts(dropna=False)"
   ]
  },
  {
   "cell_type": "markdown",
   "metadata": {
    "id": "SlQSskZ1XbdO"
   },
   "source": [
    "Replacing with -1 to create new caategory for people wo did not have an installment account ever."
   ]
  },
  {
   "cell_type": "code",
   "execution_count": 44,
   "metadata": {
    "id": "91ClczWjrI2g"
   },
   "outputs": [],
   "source": [
    "transformed_data['il_util'] = origination_df['il_util'].fillna(-1) # Replacing nan with 0 might coincide with the people who have paid up their loans and have 0 balance. Hence, 0 il_util"
   ]
  },
  {
   "cell_type": "code",
   "execution_count": 45,
   "metadata": {
    "id": "4wngT1V6Xvi0"
   },
   "outputs": [],
   "source": [
    "transformed_data['mo_sin_old_il_acct'] = transformed_data['mo_sin_old_il_acct'].fillna(-1)\n",
    "transformed_data['mo_sin_old_rev_tl_op'] = transformed_data['mo_sin_old_rev_tl_op'].fillna(-1)\n",
    "transformed_data['mo_sin_rcnt_rev_tl_op'] = transformed_data['mo_sin_rcnt_rev_tl_op'].fillna(-1)\n",
    "transformed_data['mo_sin_rcnt_tl'] = transformed_data['mo_sin_rcnt_tl'].fillna(-1)\n",
    "transformed_data['all_util'] = transformed_data['all_util'].fillna(-1)\n",
    "fill_median = ['chargeoff_within_12_mths']\n",
    "transformed_data['open_il_12m'] = transformed_data['open_il_12m'].fillna(-1)\n"
   ]
  },
  {
   "cell_type": "code",
   "execution_count": 46,
   "metadata": {
    "colab": {
     "base_uri": "https://localhost:8080/"
    },
    "id": "cJSeFlBlw1nh",
    "outputId": "c6ea6a36-5387-4e2a-e6ed-c4adc028e8f9"
   },
   "outputs": [
    {
     "data": {
      "text/plain": [
       "0.0    1270649\n",
       "1.0       9100\n",
       "2.0        652\n",
       "3.0        121\n",
       "NaN         56\n",
       "4.0         39\n",
       "5.0         12\n",
       "6.0          9\n",
       "7.0          4\n",
       "9.0          3\n",
       "8.0          1\n",
       "Name: chargeoff_within_12_mths, dtype: int64"
      ]
     },
     "execution_count": 46,
     "metadata": {},
     "output_type": "execute_result"
    }
   ],
   "source": [
    "transformed_data['chargeoff_within_12_mths'].value_counts(dropna=False)"
   ]
  },
  {
   "cell_type": "code",
   "execution_count": 47,
   "metadata": {
    "id": "26yb871NsXCH"
   },
   "outputs": [],
   "source": [
    "# drop_columns+=['open_il_12m', 'all_util', 'chargeoff_within_12_mths', 'mo_sin_old_il_acct', 'mo_sin_old_rev_tl_op', 'mo_sin_rcnt_rev_tl_op', 'mo_sin_rcnt_tl']\n",
    "# origination_df[['open_il_12m', 'all_util', 'chargeoff_within_12_mths', 'mo_sin_old_il_acct', 'mo_sin_old_rev_tl_op', 'mo_sin_rcnt_rev_tl_op', 'mo_sin_rcnt_tl']]"
   ]
  },
  {
   "cell_type": "code",
   "execution_count": 48,
   "metadata": {
    "id": "i1gcsUFOscqP"
   },
   "outputs": [],
   "source": [
    "# df.columns[df.columns.str.contains(\"charge\")]"
   ]
  },
  {
   "cell_type": "code",
   "execution_count": 49,
   "metadata": {
    "id": "kyFFTMyksgu_"
   },
   "outputs": [],
   "source": [
    "drop_columns+=['revol_bal_joint', 'sec_app_earliest_cr_line', 'sec_app_inq_last_6mths', 'sec_app_mort_acc', 'sec_app_open_acc', 'sec_app_revol_util', 'sec_app_open_act_il', 'sec_app_num_rev_accts', 'sec_app_chargeoff_within_12_mths', 'sec_app_collections_12_mths_ex_med', 'sec_app_mths_since_last_major_derog']"
   ]
  },
  {
   "cell_type": "code",
   "execution_count": 50,
   "metadata": {
    "id": "-VC4kXqTy8fi"
   },
   "outputs": [],
   "source": [
    "# len(drop_columns)\n",
    "skeptical_columns = ['open_acc_6m', 'open_act_il', 'open_il_24m', 'open_il_12m', 'open_rv_12m', 'open_rv_24m', 'max_bal_bc', 'mths_since_recent_revol_delinq', 'total_cu_tl', 'inq_last_12m', 'inq_fi']\n",
    "\n",
    "transformed_data[skeptical_columns] = transformed_data[skeptical_columns].fillna(-1)"
   ]
  },
  {
   "cell_type": "code",
   "execution_count": 51,
   "metadata": {
    "id": "2LMlErfQloz4"
   },
   "outputs": [],
   "source": [
    "transformed_data['mths_since_recent_inq'] = transformed_data['mths_since_recent_inq'].fillna(-1)\n"
   ]
  },
  {
   "cell_type": "code",
   "execution_count": 58,
   "metadata": {},
   "outputs": [
    {
     "data": {
      "text/plain": [
       "160464"
      ]
     },
     "execution_count": 58,
     "metadata": {},
     "output_type": "execute_result"
    }
   ],
   "source": [
    "df['mths_since_recent_inq'].isna().sum()"
   ]
  },
  {
   "cell_type": "raw",
   "metadata": {},
   "source": []
  },
  {
   "cell_type": "code",
   "execution_count": 52,
   "metadata": {
    "id": "3f0E45oIy_Li"
   },
   "outputs": [],
   "source": [
    "# transformed_data[skeptical_columns]\n",
    "# transformed_data['dti_joint'] = origination_df['dti_joint']\n",
    "# transformed_data = \n",
    "drop_columns+=['title']\n",
    "transformed_data = transformed_data.drop(columns = drop_columns)\n",
    "# transformed_data.drop(columns = drop_columns).isna().sum()[transformed_data.drop(columns = drop_columns).isna().sum()>31]"
   ]
  },
  {
   "cell_type": "code",
   "execution_count": 53,
   "metadata": {
    "id": "w5vQaEaovnIA"
   },
   "outputs": [],
   "source": [
    "fill_median+=transformed_data.isna().sum()[transformed_data.isna().sum()>31].index.to_list()"
   ]
  },
  {
   "cell_type": "markdown",
   "metadata": {
    "id": "8aAi7Wha0h9Q"
   },
   "source": [
    "Train_test_Split"
   ]
  },
  {
   "cell_type": "code",
   "execution_count": 65,
   "metadata": {
    "id": "qpRRdcJI0hHC"
   },
   "outputs": [
    {
     "data": {
      "text/html": [
       "<div>\n",
       "<style scoped>\n",
       "    .dataframe tbody tr th:only-of-type {\n",
       "        vertical-align: middle;\n",
       "    }\n",
       "\n",
       "    .dataframe tbody tr th {\n",
       "        vertical-align: top;\n",
       "    }\n",
       "\n",
       "    .dataframe thead th {\n",
       "        text-align: right;\n",
       "    }\n",
       "</style>\n",
       "<table border=\"1\" class=\"dataframe\">\n",
       "  <thead>\n",
       "    <tr style=\"text-align: right;\">\n",
       "      <th></th>\n",
       "      <th>Variable</th>\n",
       "      <th>No. of Null</th>\n",
       "    </tr>\n",
       "    <tr>\n",
       "      <th>level_0</th>\n",
       "      <th></th>\n",
       "      <th></th>\n",
       "    </tr>\n",
       "  </thead>\n",
       "  <tbody>\n",
       "    <tr>\n",
       "      <th>0</th>\n",
       "      <td>chargeoff_within_12_mths</td>\n",
       "      <td>56</td>\n",
       "    </tr>\n",
       "    <tr>\n",
       "      <th>1</th>\n",
       "      <td>dti</td>\n",
       "      <td>939</td>\n",
       "    </tr>\n",
       "    <tr>\n",
       "      <th>2</th>\n",
       "      <td>revol_util</td>\n",
       "      <td>1008</td>\n",
       "    </tr>\n",
       "    <tr>\n",
       "      <th>3</th>\n",
       "      <td>tot_coll_amt</td>\n",
       "      <td>38815</td>\n",
       "    </tr>\n",
       "    <tr>\n",
       "      <th>4</th>\n",
       "      <td>tot_cur_bal</td>\n",
       "      <td>38815</td>\n",
       "    </tr>\n",
       "    <tr>\n",
       "      <th>5</th>\n",
       "      <td>acc_open_past_24mths</td>\n",
       "      <td>27008</td>\n",
       "    </tr>\n",
       "    <tr>\n",
       "      <th>6</th>\n",
       "      <td>avg_cur_bal</td>\n",
       "      <td>38851</td>\n",
       "    </tr>\n",
       "    <tr>\n",
       "      <th>7</th>\n",
       "      <td>bc_open_to_buy</td>\n",
       "      <td>41185</td>\n",
       "    </tr>\n",
       "    <tr>\n",
       "      <th>8</th>\n",
       "      <td>bc_util</td>\n",
       "      <td>41853</td>\n",
       "    </tr>\n",
       "    <tr>\n",
       "      <th>9</th>\n",
       "      <td>chargeoff_within_12_mths</td>\n",
       "      <td>56</td>\n",
       "    </tr>\n",
       "    <tr>\n",
       "      <th>10</th>\n",
       "      <td>mort_acc</td>\n",
       "      <td>27008</td>\n",
       "    </tr>\n",
       "    <tr>\n",
       "      <th>11</th>\n",
       "      <td>mths_since_recent_bc</td>\n",
       "      <td>40315</td>\n",
       "    </tr>\n",
       "    <tr>\n",
       "      <th>12</th>\n",
       "      <td>num_accts_ever_120_pd</td>\n",
       "      <td>38815</td>\n",
       "    </tr>\n",
       "    <tr>\n",
       "      <th>13</th>\n",
       "      <td>num_actv_bc_tl</td>\n",
       "      <td>38815</td>\n",
       "    </tr>\n",
       "    <tr>\n",
       "      <th>14</th>\n",
       "      <td>num_actv_rev_tl</td>\n",
       "      <td>38815</td>\n",
       "    </tr>\n",
       "    <tr>\n",
       "      <th>15</th>\n",
       "      <td>num_bc_sats</td>\n",
       "      <td>31968</td>\n",
       "    </tr>\n",
       "    <tr>\n",
       "      <th>16</th>\n",
       "      <td>num_bc_tl</td>\n",
       "      <td>38815</td>\n",
       "    </tr>\n",
       "    <tr>\n",
       "      <th>17</th>\n",
       "      <td>num_il_tl</td>\n",
       "      <td>38815</td>\n",
       "    </tr>\n",
       "    <tr>\n",
       "      <th>18</th>\n",
       "      <td>num_op_rev_tl</td>\n",
       "      <td>38815</td>\n",
       "    </tr>\n",
       "    <tr>\n",
       "      <th>19</th>\n",
       "      <td>num_rev_accts</td>\n",
       "      <td>38815</td>\n",
       "    </tr>\n",
       "    <tr>\n",
       "      <th>20</th>\n",
       "      <td>num_rev_tl_bal_gt_0</td>\n",
       "      <td>38815</td>\n",
       "    </tr>\n",
       "    <tr>\n",
       "      <th>21</th>\n",
       "      <td>num_sats</td>\n",
       "      <td>31968</td>\n",
       "    </tr>\n",
       "    <tr>\n",
       "      <th>22</th>\n",
       "      <td>pct_tl_nvr_dlq</td>\n",
       "      <td>38910</td>\n",
       "    </tr>\n",
       "    <tr>\n",
       "      <th>23</th>\n",
       "      <td>percent_bc_gt_75</td>\n",
       "      <td>41444</td>\n",
       "    </tr>\n",
       "    <tr>\n",
       "      <th>24</th>\n",
       "      <td>pub_rec_bankruptcies</td>\n",
       "      <td>435</td>\n",
       "    </tr>\n",
       "    <tr>\n",
       "      <th>25</th>\n",
       "      <td>tax_liens</td>\n",
       "      <td>46</td>\n",
       "    </tr>\n",
       "    <tr>\n",
       "      <th>26</th>\n",
       "      <td>tot_hi_cred_lim</td>\n",
       "      <td>38815</td>\n",
       "    </tr>\n",
       "    <tr>\n",
       "      <th>27</th>\n",
       "      <td>total_bal_ex_mort</td>\n",
       "      <td>27008</td>\n",
       "    </tr>\n",
       "    <tr>\n",
       "      <th>28</th>\n",
       "      <td>total_bc_limit</td>\n",
       "      <td>27008</td>\n",
       "    </tr>\n",
       "    <tr>\n",
       "      <th>29</th>\n",
       "      <td>total_il_high_credit_limit</td>\n",
       "      <td>38815</td>\n",
       "    </tr>\n",
       "  </tbody>\n",
       "</table>\n",
       "</div>"
      ],
      "text/plain": [
       "                           Variable  No. of Null\n",
       "level_0                                         \n",
       "0          chargeoff_within_12_mths           56\n",
       "1                               dti          939\n",
       "2                        revol_util         1008\n",
       "3                      tot_coll_amt        38815\n",
       "4                       tot_cur_bal        38815\n",
       "5              acc_open_past_24mths        27008\n",
       "6                       avg_cur_bal        38851\n",
       "7                    bc_open_to_buy        41185\n",
       "8                           bc_util        41853\n",
       "9          chargeoff_within_12_mths           56\n",
       "10                         mort_acc        27008\n",
       "11             mths_since_recent_bc        40315\n",
       "12            num_accts_ever_120_pd        38815\n",
       "13                   num_actv_bc_tl        38815\n",
       "14                  num_actv_rev_tl        38815\n",
       "15                      num_bc_sats        31968\n",
       "16                        num_bc_tl        38815\n",
       "17                        num_il_tl        38815\n",
       "18                    num_op_rev_tl        38815\n",
       "19                    num_rev_accts        38815\n",
       "20              num_rev_tl_bal_gt_0        38815\n",
       "21                         num_sats        31968\n",
       "22                   pct_tl_nvr_dlq        38910\n",
       "23                 percent_bc_gt_75        41444\n",
       "24             pub_rec_bankruptcies          435\n",
       "25                        tax_liens           46\n",
       "26                  tot_hi_cred_lim        38815\n",
       "27                total_bal_ex_mort        27008\n",
       "28                   total_bc_limit        27008\n",
       "29       total_il_high_credit_limit        38815"
      ]
     },
     "execution_count": 65,
     "metadata": {},
     "output_type": "execute_result"
    }
   ],
   "source": [
    "median_df = pd.DataFrame(origination_df[fill_median].isna().sum()).reset_index()\n",
    "median_df.columns = ['Variable', 'No. of Null']\n",
    "median_df"
   ]
  },
  {
   "cell_type": "code",
   "execution_count": 66,
   "metadata": {},
   "outputs": [
    {
     "data": {
      "text/html": [
       "<div>\n",
       "<style scoped>\n",
       "    .dataframe tbody tr th:only-of-type {\n",
       "        vertical-align: middle;\n",
       "    }\n",
       "\n",
       "    .dataframe tbody tr th {\n",
       "        vertical-align: top;\n",
       "    }\n",
       "\n",
       "    .dataframe thead th {\n",
       "        text-align: right;\n",
       "    }\n",
       "</style>\n",
       "<table border=\"1\" class=\"dataframe\">\n",
       "  <thead>\n",
       "    <tr style=\"text-align: right;\">\n",
       "      <th></th>\n",
       "      <th>Variable</th>\n",
       "      <th>No. of Null</th>\n",
       "    </tr>\n",
       "    <tr>\n",
       "      <th>level_0</th>\n",
       "      <th></th>\n",
       "      <th></th>\n",
       "    </tr>\n",
       "  </thead>\n",
       "  <tbody>\n",
       "    <tr>\n",
       "      <th>0</th>\n",
       "      <td>annual_inc</td>\n",
       "      <td>31</td>\n",
       "    </tr>\n",
       "    <tr>\n",
       "      <th>1</th>\n",
       "      <td>mths_since_last_record</td>\n",
       "      <td>1072333</td>\n",
       "    </tr>\n",
       "    <tr>\n",
       "      <th>2</th>\n",
       "      <td>emp_length</td>\n",
       "      <td>85395</td>\n",
       "    </tr>\n",
       "    <tr>\n",
       "      <th>3</th>\n",
       "      <td>emp_title</td>\n",
       "      <td>96177</td>\n",
       "    </tr>\n",
       "    <tr>\n",
       "      <th>4</th>\n",
       "      <td>desc</td>\n",
       "      <td>1209498</td>\n",
       "    </tr>\n",
       "    <tr>\n",
       "      <th>5</th>\n",
       "      <td>revol_bal_joint</td>\n",
       "      <td>1222472</td>\n",
       "    </tr>\n",
       "    <tr>\n",
       "      <th>6</th>\n",
       "      <td>sec_app_earliest_cr_line</td>\n",
       "      <td>1222471</td>\n",
       "    </tr>\n",
       "    <tr>\n",
       "      <th>7</th>\n",
       "      <td>sec_app_inq_last_6mths</td>\n",
       "      <td>1222471</td>\n",
       "    </tr>\n",
       "    <tr>\n",
       "      <th>8</th>\n",
       "      <td>sec_app_mort_acc</td>\n",
       "      <td>1222471</td>\n",
       "    </tr>\n",
       "    <tr>\n",
       "      <th>9</th>\n",
       "      <td>sec_app_open_acc</td>\n",
       "      <td>1222471</td>\n",
       "    </tr>\n",
       "    <tr>\n",
       "      <th>10</th>\n",
       "      <td>sec_app_revol_util</td>\n",
       "      <td>1223480</td>\n",
       "    </tr>\n",
       "    <tr>\n",
       "      <th>11</th>\n",
       "      <td>sec_app_open_act_il</td>\n",
       "      <td>1222471</td>\n",
       "    </tr>\n",
       "    <tr>\n",
       "      <th>12</th>\n",
       "      <td>sec_app_num_rev_accts</td>\n",
       "      <td>1222471</td>\n",
       "    </tr>\n",
       "    <tr>\n",
       "      <th>13</th>\n",
       "      <td>sec_app_chargeoff_within_12_mths</td>\n",
       "      <td>1222471</td>\n",
       "    </tr>\n",
       "    <tr>\n",
       "      <th>14</th>\n",
       "      <td>sec_app_collections_12_mths_ex_med</td>\n",
       "      <td>1222471</td>\n",
       "    </tr>\n",
       "    <tr>\n",
       "      <th>15</th>\n",
       "      <td>sec_app_mths_since_last_major_derog</td>\n",
       "      <td>1260860</td>\n",
       "    </tr>\n",
       "    <tr>\n",
       "      <th>16</th>\n",
       "      <td>title</td>\n",
       "      <td>14319</td>\n",
       "    </tr>\n",
       "  </tbody>\n",
       "</table>\n",
       "</div>"
      ],
      "text/plain": [
       "                                    Variable  No. of Null\n",
       "level_0                                                  \n",
       "0                                 annual_inc           31\n",
       "1                     mths_since_last_record      1072333\n",
       "2                                 emp_length        85395\n",
       "3                                  emp_title        96177\n",
       "4                                       desc      1209498\n",
       "5                            revol_bal_joint      1222472\n",
       "6                   sec_app_earliest_cr_line      1222471\n",
       "7                     sec_app_inq_last_6mths      1222471\n",
       "8                           sec_app_mort_acc      1222471\n",
       "9                           sec_app_open_acc      1222471\n",
       "10                        sec_app_revol_util      1223480\n",
       "11                       sec_app_open_act_il      1222471\n",
       "12                     sec_app_num_rev_accts      1222471\n",
       "13          sec_app_chargeoff_within_12_mths      1222471\n",
       "14        sec_app_collections_12_mths_ex_med      1222471\n",
       "15       sec_app_mths_since_last_major_derog      1260860\n",
       "16                                     title        14319"
      ]
     },
     "execution_count": 66,
     "metadata": {},
     "output_type": "execute_result"
    }
   ],
   "source": [
    "dropped_df = pd.DataFrame(origination_df[drop_columns].isna().sum()).reset_index().reset_index().set_index('level_0')\n",
    "dropped_df.columns = ['Variable', 'No. of Null']\n",
    "dropped_df"
   ]
  },
  {
   "cell_type": "code",
   "execution_count": 55,
   "metadata": {
    "id": "yqgaTc5uxHYw"
   },
   "outputs": [],
   "source": []
  },
  {
   "cell_type": "code",
   "execution_count": 56,
   "metadata": {
    "id": "4k6JVAgJrcvF"
   },
   "outputs": [],
   "source": [
    "\n",
    "# transformed_data[fill_median].median()"
   ]
  },
  {
   "cell_type": "code",
   "execution_count": 57,
   "metadata": {
    "id": "ielc5EgZzwXw"
   },
   "outputs": [],
   "source": [
    "# transformed_data['application_type'][transformed_data['tot_coll_amt'].isna()].value_counts(dropna=False)\n",
    "# # transformed_data['application_type'].value_counts(dropna=False)\n",
    "\n",
    "# transformed_data['tot_coll_amt'].value_counts()"
   ]
  },
  {
   "cell_type": "markdown",
   "metadata": {
    "id": "iaI3GTJyXUni"
   },
   "source": [
    "# Loan Maturity Risk \n",
    "loan_mat_risk= Term(2 or 1)/fico_range_low"
   ]
  },
  {
   "cell_type": "code",
   "execution_count": 58,
   "metadata": {
    "id": "NB9_k4MhOXoi"
   },
   "outputs": [],
   "source": [
    "temp = transformed_data['term'].replace({' 36 months':1, ' 60 months': 2})"
   ]
  },
  {
   "cell_type": "markdown",
   "metadata": {
    "id": "6sfvSv-bjzmT"
   },
   "source": [
    "This doesn't make sense honestly, dividing your loan term with your all time low score as if your score was low once and now it is all good, you should be encouraed to have a longer loan so that you can pay back. If it is a shorter loan you'll have a lot of burden with very little income."
   ]
  },
  {
   "cell_type": "code",
   "execution_count": 59,
   "metadata": {
    "id": "nu-F7uKyTRMe"
   },
   "outputs": [],
   "source": [
    "#Loan Maturity Risk\n",
    "# transformed_data['mat_risk'] =\n",
    "# temp/transformed_data['fico_range_low'].hist(bins=40)"
   ]
  },
  {
   "cell_type": "markdown",
   "metadata": {
    "id": "KiLxrpeSXgzn"
   },
   "source": [
    "#Payment History Score\n",
    "\n",
    "payment_history_score = (pct_tl_nvr_dlq / 100) - (num_accts_ever_120_pd / total_acc) + (num_bc_sats / total_acc)"
   ]
  },
  {
   "cell_type": "code",
   "execution_count": 60,
   "metadata": {
    "id": "LHVWfI9dUEEN"
   },
   "outputs": [],
   "source": [
    "transformed_data['payment_history'] = ((transformed_data['pct_tl_nvr_dlq']/100) - (transformed_data['num_accts_ever_120_pd']/transformed_data['total_acc']) - (transformed_data['num_bc_sats']/transformed_data['total_acc']))"
   ]
  },
  {
   "cell_type": "markdown",
   "metadata": {
    "id": "cbdx2LnGZWnB"
   },
   "source": [
    "# Collateral Coverage Ratio"
   ]
  },
  {
   "cell_type": "code",
   "execution_count": 61,
   "metadata": {
    "id": "L_CHQ80UX5nn"
   },
   "outputs": [],
   "source": [
    "# transformed_data['total_il_high_credit_limit'].max()\n",
    "# transfromed_data = transformed_data.drop(transformed_data[transformed_data['total_il_high_credit_limit']==2118996.0].index)\n",
    "# len(transformed_data.drop(transformed_data[transformed_data['total_il_high_credit_limit']==2118996.0].index)['total_il_high_credit_limit'] / transformed_data.drop(transformed_data[transformed_data['total_il_high_credit_limit']==2118996.0].index)['loan_amnt'])"
   ]
  },
  {
   "cell_type": "code",
   "execution_count": 62,
   "metadata": {
    "id": "RvEBLU0fZLJA"
   },
   "outputs": [],
   "source": [
    "transformed_data['collateral_coverage_ratio'] = transformed_data['total_il_high_credit_limit']/transformed_data['loan_amnt']"
   ]
  },
  {
   "cell_type": "code",
   "execution_count": 63,
   "metadata": {
    "colab": {
     "base_uri": "https://localhost:8080/",
     "height": 661
    },
    "id": "TDUs7FwEdS1b",
    "outputId": "4aa08d20-e671-4428-fdad-5b9d6bf6a4c6"
   },
   "outputs": [
    {
     "data": {
      "text/html": [
       "\n",
       "  <div id=\"df-7f819155-e131-406f-8121-b90c97d10c2b\">\n",
       "    <div class=\"colab-df-container\">\n",
       "      <div>\n",
       "<style scoped>\n",
       "    .dataframe tbody tr th:only-of-type {\n",
       "        vertical-align: middle;\n",
       "    }\n",
       "\n",
       "    .dataframe tbody tr th {\n",
       "        vertical-align: top;\n",
       "    }\n",
       "\n",
       "    .dataframe thead th {\n",
       "        text-align: right;\n",
       "    }\n",
       "</style>\n",
       "<table border=\"1\" class=\"dataframe\">\n",
       "  <thead>\n",
       "    <tr style=\"text-align: right;\">\n",
       "      <th></th>\n",
       "      <th>id</th>\n",
       "      <th>loan_amnt</th>\n",
       "      <th>funded_amnt</th>\n",
       "      <th>funded_amnt_inv</th>\n",
       "      <th>term</th>\n",
       "      <th>installment</th>\n",
       "      <th>home_ownership</th>\n",
       "      <th>purpose</th>\n",
       "      <th>zip_code</th>\n",
       "      <th>addr_state</th>\n",
       "      <th>...</th>\n",
       "      <th>tax_liens</th>\n",
       "      <th>tot_hi_cred_lim</th>\n",
       "      <th>total_bal_ex_mort</th>\n",
       "      <th>total_bc_limit</th>\n",
       "      <th>total_il_high_credit_limit</th>\n",
       "      <th>Default</th>\n",
       "      <th>bank_dlq</th>\n",
       "      <th>il_acc</th>\n",
       "      <th>payment_history</th>\n",
       "      <th>collateral_coverage_ratio</th>\n",
       "    </tr>\n",
       "  </thead>\n",
       "  <tbody>\n",
       "    <tr>\n",
       "      <th>0</th>\n",
       "      <td>68355089</td>\n",
       "      <td>24700.0</td>\n",
       "      <td>24700.0</td>\n",
       "      <td>24700.0</td>\n",
       "      <td>36 months</td>\n",
       "      <td>820.28</td>\n",
       "      <td>MORTGAGE</td>\n",
       "      <td>small_business</td>\n",
       "      <td>577xx</td>\n",
       "      <td>SD</td>\n",
       "      <td>...</td>\n",
       "      <td>0.0</td>\n",
       "      <td>314017.0</td>\n",
       "      <td>39475.0</td>\n",
       "      <td>79300.0</td>\n",
       "      <td>24667.0</td>\n",
       "      <td>0</td>\n",
       "      <td>0</td>\n",
       "      <td>1</td>\n",
       "      <td>0.631895</td>\n",
       "      <td>0.998664</td>\n",
       "    </tr>\n",
       "    <tr>\n",
       "      <th>1</th>\n",
       "      <td>68341763</td>\n",
       "      <td>20000.0</td>\n",
       "      <td>20000.0</td>\n",
       "      <td>20000.0</td>\n",
       "      <td>60 months</td>\n",
       "      <td>432.66</td>\n",
       "      <td>MORTGAGE</td>\n",
       "      <td>home_improvement</td>\n",
       "      <td>605xx</td>\n",
       "      <td>IL</td>\n",
       "      <td>...</td>\n",
       "      <td>0.0</td>\n",
       "      <td>218418.0</td>\n",
       "      <td>18696.0</td>\n",
       "      <td>6200.0</td>\n",
       "      <td>14877.0</td>\n",
       "      <td>0</td>\n",
       "      <td>0</td>\n",
       "      <td>1</td>\n",
       "      <td>0.888889</td>\n",
       "      <td>0.743850</td>\n",
       "    </tr>\n",
       "    <tr>\n",
       "      <th>2</th>\n",
       "      <td>67275481</td>\n",
       "      <td>20000.0</td>\n",
       "      <td>20000.0</td>\n",
       "      <td>20000.0</td>\n",
       "      <td>36 months</td>\n",
       "      <td>631.26</td>\n",
       "      <td>MORTGAGE</td>\n",
       "      <td>major_purchase</td>\n",
       "      <td>293xx</td>\n",
       "      <td>SC</td>\n",
       "      <td>...</td>\n",
       "      <td>0.0</td>\n",
       "      <td>193390.0</td>\n",
       "      <td>27937.0</td>\n",
       "      <td>14500.0</td>\n",
       "      <td>36144.0</td>\n",
       "      <td>0</td>\n",
       "      <td>0</td>\n",
       "      <td>1</td>\n",
       "      <td>0.666333</td>\n",
       "      <td>1.807200</td>\n",
       "    </tr>\n",
       "    <tr>\n",
       "      <th>3</th>\n",
       "      <td>68616873</td>\n",
       "      <td>8000.0</td>\n",
       "      <td>8000.0</td>\n",
       "      <td>8000.0</td>\n",
       "      <td>36 months</td>\n",
       "      <td>263.74</td>\n",
       "      <td>MORTGAGE</td>\n",
       "      <td>credit_card</td>\n",
       "      <td>029xx</td>\n",
       "      <td>RI</td>\n",
       "      <td>...</td>\n",
       "      <td>0.0</td>\n",
       "      <td>256513.0</td>\n",
       "      <td>113782.0</td>\n",
       "      <td>17000.0</td>\n",
       "      <td>135513.0</td>\n",
       "      <td>0</td>\n",
       "      <td>0</td>\n",
       "      <td>1</td>\n",
       "      <td>0.721778</td>\n",
       "      <td>16.939125</td>\n",
       "    </tr>\n",
       "    <tr>\n",
       "      <th>4</th>\n",
       "      <td>68356421</td>\n",
       "      <td>22400.0</td>\n",
       "      <td>22400.0</td>\n",
       "      <td>22400.0</td>\n",
       "      <td>60 months</td>\n",
       "      <td>508.30</td>\n",
       "      <td>MORTGAGE</td>\n",
       "      <td>debt_consolidation</td>\n",
       "      <td>290xx</td>\n",
       "      <td>SC</td>\n",
       "      <td>...</td>\n",
       "      <td>0.0</td>\n",
       "      <td>436841.0</td>\n",
       "      <td>184356.0</td>\n",
       "      <td>21000.0</td>\n",
       "      <td>191682.0</td>\n",
       "      <td>0</td>\n",
       "      <td>0</td>\n",
       "      <td>1</td>\n",
       "      <td>0.798571</td>\n",
       "      <td>8.557232</td>\n",
       "    </tr>\n",
       "    <tr>\n",
       "      <th>...</th>\n",
       "      <td>...</td>\n",
       "      <td>...</td>\n",
       "      <td>...</td>\n",
       "      <td>...</td>\n",
       "      <td>...</td>\n",
       "      <td>...</td>\n",
       "      <td>...</td>\n",
       "      <td>...</td>\n",
       "      <td>...</td>\n",
       "      <td>...</td>\n",
       "      <td>...</td>\n",
       "      <td>...</td>\n",
       "      <td>...</td>\n",
       "      <td>...</td>\n",
       "      <td>...</td>\n",
       "      <td>...</td>\n",
       "      <td>...</td>\n",
       "      <td>...</td>\n",
       "      <td>...</td>\n",
       "      <td>...</td>\n",
       "      <td>...</td>\n",
       "    </tr>\n",
       "    <tr>\n",
       "      <th>1280641</th>\n",
       "      <td>89955820</td>\n",
       "      <td>24000.0</td>\n",
       "      <td>24000.0</td>\n",
       "      <td>24000.0</td>\n",
       "      <td>60 months</td>\n",
       "      <td>515.74</td>\n",
       "      <td>OWN</td>\n",
       "      <td>credit_card</td>\n",
       "      <td>967xx</td>\n",
       "      <td>HI</td>\n",
       "      <td>...</td>\n",
       "      <td>2.0</td>\n",
       "      <td>128902.0</td>\n",
       "      <td>31320.0</td>\n",
       "      <td>93700.0</td>\n",
       "      <td>28602.0</td>\n",
       "      <td>0</td>\n",
       "      <td>0</td>\n",
       "      <td>1</td>\n",
       "      <td>0.500000</td>\n",
       "      <td>1.191750</td>\n",
       "    </tr>\n",
       "    <tr>\n",
       "      <th>1280642</th>\n",
       "      <td>89885898</td>\n",
       "      <td>24000.0</td>\n",
       "      <td>24000.0</td>\n",
       "      <td>24000.0</td>\n",
       "      <td>60 months</td>\n",
       "      <td>543.50</td>\n",
       "      <td>MORTGAGE</td>\n",
       "      <td>home_improvement</td>\n",
       "      <td>356xx</td>\n",
       "      <td>AL</td>\n",
       "      <td>...</td>\n",
       "      <td>0.0</td>\n",
       "      <td>102517.0</td>\n",
       "      <td>104422.0</td>\n",
       "      <td>0.0</td>\n",
       "      <td>52017.0</td>\n",
       "      <td>0</td>\n",
       "      <td>0</td>\n",
       "      <td>1</td>\n",
       "      <td>1.000000</td>\n",
       "      <td>2.167375</td>\n",
       "    </tr>\n",
       "    <tr>\n",
       "      <th>1280643</th>\n",
       "      <td>88977788</td>\n",
       "      <td>24000.0</td>\n",
       "      <td>24000.0</td>\n",
       "      <td>24000.0</td>\n",
       "      <td>60 months</td>\n",
       "      <td>515.74</td>\n",
       "      <td>MORTGAGE</td>\n",
       "      <td>debt_consolidation</td>\n",
       "      <td>840xx</td>\n",
       "      <td>UT</td>\n",
       "      <td>...</td>\n",
       "      <td>1.0</td>\n",
       "      <td>227883.0</td>\n",
       "      <td>140118.0</td>\n",
       "      <td>27900.0</td>\n",
       "      <td>172283.0</td>\n",
       "      <td>0</td>\n",
       "      <td>1</td>\n",
       "      <td>1</td>\n",
       "      <td>0.431414</td>\n",
       "      <td>7.178458</td>\n",
       "    </tr>\n",
       "    <tr>\n",
       "      <th>1280644</th>\n",
       "      <td>88224441</td>\n",
       "      <td>24000.0</td>\n",
       "      <td>24000.0</td>\n",
       "      <td>24000.0</td>\n",
       "      <td>60 months</td>\n",
       "      <td>564.56</td>\n",
       "      <td>RENT</td>\n",
       "      <td>debt_consolidation</td>\n",
       "      <td>334xx</td>\n",
       "      <td>FL</td>\n",
       "      <td>...</td>\n",
       "      <td>0.0</td>\n",
       "      <td>84664.0</td>\n",
       "      <td>62426.0</td>\n",
       "      <td>20700.0</td>\n",
       "      <td>58764.0</td>\n",
       "      <td>1</td>\n",
       "      <td>0</td>\n",
       "      <td>1</td>\n",
       "      <td>0.768452</td>\n",
       "      <td>2.448500</td>\n",
       "    </tr>\n",
       "    <tr>\n",
       "      <th>1280645</th>\n",
       "      <td>88215728</td>\n",
       "      <td>14000.0</td>\n",
       "      <td>14000.0</td>\n",
       "      <td>14000.0</td>\n",
       "      <td>60 months</td>\n",
       "      <td>329.33</td>\n",
       "      <td>MORTGAGE</td>\n",
       "      <td>debt_consolidation</td>\n",
       "      <td>770xx</td>\n",
       "      <td>TX</td>\n",
       "      <td>...</td>\n",
       "      <td>0.0</td>\n",
       "      <td>163804.0</td>\n",
       "      <td>44215.0</td>\n",
       "      <td>9500.0</td>\n",
       "      <td>34169.0</td>\n",
       "      <td>0</td>\n",
       "      <td>1</td>\n",
       "      <td>1</td>\n",
       "      <td>0.454364</td>\n",
       "      <td>2.440643</td>\n",
       "    </tr>\n",
       "  </tbody>\n",
       "</table>\n",
       "<p>1280646 rows × 77 columns</p>\n",
       "</div>\n",
       "      <button class=\"colab-df-convert\" onclick=\"convertToInteractive('df-7f819155-e131-406f-8121-b90c97d10c2b')\"\n",
       "              title=\"Convert this dataframe to an interactive table.\"\n",
       "              style=\"display:none;\">\n",
       "        \n",
       "  <svg xmlns=\"http://www.w3.org/2000/svg\" height=\"24px\"viewBox=\"0 0 24 24\"\n",
       "       width=\"24px\">\n",
       "    <path d=\"M0 0h24v24H0V0z\" fill=\"none\"/>\n",
       "    <path d=\"M18.56 5.44l.94 2.06.94-2.06 2.06-.94-2.06-.94-.94-2.06-.94 2.06-2.06.94zm-11 1L8.5 8.5l.94-2.06 2.06-.94-2.06-.94L8.5 2.5l-.94 2.06-2.06.94zm10 10l.94 2.06.94-2.06 2.06-.94-2.06-.94-.94-2.06-.94 2.06-2.06.94z\"/><path d=\"M17.41 7.96l-1.37-1.37c-.4-.4-.92-.59-1.43-.59-.52 0-1.04.2-1.43.59L10.3 9.45l-7.72 7.72c-.78.78-.78 2.05 0 2.83L4 21.41c.39.39.9.59 1.41.59.51 0 1.02-.2 1.41-.59l7.78-7.78 2.81-2.81c.8-.78.8-2.07 0-2.86zM5.41 20L4 18.59l7.72-7.72 1.47 1.35L5.41 20z\"/>\n",
       "  </svg>\n",
       "      </button>\n",
       "      \n",
       "  <style>\n",
       "    .colab-df-container {\n",
       "      display:flex;\n",
       "      flex-wrap:wrap;\n",
       "      gap: 12px;\n",
       "    }\n",
       "\n",
       "    .colab-df-convert {\n",
       "      background-color: #E8F0FE;\n",
       "      border: none;\n",
       "      border-radius: 50%;\n",
       "      cursor: pointer;\n",
       "      display: none;\n",
       "      fill: #1967D2;\n",
       "      height: 32px;\n",
       "      padding: 0 0 0 0;\n",
       "      width: 32px;\n",
       "    }\n",
       "\n",
       "    .colab-df-convert:hover {\n",
       "      background-color: #E2EBFA;\n",
       "      box-shadow: 0px 1px 2px rgba(60, 64, 67, 0.3), 0px 1px 3px 1px rgba(60, 64, 67, 0.15);\n",
       "      fill: #174EA6;\n",
       "    }\n",
       "\n",
       "    [theme=dark] .colab-df-convert {\n",
       "      background-color: #3B4455;\n",
       "      fill: #D2E3FC;\n",
       "    }\n",
       "\n",
       "    [theme=dark] .colab-df-convert:hover {\n",
       "      background-color: #434B5C;\n",
       "      box-shadow: 0px 1px 3px 1px rgba(0, 0, 0, 0.15);\n",
       "      filter: drop-shadow(0px 1px 2px rgba(0, 0, 0, 0.3));\n",
       "      fill: #FFFFFF;\n",
       "    }\n",
       "  </style>\n",
       "\n",
       "      <script>\n",
       "        const buttonEl =\n",
       "          document.querySelector('#df-7f819155-e131-406f-8121-b90c97d10c2b button.colab-df-convert');\n",
       "        buttonEl.style.display =\n",
       "          google.colab.kernel.accessAllowed ? 'block' : 'none';\n",
       "\n",
       "        async function convertToInteractive(key) {\n",
       "          const element = document.querySelector('#df-7f819155-e131-406f-8121-b90c97d10c2b');\n",
       "          const dataTable =\n",
       "            await google.colab.kernel.invokeFunction('convertToInteractive',\n",
       "                                                     [key], {});\n",
       "          if (!dataTable) return;\n",
       "\n",
       "          const docLinkHtml = 'Like what you see? Visit the ' +\n",
       "            '<a target=\"_blank\" href=https://colab.research.google.com/notebooks/data_table.ipynb>data table notebook</a>'\n",
       "            + ' to learn more about interactive tables.';\n",
       "          element.innerHTML = '';\n",
       "          dataTable['output_type'] = 'display_data';\n",
       "          await google.colab.output.renderOutput(dataTable, element);\n",
       "          const docLink = document.createElement('div');\n",
       "          docLink.innerHTML = docLinkHtml;\n",
       "          element.appendChild(docLink);\n",
       "        }\n",
       "      </script>\n",
       "    </div>\n",
       "  </div>\n",
       "  "
      ],
      "text/plain": [
       "               id  loan_amnt  funded_amnt  funded_amnt_inv        term  \\\n",
       "0        68355089    24700.0      24700.0          24700.0   36 months   \n",
       "1        68341763    20000.0      20000.0          20000.0   60 months   \n",
       "2        67275481    20000.0      20000.0          20000.0   36 months   \n",
       "3        68616873     8000.0       8000.0           8000.0   36 months   \n",
       "4        68356421    22400.0      22400.0          22400.0   60 months   \n",
       "...           ...        ...          ...              ...         ...   \n",
       "1280641  89955820    24000.0      24000.0          24000.0   60 months   \n",
       "1280642  89885898    24000.0      24000.0          24000.0   60 months   \n",
       "1280643  88977788    24000.0      24000.0          24000.0   60 months   \n",
       "1280644  88224441    24000.0      24000.0          24000.0   60 months   \n",
       "1280645  88215728    14000.0      14000.0          14000.0   60 months   \n",
       "\n",
       "         installment home_ownership             purpose zip_code addr_state  \\\n",
       "0             820.28       MORTGAGE      small_business    577xx         SD   \n",
       "1             432.66       MORTGAGE    home_improvement    605xx         IL   \n",
       "2             631.26       MORTGAGE      major_purchase    293xx         SC   \n",
       "3             263.74       MORTGAGE         credit_card    029xx         RI   \n",
       "4             508.30       MORTGAGE  debt_consolidation    290xx         SC   \n",
       "...              ...            ...                 ...      ...        ...   \n",
       "1280641       515.74            OWN         credit_card    967xx         HI   \n",
       "1280642       543.50       MORTGAGE    home_improvement    356xx         AL   \n",
       "1280643       515.74       MORTGAGE  debt_consolidation    840xx         UT   \n",
       "1280644       564.56           RENT  debt_consolidation    334xx         FL   \n",
       "1280645       329.33       MORTGAGE  debt_consolidation    770xx         TX   \n",
       "\n",
       "         ...  tax_liens  tot_hi_cred_lim total_bal_ex_mort  total_bc_limit  \\\n",
       "0        ...        0.0         314017.0           39475.0         79300.0   \n",
       "1        ...        0.0         218418.0           18696.0          6200.0   \n",
       "2        ...        0.0         193390.0           27937.0         14500.0   \n",
       "3        ...        0.0         256513.0          113782.0         17000.0   \n",
       "4        ...        0.0         436841.0          184356.0         21000.0   \n",
       "...      ...        ...              ...               ...             ...   \n",
       "1280641  ...        2.0         128902.0           31320.0         93700.0   \n",
       "1280642  ...        0.0         102517.0          104422.0             0.0   \n",
       "1280643  ...        1.0         227883.0          140118.0         27900.0   \n",
       "1280644  ...        0.0          84664.0           62426.0         20700.0   \n",
       "1280645  ...        0.0         163804.0           44215.0          9500.0   \n",
       "\n",
       "         total_il_high_credit_limit  Default  bank_dlq  il_acc  \\\n",
       "0                           24667.0        0         0       1   \n",
       "1                           14877.0        0         0       1   \n",
       "2                           36144.0        0         0       1   \n",
       "3                          135513.0        0         0       1   \n",
       "4                          191682.0        0         0       1   \n",
       "...                             ...      ...       ...     ...   \n",
       "1280641                     28602.0        0         0       1   \n",
       "1280642                     52017.0        0         0       1   \n",
       "1280643                    172283.0        0         1       1   \n",
       "1280644                     58764.0        1         0       1   \n",
       "1280645                     34169.0        0         1       1   \n",
       "\n",
       "         payment_history  collateral_coverage_ratio  \n",
       "0               0.631895                   0.998664  \n",
       "1               0.888889                   0.743850  \n",
       "2               0.666333                   1.807200  \n",
       "3               0.721778                  16.939125  \n",
       "4               0.798571                   8.557232  \n",
       "...                  ...                        ...  \n",
       "1280641         0.500000                   1.191750  \n",
       "1280642         1.000000                   2.167375  \n",
       "1280643         0.431414                   7.178458  \n",
       "1280644         0.768452                   2.448500  \n",
       "1280645         0.454364                   2.440643  \n",
       "\n",
       "[1280646 rows x 77 columns]"
      ]
     },
     "execution_count": 63,
     "metadata": {},
     "output_type": "execute_result"
    }
   ],
   "source": [
    "transformed_data"
   ]
  },
  {
   "cell_type": "code",
   "execution_count": 64,
   "metadata": {
    "colab": {
     "base_uri": "https://localhost:8080/"
    },
    "id": "n89HSpkU3pSX",
    "outputId": "e3a1b894-7e96-4fe2-f052-bd668c582d71"
   },
   "outputs": [
    {
     "metadata": {
      "tags": null
     },
     "name": "stdout",
     "output_type": "stream",
     "text": [
      "Looking in indexes: https://pypi.org/simple, https://us-python.pkg.dev/colab-wheels/public/simple/\n",
      "Collecting git+https://github.com/CBravoR/scorecardpy\n",
      "  Cloning https://github.com/CBravoR/scorecardpy to /tmp/pip-req-build-if0tfjzj\n",
      "  Running command git clone --filter=blob:none --quiet https://github.com/CBravoR/scorecardpy /tmp/pip-req-build-if0tfjzj\n",
      "  Resolved https://github.com/CBravoR/scorecardpy to commit 03ec28470391e5c950580ad9ac4877ca33f05fce\n",
      "  Preparing metadata (setup.py) ... \u001b[?25l\u001b[?25hdone\n",
      "Requirement already satisfied: numpy in /usr/local/lib/python3.9/dist-packages (from scorecardpy==0.1.9.3) (1.22.4)\n",
      "Requirement already satisfied: pandas>=0.25.0 in /usr/local/lib/python3.9/dist-packages (from scorecardpy==0.1.9.3) (1.4.4)\n",
      "Requirement already satisfied: matplotlib in /usr/local/lib/python3.9/dist-packages (from scorecardpy==0.1.9.3) (3.7.1)\n",
      "Requirement already satisfied: scikit-learn>=0.19.1 in /usr/local/lib/python3.9/dist-packages (from scorecardpy==0.1.9.3) (1.2.2)\n",
      "Requirement already satisfied: statsmodels in /usr/local/lib/python3.9/dist-packages (from scorecardpy==0.1.9.3) (0.13.5)\n",
      "Requirement already satisfied: patsy in /usr/local/lib/python3.9/dist-packages (from scorecardpy==0.1.9.3) (0.5.3)\n",
      "Requirement already satisfied: python-dateutil>=2.8.1 in /usr/local/lib/python3.9/dist-packages (from pandas>=0.25.0->scorecardpy==0.1.9.3) (2.8.2)\n",
      "Requirement already satisfied: pytz>=2020.1 in /usr/local/lib/python3.9/dist-packages (from pandas>=0.25.0->scorecardpy==0.1.9.3) (2022.7.1)\n",
      "Requirement already satisfied: threadpoolctl>=2.0.0 in /usr/local/lib/python3.9/dist-packages (from scikit-learn>=0.19.1->scorecardpy==0.1.9.3) (3.1.0)\n",
      "Requirement already satisfied: scipy>=1.3.2 in /usr/local/lib/python3.9/dist-packages (from scikit-learn>=0.19.1->scorecardpy==0.1.9.3) (1.10.1)\n",
      "Requirement already satisfied: joblib>=1.1.1 in /usr/local/lib/python3.9/dist-packages (from scikit-learn>=0.19.1->scorecardpy==0.1.9.3) (1.1.1)\n",
      "Requirement already satisfied: kiwisolver>=1.0.1 in /usr/local/lib/python3.9/dist-packages (from matplotlib->scorecardpy==0.1.9.3) (1.4.4)\n",
      "Requirement already satisfied: pyparsing>=2.3.1 in /usr/local/lib/python3.9/dist-packages (from matplotlib->scorecardpy==0.1.9.3) (3.0.9)\n",
      "Requirement already satisfied: pillow>=6.2.0 in /usr/local/lib/python3.9/dist-packages (from matplotlib->scorecardpy==0.1.9.3) (8.4.0)\n",
      "Requirement already satisfied: fonttools>=4.22.0 in /usr/local/lib/python3.9/dist-packages (from matplotlib->scorecardpy==0.1.9.3) (4.39.3)\n",
      "Requirement already satisfied: cycler>=0.10 in /usr/local/lib/python3.9/dist-packages (from matplotlib->scorecardpy==0.1.9.3) (0.11.0)\n",
      "Requirement already satisfied: packaging>=20.0 in /usr/local/lib/python3.9/dist-packages (from matplotlib->scorecardpy==0.1.9.3) (23.0)\n",
      "Requirement already satisfied: contourpy>=1.0.1 in /usr/local/lib/python3.9/dist-packages (from matplotlib->scorecardpy==0.1.9.3) (1.0.7)\n",
      "Requirement already satisfied: importlib-resources>=3.2.0 in /usr/local/lib/python3.9/dist-packages (from matplotlib->scorecardpy==0.1.9.3) (5.12.0)\n",
      "Requirement already satisfied: six in /usr/local/lib/python3.9/dist-packages (from patsy->scorecardpy==0.1.9.3) (1.16.0)\n",
      "Requirement already satisfied: zipp>=3.1.0 in /usr/local/lib/python3.9/dist-packages (from importlib-resources>=3.2.0->matplotlib->scorecardpy==0.1.9.3) (3.15.0)\n",
      "Building wheels for collected packages: scorecardpy\n",
      "  Building wheel for scorecardpy (setup.py) ... \u001b[?25l\u001b[?25hdone\n",
      "  Created wheel for scorecardpy: filename=scorecardpy-0.1.9.3-py3-none-any.whl size=59549 sha256=594b0b4b25a647a8173c4f97fb80ebc6cd8a2fe21cac414d20802049c6cb5ad3\n",
      "  Stored in directory: /tmp/pip-ephem-wheel-cache-sbz3omsi/wheels/61/36/7f/76fa329f36d896910f2251f5cfd54094c722e088b633e47f6f\n",
      "Successfully built scorecardpy\n",
      "Installing collected packages: scorecardpy\n",
      "Successfully installed scorecardpy-0.1.9.3\n"
     ]
    }
   ],
   "source": [
    "!pip install git+https://github.com/CBravoR/scorecardpy\n",
    "import scorecardpy as sc\n",
    "\n",
    "train, test = sc.split_df(transformed_data,\n",
    "                          y = 'Default',\n",
    "                          ratio = 0.7,\n",
    "                          seed = 251256517).values()\n",
    "\n",
    "# train_median = train.copy()\n",
    "train_median = train.copy()\n"
   ]
  },
  {
   "cell_type": "code",
   "execution_count": 65,
   "metadata": {
    "colab": {
     "base_uri": "https://localhost:8080/"
    },
    "id": "LtgjCtSFHwLg",
    "outputId": "bf82f884-f418-4398-ca11-22b2ae43925e"
   },
   "outputs": [
    {
     "data": {
      "text/plain": [
       "id                               0\n",
       "loan_amnt                        9\n",
       "funded_amnt                      9\n",
       "funded_amnt_inv                  9\n",
       "term                             9\n",
       "                             ...  \n",
       "Default                          0\n",
       "bank_dlq                         0\n",
       "il_acc                           0\n",
       "payment_history              11606\n",
       "collateral_coverage_ratio    11574\n",
       "Length: 77, dtype: int64"
      ]
     },
     "execution_count": 65,
     "metadata": {},
     "output_type": "execute_result"
    }
   ],
   "source": [
    "fill_median+=['payment_history', 'collateral_coverage_ratio']\n",
    "# train_median[fill_median].isna().sum()\n",
    "test.isna().sum()"
   ]
  },
  {
   "cell_type": "code",
   "execution_count": 66,
   "metadata": {
    "id": "9GUkruunGVgQ"
   },
   "outputs": [],
   "source": [
    "# train_median = train_median.fillna(train_median[fill_median].median().to_dict())\n",
    "train_median = train_median.fillna(train_median[fill_median].median().to_dict())\n",
    "test_median = test.fillna(train_median[fill_median].median().to_dict())"
   ]
  },
  {
   "cell_type": "code",
   "execution_count": 67,
   "metadata": {
    "id": "u4vNn3OI5Q0x"
   },
   "outputs": [],
   "source": [
    "# train_median.isna().sum()"
   ]
  },
  {
   "cell_type": "code",
   "execution_count": 68,
   "metadata": {
    "colab": {
     "base_uri": "https://localhost:8080/"
    },
    "id": "tl_UgZvC4Tpz",
    "outputId": "b702b4a9-f49d-47dd-daf1-20c6272aab95"
   },
   "outputs": [
    {
     "data": {
      "text/plain": [
       "id                           0\n",
       "loan_amnt                    9\n",
       "funded_amnt                  9\n",
       "funded_amnt_inv              9\n",
       "term                         9\n",
       "                            ..\n",
       "Default                      0\n",
       "bank_dlq                     0\n",
       "il_acc                       0\n",
       "payment_history              0\n",
       "collateral_coverage_ratio    0\n",
       "Length: 77, dtype: int64"
      ]
     },
     "execution_count": 68,
     "metadata": {},
     "output_type": "execute_result"
    }
   ],
   "source": [
    "test_median.isna().sum()"
   ]
  },
  {
   "cell_type": "code",
   "execution_count": 69,
   "metadata": {
    "id": "-YGafe5P9F4q"
   },
   "outputs": [],
   "source": [
    "train_median = train_median.dropna()\n",
    "test_median = test_median.dropna()"
   ]
  },
  {
   "cell_type": "code",
   "execution_count": 71,
   "metadata": {
    "id": "2879iIT7g0Np"
   },
   "outputs": [],
   "source": [
    "train_median.to_pickle('model/data/train_median.pkl')\n",
    "# train_median.to_csv('train_median.csv')\n",
    "transformed_data.to_pickle(\"model/data/transformed_data.pkl\")"
   ]
  },
  {
   "cell_type": "code",
   "execution_count": 72,
   "metadata": {
    "id": "YoIooDOtkatt"
   },
   "outputs": [],
   "source": [
    "test_median.to_pickle('test_median.pkl')"
   ]
  },
  {
   "cell_type": "code",
   "execution_count": null,
   "metadata": {
    "id": "HZrG8NZs9xdV"
   },
   "outputs": [],
   "source": []
  }
 ],
 "metadata": {
  "colab": {
   "include_colab_link": true,
   "provenance": []
  },
  "gpuClass": "standard",
  "kernelspec": {
   "display_name": "Python 3 (ipykernel)",
   "language": "python",
   "name": "python3"
  },
  "language_info": {
   "codemirror_mode": {
    "name": "ipython",
    "version": 3
   },
   "file_extension": ".py",
   "mimetype": "text/x-python",
   "name": "python",
   "nbconvert_exporter": "python",
   "pygments_lexer": "ipython3",
   "version": "3.9.12"
  }
 },
 "nbformat": 4,
 "nbformat_minor": 1
}
