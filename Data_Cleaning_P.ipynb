{
  "nbformat": 4,
  "nbformat_minor": 0,
  "metadata": {
    "colab": {
      "provenance": [],
      "authorship_tag": "ABX9TyOG+NlwNauT4lOVOx8iL4AD",
      "include_colab_link": true
    },
    "kernelspec": {
      "name": "python3",
      "display_name": "Python 3"
    },
    "language_info": {
      "name": "python"
    },
    "accelerator": "GPU",
    "gpuClass": "standard"
  },
  "cells": [
    {
      "cell_type": "markdown",
      "metadata": {
        "id": "view-in-github",
        "colab_type": "text"
      },
      "source": [
        "<a href=\"https://colab.research.google.com/github/preetmodi/Credit-Risk-Analytics/blob/main/Data_Cleaning_P.ipynb\" target=\"_parent\"><img src=\"https://colab.research.google.com/assets/colab-badge.svg\" alt=\"Open In Colab\"/></a>"
      ]
    },
    {
      "cell_type": "markdown",
      "source": [
        "# Mount Drive"
      ],
      "metadata": {
        "id": "NtgvoRHSF4ie"
      }
    },
    {
      "cell_type": "code",
      "source": [
        "!sudo echo -ne '\\n' | sudo add-apt-repository ppa:alessandro-strada/ppa >/dev/null 2>&1 # note: >/dev/null 2>&1 is used to supress printing\n",
        "!sudo apt update >/dev/null 2>&1\n",
        "!sudo apt install google-drive-ocamlfuse >/dev/null 2>&1\n",
        "!google-drive-ocamlfuse\n",
        "!sudo apt-get install w3m >/dev/null 2>&1 # to act as web browser \n",
        "!xdg-settings set default-web-browser w3m.desktop >/dev/null 2>&1 # to set default browser \n",
        "%cd /content\n",
        "!mkdir gdrive\n",
        "%cd gdrive\n",
        "!mkdir \"My Drive\"\n",
        "!google-drive-ocamlfuse \"/content/gdrive/My Drive\""
      ],
      "metadata": {
        "colab": {
          "base_uri": "https://localhost:8080/"
        },
        "id": "Z6dkh-fcBcVp",
        "outputId": "6cfcf17d-e7ef-4238-dcda-baaca75b8906"
      },
      "execution_count": 112,
      "outputs": [
        {
          "output_type": "stream",
          "name": "stdout",
          "text": [
            "/content\n",
            "mkdir: cannot create directory ‘gdrive’: File exists\n",
            "/content/gdrive\n",
            "mkdir: cannot create directory ‘My Drive’: File exists\n",
            "fuse: mountpoint is not empty\n",
            "fuse: if you are sure this is safe, use the 'nonempty' mount option\n"
          ]
        }
      ]
    },
    {
      "cell_type": "markdown",
      "source": [
        "# Unzip files"
      ],
      "metadata": {
        "id": "d2a0vCHCF7hp"
      }
    },
    {
      "cell_type": "code",
      "source": [
        "# %cd /content/gdrive/My Drive/Data/"
      ],
      "metadata": {
        "id": "QNH6SprFCefA"
      },
      "execution_count": 113,
      "outputs": []
    },
    {
      "cell_type": "code",
      "source": [
        "# !unzip \"LCOrigination Data.zip\""
      ],
      "metadata": {
        "id": "DoIJP9iBDZmn"
      },
      "execution_count": 114,
      "outputs": []
    },
    {
      "cell_type": "markdown",
      "source": [
        "# Data Exploration"
      ],
      "metadata": {
        "id": "tfWlCxbYJmw2"
      }
    },
    {
      "cell_type": "code",
      "source": [
        "%cd /content/gdrive/My Drive/Data/"
      ],
      "metadata": {
        "id": "gVEmiquVKMa1",
        "outputId": "e1ded5d6-0460-44e9-aa54-1a3632c70543",
        "colab": {
          "base_uri": "https://localhost:8080/"
        }
      },
      "execution_count": 115,
      "outputs": [
        {
          "output_type": "stream",
          "name": "stdout",
          "text": [
            "/content/gdrive/My Drive/Data\n"
          ]
        }
      ]
    },
    {
      "cell_type": "code",
      "source": [
        "import pandas as pd\n",
        "import matplotlib.pyplot as plt\n",
        "import seaborn as sns\n",
        "import numpy as np\n",
        "%matplotlib inline"
      ],
      "metadata": {
        "id": "SRQkiTBhDbM-"
      },
      "execution_count": 116,
      "outputs": []
    },
    {
      "cell_type": "code",
      "source": [
        "!ls"
      ],
      "metadata": {
        "id": "07YJywABKVxN",
        "outputId": "1729604c-87b8-4760-aa32-5d22d9bb26e9",
        "colab": {
          "base_uri": "https://localhost:8080/"
        }
      },
      "execution_count": 117,
      "outputs": [
        {
          "output_type": "stream",
          "name": "stdout",
          "text": [
            " LCDataDictionaryClean.xlsx   LCOrigination.csv  'LCOrigination Data.zip'\n"
          ]
        }
      ]
    },
    {
      "cell_type": "code",
      "source": [
        "df = pd.read_csv(\"LCOrigination.csv\", low_memory=False)"
      ],
      "metadata": {
        "id": "ZszezLABKAve"
      },
      "execution_count": 118,
      "outputs": []
    },
    {
      "cell_type": "code",
      "source": [
        "df.iloc[:,-10:]"
      ],
      "metadata": {
        "id": "leM3SrIOKPKE",
        "outputId": "ae28bcc1-7f55-47b6-a986-e7285a205493",
        "colab": {
          "base_uri": "https://localhost:8080/",
          "height": 487
        }
      },
      "execution_count": 119,
      "outputs": [
        {
          "output_type": "execute_result",
          "data": {
            "text/plain": [
              "         hardship_dpd hardship_loan_status  \\\n",
              "0                 NaN                  NaN   \n",
              "1                 NaN                  NaN   \n",
              "2                 NaN                  NaN   \n",
              "3                 NaN                  NaN   \n",
              "4                 NaN                  NaN   \n",
              "...               ...                  ...   \n",
              "1280641           NaN                  NaN   \n",
              "1280642           NaN                  NaN   \n",
              "1280643           NaN                  NaN   \n",
              "1280644           NaN                  NaN   \n",
              "1280645           NaN                  NaN   \n",
              "\n",
              "         orig_projected_additional_accrued_interest  \\\n",
              "0                                               NaN   \n",
              "1                                               NaN   \n",
              "2                                               NaN   \n",
              "3                                               NaN   \n",
              "4                                               NaN   \n",
              "...                                             ...   \n",
              "1280641                                         NaN   \n",
              "1280642                                         NaN   \n",
              "1280643                                         NaN   \n",
              "1280644                                         NaN   \n",
              "1280645                                         NaN   \n",
              "\n",
              "         hardship_payoff_balance_amount  hardship_last_payment_amount  \\\n",
              "0                                   NaN                           NaN   \n",
              "1                                   NaN                           NaN   \n",
              "2                                   NaN                           NaN   \n",
              "3                                   NaN                           NaN   \n",
              "4                                   NaN                           NaN   \n",
              "...                                 ...                           ...   \n",
              "1280641                             NaN                           NaN   \n",
              "1280642                             NaN                           NaN   \n",
              "1280643                             NaN                           NaN   \n",
              "1280644                             NaN                           NaN   \n",
              "1280645                             NaN                           NaN   \n",
              "\n",
              "        settlement_status settlement_date  settlement_amount  \\\n",
              "0                     NaN             NaN                NaN   \n",
              "1                     NaN             NaN                NaN   \n",
              "2                     NaN             NaN                NaN   \n",
              "3                     NaN             NaN                NaN   \n",
              "4                     NaN             NaN                NaN   \n",
              "...                   ...             ...                ...   \n",
              "1280641               NaN             NaN                NaN   \n",
              "1280642               NaN             NaN                NaN   \n",
              "1280643               NaN             NaN                NaN   \n",
              "1280644            ACTIVE        Mar-2019            10000.0   \n",
              "1280645               NaN             NaN                NaN   \n",
              "\n",
              "         settlement_percentage  settlement_term  \n",
              "0                          NaN              NaN  \n",
              "1                          NaN              NaN  \n",
              "2                          NaN              NaN  \n",
              "3                          NaN              NaN  \n",
              "4                          NaN              NaN  \n",
              "...                        ...              ...  \n",
              "1280641                    NaN              NaN  \n",
              "1280642                    NaN              NaN  \n",
              "1280643                    NaN              NaN  \n",
              "1280644                  44.82              1.0  \n",
              "1280645                    NaN              NaN  \n",
              "\n",
              "[1280646 rows x 10 columns]"
            ],
            "text/html": [
              "\n",
              "  <div id=\"df-dbe9f45c-99ee-4cc1-86c8-7e9726ab03b2\">\n",
              "    <div class=\"colab-df-container\">\n",
              "      <div>\n",
              "<style scoped>\n",
              "    .dataframe tbody tr th:only-of-type {\n",
              "        vertical-align: middle;\n",
              "    }\n",
              "\n",
              "    .dataframe tbody tr th {\n",
              "        vertical-align: top;\n",
              "    }\n",
              "\n",
              "    .dataframe thead th {\n",
              "        text-align: right;\n",
              "    }\n",
              "</style>\n",
              "<table border=\"1\" class=\"dataframe\">\n",
              "  <thead>\n",
              "    <tr style=\"text-align: right;\">\n",
              "      <th></th>\n",
              "      <th>hardship_dpd</th>\n",
              "      <th>hardship_loan_status</th>\n",
              "      <th>orig_projected_additional_accrued_interest</th>\n",
              "      <th>hardship_payoff_balance_amount</th>\n",
              "      <th>hardship_last_payment_amount</th>\n",
              "      <th>settlement_status</th>\n",
              "      <th>settlement_date</th>\n",
              "      <th>settlement_amount</th>\n",
              "      <th>settlement_percentage</th>\n",
              "      <th>settlement_term</th>\n",
              "    </tr>\n",
              "  </thead>\n",
              "  <tbody>\n",
              "    <tr>\n",
              "      <th>0</th>\n",
              "      <td>NaN</td>\n",
              "      <td>NaN</td>\n",
              "      <td>NaN</td>\n",
              "      <td>NaN</td>\n",
              "      <td>NaN</td>\n",
              "      <td>NaN</td>\n",
              "      <td>NaN</td>\n",
              "      <td>NaN</td>\n",
              "      <td>NaN</td>\n",
              "      <td>NaN</td>\n",
              "    </tr>\n",
              "    <tr>\n",
              "      <th>1</th>\n",
              "      <td>NaN</td>\n",
              "      <td>NaN</td>\n",
              "      <td>NaN</td>\n",
              "      <td>NaN</td>\n",
              "      <td>NaN</td>\n",
              "      <td>NaN</td>\n",
              "      <td>NaN</td>\n",
              "      <td>NaN</td>\n",
              "      <td>NaN</td>\n",
              "      <td>NaN</td>\n",
              "    </tr>\n",
              "    <tr>\n",
              "      <th>2</th>\n",
              "      <td>NaN</td>\n",
              "      <td>NaN</td>\n",
              "      <td>NaN</td>\n",
              "      <td>NaN</td>\n",
              "      <td>NaN</td>\n",
              "      <td>NaN</td>\n",
              "      <td>NaN</td>\n",
              "      <td>NaN</td>\n",
              "      <td>NaN</td>\n",
              "      <td>NaN</td>\n",
              "    </tr>\n",
              "    <tr>\n",
              "      <th>3</th>\n",
              "      <td>NaN</td>\n",
              "      <td>NaN</td>\n",
              "      <td>NaN</td>\n",
              "      <td>NaN</td>\n",
              "      <td>NaN</td>\n",
              "      <td>NaN</td>\n",
              "      <td>NaN</td>\n",
              "      <td>NaN</td>\n",
              "      <td>NaN</td>\n",
              "      <td>NaN</td>\n",
              "    </tr>\n",
              "    <tr>\n",
              "      <th>4</th>\n",
              "      <td>NaN</td>\n",
              "      <td>NaN</td>\n",
              "      <td>NaN</td>\n",
              "      <td>NaN</td>\n",
              "      <td>NaN</td>\n",
              "      <td>NaN</td>\n",
              "      <td>NaN</td>\n",
              "      <td>NaN</td>\n",
              "      <td>NaN</td>\n",
              "      <td>NaN</td>\n",
              "    </tr>\n",
              "    <tr>\n",
              "      <th>...</th>\n",
              "      <td>...</td>\n",
              "      <td>...</td>\n",
              "      <td>...</td>\n",
              "      <td>...</td>\n",
              "      <td>...</td>\n",
              "      <td>...</td>\n",
              "      <td>...</td>\n",
              "      <td>...</td>\n",
              "      <td>...</td>\n",
              "      <td>...</td>\n",
              "    </tr>\n",
              "    <tr>\n",
              "      <th>1280641</th>\n",
              "      <td>NaN</td>\n",
              "      <td>NaN</td>\n",
              "      <td>NaN</td>\n",
              "      <td>NaN</td>\n",
              "      <td>NaN</td>\n",
              "      <td>NaN</td>\n",
              "      <td>NaN</td>\n",
              "      <td>NaN</td>\n",
              "      <td>NaN</td>\n",
              "      <td>NaN</td>\n",
              "    </tr>\n",
              "    <tr>\n",
              "      <th>1280642</th>\n",
              "      <td>NaN</td>\n",
              "      <td>NaN</td>\n",
              "      <td>NaN</td>\n",
              "      <td>NaN</td>\n",
              "      <td>NaN</td>\n",
              "      <td>NaN</td>\n",
              "      <td>NaN</td>\n",
              "      <td>NaN</td>\n",
              "      <td>NaN</td>\n",
              "      <td>NaN</td>\n",
              "    </tr>\n",
              "    <tr>\n",
              "      <th>1280643</th>\n",
              "      <td>NaN</td>\n",
              "      <td>NaN</td>\n",
              "      <td>NaN</td>\n",
              "      <td>NaN</td>\n",
              "      <td>NaN</td>\n",
              "      <td>NaN</td>\n",
              "      <td>NaN</td>\n",
              "      <td>NaN</td>\n",
              "      <td>NaN</td>\n",
              "      <td>NaN</td>\n",
              "    </tr>\n",
              "    <tr>\n",
              "      <th>1280644</th>\n",
              "      <td>NaN</td>\n",
              "      <td>NaN</td>\n",
              "      <td>NaN</td>\n",
              "      <td>NaN</td>\n",
              "      <td>NaN</td>\n",
              "      <td>ACTIVE</td>\n",
              "      <td>Mar-2019</td>\n",
              "      <td>10000.0</td>\n",
              "      <td>44.82</td>\n",
              "      <td>1.0</td>\n",
              "    </tr>\n",
              "    <tr>\n",
              "      <th>1280645</th>\n",
              "      <td>NaN</td>\n",
              "      <td>NaN</td>\n",
              "      <td>NaN</td>\n",
              "      <td>NaN</td>\n",
              "      <td>NaN</td>\n",
              "      <td>NaN</td>\n",
              "      <td>NaN</td>\n",
              "      <td>NaN</td>\n",
              "      <td>NaN</td>\n",
              "      <td>NaN</td>\n",
              "    </tr>\n",
              "  </tbody>\n",
              "</table>\n",
              "<p>1280646 rows × 10 columns</p>\n",
              "</div>\n",
              "      <button class=\"colab-df-convert\" onclick=\"convertToInteractive('df-dbe9f45c-99ee-4cc1-86c8-7e9726ab03b2')\"\n",
              "              title=\"Convert this dataframe to an interactive table.\"\n",
              "              style=\"display:none;\">\n",
              "        \n",
              "  <svg xmlns=\"http://www.w3.org/2000/svg\" height=\"24px\"viewBox=\"0 0 24 24\"\n",
              "       width=\"24px\">\n",
              "    <path d=\"M0 0h24v24H0V0z\" fill=\"none\"/>\n",
              "    <path d=\"M18.56 5.44l.94 2.06.94-2.06 2.06-.94-2.06-.94-.94-2.06-.94 2.06-2.06.94zm-11 1L8.5 8.5l.94-2.06 2.06-.94-2.06-.94L8.5 2.5l-.94 2.06-2.06.94zm10 10l.94 2.06.94-2.06 2.06-.94-2.06-.94-.94-2.06-.94 2.06-2.06.94z\"/><path d=\"M17.41 7.96l-1.37-1.37c-.4-.4-.92-.59-1.43-.59-.52 0-1.04.2-1.43.59L10.3 9.45l-7.72 7.72c-.78.78-.78 2.05 0 2.83L4 21.41c.39.39.9.59 1.41.59.51 0 1.02-.2 1.41-.59l7.78-7.78 2.81-2.81c.8-.78.8-2.07 0-2.86zM5.41 20L4 18.59l7.72-7.72 1.47 1.35L5.41 20z\"/>\n",
              "  </svg>\n",
              "      </button>\n",
              "      \n",
              "  <style>\n",
              "    .colab-df-container {\n",
              "      display:flex;\n",
              "      flex-wrap:wrap;\n",
              "      gap: 12px;\n",
              "    }\n",
              "\n",
              "    .colab-df-convert {\n",
              "      background-color: #E8F0FE;\n",
              "      border: none;\n",
              "      border-radius: 50%;\n",
              "      cursor: pointer;\n",
              "      display: none;\n",
              "      fill: #1967D2;\n",
              "      height: 32px;\n",
              "      padding: 0 0 0 0;\n",
              "      width: 32px;\n",
              "    }\n",
              "\n",
              "    .colab-df-convert:hover {\n",
              "      background-color: #E2EBFA;\n",
              "      box-shadow: 0px 1px 2px rgba(60, 64, 67, 0.3), 0px 1px 3px 1px rgba(60, 64, 67, 0.15);\n",
              "      fill: #174EA6;\n",
              "    }\n",
              "\n",
              "    [theme=dark] .colab-df-convert {\n",
              "      background-color: #3B4455;\n",
              "      fill: #D2E3FC;\n",
              "    }\n",
              "\n",
              "    [theme=dark] .colab-df-convert:hover {\n",
              "      background-color: #434B5C;\n",
              "      box-shadow: 0px 1px 3px 1px rgba(0, 0, 0, 0.15);\n",
              "      filter: drop-shadow(0px 1px 2px rgba(0, 0, 0, 0.3));\n",
              "      fill: #FFFFFF;\n",
              "    }\n",
              "  </style>\n",
              "\n",
              "      <script>\n",
              "        const buttonEl =\n",
              "          document.querySelector('#df-dbe9f45c-99ee-4cc1-86c8-7e9726ab03b2 button.colab-df-convert');\n",
              "        buttonEl.style.display =\n",
              "          google.colab.kernel.accessAllowed ? 'block' : 'none';\n",
              "\n",
              "        async function convertToInteractive(key) {\n",
              "          const element = document.querySelector('#df-dbe9f45c-99ee-4cc1-86c8-7e9726ab03b2');\n",
              "          const dataTable =\n",
              "            await google.colab.kernel.invokeFunction('convertToInteractive',\n",
              "                                                     [key], {});\n",
              "          if (!dataTable) return;\n",
              "\n",
              "          const docLinkHtml = 'Like what you see? Visit the ' +\n",
              "            '<a target=\"_blank\" href=https://colab.research.google.com/notebooks/data_table.ipynb>data table notebook</a>'\n",
              "            + ' to learn more about interactive tables.';\n",
              "          element.innerHTML = '';\n",
              "          dataTable['output_type'] = 'display_data';\n",
              "          await google.colab.output.renderOutput(dataTable, element);\n",
              "          const docLink = document.createElement('div');\n",
              "          docLink.innerHTML = docLinkHtml;\n",
              "          element.appendChild(docLink);\n",
              "        }\n",
              "      </script>\n",
              "    </div>\n",
              "  </div>\n",
              "  "
            ]
          },
          "metadata": {},
          "execution_count": 119
        }
      ]
    },
    {
      "cell_type": "code",
      "source": [
        "df.columns.to_list().index('collection_recovery_fee')"
      ],
      "metadata": {
        "id": "m24N7QoKL9py",
        "outputId": "9c39db67-d193-431e-d594-8fb3e8f44341",
        "colab": {
          "base_uri": "https://localhost:8080/"
        }
      },
      "execution_count": 120,
      "outputs": [
        {
          "output_type": "execute_result",
          "data": {
            "text/plain": [
              "39"
            ]
          },
          "metadata": {},
          "execution_count": 120
        }
      ]
    },
    {
      "cell_type": "code",
      "source": [
        "df.describe()"
      ],
      "metadata": {
        "id": "ugpiqIuFKfvE",
        "outputId": "4a80966b-1dbb-4990-b6e1-daecac3d9f68",
        "colab": {
          "base_uri": "https://localhost:8080/",
          "height": 393
        }
      },
      "execution_count": 121,
      "outputs": [
        {
          "output_type": "execute_result",
          "data": {
            "text/plain": [
              "          loan_amnt   funded_amnt  funded_amnt_inv      int_rate  \\\n",
              "count  1.280615e+06  1.280615e+06     1.280615e+06  1.280615e+06   \n",
              "mean   1.513560e+04  1.513023e+04     1.511406e+04  1.340095e+01   \n",
              "std    9.164207e+03  9.162097e+03     9.163897e+03  4.923413e+00   \n",
              "min    5.000000e+02  5.000000e+02     0.000000e+00  5.310000e+00   \n",
              "25%    8.000000e+03  8.000000e+03     8.000000e+03  9.930000e+00   \n",
              "50%    1.300000e+04  1.300000e+04     1.300000e+04  1.279000e+01   \n",
              "75%    2.000000e+04  2.000000e+04     2.000000e+04  1.614000e+01   \n",
              "max    4.000000e+04  4.000000e+04     4.000000e+04  3.099000e+01   \n",
              "\n",
              "        installment    annual_inc           dti   delinq_2yrs  fico_range_low  \\\n",
              "count  1.280615e+06  1.280615e+06  1.279707e+06  1.280615e+06    1.280615e+06   \n",
              "mean   4.488773e+02  7.715590e+04  1.898675e+01  3.123031e-01    6.973707e+02   \n",
              "std    2.672979e+02  7.592994e+04  1.399290e+01  8.765886e-01    3.246384e+01   \n",
              "min    4.930000e+00  0.000000e+00 -1.000000e+00  0.000000e+00    6.250000e+02   \n",
              "25%    2.552500e+02  4.550000e+04  1.206000e+01  0.000000e+00    6.700000e+02   \n",
              "50%    3.816400e+02  6.500000e+04  1.805000e+01  0.000000e+00    6.900000e+02   \n",
              "75%    5.953100e+02  9.200000e+04  2.472000e+01  0.000000e+00    7.150000e+02   \n",
              "max    1.719830e+03  1.099920e+07  9.990000e+02  5.800000e+01    8.450000e+02   \n",
              "\n",
              "       fico_range_high  ...  deferral_term  hardship_amount  hardship_length  \\\n",
              "count     1.280615e+06  ...         8610.0      8610.000000           8610.0   \n",
              "mean      7.013708e+02  ...            3.0       159.393786              3.0   \n",
              "std       3.246464e+01  ...            0.0       132.041083              0.0   \n",
              "min       6.290000e+02  ...            3.0         1.470000              3.0   \n",
              "25%       6.740000e+02  ...            3.0        61.402500              3.0   \n",
              "50%       6.940000e+02  ...            3.0       122.420000              3.0   \n",
              "75%       7.190000e+02  ...            3.0       220.037500              3.0   \n",
              "max       8.500000e+02  ...            3.0       943.940000              3.0   \n",
              "\n",
              "       hardship_dpd  orig_projected_additional_accrued_interest  \\\n",
              "count   8610.000000                                 6432.000000   \n",
              "mean      14.445296                                  467.320499   \n",
              "std        9.440823                                  384.066227   \n",
              "min        0.000000                                    4.410000   \n",
              "25%        7.000000                                  180.592500   \n",
              "50%       16.000000                                  362.700000   \n",
              "75%       23.000000                                  642.285000   \n",
              "max       32.000000                                 2680.890000   \n",
              "\n",
              "       hardship_payoff_balance_amount  hardship_last_payment_amount  \\\n",
              "count                     8610.000000                   8610.000000   \n",
              "mean                     11812.129483                    197.559281   \n",
              "std                       7668.925156                    199.297305   \n",
              "min                        174.150000                      0.010000   \n",
              "25%                       5736.040000                     48.102500   \n",
              "50%                      10211.385000                    136.885000   \n",
              "75%                      16410.052500                    287.407500   \n",
              "max                      38399.000000                   1407.860000   \n",
              "\n",
              "       settlement_amount  settlement_percentage  settlement_term  \n",
              "count       34214.000000           34214.000000     34214.000000  \n",
              "mean         5011.163605              47.773142        13.196031  \n",
              "std          3691.736410               7.304390         8.159966  \n",
              "min            44.210000               0.200000         0.000000  \n",
              "25%          2208.370000              45.000000         6.000000  \n",
              "50%          4147.000000              45.000000        14.000000  \n",
              "75%          6851.195000              50.000000        18.000000  \n",
              "max         33601.000000             521.350000       181.000000  \n",
              "\n",
              "[8 rows x 100 columns]"
            ],
            "text/html": [
              "\n",
              "  <div id=\"df-884fd38d-48a1-4974-8f1a-263c46092e5d\">\n",
              "    <div class=\"colab-df-container\">\n",
              "      <div>\n",
              "<style scoped>\n",
              "    .dataframe tbody tr th:only-of-type {\n",
              "        vertical-align: middle;\n",
              "    }\n",
              "\n",
              "    .dataframe tbody tr th {\n",
              "        vertical-align: top;\n",
              "    }\n",
              "\n",
              "    .dataframe thead th {\n",
              "        text-align: right;\n",
              "    }\n",
              "</style>\n",
              "<table border=\"1\" class=\"dataframe\">\n",
              "  <thead>\n",
              "    <tr style=\"text-align: right;\">\n",
              "      <th></th>\n",
              "      <th>loan_amnt</th>\n",
              "      <th>funded_amnt</th>\n",
              "      <th>funded_amnt_inv</th>\n",
              "      <th>int_rate</th>\n",
              "      <th>installment</th>\n",
              "      <th>annual_inc</th>\n",
              "      <th>dti</th>\n",
              "      <th>delinq_2yrs</th>\n",
              "      <th>fico_range_low</th>\n",
              "      <th>fico_range_high</th>\n",
              "      <th>...</th>\n",
              "      <th>deferral_term</th>\n",
              "      <th>hardship_amount</th>\n",
              "      <th>hardship_length</th>\n",
              "      <th>hardship_dpd</th>\n",
              "      <th>orig_projected_additional_accrued_interest</th>\n",
              "      <th>hardship_payoff_balance_amount</th>\n",
              "      <th>hardship_last_payment_amount</th>\n",
              "      <th>settlement_amount</th>\n",
              "      <th>settlement_percentage</th>\n",
              "      <th>settlement_term</th>\n",
              "    </tr>\n",
              "  </thead>\n",
              "  <tbody>\n",
              "    <tr>\n",
              "      <th>count</th>\n",
              "      <td>1.280615e+06</td>\n",
              "      <td>1.280615e+06</td>\n",
              "      <td>1.280615e+06</td>\n",
              "      <td>1.280615e+06</td>\n",
              "      <td>1.280615e+06</td>\n",
              "      <td>1.280615e+06</td>\n",
              "      <td>1.279707e+06</td>\n",
              "      <td>1.280615e+06</td>\n",
              "      <td>1.280615e+06</td>\n",
              "      <td>1.280615e+06</td>\n",
              "      <td>...</td>\n",
              "      <td>8610.0</td>\n",
              "      <td>8610.000000</td>\n",
              "      <td>8610.0</td>\n",
              "      <td>8610.000000</td>\n",
              "      <td>6432.000000</td>\n",
              "      <td>8610.000000</td>\n",
              "      <td>8610.000000</td>\n",
              "      <td>34214.000000</td>\n",
              "      <td>34214.000000</td>\n",
              "      <td>34214.000000</td>\n",
              "    </tr>\n",
              "    <tr>\n",
              "      <th>mean</th>\n",
              "      <td>1.513560e+04</td>\n",
              "      <td>1.513023e+04</td>\n",
              "      <td>1.511406e+04</td>\n",
              "      <td>1.340095e+01</td>\n",
              "      <td>4.488773e+02</td>\n",
              "      <td>7.715590e+04</td>\n",
              "      <td>1.898675e+01</td>\n",
              "      <td>3.123031e-01</td>\n",
              "      <td>6.973707e+02</td>\n",
              "      <td>7.013708e+02</td>\n",
              "      <td>...</td>\n",
              "      <td>3.0</td>\n",
              "      <td>159.393786</td>\n",
              "      <td>3.0</td>\n",
              "      <td>14.445296</td>\n",
              "      <td>467.320499</td>\n",
              "      <td>11812.129483</td>\n",
              "      <td>197.559281</td>\n",
              "      <td>5011.163605</td>\n",
              "      <td>47.773142</td>\n",
              "      <td>13.196031</td>\n",
              "    </tr>\n",
              "    <tr>\n",
              "      <th>std</th>\n",
              "      <td>9.164207e+03</td>\n",
              "      <td>9.162097e+03</td>\n",
              "      <td>9.163897e+03</td>\n",
              "      <td>4.923413e+00</td>\n",
              "      <td>2.672979e+02</td>\n",
              "      <td>7.592994e+04</td>\n",
              "      <td>1.399290e+01</td>\n",
              "      <td>8.765886e-01</td>\n",
              "      <td>3.246384e+01</td>\n",
              "      <td>3.246464e+01</td>\n",
              "      <td>...</td>\n",
              "      <td>0.0</td>\n",
              "      <td>132.041083</td>\n",
              "      <td>0.0</td>\n",
              "      <td>9.440823</td>\n",
              "      <td>384.066227</td>\n",
              "      <td>7668.925156</td>\n",
              "      <td>199.297305</td>\n",
              "      <td>3691.736410</td>\n",
              "      <td>7.304390</td>\n",
              "      <td>8.159966</td>\n",
              "    </tr>\n",
              "    <tr>\n",
              "      <th>min</th>\n",
              "      <td>5.000000e+02</td>\n",
              "      <td>5.000000e+02</td>\n",
              "      <td>0.000000e+00</td>\n",
              "      <td>5.310000e+00</td>\n",
              "      <td>4.930000e+00</td>\n",
              "      <td>0.000000e+00</td>\n",
              "      <td>-1.000000e+00</td>\n",
              "      <td>0.000000e+00</td>\n",
              "      <td>6.250000e+02</td>\n",
              "      <td>6.290000e+02</td>\n",
              "      <td>...</td>\n",
              "      <td>3.0</td>\n",
              "      <td>1.470000</td>\n",
              "      <td>3.0</td>\n",
              "      <td>0.000000</td>\n",
              "      <td>4.410000</td>\n",
              "      <td>174.150000</td>\n",
              "      <td>0.010000</td>\n",
              "      <td>44.210000</td>\n",
              "      <td>0.200000</td>\n",
              "      <td>0.000000</td>\n",
              "    </tr>\n",
              "    <tr>\n",
              "      <th>25%</th>\n",
              "      <td>8.000000e+03</td>\n",
              "      <td>8.000000e+03</td>\n",
              "      <td>8.000000e+03</td>\n",
              "      <td>9.930000e+00</td>\n",
              "      <td>2.552500e+02</td>\n",
              "      <td>4.550000e+04</td>\n",
              "      <td>1.206000e+01</td>\n",
              "      <td>0.000000e+00</td>\n",
              "      <td>6.700000e+02</td>\n",
              "      <td>6.740000e+02</td>\n",
              "      <td>...</td>\n",
              "      <td>3.0</td>\n",
              "      <td>61.402500</td>\n",
              "      <td>3.0</td>\n",
              "      <td>7.000000</td>\n",
              "      <td>180.592500</td>\n",
              "      <td>5736.040000</td>\n",
              "      <td>48.102500</td>\n",
              "      <td>2208.370000</td>\n",
              "      <td>45.000000</td>\n",
              "      <td>6.000000</td>\n",
              "    </tr>\n",
              "    <tr>\n",
              "      <th>50%</th>\n",
              "      <td>1.300000e+04</td>\n",
              "      <td>1.300000e+04</td>\n",
              "      <td>1.300000e+04</td>\n",
              "      <td>1.279000e+01</td>\n",
              "      <td>3.816400e+02</td>\n",
              "      <td>6.500000e+04</td>\n",
              "      <td>1.805000e+01</td>\n",
              "      <td>0.000000e+00</td>\n",
              "      <td>6.900000e+02</td>\n",
              "      <td>6.940000e+02</td>\n",
              "      <td>...</td>\n",
              "      <td>3.0</td>\n",
              "      <td>122.420000</td>\n",
              "      <td>3.0</td>\n",
              "      <td>16.000000</td>\n",
              "      <td>362.700000</td>\n",
              "      <td>10211.385000</td>\n",
              "      <td>136.885000</td>\n",
              "      <td>4147.000000</td>\n",
              "      <td>45.000000</td>\n",
              "      <td>14.000000</td>\n",
              "    </tr>\n",
              "    <tr>\n",
              "      <th>75%</th>\n",
              "      <td>2.000000e+04</td>\n",
              "      <td>2.000000e+04</td>\n",
              "      <td>2.000000e+04</td>\n",
              "      <td>1.614000e+01</td>\n",
              "      <td>5.953100e+02</td>\n",
              "      <td>9.200000e+04</td>\n",
              "      <td>2.472000e+01</td>\n",
              "      <td>0.000000e+00</td>\n",
              "      <td>7.150000e+02</td>\n",
              "      <td>7.190000e+02</td>\n",
              "      <td>...</td>\n",
              "      <td>3.0</td>\n",
              "      <td>220.037500</td>\n",
              "      <td>3.0</td>\n",
              "      <td>23.000000</td>\n",
              "      <td>642.285000</td>\n",
              "      <td>16410.052500</td>\n",
              "      <td>287.407500</td>\n",
              "      <td>6851.195000</td>\n",
              "      <td>50.000000</td>\n",
              "      <td>18.000000</td>\n",
              "    </tr>\n",
              "    <tr>\n",
              "      <th>max</th>\n",
              "      <td>4.000000e+04</td>\n",
              "      <td>4.000000e+04</td>\n",
              "      <td>4.000000e+04</td>\n",
              "      <td>3.099000e+01</td>\n",
              "      <td>1.719830e+03</td>\n",
              "      <td>1.099920e+07</td>\n",
              "      <td>9.990000e+02</td>\n",
              "      <td>5.800000e+01</td>\n",
              "      <td>8.450000e+02</td>\n",
              "      <td>8.500000e+02</td>\n",
              "      <td>...</td>\n",
              "      <td>3.0</td>\n",
              "      <td>943.940000</td>\n",
              "      <td>3.0</td>\n",
              "      <td>32.000000</td>\n",
              "      <td>2680.890000</td>\n",
              "      <td>38399.000000</td>\n",
              "      <td>1407.860000</td>\n",
              "      <td>33601.000000</td>\n",
              "      <td>521.350000</td>\n",
              "      <td>181.000000</td>\n",
              "    </tr>\n",
              "  </tbody>\n",
              "</table>\n",
              "<p>8 rows × 100 columns</p>\n",
              "</div>\n",
              "      <button class=\"colab-df-convert\" onclick=\"convertToInteractive('df-884fd38d-48a1-4974-8f1a-263c46092e5d')\"\n",
              "              title=\"Convert this dataframe to an interactive table.\"\n",
              "              style=\"display:none;\">\n",
              "        \n",
              "  <svg xmlns=\"http://www.w3.org/2000/svg\" height=\"24px\"viewBox=\"0 0 24 24\"\n",
              "       width=\"24px\">\n",
              "    <path d=\"M0 0h24v24H0V0z\" fill=\"none\"/>\n",
              "    <path d=\"M18.56 5.44l.94 2.06.94-2.06 2.06-.94-2.06-.94-.94-2.06-.94 2.06-2.06.94zm-11 1L8.5 8.5l.94-2.06 2.06-.94-2.06-.94L8.5 2.5l-.94 2.06-2.06.94zm10 10l.94 2.06.94-2.06 2.06-.94-2.06-.94-.94-2.06-.94 2.06-2.06.94z\"/><path d=\"M17.41 7.96l-1.37-1.37c-.4-.4-.92-.59-1.43-.59-.52 0-1.04.2-1.43.59L10.3 9.45l-7.72 7.72c-.78.78-.78 2.05 0 2.83L4 21.41c.39.39.9.59 1.41.59.51 0 1.02-.2 1.41-.59l7.78-7.78 2.81-2.81c.8-.78.8-2.07 0-2.86zM5.41 20L4 18.59l7.72-7.72 1.47 1.35L5.41 20z\"/>\n",
              "  </svg>\n",
              "      </button>\n",
              "      \n",
              "  <style>\n",
              "    .colab-df-container {\n",
              "      display:flex;\n",
              "      flex-wrap:wrap;\n",
              "      gap: 12px;\n",
              "    }\n",
              "\n",
              "    .colab-df-convert {\n",
              "      background-color: #E8F0FE;\n",
              "      border: none;\n",
              "      border-radius: 50%;\n",
              "      cursor: pointer;\n",
              "      display: none;\n",
              "      fill: #1967D2;\n",
              "      height: 32px;\n",
              "      padding: 0 0 0 0;\n",
              "      width: 32px;\n",
              "    }\n",
              "\n",
              "    .colab-df-convert:hover {\n",
              "      background-color: #E2EBFA;\n",
              "      box-shadow: 0px 1px 2px rgba(60, 64, 67, 0.3), 0px 1px 3px 1px rgba(60, 64, 67, 0.15);\n",
              "      fill: #174EA6;\n",
              "    }\n",
              "\n",
              "    [theme=dark] .colab-df-convert {\n",
              "      background-color: #3B4455;\n",
              "      fill: #D2E3FC;\n",
              "    }\n",
              "\n",
              "    [theme=dark] .colab-df-convert:hover {\n",
              "      background-color: #434B5C;\n",
              "      box-shadow: 0px 1px 3px 1px rgba(0, 0, 0, 0.15);\n",
              "      filter: drop-shadow(0px 1px 2px rgba(0, 0, 0, 0.3));\n",
              "      fill: #FFFFFF;\n",
              "    }\n",
              "  </style>\n",
              "\n",
              "      <script>\n",
              "        const buttonEl =\n",
              "          document.querySelector('#df-884fd38d-48a1-4974-8f1a-263c46092e5d button.colab-df-convert');\n",
              "        buttonEl.style.display =\n",
              "          google.colab.kernel.accessAllowed ? 'block' : 'none';\n",
              "\n",
              "        async function convertToInteractive(key) {\n",
              "          const element = document.querySelector('#df-884fd38d-48a1-4974-8f1a-263c46092e5d');\n",
              "          const dataTable =\n",
              "            await google.colab.kernel.invokeFunction('convertToInteractive',\n",
              "                                                     [key], {});\n",
              "          if (!dataTable) return;\n",
              "\n",
              "          const docLinkHtml = 'Like what you see? Visit the ' +\n",
              "            '<a target=\"_blank\" href=https://colab.research.google.com/notebooks/data_table.ipynb>data table notebook</a>'\n",
              "            + ' to learn more about interactive tables.';\n",
              "          element.innerHTML = '';\n",
              "          dataTable['output_type'] = 'display_data';\n",
              "          await google.colab.output.renderOutput(dataTable, element);\n",
              "          const docLink = document.createElement('div');\n",
              "          docLink.innerHTML = docLinkHtml;\n",
              "          element.appendChild(docLink);\n",
              "        }\n",
              "      </script>\n",
              "    </div>\n",
              "  </div>\n",
              "  "
            ]
          },
          "metadata": {},
          "execution_count": 121
        }
      ]
    },
    {
      "cell_type": "code",
      "source": [],
      "metadata": {
        "id": "wStZkFWbKitM"
      },
      "execution_count": 121,
      "outputs": []
    },
    {
      "cell_type": "markdown",
      "source": [
        "# Open Metadata FIle"
      ],
      "metadata": {
        "id": "EzKj3FbvM4IS"
      }
    },
    {
      "cell_type": "code",
      "source": [
        "columns = pd.read_excel(\"LCDataDictionaryClean.xlsx\")['Variable'].to_list()\n",
        "columns"
      ],
      "metadata": {
        "id": "828rEwSvM5Uq",
        "outputId": "cef07ac9-821f-476b-970a-9dd55453f280",
        "colab": {
          "base_uri": "https://localhost:8080/"
        }
      },
      "execution_count": 122,
      "outputs": [
        {
          "output_type": "execute_result",
          "data": {
            "text/plain": [
              "['id',\n",
              " 'AmountRequested',\n",
              " 'loan_amnt',\n",
              " 'term',\n",
              " 'ApplicationDate',\n",
              " 'Risk_Score',\n",
              " 'ficoRangeHigh',\n",
              " 'ficoRangeLow',\n",
              " 'acc_open_past_24mths',\n",
              " 'addr_state',\n",
              " 'all_util',\n",
              " 'annual_inc',\n",
              " 'annual_inc_joint',\n",
              " 'application_type',\n",
              " 'avg_cur_bal',\n",
              " 'bc_open_to_buy',\n",
              " 'bc_util',\n",
              " 'chargeoff_within_12_mths',\n",
              " 'delinq_2yrs',\n",
              " 'desc',\n",
              " 'dti',\n",
              " 'dti_joint',\n",
              " 'earliest_cr_line',\n",
              " 'emp_length',\n",
              " 'emp_title',\n",
              " 'fico_range_high',\n",
              " 'fico_range_low',\n",
              " 'funded_amnt',\n",
              " 'funded_amnt_inv',\n",
              " 'home_ownership',\n",
              " 'il_util',\n",
              " 'inq_fi',\n",
              " 'inq_last_12m',\n",
              " 'inq_last_6mths',\n",
              " 'max_bal_bc',\n",
              " 'mo_sin_old_il_acct',\n",
              " 'mo_sin_old_rev_tl_op',\n",
              " 'mo_sin_rcnt_rev_tl_op',\n",
              " 'mo_sin_rcnt_tl',\n",
              " 'mort_acc',\n",
              " 'mths_since_last_record',\n",
              " 'mths_since_rcnt_il',\n",
              " 'mths_since_recent_bc',\n",
              " 'mths_since_recent_bc_dlq',\n",
              " 'mths_since_recent_inq',\n",
              " 'mths_since_recent_revol_delinq',\n",
              " 'num_accts_ever_120_pd',\n",
              " 'num_actv_bc_tl',\n",
              " 'num_actv_rev_tl',\n",
              " 'num_bc_sats',\n",
              " 'num_bc_tl',\n",
              " 'num_il_tl',\n",
              " 'num_op_rev_tl',\n",
              " 'num_rev_accts',\n",
              " 'num_rev_tl_bal_gt_0',\n",
              " 'num_sats',\n",
              " 'open_acc',\n",
              " 'open_acc_6m',\n",
              " 'open_il_12m',\n",
              " 'open_il_24m',\n",
              " 'open_act_il',\n",
              " 'open_rv_12m',\n",
              " 'open_rv_24m',\n",
              " 'pct_tl_nvr_dlq',\n",
              " 'percent_bc_gt_75',\n",
              " 'pub_rec',\n",
              " 'pub_rec_bankruptcies',\n",
              " 'purpose',\n",
              " 'revol_bal',\n",
              " 'revol_util',\n",
              " 'tax_liens',\n",
              " 'title',\n",
              " 'tot_coll_amt',\n",
              " 'tot_cur_bal',\n",
              " 'tot_hi_cred_lim',\n",
              " 'total_acc',\n",
              " 'total_bal_ex_mort',\n",
              " 'total_bal_il',\n",
              " 'total_bc_limit',\n",
              " 'total_cu_tl',\n",
              " 'total_il_high_credit_limit',\n",
              " 'verification_status',\n",
              " 'zip_code',\n",
              " 'revol_bal_joint',\n",
              " 'sec_app_earliest_cr_line',\n",
              " 'sec_app_inq_last_6mths',\n",
              " 'sec_app_mort_acc',\n",
              " 'sec_app_open_acc',\n",
              " 'sec_app_revol_util',\n",
              " 'sec_app_open_act_il',\n",
              " 'sec_app_num_rev_accts',\n",
              " 'sec_app_chargeoff_within_12_mths',\n",
              " 'sec_app_collections_12_mths_ex_med',\n",
              " 'sec_app_mths_since_last_major_derog',\n",
              " 'addrState',\n",
              " 'annual_inc_joint',\n",
              " 'annualInc',\n",
              " 'bcOpenToBuy',\n",
              " 'bcUtil',\n",
              " 'delinq2Yrs',\n",
              " 'delinqAmnt',\n",
              " 'dti',\n",
              " 'dti_joint',\n",
              " 'earliestCrLine',\n",
              " 'empLength',\n",
              " 'homeOwnership',\n",
              " 'inqLast6Mths',\n",
              " 'isIncV',\n",
              " 'mortAcc',\n",
              " 'msa',\n",
              " 'mths_since_oldest_il_open',\n",
              " 'mthsSinceLastDelinq',\n",
              " 'mthsSinceLastRecord',\n",
              " 'mthsSinceMostRecentInq',\n",
              " 'mthsSinceRecentBc',\n",
              " 'mthsSinceRecentLoanDelinq',\n",
              " 'mthsSinceRecentRevolDelinq',\n",
              " 'openAcc',\n",
              " 'percentBcGt75',\n",
              " 'pubRec',\n",
              " 'revolBal',\n",
              " 'revolUtil',\n",
              " 'totalAcc',\n",
              " 'totalBalExMort',\n",
              " 'totalBcLimit',\n",
              " 'sec_app_chargeoff_within_12_mths',\n",
              " 'Debt_To_IncomeRatio',\n",
              " 'ZipCode',\n",
              " 'State',\n",
              " 'EmploymentLength',\n",
              " 'installment']"
            ]
          },
          "metadata": {},
          "execution_count": 122
        }
      ]
    },
    {
      "cell_type": "code",
      "source": [
        "total_columns = [column for column in df.columns.to_list() if column in columns]\n",
        "total_columns"
      ],
      "metadata": {
        "id": "aYue7cxdNFya",
        "outputId": "a02b239c-dee9-4d5e-f322-0c5f0360daf5",
        "colab": {
          "base_uri": "https://localhost:8080/"
        }
      },
      "execution_count": 123,
      "outputs": [
        {
          "output_type": "execute_result",
          "data": {
            "text/plain": [
              "['id',\n",
              " 'loan_amnt',\n",
              " 'funded_amnt',\n",
              " 'funded_amnt_inv',\n",
              " 'term',\n",
              " 'installment',\n",
              " 'emp_title',\n",
              " 'emp_length',\n",
              " 'home_ownership',\n",
              " 'annual_inc',\n",
              " 'desc',\n",
              " 'purpose',\n",
              " 'title',\n",
              " 'zip_code',\n",
              " 'addr_state',\n",
              " 'dti',\n",
              " 'delinq_2yrs',\n",
              " 'earliest_cr_line',\n",
              " 'fico_range_low',\n",
              " 'fico_range_high',\n",
              " 'inq_last_6mths',\n",
              " 'mths_since_last_record',\n",
              " 'open_acc',\n",
              " 'pub_rec',\n",
              " 'revol_bal',\n",
              " 'revol_util',\n",
              " 'total_acc',\n",
              " 'application_type',\n",
              " 'annual_inc_joint',\n",
              " 'dti_joint',\n",
              " 'tot_coll_amt',\n",
              " 'tot_cur_bal',\n",
              " 'open_acc_6m',\n",
              " 'open_act_il',\n",
              " 'open_il_12m',\n",
              " 'open_il_24m',\n",
              " 'mths_since_rcnt_il',\n",
              " 'total_bal_il',\n",
              " 'il_util',\n",
              " 'open_rv_12m',\n",
              " 'open_rv_24m',\n",
              " 'max_bal_bc',\n",
              " 'all_util',\n",
              " 'inq_fi',\n",
              " 'total_cu_tl',\n",
              " 'inq_last_12m',\n",
              " 'acc_open_past_24mths',\n",
              " 'avg_cur_bal',\n",
              " 'bc_open_to_buy',\n",
              " 'bc_util',\n",
              " 'chargeoff_within_12_mths',\n",
              " 'mo_sin_old_il_acct',\n",
              " 'mo_sin_old_rev_tl_op',\n",
              " 'mo_sin_rcnt_rev_tl_op',\n",
              " 'mo_sin_rcnt_tl',\n",
              " 'mort_acc',\n",
              " 'mths_since_recent_bc',\n",
              " 'mths_since_recent_bc_dlq',\n",
              " 'mths_since_recent_inq',\n",
              " 'mths_since_recent_revol_delinq',\n",
              " 'num_accts_ever_120_pd',\n",
              " 'num_actv_bc_tl',\n",
              " 'num_actv_rev_tl',\n",
              " 'num_bc_sats',\n",
              " 'num_bc_tl',\n",
              " 'num_il_tl',\n",
              " 'num_op_rev_tl',\n",
              " 'num_rev_accts',\n",
              " 'num_rev_tl_bal_gt_0',\n",
              " 'num_sats',\n",
              " 'pct_tl_nvr_dlq',\n",
              " 'percent_bc_gt_75',\n",
              " 'pub_rec_bankruptcies',\n",
              " 'tax_liens',\n",
              " 'tot_hi_cred_lim',\n",
              " 'total_bal_ex_mort',\n",
              " 'total_bc_limit',\n",
              " 'total_il_high_credit_limit',\n",
              " 'revol_bal_joint',\n",
              " 'sec_app_earliest_cr_line',\n",
              " 'sec_app_inq_last_6mths',\n",
              " 'sec_app_mort_acc',\n",
              " 'sec_app_open_acc',\n",
              " 'sec_app_revol_util',\n",
              " 'sec_app_open_act_il',\n",
              " 'sec_app_num_rev_accts',\n",
              " 'sec_app_chargeoff_within_12_mths',\n",
              " 'sec_app_collections_12_mths_ex_med',\n",
              " 'sec_app_mths_since_last_major_derog']"
            ]
          },
          "metadata": {},
          "execution_count": 123
        }
      ]
    },
    {
      "cell_type": "code",
      "source": [
        "len(total_columns)"
      ],
      "metadata": {
        "id": "QX5MIOpbNwIC",
        "outputId": "12d40329-53e4-4794-ac7d-63f61c50b858",
        "colab": {
          "base_uri": "https://localhost:8080/"
        }
      },
      "execution_count": 124,
      "outputs": [
        {
          "output_type": "execute_result",
          "data": {
            "text/plain": [
              "89"
            ]
          },
          "metadata": {},
          "execution_count": 124
        }
      ]
    },
    {
      "cell_type": "code",
      "source": [
        "df['Default'] = df['loan_status'].apply(lambda x: 1 if x == 'Default' or x=='Charged Off' else 0)\n",
        "origination_df = df[total_columns+['Default']]"
      ],
      "metadata": {
        "id": "8Nded7SJNynZ"
      },
      "execution_count": 125,
      "outputs": []
    },
    {
      "cell_type": "markdown",
      "source": [
        "# Performance DF "
      ],
      "metadata": {
        "id": "ZDi6Gs5Sw_nS"
      }
    },
    {
      "cell_type": "code",
      "source": [
        "perfromance_columns = df.drop(columns = total_columns).columns.to_list()"
      ],
      "metadata": {
        "id": "fgQt9XouxDdp"
      },
      "execution_count": 126,
      "outputs": []
    },
    {
      "cell_type": "code",
      "source": [
        "perfromance_columns_orig = pd.read_excel(\"LCDataDictionaryClean.xlsx\", sheet_name=\"Performance\")['Variable'].to_list()\n",
        "sum([1 for column in perfromance_columns if column in perfromance_columns_orig])\n"
      ],
      "metadata": {
        "id": "yBc0q2lDxtAJ",
        "outputId": "0d94ad7f-71c1-4b87-fb5b-7c7c9592ac05",
        "colab": {
          "base_uri": "https://localhost:8080/"
        }
      },
      "execution_count": 127,
      "outputs": [
        {
          "output_type": "execute_result",
          "data": {
            "text/plain": [
              "39"
            ]
          },
          "metadata": {},
          "execution_count": 127
        }
      ]
    },
    {
      "cell_type": "code",
      "source": [
        "origination_df.info()"
      ],
      "metadata": {
        "id": "XgXJfFO2-Paz",
        "outputId": "3f9a02ae-e72a-4f23-cb54-c7f0995daa22",
        "colab": {
          "base_uri": "https://localhost:8080/"
        }
      },
      "execution_count": 128,
      "outputs": [
        {
          "output_type": "stream",
          "name": "stdout",
          "text": [
            "<class 'pandas.core.frame.DataFrame'>\n",
            "RangeIndex: 1280646 entries, 0 to 1280645\n",
            "Data columns (total 90 columns):\n",
            " #   Column                               Non-Null Count    Dtype  \n",
            "---  ------                               --------------    -----  \n",
            " 0   id                                   1280646 non-null  object \n",
            " 1   loan_amnt                            1280615 non-null  float64\n",
            " 2   funded_amnt                          1280615 non-null  float64\n",
            " 3   funded_amnt_inv                      1280615 non-null  float64\n",
            " 4   term                                 1280615 non-null  object \n",
            " 5   installment                          1280615 non-null  float64\n",
            " 6   emp_title                            1184469 non-null  object \n",
            " 7   emp_length                           1195251 non-null  object \n",
            " 8   home_ownership                       1280615 non-null  object \n",
            " 9   annual_inc                           1280615 non-null  float64\n",
            " 10  desc                                 71148 non-null    object \n",
            " 11  purpose                              1280615 non-null  object \n",
            " 12  title                                1266327 non-null  object \n",
            " 13  zip_code                             1280615 non-null  object \n",
            " 14  addr_state                           1280615 non-null  object \n",
            " 15  dti                                  1279707 non-null  float64\n",
            " 16  delinq_2yrs                          1280615 non-null  float64\n",
            " 17  earliest_cr_line                     1280615 non-null  object \n",
            " 18  fico_range_low                       1280615 non-null  float64\n",
            " 19  fico_range_high                      1280615 non-null  float64\n",
            " 20  inq_last_6mths                       1280615 non-null  float64\n",
            " 21  mths_since_last_record               208313 non-null   float64\n",
            " 22  open_acc                             1280615 non-null  float64\n",
            " 23  pub_rec                              1280615 non-null  float64\n",
            " 24  revol_bal                            1280615 non-null  float64\n",
            " 25  revol_util                           1279638 non-null  float64\n",
            " 26  total_acc                            1280615 non-null  float64\n",
            " 27  application_type                     1280615 non-null  object \n",
            " 28  annual_inc_joint                     65496 non-null    float64\n",
            " 29  dti_joint                            65494 non-null    float64\n",
            " 30  tot_coll_amt                         1241831 non-null  float64\n",
            " 31  tot_cur_bal                          1241831 non-null  float64\n",
            " 32  open_acc_6m                          773620 non-null   float64\n",
            " 33  open_act_il                          773620 non-null   float64\n",
            " 34  open_il_12m                          773620 non-null   float64\n",
            " 35  open_il_24m                          773620 non-null   float64\n",
            " 36  mths_since_rcnt_il                   749106 non-null   float64\n",
            " 37  total_bal_il                         773620 non-null   float64\n",
            " 38  il_util                              662044 non-null   float64\n",
            " 39  open_rv_12m                          773620 non-null   float64\n",
            " 40  open_rv_24m                          773620 non-null   float64\n",
            " 41  max_bal_bc                           773620 non-null   float64\n",
            " 42  all_util                             773501 non-null   float64\n",
            " 43  inq_fi                               773620 non-null   float64\n",
            " 44  total_cu_tl                          773620 non-null   float64\n",
            " 45  inq_last_12m                         773620 non-null   float64\n",
            " 46  acc_open_past_24mths                 1253638 non-null  float64\n",
            " 47  avg_cur_bal                          1241795 non-null  float64\n",
            " 48  bc_open_to_buy                       1239461 non-null  float64\n",
            " 49  bc_util                              1238793 non-null  float64\n",
            " 50  chargeoff_within_12_mths             1280590 non-null  float64\n",
            " 51  mo_sin_old_il_acct                   1202571 non-null  float64\n",
            " 52  mo_sin_old_rev_tl_op                 1241830 non-null  float64\n",
            " 53  mo_sin_rcnt_rev_tl_op                1241830 non-null  float64\n",
            " 54  mo_sin_rcnt_tl                       1241831 non-null  float64\n",
            " 55  mort_acc                             1253638 non-null  float64\n",
            " 56  mths_since_recent_bc                 1240331 non-null  float64\n",
            " 57  mths_since_recent_bc_dlq             297854 non-null   float64\n",
            " 58  mths_since_recent_inq                1120182 non-null  float64\n",
            " 59  mths_since_recent_revol_delinq       423274 non-null   float64\n",
            " 60  num_accts_ever_120_pd                1241831 non-null  float64\n",
            " 61  num_actv_bc_tl                       1241831 non-null  float64\n",
            " 62  num_actv_rev_tl                      1241831 non-null  float64\n",
            " 63  num_bc_sats                          1248678 non-null  float64\n",
            " 64  num_bc_tl                            1241831 non-null  float64\n",
            " 65  num_il_tl                            1241831 non-null  float64\n",
            " 66  num_op_rev_tl                        1241831 non-null  float64\n",
            " 67  num_rev_accts                        1241831 non-null  float64\n",
            " 68  num_rev_tl_bal_gt_0                  1241831 non-null  float64\n",
            " 69  num_sats                             1248678 non-null  float64\n",
            " 70  pct_tl_nvr_dlq                       1241736 non-null  float64\n",
            " 71  percent_bc_gt_75                     1239202 non-null  float64\n",
            " 72  pub_rec_bankruptcies                 1280211 non-null  float64\n",
            " 73  tax_liens                            1280600 non-null  float64\n",
            " 74  tot_hi_cred_lim                      1241831 non-null  float64\n",
            " 75  total_bal_ex_mort                    1253638 non-null  float64\n",
            " 76  total_bc_limit                       1253638 non-null  float64\n",
            " 77  total_il_high_credit_limit           1241831 non-null  float64\n",
            " 78  revol_bal_joint                      58174 non-null    float64\n",
            " 79  sec_app_earliest_cr_line             58175 non-null    object \n",
            " 80  sec_app_inq_last_6mths               58175 non-null    float64\n",
            " 81  sec_app_mort_acc                     58175 non-null    float64\n",
            " 82  sec_app_open_acc                     58175 non-null    float64\n",
            " 83  sec_app_revol_util                   57166 non-null    float64\n",
            " 84  sec_app_open_act_il                  58175 non-null    float64\n",
            " 85  sec_app_num_rev_accts                58175 non-null    float64\n",
            " 86  sec_app_chargeoff_within_12_mths     58175 non-null    float64\n",
            " 87  sec_app_collections_12_mths_ex_med   58175 non-null    float64\n",
            " 88  sec_app_mths_since_last_major_derog  19786 non-null    float64\n",
            " 89  Default                              1280646 non-null  int64  \n",
            "dtypes: float64(76), int64(1), object(13)\n",
            "memory usage: 879.3+ MB\n"
          ]
        }
      ]
    },
    {
      "cell_type": "code",
      "source": [
        "origination_df.isnull().sum()"
      ],
      "metadata": {
        "id": "ZTYTb1wF6Dpd",
        "outputId": "3a6d1088-122f-4492-8763-42fafc76fcb2",
        "colab": {
          "base_uri": "https://localhost:8080/"
        }
      },
      "execution_count": 129,
      "outputs": [
        {
          "output_type": "execute_result",
          "data": {
            "text/plain": [
              "id                                           0\n",
              "loan_amnt                                   31\n",
              "funded_amnt                                 31\n",
              "funded_amnt_inv                             31\n",
              "term                                        31\n",
              "                                        ...   \n",
              "sec_app_num_rev_accts                  1222471\n",
              "sec_app_chargeoff_within_12_mths       1222471\n",
              "sec_app_collections_12_mths_ex_med     1222471\n",
              "sec_app_mths_since_last_major_derog    1260860\n",
              "Default                                      0\n",
              "Length: 90, dtype: int64"
            ]
          },
          "metadata": {},
          "execution_count": 129
        }
      ]
    },
    {
      "cell_type": "code",
      "source": [
        "null_columns = origination_df.columns[origination_df.isnull().any()]\n",
        "null = origination_df[null_columns[60:]].isnull().sum()\n"
      ],
      "metadata": {
        "id": "VIAOTSpS6OPV"
      },
      "execution_count": 130,
      "outputs": []
    },
    {
      "cell_type": "code",
      "source": [
        "null[null>31].value_counts()"
      ],
      "metadata": {
        "id": "yoWDWJYJ8DPc",
        "outputId": "6369a3f1-dafc-46d5-9964-753923fddf02",
        "colab": {
          "base_uri": "https://localhost:8080/"
        }
      },
      "execution_count": 131,
      "outputs": [
        {
          "output_type": "execute_result",
          "data": {
            "text/plain": [
              "38815      9\n",
              "1222471    8\n",
              "31968      2\n",
              "27008      2\n",
              "38910      1\n",
              "41444      1\n",
              "435        1\n",
              "46         1\n",
              "1222472    1\n",
              "1223480    1\n",
              "1260860    1\n",
              "dtype: int64"
            ]
          },
          "metadata": {},
          "execution_count": 131
        }
      ]
    },
    {
      "cell_type": "code",
      "source": [
        "null"
      ],
      "metadata": {
        "id": "5JAMMDhXXvz_",
        "outputId": "cd966f3c-6f60-4c19-e61c-291dd3aad80f",
        "colab": {
          "base_uri": "https://localhost:8080/"
        }
      },
      "execution_count": 132,
      "outputs": [
        {
          "output_type": "execute_result",
          "data": {
            "text/plain": [
              "num_actv_bc_tl                           38815\n",
              "num_actv_rev_tl                          38815\n",
              "num_bc_sats                              31968\n",
              "num_bc_tl                                38815\n",
              "num_il_tl                                38815\n",
              "num_op_rev_tl                            38815\n",
              "num_rev_accts                            38815\n",
              "num_rev_tl_bal_gt_0                      38815\n",
              "num_sats                                 31968\n",
              "pct_tl_nvr_dlq                           38910\n",
              "percent_bc_gt_75                         41444\n",
              "pub_rec_bankruptcies                       435\n",
              "tax_liens                                   46\n",
              "tot_hi_cred_lim                          38815\n",
              "total_bal_ex_mort                        27008\n",
              "total_bc_limit                           27008\n",
              "total_il_high_credit_limit               38815\n",
              "revol_bal_joint                        1222472\n",
              "sec_app_earliest_cr_line               1222471\n",
              "sec_app_inq_last_6mths                 1222471\n",
              "sec_app_mort_acc                       1222471\n",
              "sec_app_open_acc                       1222471\n",
              "sec_app_revol_util                     1223480\n",
              "sec_app_open_act_il                    1222471\n",
              "sec_app_num_rev_accts                  1222471\n",
              "sec_app_chargeoff_within_12_mths       1222471\n",
              "sec_app_collections_12_mths_ex_med     1222471\n",
              "sec_app_mths_since_last_major_derog    1260860\n",
              "dtype: int64"
            ]
          },
          "metadata": {},
          "execution_count": 132
        }
      ]
    },
    {
      "cell_type": "code",
      "source": [
        "last_30_df = origination_df[null.index[:17]].dropna()"
      ],
      "metadata": {
        "id": "n_A84fGkBMRH"
      },
      "execution_count": 133,
      "outputs": []
    },
    {
      "cell_type": "code",
      "source": [
        "last_30_df.describe()"
      ],
      "metadata": {
        "id": "3rRXqMnkXsY1",
        "outputId": "c745eaac-a0d3-4b8d-aa96-094510f1f021",
        "colab": {
          "base_uri": "https://localhost:8080/",
          "height": 364
        }
      },
      "execution_count": 134,
      "outputs": [
        {
          "output_type": "execute_result",
          "data": {
            "text/plain": [
              "       num_actv_bc_tl  num_actv_rev_tl   num_bc_sats     num_bc_tl  \\\n",
              "count    1.227471e+06     1.227471e+06  1.227471e+06  1.227471e+06   \n",
              "mean     3.736330e+00     5.722855e+00  4.834422e+00  7.801544e+00   \n",
              "std      2.310813e+00     3.398898e+00  3.016367e+00  4.696794e+00   \n",
              "min      0.000000e+00     0.000000e+00  0.000000e+00  1.000000e+00   \n",
              "25%      2.000000e+00     3.000000e+00  3.000000e+00  4.000000e+00   \n",
              "50%      3.000000e+00     5.000000e+00  4.000000e+00  7.000000e+00   \n",
              "75%      5.000000e+00     7.000000e+00  6.000000e+00  1.000000e+01   \n",
              "max      4.500000e+01     5.400000e+01  7.100000e+01  8.500000e+01   \n",
              "\n",
              "          num_il_tl  num_op_rev_tl  num_rev_accts  num_rev_tl_bal_gt_0  \\\n",
              "count  1.227471e+06   1.227471e+06   1.227471e+06         1.227471e+06   \n",
              "mean   8.426934e+00   8.340940e+00   1.411711e+01         5.668137e+00   \n",
              "std    7.385587e+00   4.681380e+00   8.058384e+00         3.307889e+00   \n",
              "min    0.000000e+00   1.000000e+00   1.000000e+00         0.000000e+00   \n",
              "25%    3.000000e+00   5.000000e+00   8.000000e+00         3.000000e+00   \n",
              "50%    6.000000e+00   7.000000e+00   1.300000e+01         5.000000e+00   \n",
              "75%    1.100000e+01   1.100000e+01   1.800000e+01         7.000000e+00   \n",
              "max    1.590000e+02   9.100000e+01   1.280000e+02         5.500000e+01   \n",
              "\n",
              "           num_sats  pct_tl_nvr_dlq  percent_bc_gt_75  pub_rec_bankruptcies  \\\n",
              "count  1.227471e+06    1.227471e+06      1.227471e+06          1.227471e+06   \n",
              "mean   1.172100e+01    9.412481e+01      4.313869e+01          1.338948e-01   \n",
              "std    5.648386e+00    8.979239e+00      3.626208e+01          3.730300e-01   \n",
              "min    1.000000e+00    0.000000e+00      0.000000e+00          0.000000e+00   \n",
              "25%    8.000000e+00    9.130000e+01      0.000000e+00          0.000000e+00   \n",
              "50%    1.100000e+01    1.000000e+02      4.000000e+01          0.000000e+00   \n",
              "75%    1.500000e+01    1.000000e+02      7.500000e+01          0.000000e+00   \n",
              "max    9.700000e+01    1.000000e+02      1.000000e+02          1.100000e+01   \n",
              "\n",
              "          tax_liens  tot_hi_cred_lim  total_bal_ex_mort  total_bc_limit  \\\n",
              "count  1.227471e+06     1.227471e+06       1.227471e+06    1.227471e+06   \n",
              "mean   5.008021e-02     1.751037e+05       5.113385e+04    2.298842e+04   \n",
              "std    3.906484e-01     1.793007e+05       4.969130e+04    2.260965e+04   \n",
              "min    0.000000e+00     1.000000e+02       0.000000e+00    1.000000e+02   \n",
              "25%    0.000000e+00     5.009600e+04       2.111800e+04    8.300000e+03   \n",
              "50%    0.000000e+00     1.107000e+05       3.805300e+04    1.610000e+04   \n",
              "75%    0.000000e+00     2.527955e+05       6.448100e+04    2.990000e+04   \n",
              "max    8.500000e+01     9.999999e+06       2.921551e+06    8.343000e+05   \n",
              "\n",
              "       total_il_high_credit_limit  \n",
              "count                1.227471e+06  \n",
              "mean                 4.361290e+04  \n",
              "std                  4.480648e+04  \n",
              "min                  0.000000e+00  \n",
              "25%                  1.500000e+04  \n",
              "50%                  3.264600e+04  \n",
              "75%                  5.860700e+04  \n",
              "max                  2.118996e+06  "
            ],
            "text/html": [
              "\n",
              "  <div id=\"df-1893bbb9-8f79-4a65-a7b2-5f60472e9e4e\">\n",
              "    <div class=\"colab-df-container\">\n",
              "      <div>\n",
              "<style scoped>\n",
              "    .dataframe tbody tr th:only-of-type {\n",
              "        vertical-align: middle;\n",
              "    }\n",
              "\n",
              "    .dataframe tbody tr th {\n",
              "        vertical-align: top;\n",
              "    }\n",
              "\n",
              "    .dataframe thead th {\n",
              "        text-align: right;\n",
              "    }\n",
              "</style>\n",
              "<table border=\"1\" class=\"dataframe\">\n",
              "  <thead>\n",
              "    <tr style=\"text-align: right;\">\n",
              "      <th></th>\n",
              "      <th>num_actv_bc_tl</th>\n",
              "      <th>num_actv_rev_tl</th>\n",
              "      <th>num_bc_sats</th>\n",
              "      <th>num_bc_tl</th>\n",
              "      <th>num_il_tl</th>\n",
              "      <th>num_op_rev_tl</th>\n",
              "      <th>num_rev_accts</th>\n",
              "      <th>num_rev_tl_bal_gt_0</th>\n",
              "      <th>num_sats</th>\n",
              "      <th>pct_tl_nvr_dlq</th>\n",
              "      <th>percent_bc_gt_75</th>\n",
              "      <th>pub_rec_bankruptcies</th>\n",
              "      <th>tax_liens</th>\n",
              "      <th>tot_hi_cred_lim</th>\n",
              "      <th>total_bal_ex_mort</th>\n",
              "      <th>total_bc_limit</th>\n",
              "      <th>total_il_high_credit_limit</th>\n",
              "    </tr>\n",
              "  </thead>\n",
              "  <tbody>\n",
              "    <tr>\n",
              "      <th>count</th>\n",
              "      <td>1.227471e+06</td>\n",
              "      <td>1.227471e+06</td>\n",
              "      <td>1.227471e+06</td>\n",
              "      <td>1.227471e+06</td>\n",
              "      <td>1.227471e+06</td>\n",
              "      <td>1.227471e+06</td>\n",
              "      <td>1.227471e+06</td>\n",
              "      <td>1.227471e+06</td>\n",
              "      <td>1.227471e+06</td>\n",
              "      <td>1.227471e+06</td>\n",
              "      <td>1.227471e+06</td>\n",
              "      <td>1.227471e+06</td>\n",
              "      <td>1.227471e+06</td>\n",
              "      <td>1.227471e+06</td>\n",
              "      <td>1.227471e+06</td>\n",
              "      <td>1.227471e+06</td>\n",
              "      <td>1.227471e+06</td>\n",
              "    </tr>\n",
              "    <tr>\n",
              "      <th>mean</th>\n",
              "      <td>3.736330e+00</td>\n",
              "      <td>5.722855e+00</td>\n",
              "      <td>4.834422e+00</td>\n",
              "      <td>7.801544e+00</td>\n",
              "      <td>8.426934e+00</td>\n",
              "      <td>8.340940e+00</td>\n",
              "      <td>1.411711e+01</td>\n",
              "      <td>5.668137e+00</td>\n",
              "      <td>1.172100e+01</td>\n",
              "      <td>9.412481e+01</td>\n",
              "      <td>4.313869e+01</td>\n",
              "      <td>1.338948e-01</td>\n",
              "      <td>5.008021e-02</td>\n",
              "      <td>1.751037e+05</td>\n",
              "      <td>5.113385e+04</td>\n",
              "      <td>2.298842e+04</td>\n",
              "      <td>4.361290e+04</td>\n",
              "    </tr>\n",
              "    <tr>\n",
              "      <th>std</th>\n",
              "      <td>2.310813e+00</td>\n",
              "      <td>3.398898e+00</td>\n",
              "      <td>3.016367e+00</td>\n",
              "      <td>4.696794e+00</td>\n",
              "      <td>7.385587e+00</td>\n",
              "      <td>4.681380e+00</td>\n",
              "      <td>8.058384e+00</td>\n",
              "      <td>3.307889e+00</td>\n",
              "      <td>5.648386e+00</td>\n",
              "      <td>8.979239e+00</td>\n",
              "      <td>3.626208e+01</td>\n",
              "      <td>3.730300e-01</td>\n",
              "      <td>3.906484e-01</td>\n",
              "      <td>1.793007e+05</td>\n",
              "      <td>4.969130e+04</td>\n",
              "      <td>2.260965e+04</td>\n",
              "      <td>4.480648e+04</td>\n",
              "    </tr>\n",
              "    <tr>\n",
              "      <th>min</th>\n",
              "      <td>0.000000e+00</td>\n",
              "      <td>0.000000e+00</td>\n",
              "      <td>0.000000e+00</td>\n",
              "      <td>1.000000e+00</td>\n",
              "      <td>0.000000e+00</td>\n",
              "      <td>1.000000e+00</td>\n",
              "      <td>1.000000e+00</td>\n",
              "      <td>0.000000e+00</td>\n",
              "      <td>1.000000e+00</td>\n",
              "      <td>0.000000e+00</td>\n",
              "      <td>0.000000e+00</td>\n",
              "      <td>0.000000e+00</td>\n",
              "      <td>0.000000e+00</td>\n",
              "      <td>1.000000e+02</td>\n",
              "      <td>0.000000e+00</td>\n",
              "      <td>1.000000e+02</td>\n",
              "      <td>0.000000e+00</td>\n",
              "    </tr>\n",
              "    <tr>\n",
              "      <th>25%</th>\n",
              "      <td>2.000000e+00</td>\n",
              "      <td>3.000000e+00</td>\n",
              "      <td>3.000000e+00</td>\n",
              "      <td>4.000000e+00</td>\n",
              "      <td>3.000000e+00</td>\n",
              "      <td>5.000000e+00</td>\n",
              "      <td>8.000000e+00</td>\n",
              "      <td>3.000000e+00</td>\n",
              "      <td>8.000000e+00</td>\n",
              "      <td>9.130000e+01</td>\n",
              "      <td>0.000000e+00</td>\n",
              "      <td>0.000000e+00</td>\n",
              "      <td>0.000000e+00</td>\n",
              "      <td>5.009600e+04</td>\n",
              "      <td>2.111800e+04</td>\n",
              "      <td>8.300000e+03</td>\n",
              "      <td>1.500000e+04</td>\n",
              "    </tr>\n",
              "    <tr>\n",
              "      <th>50%</th>\n",
              "      <td>3.000000e+00</td>\n",
              "      <td>5.000000e+00</td>\n",
              "      <td>4.000000e+00</td>\n",
              "      <td>7.000000e+00</td>\n",
              "      <td>6.000000e+00</td>\n",
              "      <td>7.000000e+00</td>\n",
              "      <td>1.300000e+01</td>\n",
              "      <td>5.000000e+00</td>\n",
              "      <td>1.100000e+01</td>\n",
              "      <td>1.000000e+02</td>\n",
              "      <td>4.000000e+01</td>\n",
              "      <td>0.000000e+00</td>\n",
              "      <td>0.000000e+00</td>\n",
              "      <td>1.107000e+05</td>\n",
              "      <td>3.805300e+04</td>\n",
              "      <td>1.610000e+04</td>\n",
              "      <td>3.264600e+04</td>\n",
              "    </tr>\n",
              "    <tr>\n",
              "      <th>75%</th>\n",
              "      <td>5.000000e+00</td>\n",
              "      <td>7.000000e+00</td>\n",
              "      <td>6.000000e+00</td>\n",
              "      <td>1.000000e+01</td>\n",
              "      <td>1.100000e+01</td>\n",
              "      <td>1.100000e+01</td>\n",
              "      <td>1.800000e+01</td>\n",
              "      <td>7.000000e+00</td>\n",
              "      <td>1.500000e+01</td>\n",
              "      <td>1.000000e+02</td>\n",
              "      <td>7.500000e+01</td>\n",
              "      <td>0.000000e+00</td>\n",
              "      <td>0.000000e+00</td>\n",
              "      <td>2.527955e+05</td>\n",
              "      <td>6.448100e+04</td>\n",
              "      <td>2.990000e+04</td>\n",
              "      <td>5.860700e+04</td>\n",
              "    </tr>\n",
              "    <tr>\n",
              "      <th>max</th>\n",
              "      <td>4.500000e+01</td>\n",
              "      <td>5.400000e+01</td>\n",
              "      <td>7.100000e+01</td>\n",
              "      <td>8.500000e+01</td>\n",
              "      <td>1.590000e+02</td>\n",
              "      <td>9.100000e+01</td>\n",
              "      <td>1.280000e+02</td>\n",
              "      <td>5.500000e+01</td>\n",
              "      <td>9.700000e+01</td>\n",
              "      <td>1.000000e+02</td>\n",
              "      <td>1.000000e+02</td>\n",
              "      <td>1.100000e+01</td>\n",
              "      <td>8.500000e+01</td>\n",
              "      <td>9.999999e+06</td>\n",
              "      <td>2.921551e+06</td>\n",
              "      <td>8.343000e+05</td>\n",
              "      <td>2.118996e+06</td>\n",
              "    </tr>\n",
              "  </tbody>\n",
              "</table>\n",
              "</div>\n",
              "      <button class=\"colab-df-convert\" onclick=\"convertToInteractive('df-1893bbb9-8f79-4a65-a7b2-5f60472e9e4e')\"\n",
              "              title=\"Convert this dataframe to an interactive table.\"\n",
              "              style=\"display:none;\">\n",
              "        \n",
              "  <svg xmlns=\"http://www.w3.org/2000/svg\" height=\"24px\"viewBox=\"0 0 24 24\"\n",
              "       width=\"24px\">\n",
              "    <path d=\"M0 0h24v24H0V0z\" fill=\"none\"/>\n",
              "    <path d=\"M18.56 5.44l.94 2.06.94-2.06 2.06-.94-2.06-.94-.94-2.06-.94 2.06-2.06.94zm-11 1L8.5 8.5l.94-2.06 2.06-.94-2.06-.94L8.5 2.5l-.94 2.06-2.06.94zm10 10l.94 2.06.94-2.06 2.06-.94-2.06-.94-.94-2.06-.94 2.06-2.06.94z\"/><path d=\"M17.41 7.96l-1.37-1.37c-.4-.4-.92-.59-1.43-.59-.52 0-1.04.2-1.43.59L10.3 9.45l-7.72 7.72c-.78.78-.78 2.05 0 2.83L4 21.41c.39.39.9.59 1.41.59.51 0 1.02-.2 1.41-.59l7.78-7.78 2.81-2.81c.8-.78.8-2.07 0-2.86zM5.41 20L4 18.59l7.72-7.72 1.47 1.35L5.41 20z\"/>\n",
              "  </svg>\n",
              "      </button>\n",
              "      \n",
              "  <style>\n",
              "    .colab-df-container {\n",
              "      display:flex;\n",
              "      flex-wrap:wrap;\n",
              "      gap: 12px;\n",
              "    }\n",
              "\n",
              "    .colab-df-convert {\n",
              "      background-color: #E8F0FE;\n",
              "      border: none;\n",
              "      border-radius: 50%;\n",
              "      cursor: pointer;\n",
              "      display: none;\n",
              "      fill: #1967D2;\n",
              "      height: 32px;\n",
              "      padding: 0 0 0 0;\n",
              "      width: 32px;\n",
              "    }\n",
              "\n",
              "    .colab-df-convert:hover {\n",
              "      background-color: #E2EBFA;\n",
              "      box-shadow: 0px 1px 2px rgba(60, 64, 67, 0.3), 0px 1px 3px 1px rgba(60, 64, 67, 0.15);\n",
              "      fill: #174EA6;\n",
              "    }\n",
              "\n",
              "    [theme=dark] .colab-df-convert {\n",
              "      background-color: #3B4455;\n",
              "      fill: #D2E3FC;\n",
              "    }\n",
              "\n",
              "    [theme=dark] .colab-df-convert:hover {\n",
              "      background-color: #434B5C;\n",
              "      box-shadow: 0px 1px 3px 1px rgba(0, 0, 0, 0.15);\n",
              "      filter: drop-shadow(0px 1px 2px rgba(0, 0, 0, 0.3));\n",
              "      fill: #FFFFFF;\n",
              "    }\n",
              "  </style>\n",
              "\n",
              "      <script>\n",
              "        const buttonEl =\n",
              "          document.querySelector('#df-1893bbb9-8f79-4a65-a7b2-5f60472e9e4e button.colab-df-convert');\n",
              "        buttonEl.style.display =\n",
              "          google.colab.kernel.accessAllowed ? 'block' : 'none';\n",
              "\n",
              "        async function convertToInteractive(key) {\n",
              "          const element = document.querySelector('#df-1893bbb9-8f79-4a65-a7b2-5f60472e9e4e');\n",
              "          const dataTable =\n",
              "            await google.colab.kernel.invokeFunction('convertToInteractive',\n",
              "                                                     [key], {});\n",
              "          if (!dataTable) return;\n",
              "\n",
              "          const docLinkHtml = 'Like what you see? Visit the ' +\n",
              "            '<a target=\"_blank\" href=https://colab.research.google.com/notebooks/data_table.ipynb>data table notebook</a>'\n",
              "            + ' to learn more about interactive tables.';\n",
              "          element.innerHTML = '';\n",
              "          dataTable['output_type'] = 'display_data';\n",
              "          await google.colab.output.renderOutput(dataTable, element);\n",
              "          const docLink = document.createElement('div');\n",
              "          docLink.innerHTML = docLinkHtml;\n",
              "          element.appendChild(docLink);\n",
              "        }\n",
              "      </script>\n",
              "    </div>\n",
              "  </div>\n",
              "  "
            ]
          },
          "metadata": {},
          "execution_count": 134
        }
      ]
    },
    {
      "cell_type": "code",
      "source": [
        "print(origination_df['num_bc_tl'].value_counts()[0])"
      ],
      "metadata": {
        "id": "SnNUaUBdX-nB",
        "outputId": "627932bb-a0f2-4395-9423-338d23338373",
        "colab": {
          "base_uri": "https://localhost:8080/"
        }
      },
      "execution_count": 135,
      "outputs": [
        {
          "output_type": "stream",
          "name": "stdout",
          "text": [
            "3285\n"
          ]
        }
      ]
    },
    {
      "cell_type": "code",
      "source": [
        "origination_df[null.index[:17]].describe()"
      ],
      "metadata": {
        "id": "2gpIqbXgYu63",
        "outputId": "0821e96b-da81-4d25-8502-d7448174e906",
        "colab": {
          "base_uri": "https://localhost:8080/",
          "height": 364
        }
      },
      "execution_count": 136,
      "outputs": [
        {
          "output_type": "execute_result",
          "data": {
            "text/plain": [
              "       num_actv_bc_tl  num_actv_rev_tl   num_bc_sats     num_bc_tl  \\\n",
              "count    1.241831e+06     1.241831e+06  1.248678e+06  1.241831e+06   \n",
              "mean     3.693404e+00     5.682561e+00  4.779420e+00  7.744212e+00   \n",
              "std      2.331715e+00     3.404771e+00  3.038750e+00  4.710918e+00   \n",
              "min      0.000000e+00     0.000000e+00  0.000000e+00  0.000000e+00   \n",
              "25%      2.000000e+00     3.000000e+00  3.000000e+00  4.000000e+00   \n",
              "50%      3.000000e+00     5.000000e+00  4.000000e+00  7.000000e+00   \n",
              "75%      5.000000e+00     7.000000e+00  6.000000e+00  1.000000e+01   \n",
              "max      4.500000e+01     5.400000e+01  7.100000e+01  8.500000e+01   \n",
              "\n",
              "          num_il_tl  num_op_rev_tl  num_rev_accts  num_rev_tl_bal_gt_0  \\\n",
              "count  1.241831e+06   1.241831e+06   1.241831e+06         1.241831e+06   \n",
              "mean   8.438429e+00   8.284069e+00   1.405786e+01         5.628511e+00   \n",
              "std    7.393168e+00   4.690573e+00   8.055113e+00         3.314242e+00   \n",
              "min    0.000000e+00   0.000000e+00   0.000000e+00         0.000000e+00   \n",
              "25%    3.000000e+00   5.000000e+00   8.000000e+00         3.000000e+00   \n",
              "50%    6.000000e+00   7.000000e+00   1.200000e+01         5.000000e+00   \n",
              "75%    1.100000e+01   1.100000e+01   1.800000e+01         7.000000e+00   \n",
              "max    1.590000e+02   9.100000e+01   1.280000e+02         5.500000e+01   \n",
              "\n",
              "           num_sats  pct_tl_nvr_dlq  percent_bc_gt_75  pub_rec_bankruptcies  \\\n",
              "count  1.248678e+06    1.241736e+06      1.239202e+06          1.280211e+06   \n",
              "mean   1.166138e+01    9.408449e+01      4.322875e+01          1.309550e-01   \n",
              "std    5.648912e+00    9.025152e+00      3.626004e+01          3.691172e-01   \n",
              "min    0.000000e+00    0.000000e+00      0.000000e+00          0.000000e+00   \n",
              "25%    8.000000e+00    9.130000e+01      0.000000e+00          0.000000e+00   \n",
              "50%    1.100000e+01    1.000000e+02      4.000000e+01          0.000000e+00   \n",
              "75%    1.400000e+01    1.000000e+02      7.500000e+01          0.000000e+00   \n",
              "max    9.700000e+01    1.000000e+02      1.000000e+02          1.100000e+01   \n",
              "\n",
              "          tax_liens  tot_hi_cred_lim  total_bal_ex_mort  total_bc_limit  \\\n",
              "count  1.280600e+06     1.241831e+06       1.253638e+06    1.253638e+06   \n",
              "mean   4.847025e-02     1.747688e+05       5.088235e+04    2.268758e+04   \n",
              "std    3.841387e-01     1.792884e+05       4.953242e+04    2.257831e+04   \n",
              "min    0.000000e+00     0.000000e+00       0.000000e+00    0.000000e+00   \n",
              "25%    0.000000e+00     4.993000e+04       2.096200e+04    8.100000e+03   \n",
              "50%    0.000000e+00     1.104910e+05       3.784500e+04    1.590000e+04   \n",
              "75%    0.000000e+00     2.523105e+05       6.419100e+04    2.960000e+04   \n",
              "max    8.500000e+01     9.999999e+06       2.921551e+06    8.343000e+05   \n",
              "\n",
              "       total_il_high_credit_limit  \n",
              "count                1.241831e+06  \n",
              "mean                 4.358568e+04  \n",
              "std                  4.476672e+04  \n",
              "min                  0.000000e+00  \n",
              "25%                  1.500000e+04  \n",
              "50%                  3.262600e+04  \n",
              "75%                  5.856900e+04  \n",
              "max                  2.118996e+06  "
            ],
            "text/html": [
              "\n",
              "  <div id=\"df-e01bbd9d-206c-46c0-aa8a-7acd2567e73d\">\n",
              "    <div class=\"colab-df-container\">\n",
              "      <div>\n",
              "<style scoped>\n",
              "    .dataframe tbody tr th:only-of-type {\n",
              "        vertical-align: middle;\n",
              "    }\n",
              "\n",
              "    .dataframe tbody tr th {\n",
              "        vertical-align: top;\n",
              "    }\n",
              "\n",
              "    .dataframe thead th {\n",
              "        text-align: right;\n",
              "    }\n",
              "</style>\n",
              "<table border=\"1\" class=\"dataframe\">\n",
              "  <thead>\n",
              "    <tr style=\"text-align: right;\">\n",
              "      <th></th>\n",
              "      <th>num_actv_bc_tl</th>\n",
              "      <th>num_actv_rev_tl</th>\n",
              "      <th>num_bc_sats</th>\n",
              "      <th>num_bc_tl</th>\n",
              "      <th>num_il_tl</th>\n",
              "      <th>num_op_rev_tl</th>\n",
              "      <th>num_rev_accts</th>\n",
              "      <th>num_rev_tl_bal_gt_0</th>\n",
              "      <th>num_sats</th>\n",
              "      <th>pct_tl_nvr_dlq</th>\n",
              "      <th>percent_bc_gt_75</th>\n",
              "      <th>pub_rec_bankruptcies</th>\n",
              "      <th>tax_liens</th>\n",
              "      <th>tot_hi_cred_lim</th>\n",
              "      <th>total_bal_ex_mort</th>\n",
              "      <th>total_bc_limit</th>\n",
              "      <th>total_il_high_credit_limit</th>\n",
              "    </tr>\n",
              "  </thead>\n",
              "  <tbody>\n",
              "    <tr>\n",
              "      <th>count</th>\n",
              "      <td>1.241831e+06</td>\n",
              "      <td>1.241831e+06</td>\n",
              "      <td>1.248678e+06</td>\n",
              "      <td>1.241831e+06</td>\n",
              "      <td>1.241831e+06</td>\n",
              "      <td>1.241831e+06</td>\n",
              "      <td>1.241831e+06</td>\n",
              "      <td>1.241831e+06</td>\n",
              "      <td>1.248678e+06</td>\n",
              "      <td>1.241736e+06</td>\n",
              "      <td>1.239202e+06</td>\n",
              "      <td>1.280211e+06</td>\n",
              "      <td>1.280600e+06</td>\n",
              "      <td>1.241831e+06</td>\n",
              "      <td>1.253638e+06</td>\n",
              "      <td>1.253638e+06</td>\n",
              "      <td>1.241831e+06</td>\n",
              "    </tr>\n",
              "    <tr>\n",
              "      <th>mean</th>\n",
              "      <td>3.693404e+00</td>\n",
              "      <td>5.682561e+00</td>\n",
              "      <td>4.779420e+00</td>\n",
              "      <td>7.744212e+00</td>\n",
              "      <td>8.438429e+00</td>\n",
              "      <td>8.284069e+00</td>\n",
              "      <td>1.405786e+01</td>\n",
              "      <td>5.628511e+00</td>\n",
              "      <td>1.166138e+01</td>\n",
              "      <td>9.408449e+01</td>\n",
              "      <td>4.322875e+01</td>\n",
              "      <td>1.309550e-01</td>\n",
              "      <td>4.847025e-02</td>\n",
              "      <td>1.747688e+05</td>\n",
              "      <td>5.088235e+04</td>\n",
              "      <td>2.268758e+04</td>\n",
              "      <td>4.358568e+04</td>\n",
              "    </tr>\n",
              "    <tr>\n",
              "      <th>std</th>\n",
              "      <td>2.331715e+00</td>\n",
              "      <td>3.404771e+00</td>\n",
              "      <td>3.038750e+00</td>\n",
              "      <td>4.710918e+00</td>\n",
              "      <td>7.393168e+00</td>\n",
              "      <td>4.690573e+00</td>\n",
              "      <td>8.055113e+00</td>\n",
              "      <td>3.314242e+00</td>\n",
              "      <td>5.648912e+00</td>\n",
              "      <td>9.025152e+00</td>\n",
              "      <td>3.626004e+01</td>\n",
              "      <td>3.691172e-01</td>\n",
              "      <td>3.841387e-01</td>\n",
              "      <td>1.792884e+05</td>\n",
              "      <td>4.953242e+04</td>\n",
              "      <td>2.257831e+04</td>\n",
              "      <td>4.476672e+04</td>\n",
              "    </tr>\n",
              "    <tr>\n",
              "      <th>min</th>\n",
              "      <td>0.000000e+00</td>\n",
              "      <td>0.000000e+00</td>\n",
              "      <td>0.000000e+00</td>\n",
              "      <td>0.000000e+00</td>\n",
              "      <td>0.000000e+00</td>\n",
              "      <td>0.000000e+00</td>\n",
              "      <td>0.000000e+00</td>\n",
              "      <td>0.000000e+00</td>\n",
              "      <td>0.000000e+00</td>\n",
              "      <td>0.000000e+00</td>\n",
              "      <td>0.000000e+00</td>\n",
              "      <td>0.000000e+00</td>\n",
              "      <td>0.000000e+00</td>\n",
              "      <td>0.000000e+00</td>\n",
              "      <td>0.000000e+00</td>\n",
              "      <td>0.000000e+00</td>\n",
              "      <td>0.000000e+00</td>\n",
              "    </tr>\n",
              "    <tr>\n",
              "      <th>25%</th>\n",
              "      <td>2.000000e+00</td>\n",
              "      <td>3.000000e+00</td>\n",
              "      <td>3.000000e+00</td>\n",
              "      <td>4.000000e+00</td>\n",
              "      <td>3.000000e+00</td>\n",
              "      <td>5.000000e+00</td>\n",
              "      <td>8.000000e+00</td>\n",
              "      <td>3.000000e+00</td>\n",
              "      <td>8.000000e+00</td>\n",
              "      <td>9.130000e+01</td>\n",
              "      <td>0.000000e+00</td>\n",
              "      <td>0.000000e+00</td>\n",
              "      <td>0.000000e+00</td>\n",
              "      <td>4.993000e+04</td>\n",
              "      <td>2.096200e+04</td>\n",
              "      <td>8.100000e+03</td>\n",
              "      <td>1.500000e+04</td>\n",
              "    </tr>\n",
              "    <tr>\n",
              "      <th>50%</th>\n",
              "      <td>3.000000e+00</td>\n",
              "      <td>5.000000e+00</td>\n",
              "      <td>4.000000e+00</td>\n",
              "      <td>7.000000e+00</td>\n",
              "      <td>6.000000e+00</td>\n",
              "      <td>7.000000e+00</td>\n",
              "      <td>1.200000e+01</td>\n",
              "      <td>5.000000e+00</td>\n",
              "      <td>1.100000e+01</td>\n",
              "      <td>1.000000e+02</td>\n",
              "      <td>4.000000e+01</td>\n",
              "      <td>0.000000e+00</td>\n",
              "      <td>0.000000e+00</td>\n",
              "      <td>1.104910e+05</td>\n",
              "      <td>3.784500e+04</td>\n",
              "      <td>1.590000e+04</td>\n",
              "      <td>3.262600e+04</td>\n",
              "    </tr>\n",
              "    <tr>\n",
              "      <th>75%</th>\n",
              "      <td>5.000000e+00</td>\n",
              "      <td>7.000000e+00</td>\n",
              "      <td>6.000000e+00</td>\n",
              "      <td>1.000000e+01</td>\n",
              "      <td>1.100000e+01</td>\n",
              "      <td>1.100000e+01</td>\n",
              "      <td>1.800000e+01</td>\n",
              "      <td>7.000000e+00</td>\n",
              "      <td>1.400000e+01</td>\n",
              "      <td>1.000000e+02</td>\n",
              "      <td>7.500000e+01</td>\n",
              "      <td>0.000000e+00</td>\n",
              "      <td>0.000000e+00</td>\n",
              "      <td>2.523105e+05</td>\n",
              "      <td>6.419100e+04</td>\n",
              "      <td>2.960000e+04</td>\n",
              "      <td>5.856900e+04</td>\n",
              "    </tr>\n",
              "    <tr>\n",
              "      <th>max</th>\n",
              "      <td>4.500000e+01</td>\n",
              "      <td>5.400000e+01</td>\n",
              "      <td>7.100000e+01</td>\n",
              "      <td>8.500000e+01</td>\n",
              "      <td>1.590000e+02</td>\n",
              "      <td>9.100000e+01</td>\n",
              "      <td>1.280000e+02</td>\n",
              "      <td>5.500000e+01</td>\n",
              "      <td>9.700000e+01</td>\n",
              "      <td>1.000000e+02</td>\n",
              "      <td>1.000000e+02</td>\n",
              "      <td>1.100000e+01</td>\n",
              "      <td>8.500000e+01</td>\n",
              "      <td>9.999999e+06</td>\n",
              "      <td>2.921551e+06</td>\n",
              "      <td>8.343000e+05</td>\n",
              "      <td>2.118996e+06</td>\n",
              "    </tr>\n",
              "  </tbody>\n",
              "</table>\n",
              "</div>\n",
              "      <button class=\"colab-df-convert\" onclick=\"convertToInteractive('df-e01bbd9d-206c-46c0-aa8a-7acd2567e73d')\"\n",
              "              title=\"Convert this dataframe to an interactive table.\"\n",
              "              style=\"display:none;\">\n",
              "        \n",
              "  <svg xmlns=\"http://www.w3.org/2000/svg\" height=\"24px\"viewBox=\"0 0 24 24\"\n",
              "       width=\"24px\">\n",
              "    <path d=\"M0 0h24v24H0V0z\" fill=\"none\"/>\n",
              "    <path d=\"M18.56 5.44l.94 2.06.94-2.06 2.06-.94-2.06-.94-.94-2.06-.94 2.06-2.06.94zm-11 1L8.5 8.5l.94-2.06 2.06-.94-2.06-.94L8.5 2.5l-.94 2.06-2.06.94zm10 10l.94 2.06.94-2.06 2.06-.94-2.06-.94-.94-2.06-.94 2.06-2.06.94z\"/><path d=\"M17.41 7.96l-1.37-1.37c-.4-.4-.92-.59-1.43-.59-.52 0-1.04.2-1.43.59L10.3 9.45l-7.72 7.72c-.78.78-.78 2.05 0 2.83L4 21.41c.39.39.9.59 1.41.59.51 0 1.02-.2 1.41-.59l7.78-7.78 2.81-2.81c.8-.78.8-2.07 0-2.86zM5.41 20L4 18.59l7.72-7.72 1.47 1.35L5.41 20z\"/>\n",
              "  </svg>\n",
              "      </button>\n",
              "      \n",
              "  <style>\n",
              "    .colab-df-container {\n",
              "      display:flex;\n",
              "      flex-wrap:wrap;\n",
              "      gap: 12px;\n",
              "    }\n",
              "\n",
              "    .colab-df-convert {\n",
              "      background-color: #E8F0FE;\n",
              "      border: none;\n",
              "      border-radius: 50%;\n",
              "      cursor: pointer;\n",
              "      display: none;\n",
              "      fill: #1967D2;\n",
              "      height: 32px;\n",
              "      padding: 0 0 0 0;\n",
              "      width: 32px;\n",
              "    }\n",
              "\n",
              "    .colab-df-convert:hover {\n",
              "      background-color: #E2EBFA;\n",
              "      box-shadow: 0px 1px 2px rgba(60, 64, 67, 0.3), 0px 1px 3px 1px rgba(60, 64, 67, 0.15);\n",
              "      fill: #174EA6;\n",
              "    }\n",
              "\n",
              "    [theme=dark] .colab-df-convert {\n",
              "      background-color: #3B4455;\n",
              "      fill: #D2E3FC;\n",
              "    }\n",
              "\n",
              "    [theme=dark] .colab-df-convert:hover {\n",
              "      background-color: #434B5C;\n",
              "      box-shadow: 0px 1px 3px 1px rgba(0, 0, 0, 0.15);\n",
              "      filter: drop-shadow(0px 1px 2px rgba(0, 0, 0, 0.3));\n",
              "      fill: #FFFFFF;\n",
              "    }\n",
              "  </style>\n",
              "\n",
              "      <script>\n",
              "        const buttonEl =\n",
              "          document.querySelector('#df-e01bbd9d-206c-46c0-aa8a-7acd2567e73d button.colab-df-convert');\n",
              "        buttonEl.style.display =\n",
              "          google.colab.kernel.accessAllowed ? 'block' : 'none';\n",
              "\n",
              "        async function convertToInteractive(key) {\n",
              "          const element = document.querySelector('#df-e01bbd9d-206c-46c0-aa8a-7acd2567e73d');\n",
              "          const dataTable =\n",
              "            await google.colab.kernel.invokeFunction('convertToInteractive',\n",
              "                                                     [key], {});\n",
              "          if (!dataTable) return;\n",
              "\n",
              "          const docLinkHtml = 'Like what you see? Visit the ' +\n",
              "            '<a target=\"_blank\" href=https://colab.research.google.com/notebooks/data_table.ipynb>data table notebook</a>'\n",
              "            + ' to learn more about interactive tables.';\n",
              "          element.innerHTML = '';\n",
              "          dataTable['output_type'] = 'display_data';\n",
              "          await google.colab.output.renderOutput(dataTable, element);\n",
              "          const docLink = document.createElement('div');\n",
              "          docLink.innerHTML = docLinkHtml;\n",
              "          element.appendChild(docLink);\n",
              "        }\n",
              "      </script>\n",
              "    </div>\n",
              "  </div>\n",
              "  "
            ]
          },
          "metadata": {},
          "execution_count": 136
        }
      ]
    },
    {
      "cell_type": "code",
      "source": [
        "origination_df[origination_df['application_type']=='Joint App']['dti_joint'] # 'annual_inc_joint']].value_counts()"
      ],
      "metadata": {
        "id": "EOmEfSrkZfMi",
        "outputId": "85ab2fa2-4254-4247-be64-556c3384922d",
        "colab": {
          "base_uri": "https://localhost:8080/"
        }
      },
      "execution_count": 137,
      "outputs": [
        {
          "output_type": "execute_result",
          "data": {
            "text/plain": [
              "1          13.85\n",
              "101        16.40\n",
              "254        15.40\n",
              "307        22.76\n",
              "386        17.07\n",
              "           ...  \n",
              "1280497    20.52\n",
              "1280572    15.30\n",
              "1280600     9.36\n",
              "1280622    19.13\n",
              "1280632    11.09\n",
              "Name: dti_joint, Length: 65496, dtype: float64"
            ]
          },
          "metadata": {},
          "execution_count": 137
        }
      ]
    },
    {
      "cell_type": "code",
      "source": [
        "# origination_df['pub_rec'].value_counts(dropna=False)\n",
        "origination_df['mths_since_recent_bc_dlq'].isnull().sum()\n",
        "# origination_df['emp_title'].dropna()[origination_df['emp_title'].dropna().str.startswith(\"\")]"
      ],
      "metadata": {
        "id": "-FGqSJarqpKL",
        "outputId": "d9a1d8d6-fa96-4908-df7e-6521442eee70",
        "colab": {
          "base_uri": "https://localhost:8080/"
        }
      },
      "execution_count": 138,
      "outputs": [
        {
          "output_type": "execute_result",
          "data": {
            "text/plain": [
              "982792"
            ]
          },
          "metadata": {},
          "execution_count": 138
        }
      ]
    },
    {
      "cell_type": "code",
      "source": [
        "origination_df['emp_length'].value_counts(dropna=False)[np.nan]"
      ],
      "metadata": {
        "id": "PpiW8IB30aF5",
        "outputId": "c13ef8bc-8f5a-4a29-ec53-b2f87cfdfa70",
        "colab": {
          "base_uri": "https://localhost:8080/"
        }
      },
      "execution_count": 139,
      "outputs": [
        {
          "output_type": "execute_result",
          "data": {
            "text/plain": [
              "85395"
            ]
          },
          "metadata": {},
          "execution_count": 139
        }
      ]
    },
    {
      "cell_type": "code",
      "source": [
        "# origination_df.columns[origination_df.columns.str.contains(\"emp\")]\n",
        "origination_df[origination_df['emp_length'].isnull()]['emp_title'].value_counts(dropna=False)"
      ],
      "metadata": {
        "id": "MROYbGRx00yJ",
        "outputId": "016d101d-ddc4-432d-d308-e28e0a89f988",
        "colab": {
          "base_uri": "https://localhost:8080/"
        }
      },
      "execution_count": 140,
      "outputs": [
        {
          "output_type": "execute_result",
          "data": {
            "text/plain": [
              "NaN                     84920\n",
              "Owner                      15\n",
              "Driver                      7\n",
              "owner                       6\n",
              "Teacher                     5\n",
              "                        ...  \n",
              "Owner/Operator              1\n",
              "Nanny                       1\n",
              "Sales representative        1\n",
              "GS9                         1\n",
              "Finance                     1\n",
              "Name: emp_title, Length: 398, dtype: int64"
            ]
          },
          "metadata": {},
          "execution_count": 140
        }
      ]
    },
    {
      "cell_type": "code",
      "source": [
        "origination_df['emp_length']"
      ],
      "metadata": {
        "id": "N0oj8Xfg1i22",
        "outputId": "e2d61344-7ba6-4474-b0ee-44096e43da45",
        "colab": {
          "base_uri": "https://localhost:8080/"
        }
      },
      "execution_count": 141,
      "outputs": [
        {
          "output_type": "execute_result",
          "data": {
            "text/plain": [
              "0          10+ years\n",
              "1          10+ years\n",
              "2          10+ years\n",
              "3          10+ years\n",
              "4            6 years\n",
              "             ...    \n",
              "1280641      4 years\n",
              "1280642      7 years\n",
              "1280643    10+ years\n",
              "1280644      6 years\n",
              "1280645    10+ years\n",
              "Name: emp_length, Length: 1280646, dtype: object"
            ]
          },
          "metadata": {},
          "execution_count": 141
        }
      ]
    },
    {
      "cell_type": "code",
      "source": [
        "origination_df['mths_since_recent_bc_dlq'].value_counts()"
      ],
      "metadata": {
        "id": "PPngsxkF3Ygq",
        "outputId": "b7f521d6-12a5-4554-aead-91380f36a384",
        "colab": {
          "base_uri": "https://localhost:8080/"
        }
      },
      "execution_count": 142,
      "outputs": [
        {
          "output_type": "execute_result",
          "data": {
            "text/plain": [
              "26.0     4642\n",
              "44.0     4554\n",
              "22.0     4543\n",
              "24.0     4529\n",
              "25.0     4522\n",
              "         ... \n",
              "174.0       1\n",
              "138.0       1\n",
              "153.0       1\n",
              "154.0       1\n",
              "202.0       1\n",
              "Name: mths_since_recent_bc_dlq, Length: 167, dtype: int64"
            ]
          },
          "metadata": {},
          "execution_count": 142
        }
      ]
    },
    {
      "cell_type": "code",
      "source": [
        "origination_df['open_acc_6m'][origination_df['mths_since_rcnt_il'].isnull()].value_counts(dropna=False)"
      ],
      "metadata": {
        "id": "UiYWA0Zz4IIF",
        "outputId": "95355236-14ae-4486-d540-00b876efadde",
        "colab": {
          "base_uri": "https://localhost:8080/"
        }
      },
      "execution_count": 143,
      "outputs": [
        {
          "output_type": "execute_result",
          "data": {
            "text/plain": [
              "NaN    507026\n",
              "0.0     14210\n",
              "1.0      6664\n",
              "2.0      2388\n",
              "3.0       838\n",
              "4.0       260\n",
              "5.0       105\n",
              "6.0        28\n",
              "7.0        13\n",
              "9.0         4\n",
              "8.0         4\n",
              "Name: open_acc_6m, dtype: int64"
            ]
          },
          "metadata": {},
          "execution_count": 143
        }
      ]
    },
    {
      "cell_type": "code",
      "source": [
        "origination_df['mo_sin_old_rev_tl_op'].dropna()"
      ],
      "metadata": {
        "id": "-9Wr_k_M9t1w",
        "outputId": "a79ce051-25c7-4ff7-99fb-aea956d9f26c",
        "colab": {
          "base_uri": "https://localhost:8080/"
        }
      },
      "execution_count": 144,
      "outputs": [
        {
          "output_type": "execute_result",
          "data": {
            "text/plain": [
              "0          192.0\n",
              "1          184.0\n",
              "2           55.0\n",
              "3          253.0\n",
              "4          248.0\n",
              "           ...  \n",
              "1280641    187.0\n",
              "1280642     88.0\n",
              "1280643    307.0\n",
              "1280644    206.0\n",
              "1280645    243.0\n",
              "Name: mo_sin_old_rev_tl_op, Length: 1241830, dtype: float64"
            ]
          },
          "metadata": {},
          "execution_count": 144
        }
      ]
    },
    {
      "cell_type": "code",
      "source": [
        "origination_df['percent_bc_gt_75'].value_counts(dropna=False)"
      ],
      "metadata": {
        "id": "kKHt_Tjy_jZ_",
        "outputId": "35bca4c1-4db0-4824-864e-8eca27334350",
        "colab": {
          "base_uri": "https://localhost:8080/"
        }
      },
      "execution_count": 145,
      "outputs": [
        {
          "output_type": "execute_result",
          "data": {
            "text/plain": [
              "0.0      329257\n",
              "100.0    216897\n",
              "50.0     132255\n",
              "33.3      83205\n",
              "66.7      77645\n",
              "          ...  \n",
              "8.8           1\n",
              "36.7          1\n",
              "3.0           1\n",
              "88.0          1\n",
              "60.9          1\n",
              "Name: percent_bc_gt_75, Length: 260, dtype: int64"
            ]
          },
          "metadata": {},
          "execution_count": 145
        }
      ]
    },
    {
      "cell_type": "code",
      "source": [
        "origination_df[origination_df['application_type']=='Joint App']['sec_app_mort_acc'].value_counts(dropna=False).sum()"
      ],
      "metadata": {
        "id": "zXqioQYCKw5S",
        "outputId": "f3ba0c18-ba7f-486c-f0cb-4e12091da911",
        "colab": {
          "base_uri": "https://localhost:8080/"
        }
      },
      "execution_count": 146,
      "outputs": [
        {
          "output_type": "execute_result",
          "data": {
            "text/plain": [
              "65496"
            ]
          },
          "metadata": {},
          "execution_count": 146
        }
      ]
    },
    {
      "cell_type": "code",
      "source": [
        "len(origination_df) - 1260860 #58175"
      ],
      "metadata": {
        "id": "RIsPARnHNT3u",
        "outputId": "09a63eb3-c9d0-4fa1-dc01-6428d3a0003e",
        "colab": {
          "base_uri": "https://localhost:8080/"
        }
      },
      "execution_count": 147,
      "outputs": [
        {
          "output_type": "execute_result",
          "data": {
            "text/plain": [
              "19786"
            ]
          },
          "metadata": {},
          "execution_count": 147
        }
      ]
    },
    {
      "cell_type": "code",
      "source": [
        "origination_df['sec_app_mths_since_last_major_derog']"
      ],
      "metadata": {
        "id": "Gxmf-R76N6Hi",
        "outputId": "892f4671-ef7a-40ff-9ddd-089c7a9aab78",
        "colab": {
          "base_uri": "https://localhost:8080/"
        }
      },
      "execution_count": 148,
      "outputs": [
        {
          "output_type": "execute_result",
          "data": {
            "text/plain": [
              "0         NaN\n",
              "1         NaN\n",
              "2         NaN\n",
              "3         NaN\n",
              "4         NaN\n",
              "           ..\n",
              "1280641   NaN\n",
              "1280642   NaN\n",
              "1280643   NaN\n",
              "1280644   NaN\n",
              "1280645   NaN\n",
              "Name: sec_app_mths_since_last_major_derog, Length: 1280646, dtype: float64"
            ]
          },
          "metadata": {},
          "execution_count": 148
        }
      ]
    },
    {
      "cell_type": "code",
      "source": [],
      "metadata": {
        "id": "OIbO0-I1O5VW"
      },
      "execution_count": 148,
      "outputs": []
    },
    {
      "cell_type": "markdown",
      "source": [
        "#Transformation First 30"
      ],
      "metadata": {
        "id": "oPTf4XI3jLKC"
      }
    },
    {
      "cell_type": "code",
      "source": [
        "transformed_data = origination_df.copy()"
      ],
      "metadata": {
        "id": "AGd2EBwVkw28"
      },
      "execution_count": 149,
      "outputs": []
    },
    {
      "cell_type": "markdown",
      "source": [
        "### Generate Coborrower income column and delete annual_inc_joint column"
      ],
      "metadata": {
        "id": "0c8A_yPQlUG3"
      }
    },
    {
      "cell_type": "code",
      "source": [
        "transformed_data['coborrower_inc'] = (origination_df['annual_inc_joint'] - origination_df['annual_inc']).fillna(0)\n",
        "drop_columns = ['annual_inc_joint']"
      ],
      "metadata": {
        "id": "bopZay2xjM_m"
      },
      "execution_count": 150,
      "outputs": []
    },
    {
      "cell_type": "code",
      "source": [
        "transformed_data['dti_joint'] = origination_df['dti_joint'].fillna(0)"
      ],
      "metadata": {
        "id": "16tQ2QW-jaLf"
      },
      "execution_count": 151,
      "outputs": []
    },
    {
      "cell_type": "code",
      "source": [
        "drop_columns.append('mths_since_last_record')\n"
      ],
      "metadata": {
        "id": "gT4QaHeqkfDF"
      },
      "execution_count": 152,
      "outputs": []
    },
    {
      "cell_type": "code",
      "source": [
        "drop_columns+=['emp_length', 'emp_title']"
      ],
      "metadata": {
        "id": "1sTMQsNLlplt"
      },
      "execution_count": 153,
      "outputs": []
    },
    {
      "cell_type": "code",
      "source": [
        "drop_columns+=['desc']"
      ],
      "metadata": {
        "id": "5EyWNr0cnKaq"
      },
      "execution_count": 154,
      "outputs": []
    },
    {
      "cell_type": "code",
      "source": [
        "transformed_data['bank_dlq'] = np.where(origination_df['mths_since_recent_bc_dlq'].isnull(), 0, 1)\n",
        "drop_columns+=['mths_since_recent_bc_dlq']"
      ],
      "metadata": {
        "id": "HCBXpX5tnuFc"
      },
      "execution_count": 155,
      "outputs": []
    },
    {
      "cell_type": "markdown",
      "source": [
        "# Transformation Mid 30"
      ],
      "metadata": {
        "id": "7aqneJCzpe4s"
      }
    },
    {
      "cell_type": "code",
      "source": [
        "transformed_data['il_acc'] = np.where(origination_df['mths_since_rcnt_il'].isnull(), 0, 1)\n",
        "drop_columns += ['mths_since_rcnt_il']"
      ],
      "metadata": {
        "id": "XkRZ6NXHn8bz"
      },
      "execution_count": 156,
      "outputs": []
    },
    {
      "cell_type": "code",
      "source": [
        "transformed_data['total_bal_il'] = origination_df['total_bal_il'].fillna(0)"
      ],
      "metadata": {
        "id": "XmpMLH70pqCh"
      },
      "execution_count": 157,
      "outputs": []
    },
    {
      "cell_type": "code",
      "source": [
        "drop_columns"
      ],
      "metadata": {
        "id": "x7JtZx-kpxpp",
        "outputId": "baaf1dca-32ff-49b5-dfb5-45fb02d5b861",
        "colab": {
          "base_uri": "https://localhost:8080/"
        }
      },
      "execution_count": 158,
      "outputs": [
        {
          "output_type": "execute_result",
          "data": {
            "text/plain": [
              "['annual_inc_joint',\n",
              " 'mths_since_last_record',\n",
              " 'emp_length',\n",
              " 'emp_title',\n",
              " 'desc',\n",
              " 'mths_since_recent_bc_dlq',\n",
              " 'mths_since_rcnt_il']"
            ]
          },
          "metadata": {},
          "execution_count": 158
        }
      ]
    },
    {
      "cell_type": "code",
      "source": [
        "origination_df['il_util'].value_counts(dropna=False)"
      ],
      "metadata": {
        "id": "DN0XTqOLrGs5",
        "outputId": "39fa006a-07e0-4876-d0c3-7681e9681285",
        "colab": {
          "base_uri": "https://localhost:8080/"
        }
      },
      "execution_count": 159,
      "outputs": [
        {
          "output_type": "execute_result",
          "data": {
            "text/plain": [
              "NaN      618602\n",
              "81.0      12721\n",
              "78.0      12655\n",
              "75.0      12471\n",
              "83.0      12458\n",
              "          ...  \n",
              "234.0         1\n",
              "228.0         1\n",
              "195.0         1\n",
              "369.0         1\n",
              "246.0         1\n",
              "Name: il_util, Length: 261, dtype: int64"
            ]
          },
          "metadata": {},
          "execution_count": 159
        }
      ]
    },
    {
      "cell_type": "code",
      "source": [
        "transformed_data['il_util'] = origination_df['il_util'].fillna(0) # Replacing nan with 0 might coincide with the people who have paid up their loans and have 0 balance. Hence, 0 il_util"
      ],
      "metadata": {
        "id": "91ClczWjrI2g"
      },
      "execution_count": 160,
      "outputs": []
    },
    {
      "cell_type": "code",
      "source": [
        "drop_columns+=['open_il_12m', 'all_util', 'chargeoff_within_12_mths', 'mo_sin_old_il_acct', 'mo_sin_old_rev_tl_op', 'mo_sin_rcnt_rev_tl_op', 'mo_sin_rcnt_tl']\n",
        "origination_df[['open_il_12m', 'all_util', 'chargeoff_within_12_mths', 'mo_sin_old_il_acct', 'mo_sin_old_rev_tl_op', 'mo_sin_rcnt_rev_tl_op', 'mo_sin_rcnt_tl']]"
      ],
      "metadata": {
        "id": "26yb871NsXCH",
        "outputId": "11363fed-0112-4f8a-b635-1336f76ac4a2",
        "colab": {
          "base_uri": "https://localhost:8080/",
          "height": 423
        }
      },
      "execution_count": 161,
      "outputs": [
        {
          "output_type": "execute_result",
          "data": {
            "text/plain": [
              "         open_il_12m  all_util  chargeoff_within_12_mths  mo_sin_old_il_acct  \\\n",
              "0                0.0      29.0                       0.0               113.0   \n",
              "1                0.0      65.0                       0.0               125.0   \n",
              "2                0.0      55.0                       0.0               149.0   \n",
              "3                2.0      49.0                       0.0               155.0   \n",
              "4                0.0      54.0                       0.0               150.0   \n",
              "...              ...       ...                       ...                 ...   \n",
              "1280641          0.0      24.0                       0.0                44.0   \n",
              "1280642          1.0     103.0                       0.0               201.0   \n",
              "1280643          0.0      59.0                       0.0               166.0   \n",
              "1280644          0.0      73.0                       0.0               132.0   \n",
              "1280645          1.0      84.0                       0.0               149.0   \n",
              "\n",
              "         mo_sin_old_rev_tl_op  mo_sin_rcnt_rev_tl_op  mo_sin_rcnt_tl  \n",
              "0                       192.0                    2.0             2.0  \n",
              "1                       184.0                   14.0            14.0  \n",
              "2                        55.0                   32.0            13.0  \n",
              "3                       253.0                   15.0            10.0  \n",
              "4                       248.0                    1.0             1.0  \n",
              "...                       ...                    ...             ...  \n",
              "1280641                 187.0                    0.0             0.0  \n",
              "1280642                  88.0                    3.0             3.0  \n",
              "1280643                 307.0                   15.0            15.0  \n",
              "1280644                 206.0                    9.0             9.0  \n",
              "1280645                 243.0                   22.0             7.0  \n",
              "\n",
              "[1280646 rows x 7 columns]"
            ],
            "text/html": [
              "\n",
              "  <div id=\"df-7d6cb04e-fc05-4a45-88c9-ca3a9562a6f1\">\n",
              "    <div class=\"colab-df-container\">\n",
              "      <div>\n",
              "<style scoped>\n",
              "    .dataframe tbody tr th:only-of-type {\n",
              "        vertical-align: middle;\n",
              "    }\n",
              "\n",
              "    .dataframe tbody tr th {\n",
              "        vertical-align: top;\n",
              "    }\n",
              "\n",
              "    .dataframe thead th {\n",
              "        text-align: right;\n",
              "    }\n",
              "</style>\n",
              "<table border=\"1\" class=\"dataframe\">\n",
              "  <thead>\n",
              "    <tr style=\"text-align: right;\">\n",
              "      <th></th>\n",
              "      <th>open_il_12m</th>\n",
              "      <th>all_util</th>\n",
              "      <th>chargeoff_within_12_mths</th>\n",
              "      <th>mo_sin_old_il_acct</th>\n",
              "      <th>mo_sin_old_rev_tl_op</th>\n",
              "      <th>mo_sin_rcnt_rev_tl_op</th>\n",
              "      <th>mo_sin_rcnt_tl</th>\n",
              "    </tr>\n",
              "  </thead>\n",
              "  <tbody>\n",
              "    <tr>\n",
              "      <th>0</th>\n",
              "      <td>0.0</td>\n",
              "      <td>29.0</td>\n",
              "      <td>0.0</td>\n",
              "      <td>113.0</td>\n",
              "      <td>192.0</td>\n",
              "      <td>2.0</td>\n",
              "      <td>2.0</td>\n",
              "    </tr>\n",
              "    <tr>\n",
              "      <th>1</th>\n",
              "      <td>0.0</td>\n",
              "      <td>65.0</td>\n",
              "      <td>0.0</td>\n",
              "      <td>125.0</td>\n",
              "      <td>184.0</td>\n",
              "      <td>14.0</td>\n",
              "      <td>14.0</td>\n",
              "    </tr>\n",
              "    <tr>\n",
              "      <th>2</th>\n",
              "      <td>0.0</td>\n",
              "      <td>55.0</td>\n",
              "      <td>0.0</td>\n",
              "      <td>149.0</td>\n",
              "      <td>55.0</td>\n",
              "      <td>32.0</td>\n",
              "      <td>13.0</td>\n",
              "    </tr>\n",
              "    <tr>\n",
              "      <th>3</th>\n",
              "      <td>2.0</td>\n",
              "      <td>49.0</td>\n",
              "      <td>0.0</td>\n",
              "      <td>155.0</td>\n",
              "      <td>253.0</td>\n",
              "      <td>15.0</td>\n",
              "      <td>10.0</td>\n",
              "    </tr>\n",
              "    <tr>\n",
              "      <th>4</th>\n",
              "      <td>0.0</td>\n",
              "      <td>54.0</td>\n",
              "      <td>0.0</td>\n",
              "      <td>150.0</td>\n",
              "      <td>248.0</td>\n",
              "      <td>1.0</td>\n",
              "      <td>1.0</td>\n",
              "    </tr>\n",
              "    <tr>\n",
              "      <th>...</th>\n",
              "      <td>...</td>\n",
              "      <td>...</td>\n",
              "      <td>...</td>\n",
              "      <td>...</td>\n",
              "      <td>...</td>\n",
              "      <td>...</td>\n",
              "      <td>...</td>\n",
              "    </tr>\n",
              "    <tr>\n",
              "      <th>1280641</th>\n",
              "      <td>0.0</td>\n",
              "      <td>24.0</td>\n",
              "      <td>0.0</td>\n",
              "      <td>44.0</td>\n",
              "      <td>187.0</td>\n",
              "      <td>0.0</td>\n",
              "      <td>0.0</td>\n",
              "    </tr>\n",
              "    <tr>\n",
              "      <th>1280642</th>\n",
              "      <td>1.0</td>\n",
              "      <td>103.0</td>\n",
              "      <td>0.0</td>\n",
              "      <td>201.0</td>\n",
              "      <td>88.0</td>\n",
              "      <td>3.0</td>\n",
              "      <td>3.0</td>\n",
              "    </tr>\n",
              "    <tr>\n",
              "      <th>1280643</th>\n",
              "      <td>0.0</td>\n",
              "      <td>59.0</td>\n",
              "      <td>0.0</td>\n",
              "      <td>166.0</td>\n",
              "      <td>307.0</td>\n",
              "      <td>15.0</td>\n",
              "      <td>15.0</td>\n",
              "    </tr>\n",
              "    <tr>\n",
              "      <th>1280644</th>\n",
              "      <td>0.0</td>\n",
              "      <td>73.0</td>\n",
              "      <td>0.0</td>\n",
              "      <td>132.0</td>\n",
              "      <td>206.0</td>\n",
              "      <td>9.0</td>\n",
              "      <td>9.0</td>\n",
              "    </tr>\n",
              "    <tr>\n",
              "      <th>1280645</th>\n",
              "      <td>1.0</td>\n",
              "      <td>84.0</td>\n",
              "      <td>0.0</td>\n",
              "      <td>149.0</td>\n",
              "      <td>243.0</td>\n",
              "      <td>22.0</td>\n",
              "      <td>7.0</td>\n",
              "    </tr>\n",
              "  </tbody>\n",
              "</table>\n",
              "<p>1280646 rows × 7 columns</p>\n",
              "</div>\n",
              "      <button class=\"colab-df-convert\" onclick=\"convertToInteractive('df-7d6cb04e-fc05-4a45-88c9-ca3a9562a6f1')\"\n",
              "              title=\"Convert this dataframe to an interactive table.\"\n",
              "              style=\"display:none;\">\n",
              "        \n",
              "  <svg xmlns=\"http://www.w3.org/2000/svg\" height=\"24px\"viewBox=\"0 0 24 24\"\n",
              "       width=\"24px\">\n",
              "    <path d=\"M0 0h24v24H0V0z\" fill=\"none\"/>\n",
              "    <path d=\"M18.56 5.44l.94 2.06.94-2.06 2.06-.94-2.06-.94-.94-2.06-.94 2.06-2.06.94zm-11 1L8.5 8.5l.94-2.06 2.06-.94-2.06-.94L8.5 2.5l-.94 2.06-2.06.94zm10 10l.94 2.06.94-2.06 2.06-.94-2.06-.94-.94-2.06-.94 2.06-2.06.94z\"/><path d=\"M17.41 7.96l-1.37-1.37c-.4-.4-.92-.59-1.43-.59-.52 0-1.04.2-1.43.59L10.3 9.45l-7.72 7.72c-.78.78-.78 2.05 0 2.83L4 21.41c.39.39.9.59 1.41.59.51 0 1.02-.2 1.41-.59l7.78-7.78 2.81-2.81c.8-.78.8-2.07 0-2.86zM5.41 20L4 18.59l7.72-7.72 1.47 1.35L5.41 20z\"/>\n",
              "  </svg>\n",
              "      </button>\n",
              "      \n",
              "  <style>\n",
              "    .colab-df-container {\n",
              "      display:flex;\n",
              "      flex-wrap:wrap;\n",
              "      gap: 12px;\n",
              "    }\n",
              "\n",
              "    .colab-df-convert {\n",
              "      background-color: #E8F0FE;\n",
              "      border: none;\n",
              "      border-radius: 50%;\n",
              "      cursor: pointer;\n",
              "      display: none;\n",
              "      fill: #1967D2;\n",
              "      height: 32px;\n",
              "      padding: 0 0 0 0;\n",
              "      width: 32px;\n",
              "    }\n",
              "\n",
              "    .colab-df-convert:hover {\n",
              "      background-color: #E2EBFA;\n",
              "      box-shadow: 0px 1px 2px rgba(60, 64, 67, 0.3), 0px 1px 3px 1px rgba(60, 64, 67, 0.15);\n",
              "      fill: #174EA6;\n",
              "    }\n",
              "\n",
              "    [theme=dark] .colab-df-convert {\n",
              "      background-color: #3B4455;\n",
              "      fill: #D2E3FC;\n",
              "    }\n",
              "\n",
              "    [theme=dark] .colab-df-convert:hover {\n",
              "      background-color: #434B5C;\n",
              "      box-shadow: 0px 1px 3px 1px rgba(0, 0, 0, 0.15);\n",
              "      filter: drop-shadow(0px 1px 2px rgba(0, 0, 0, 0.3));\n",
              "      fill: #FFFFFF;\n",
              "    }\n",
              "  </style>\n",
              "\n",
              "      <script>\n",
              "        const buttonEl =\n",
              "          document.querySelector('#df-7d6cb04e-fc05-4a45-88c9-ca3a9562a6f1 button.colab-df-convert');\n",
              "        buttonEl.style.display =\n",
              "          google.colab.kernel.accessAllowed ? 'block' : 'none';\n",
              "\n",
              "        async function convertToInteractive(key) {\n",
              "          const element = document.querySelector('#df-7d6cb04e-fc05-4a45-88c9-ca3a9562a6f1');\n",
              "          const dataTable =\n",
              "            await google.colab.kernel.invokeFunction('convertToInteractive',\n",
              "                                                     [key], {});\n",
              "          if (!dataTable) return;\n",
              "\n",
              "          const docLinkHtml = 'Like what you see? Visit the ' +\n",
              "            '<a target=\"_blank\" href=https://colab.research.google.com/notebooks/data_table.ipynb>data table notebook</a>'\n",
              "            + ' to learn more about interactive tables.';\n",
              "          element.innerHTML = '';\n",
              "          dataTable['output_type'] = 'display_data';\n",
              "          await google.colab.output.renderOutput(dataTable, element);\n",
              "          const docLink = document.createElement('div');\n",
              "          docLink.innerHTML = docLinkHtml;\n",
              "          element.appendChild(docLink);\n",
              "        }\n",
              "      </script>\n",
              "    </div>\n",
              "  </div>\n",
              "  "
            ]
          },
          "metadata": {},
          "execution_count": 161
        }
      ]
    },
    {
      "cell_type": "code",
      "source": [
        "df.columns[df.columns.str.contains(\"charge\")]"
      ],
      "metadata": {
        "id": "i1gcsUFOscqP",
        "outputId": "91c068b9-c5cb-49de-89f0-3a159ec13059",
        "colab": {
          "base_uri": "https://localhost:8080/"
        }
      },
      "execution_count": 162,
      "outputs": [
        {
          "output_type": "execute_result",
          "data": {
            "text/plain": [
              "Index(['chargeoff_within_12_mths', 'sec_app_chargeoff_within_12_mths'], dtype='object')"
            ]
          },
          "metadata": {},
          "execution_count": 162
        }
      ]
    },
    {
      "cell_type": "code",
      "source": [
        "drop_columns+=['revol_bal_joint', 'sec_app_earliest_cr_line', 'sec_app_inq_last_6mths', 'sec_app_mort_acc', 'sec_app_open_acc', 'sec_app_revol_util', 'sec_app_open_act_il', 'sec_app_num_rev_accts', 'sec_app_chargeoff_within_12_mths', 'sec_app_collections_12_mths_ex_med', 'sec_app_mths_since_last_major_derog']"
      ],
      "metadata": {
        "id": "kyFFTMyksgu_"
      },
      "execution_count": 163,
      "outputs": []
    },
    {
      "cell_type": "code",
      "source": [
        "# len(drop_columns)\n",
        "skeptical_columns = ['open_acc_6m', 'open_act_il', 'open_il_24m', 'open_il_12m', 'open_rv_12m', 'open_rv_24m', 'max_bal_bc', 'mths_since_recent_revol_delinq', 'total_cu_tl', 'inq_last_12m', 'inq_fi', 'mths_since_recent_inq']"
      ],
      "metadata": {
        "id": "-VC4kXqTy8fi"
      },
      "execution_count": 164,
      "outputs": []
    },
    {
      "cell_type": "code",
      "source": [
        "# transformed_data[skeptical_columns]\n",
        "# transformed_data['dti_joint'] = origination_df['dti_joint']\n",
        "transformed_data.drop(columns = skeptical_columns+drop_columns).dropna() #.isna().sum().to_dict()"
      ],
      "metadata": {
        "id": "3f0E45oIy_Li",
        "outputId": "3fb48d51-ed6c-44a0-d0ac-88cff8dbe9d1",
        "colab": {
          "base_uri": "https://localhost:8080/",
          "height": 661
        }
      },
      "execution_count": 165,
      "outputs": [
        {
          "output_type": "execute_result",
          "data": {
            "text/plain": [
              "               id  loan_amnt  funded_amnt  funded_amnt_inv        term  \\\n",
              "0        68355089    24700.0      24700.0          24700.0   36 months   \n",
              "2        67275481    20000.0      20000.0          20000.0   36 months   \n",
              "3        68616873     8000.0       8000.0           8000.0   36 months   \n",
              "4        68356421    22400.0      22400.0          22400.0   60 months   \n",
              "6        66624733    18000.0      18000.0          18000.0   60 months   \n",
              "...           ...        ...          ...              ...         ...   \n",
              "1280639  88948836    29400.0      29400.0          29400.0   60 months   \n",
              "1280640  89996426    32000.0      32000.0          32000.0   60 months   \n",
              "1280641  89955820    24000.0      24000.0          24000.0   60 months   \n",
              "1280643  88977788    24000.0      24000.0          24000.0   60 months   \n",
              "1280644  88224441    24000.0      24000.0          24000.0   60 months   \n",
              "\n",
              "         installment home_ownership  annual_inc             purpose  \\\n",
              "0             820.28       MORTGAGE     65000.0      small_business   \n",
              "2             631.26       MORTGAGE     85000.0      major_purchase   \n",
              "3             263.74       MORTGAGE     42000.0         credit_card   \n",
              "4             508.30       MORTGAGE     95000.0  debt_consolidation   \n",
              "6             471.70           RENT    150000.0  debt_consolidation   \n",
              "...              ...            ...         ...                 ...   \n",
              "1280639       683.94       MORTGAGE    180792.0  debt_consolidation   \n",
              "1280640       752.74       MORTGAGE    157000.0    home_improvement   \n",
              "1280641       515.74            OWN    125000.0         credit_card   \n",
              "1280643       515.74       MORTGAGE    108000.0  debt_consolidation   \n",
              "1280644       564.56           RENT    110000.0  debt_consolidation   \n",
              "\n",
              "                           title  ... pub_rec_bankruptcies tax_liens  \\\n",
              "0                       Business  ...                  0.0       0.0   \n",
              "2                 Major purchase  ...                  0.0       0.0   \n",
              "3        Credit card refinancing  ...                  0.0       0.0   \n",
              "4             Debt consolidation  ...                  0.0       0.0   \n",
              "6             Debt consolidation  ...                  1.0       0.0   \n",
              "...                          ...  ...                  ...       ...   \n",
              "1280639       Debt consolidation  ...                  0.0       0.0   \n",
              "1280640         Home improvement  ...                  0.0       0.0   \n",
              "1280641  Credit card refinancing  ...                  0.0       2.0   \n",
              "1280643       Debt consolidation  ...                  0.0       1.0   \n",
              "1280644       Debt consolidation  ...                  1.0       0.0   \n",
              "\n",
              "         tot_hi_cred_lim  total_bal_ex_mort total_bc_limit  \\\n",
              "0               314017.0            39475.0        79300.0   \n",
              "2               193390.0            27937.0        14500.0   \n",
              "3               256513.0           113782.0        17000.0   \n",
              "4               436841.0           184356.0        21000.0   \n",
              "6                65819.0            36247.0        10300.0   \n",
              "...                  ...                ...            ...   \n",
              "1280639         719056.0           148305.0        56500.0   \n",
              "1280640         524379.0           122872.0        15800.0   \n",
              "1280641         128902.0            31320.0        93700.0   \n",
              "1280643         227883.0           140118.0        27900.0   \n",
              "1280644          84664.0            62426.0        20700.0   \n",
              "\n",
              "         total_il_high_credit_limit  Default  coborrower_inc  bank_dlq  il_acc  \n",
              "0                           24667.0        0             0.0         0       1  \n",
              "2                           36144.0        0             0.0         0       1  \n",
              "3                          135513.0        0             0.0         0       1  \n",
              "4                          191682.0        0             0.0         0       1  \n",
              "6                           31319.0        1             0.0         0       1  \n",
              "...                             ...      ...             ...       ...     ...  \n",
              "1280639                     95702.0        0             0.0         0       1  \n",
              "1280640                     23879.0        1             0.0         0       1  \n",
              "1280641                     28602.0        0             0.0         0       1  \n",
              "1280643                    172283.0        0             0.0         1       1  \n",
              "1280644                     58764.0        1             0.0         0       1  \n",
              "\n",
              "[1211824 rows x 57 columns]"
            ],
            "text/html": [
              "\n",
              "  <div id=\"df-eb1f8f69-c49a-4d3a-aa0e-2a0c46a3df15\">\n",
              "    <div class=\"colab-df-container\">\n",
              "      <div>\n",
              "<style scoped>\n",
              "    .dataframe tbody tr th:only-of-type {\n",
              "        vertical-align: middle;\n",
              "    }\n",
              "\n",
              "    .dataframe tbody tr th {\n",
              "        vertical-align: top;\n",
              "    }\n",
              "\n",
              "    .dataframe thead th {\n",
              "        text-align: right;\n",
              "    }\n",
              "</style>\n",
              "<table border=\"1\" class=\"dataframe\">\n",
              "  <thead>\n",
              "    <tr style=\"text-align: right;\">\n",
              "      <th></th>\n",
              "      <th>id</th>\n",
              "      <th>loan_amnt</th>\n",
              "      <th>funded_amnt</th>\n",
              "      <th>funded_amnt_inv</th>\n",
              "      <th>term</th>\n",
              "      <th>installment</th>\n",
              "      <th>home_ownership</th>\n",
              "      <th>annual_inc</th>\n",
              "      <th>purpose</th>\n",
              "      <th>title</th>\n",
              "      <th>...</th>\n",
              "      <th>pub_rec_bankruptcies</th>\n",
              "      <th>tax_liens</th>\n",
              "      <th>tot_hi_cred_lim</th>\n",
              "      <th>total_bal_ex_mort</th>\n",
              "      <th>total_bc_limit</th>\n",
              "      <th>total_il_high_credit_limit</th>\n",
              "      <th>Default</th>\n",
              "      <th>coborrower_inc</th>\n",
              "      <th>bank_dlq</th>\n",
              "      <th>il_acc</th>\n",
              "    </tr>\n",
              "  </thead>\n",
              "  <tbody>\n",
              "    <tr>\n",
              "      <th>0</th>\n",
              "      <td>68355089</td>\n",
              "      <td>24700.0</td>\n",
              "      <td>24700.0</td>\n",
              "      <td>24700.0</td>\n",
              "      <td>36 months</td>\n",
              "      <td>820.28</td>\n",
              "      <td>MORTGAGE</td>\n",
              "      <td>65000.0</td>\n",
              "      <td>small_business</td>\n",
              "      <td>Business</td>\n",
              "      <td>...</td>\n",
              "      <td>0.0</td>\n",
              "      <td>0.0</td>\n",
              "      <td>314017.0</td>\n",
              "      <td>39475.0</td>\n",
              "      <td>79300.0</td>\n",
              "      <td>24667.0</td>\n",
              "      <td>0</td>\n",
              "      <td>0.0</td>\n",
              "      <td>0</td>\n",
              "      <td>1</td>\n",
              "    </tr>\n",
              "    <tr>\n",
              "      <th>2</th>\n",
              "      <td>67275481</td>\n",
              "      <td>20000.0</td>\n",
              "      <td>20000.0</td>\n",
              "      <td>20000.0</td>\n",
              "      <td>36 months</td>\n",
              "      <td>631.26</td>\n",
              "      <td>MORTGAGE</td>\n",
              "      <td>85000.0</td>\n",
              "      <td>major_purchase</td>\n",
              "      <td>Major purchase</td>\n",
              "      <td>...</td>\n",
              "      <td>0.0</td>\n",
              "      <td>0.0</td>\n",
              "      <td>193390.0</td>\n",
              "      <td>27937.0</td>\n",
              "      <td>14500.0</td>\n",
              "      <td>36144.0</td>\n",
              "      <td>0</td>\n",
              "      <td>0.0</td>\n",
              "      <td>0</td>\n",
              "      <td>1</td>\n",
              "    </tr>\n",
              "    <tr>\n",
              "      <th>3</th>\n",
              "      <td>68616873</td>\n",
              "      <td>8000.0</td>\n",
              "      <td>8000.0</td>\n",
              "      <td>8000.0</td>\n",
              "      <td>36 months</td>\n",
              "      <td>263.74</td>\n",
              "      <td>MORTGAGE</td>\n",
              "      <td>42000.0</td>\n",
              "      <td>credit_card</td>\n",
              "      <td>Credit card refinancing</td>\n",
              "      <td>...</td>\n",
              "      <td>0.0</td>\n",
              "      <td>0.0</td>\n",
              "      <td>256513.0</td>\n",
              "      <td>113782.0</td>\n",
              "      <td>17000.0</td>\n",
              "      <td>135513.0</td>\n",
              "      <td>0</td>\n",
              "      <td>0.0</td>\n",
              "      <td>0</td>\n",
              "      <td>1</td>\n",
              "    </tr>\n",
              "    <tr>\n",
              "      <th>4</th>\n",
              "      <td>68356421</td>\n",
              "      <td>22400.0</td>\n",
              "      <td>22400.0</td>\n",
              "      <td>22400.0</td>\n",
              "      <td>60 months</td>\n",
              "      <td>508.30</td>\n",
              "      <td>MORTGAGE</td>\n",
              "      <td>95000.0</td>\n",
              "      <td>debt_consolidation</td>\n",
              "      <td>Debt consolidation</td>\n",
              "      <td>...</td>\n",
              "      <td>0.0</td>\n",
              "      <td>0.0</td>\n",
              "      <td>436841.0</td>\n",
              "      <td>184356.0</td>\n",
              "      <td>21000.0</td>\n",
              "      <td>191682.0</td>\n",
              "      <td>0</td>\n",
              "      <td>0.0</td>\n",
              "      <td>0</td>\n",
              "      <td>1</td>\n",
              "    </tr>\n",
              "    <tr>\n",
              "      <th>6</th>\n",
              "      <td>66624733</td>\n",
              "      <td>18000.0</td>\n",
              "      <td>18000.0</td>\n",
              "      <td>18000.0</td>\n",
              "      <td>60 months</td>\n",
              "      <td>471.70</td>\n",
              "      <td>RENT</td>\n",
              "      <td>150000.0</td>\n",
              "      <td>debt_consolidation</td>\n",
              "      <td>Debt consolidation</td>\n",
              "      <td>...</td>\n",
              "      <td>1.0</td>\n",
              "      <td>0.0</td>\n",
              "      <td>65819.0</td>\n",
              "      <td>36247.0</td>\n",
              "      <td>10300.0</td>\n",
              "      <td>31319.0</td>\n",
              "      <td>1</td>\n",
              "      <td>0.0</td>\n",
              "      <td>0</td>\n",
              "      <td>1</td>\n",
              "    </tr>\n",
              "    <tr>\n",
              "      <th>...</th>\n",
              "      <td>...</td>\n",
              "      <td>...</td>\n",
              "      <td>...</td>\n",
              "      <td>...</td>\n",
              "      <td>...</td>\n",
              "      <td>...</td>\n",
              "      <td>...</td>\n",
              "      <td>...</td>\n",
              "      <td>...</td>\n",
              "      <td>...</td>\n",
              "      <td>...</td>\n",
              "      <td>...</td>\n",
              "      <td>...</td>\n",
              "      <td>...</td>\n",
              "      <td>...</td>\n",
              "      <td>...</td>\n",
              "      <td>...</td>\n",
              "      <td>...</td>\n",
              "      <td>...</td>\n",
              "      <td>...</td>\n",
              "      <td>...</td>\n",
              "    </tr>\n",
              "    <tr>\n",
              "      <th>1280639</th>\n",
              "      <td>88948836</td>\n",
              "      <td>29400.0</td>\n",
              "      <td>29400.0</td>\n",
              "      <td>29400.0</td>\n",
              "      <td>60 months</td>\n",
              "      <td>683.94</td>\n",
              "      <td>MORTGAGE</td>\n",
              "      <td>180792.0</td>\n",
              "      <td>debt_consolidation</td>\n",
              "      <td>Debt consolidation</td>\n",
              "      <td>...</td>\n",
              "      <td>0.0</td>\n",
              "      <td>0.0</td>\n",
              "      <td>719056.0</td>\n",
              "      <td>148305.0</td>\n",
              "      <td>56500.0</td>\n",
              "      <td>95702.0</td>\n",
              "      <td>0</td>\n",
              "      <td>0.0</td>\n",
              "      <td>0</td>\n",
              "      <td>1</td>\n",
              "    </tr>\n",
              "    <tr>\n",
              "      <th>1280640</th>\n",
              "      <td>89996426</td>\n",
              "      <td>32000.0</td>\n",
              "      <td>32000.0</td>\n",
              "      <td>32000.0</td>\n",
              "      <td>60 months</td>\n",
              "      <td>752.74</td>\n",
              "      <td>MORTGAGE</td>\n",
              "      <td>157000.0</td>\n",
              "      <td>home_improvement</td>\n",
              "      <td>Home improvement</td>\n",
              "      <td>...</td>\n",
              "      <td>0.0</td>\n",
              "      <td>0.0</td>\n",
              "      <td>524379.0</td>\n",
              "      <td>122872.0</td>\n",
              "      <td>15800.0</td>\n",
              "      <td>23879.0</td>\n",
              "      <td>1</td>\n",
              "      <td>0.0</td>\n",
              "      <td>0</td>\n",
              "      <td>1</td>\n",
              "    </tr>\n",
              "    <tr>\n",
              "      <th>1280641</th>\n",
              "      <td>89955820</td>\n",
              "      <td>24000.0</td>\n",
              "      <td>24000.0</td>\n",
              "      <td>24000.0</td>\n",
              "      <td>60 months</td>\n",
              "      <td>515.74</td>\n",
              "      <td>OWN</td>\n",
              "      <td>125000.0</td>\n",
              "      <td>credit_card</td>\n",
              "      <td>Credit card refinancing</td>\n",
              "      <td>...</td>\n",
              "      <td>0.0</td>\n",
              "      <td>2.0</td>\n",
              "      <td>128902.0</td>\n",
              "      <td>31320.0</td>\n",
              "      <td>93700.0</td>\n",
              "      <td>28602.0</td>\n",
              "      <td>0</td>\n",
              "      <td>0.0</td>\n",
              "      <td>0</td>\n",
              "      <td>1</td>\n",
              "    </tr>\n",
              "    <tr>\n",
              "      <th>1280643</th>\n",
              "      <td>88977788</td>\n",
              "      <td>24000.0</td>\n",
              "      <td>24000.0</td>\n",
              "      <td>24000.0</td>\n",
              "      <td>60 months</td>\n",
              "      <td>515.74</td>\n",
              "      <td>MORTGAGE</td>\n",
              "      <td>108000.0</td>\n",
              "      <td>debt_consolidation</td>\n",
              "      <td>Debt consolidation</td>\n",
              "      <td>...</td>\n",
              "      <td>0.0</td>\n",
              "      <td>1.0</td>\n",
              "      <td>227883.0</td>\n",
              "      <td>140118.0</td>\n",
              "      <td>27900.0</td>\n",
              "      <td>172283.0</td>\n",
              "      <td>0</td>\n",
              "      <td>0.0</td>\n",
              "      <td>1</td>\n",
              "      <td>1</td>\n",
              "    </tr>\n",
              "    <tr>\n",
              "      <th>1280644</th>\n",
              "      <td>88224441</td>\n",
              "      <td>24000.0</td>\n",
              "      <td>24000.0</td>\n",
              "      <td>24000.0</td>\n",
              "      <td>60 months</td>\n",
              "      <td>564.56</td>\n",
              "      <td>RENT</td>\n",
              "      <td>110000.0</td>\n",
              "      <td>debt_consolidation</td>\n",
              "      <td>Debt consolidation</td>\n",
              "      <td>...</td>\n",
              "      <td>1.0</td>\n",
              "      <td>0.0</td>\n",
              "      <td>84664.0</td>\n",
              "      <td>62426.0</td>\n",
              "      <td>20700.0</td>\n",
              "      <td>58764.0</td>\n",
              "      <td>1</td>\n",
              "      <td>0.0</td>\n",
              "      <td>0</td>\n",
              "      <td>1</td>\n",
              "    </tr>\n",
              "  </tbody>\n",
              "</table>\n",
              "<p>1211824 rows × 57 columns</p>\n",
              "</div>\n",
              "      <button class=\"colab-df-convert\" onclick=\"convertToInteractive('df-eb1f8f69-c49a-4d3a-aa0e-2a0c46a3df15')\"\n",
              "              title=\"Convert this dataframe to an interactive table.\"\n",
              "              style=\"display:none;\">\n",
              "        \n",
              "  <svg xmlns=\"http://www.w3.org/2000/svg\" height=\"24px\"viewBox=\"0 0 24 24\"\n",
              "       width=\"24px\">\n",
              "    <path d=\"M0 0h24v24H0V0z\" fill=\"none\"/>\n",
              "    <path d=\"M18.56 5.44l.94 2.06.94-2.06 2.06-.94-2.06-.94-.94-2.06-.94 2.06-2.06.94zm-11 1L8.5 8.5l.94-2.06 2.06-.94-2.06-.94L8.5 2.5l-.94 2.06-2.06.94zm10 10l.94 2.06.94-2.06 2.06-.94-2.06-.94-.94-2.06-.94 2.06-2.06.94z\"/><path d=\"M17.41 7.96l-1.37-1.37c-.4-.4-.92-.59-1.43-.59-.52 0-1.04.2-1.43.59L10.3 9.45l-7.72 7.72c-.78.78-.78 2.05 0 2.83L4 21.41c.39.39.9.59 1.41.59.51 0 1.02-.2 1.41-.59l7.78-7.78 2.81-2.81c.8-.78.8-2.07 0-2.86zM5.41 20L4 18.59l7.72-7.72 1.47 1.35L5.41 20z\"/>\n",
              "  </svg>\n",
              "      </button>\n",
              "      \n",
              "  <style>\n",
              "    .colab-df-container {\n",
              "      display:flex;\n",
              "      flex-wrap:wrap;\n",
              "      gap: 12px;\n",
              "    }\n",
              "\n",
              "    .colab-df-convert {\n",
              "      background-color: #E8F0FE;\n",
              "      border: none;\n",
              "      border-radius: 50%;\n",
              "      cursor: pointer;\n",
              "      display: none;\n",
              "      fill: #1967D2;\n",
              "      height: 32px;\n",
              "      padding: 0 0 0 0;\n",
              "      width: 32px;\n",
              "    }\n",
              "\n",
              "    .colab-df-convert:hover {\n",
              "      background-color: #E2EBFA;\n",
              "      box-shadow: 0px 1px 2px rgba(60, 64, 67, 0.3), 0px 1px 3px 1px rgba(60, 64, 67, 0.15);\n",
              "      fill: #174EA6;\n",
              "    }\n",
              "\n",
              "    [theme=dark] .colab-df-convert {\n",
              "      background-color: #3B4455;\n",
              "      fill: #D2E3FC;\n",
              "    }\n",
              "\n",
              "    [theme=dark] .colab-df-convert:hover {\n",
              "      background-color: #434B5C;\n",
              "      box-shadow: 0px 1px 3px 1px rgba(0, 0, 0, 0.15);\n",
              "      filter: drop-shadow(0px 1px 2px rgba(0, 0, 0, 0.3));\n",
              "      fill: #FFFFFF;\n",
              "    }\n",
              "  </style>\n",
              "\n",
              "      <script>\n",
              "        const buttonEl =\n",
              "          document.querySelector('#df-eb1f8f69-c49a-4d3a-aa0e-2a0c46a3df15 button.colab-df-convert');\n",
              "        buttonEl.style.display =\n",
              "          google.colab.kernel.accessAllowed ? 'block' : 'none';\n",
              "\n",
              "        async function convertToInteractive(key) {\n",
              "          const element = document.querySelector('#df-eb1f8f69-c49a-4d3a-aa0e-2a0c46a3df15');\n",
              "          const dataTable =\n",
              "            await google.colab.kernel.invokeFunction('convertToInteractive',\n",
              "                                                     [key], {});\n",
              "          if (!dataTable) return;\n",
              "\n",
              "          const docLinkHtml = 'Like what you see? Visit the ' +\n",
              "            '<a target=\"_blank\" href=https://colab.research.google.com/notebooks/data_table.ipynb>data table notebook</a>'\n",
              "            + ' to learn more about interactive tables.';\n",
              "          element.innerHTML = '';\n",
              "          dataTable['output_type'] = 'display_data';\n",
              "          await google.colab.output.renderOutput(dataTable, element);\n",
              "          const docLink = document.createElement('div');\n",
              "          docLink.innerHTML = docLinkHtml;\n",
              "          element.appendChild(docLink);\n",
              "        }\n",
              "      </script>\n",
              "    </div>\n",
              "  </div>\n",
              "  "
            ]
          },
          "metadata": {},
          "execution_count": 165
        }
      ]
    },
    {
      "cell_type": "code",
      "source": [
        "transformed_data['dti_joint'].value_counts(dropna=False)"
      ],
      "metadata": {
        "id": "ielc5EgZzwXw",
        "outputId": "023f7d63-d0a4-4e21-b31e-23d443a8ab65",
        "colab": {
          "base_uri": "https://localhost:8080/"
        }
      },
      "execution_count": 166,
      "outputs": [
        {
          "output_type": "execute_result",
          "data": {
            "text/plain": [
              "0.00     1215163\n",
              "18.70         48\n",
              "19.35         47\n",
              "17.96         46\n",
              "19.68         45\n",
              "          ...   \n",
              "1.32           1\n",
              "39.83          1\n",
              "37.97          1\n",
              "4.57           1\n",
              "49.45          1\n",
              "Name: dti_joint, Length: 3936, dtype: int64"
            ]
          },
          "metadata": {},
          "execution_count": 166
        }
      ]
    },
    {
      "cell_type": "code",
      "source": [],
      "metadata": {
        "id": "ebq1CuPv0JXo"
      },
      "execution_count": 166,
      "outputs": []
    },
    {
      "cell_type": "code",
      "source": [
        "transformed_data['inq_fi'].value_counts(dropna=False)[0]"
      ],
      "metadata": {
        "id": "4viRsdkm0vnI",
        "outputId": "8bb5c7e3-c7d2-4084-f518-d20f17d65b0b",
        "colab": {
          "base_uri": "https://localhost:8080/"
        }
      },
      "execution_count": 167,
      "outputs": [
        {
          "output_type": "execute_result",
          "data": {
            "text/plain": [
              "383817"
            ]
          },
          "metadata": {},
          "execution_count": 167
        }
      ]
    },
    {
      "cell_type": "code",
      "source": [
        "transformed_data['mths_since_recent_inq'].value_counts(dropna=False)"
      ],
      "metadata": {
        "id": "YQ6dSjwx0xS_",
        "outputId": "a3202ab7-2f9c-4400-ce4b-8ca8f1b29ff8",
        "colab": {
          "base_uri": "https://localhost:8080/"
        }
      },
      "execution_count": 169,
      "outputs": [
        {
          "output_type": "execute_result",
          "data": {
            "text/plain": [
              "NaN     160464\n",
              "1.0     124981\n",
              "2.0     100403\n",
              "0.0      99730\n",
              "3.0      90559\n",
              "4.0      82089\n",
              "5.0      72889\n",
              "6.0      64982\n",
              "7.0      61753\n",
              "8.0      54542\n",
              "9.0      47773\n",
              "10.0     42322\n",
              "11.0     37985\n",
              "12.0     34461\n",
              "13.0     31327\n",
              "14.0     27455\n",
              "15.0     23679\n",
              "16.0     21011\n",
              "17.0     18644\n",
              "18.0     16639\n",
              "19.0     14893\n",
              "20.0     13360\n",
              "21.0     12225\n",
              "22.0     11177\n",
              "23.0     10198\n",
              "24.0      5087\n",
              "25.0        18\n",
              "Name: mths_since_recent_inq, dtype: int64"
            ]
          },
          "metadata": {},
          "execution_count": 169
        }
      ]
    },
    {
      "cell_type": "code",
      "source": [],
      "metadata": {
        "id": "NB9_k4MhOXoi"
      },
      "execution_count": null,
      "outputs": []
    }
  ]
}