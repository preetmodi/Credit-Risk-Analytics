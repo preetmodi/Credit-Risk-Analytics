{
 "cells": [
  {
   "cell_type": "markdown",
   "metadata": {
    "colab_type": "text",
    "id": "view-in-github"
   },
   "source": [
    "<a href=\"https://colab.research.google.com/github/preetmodi/Credit-Risk-Analytics/blob/main/Data_Cleaning.ipynb\" target=\"_parent\"><img src=\"https://colab.research.google.com/assets/colab-badge.svg\" alt=\"Open In Colab\"/></a>"
   ]
  },
  {
   "cell_type": "markdown",
   "metadata": {
    "id": "NtgvoRHSF4ie"
   },
   "source": [
    "# Mount Drive"
   ]
  },
  {
   "cell_type": "code",
   "execution_count": 5,
   "metadata": {
    "colab": {
     "base_uri": "https://localhost:8080/"
    },
    "id": "Z6dkh-fcBcVp",
    "outputId": "85847323-9b8a-4f99-f47d-0eaa2e83a351"
   },
   "outputs": [
    {
     "name": "stdout",
     "output_type": "stream",
     "text": [
      "/usr/bin/xdg-open: 869: www-browser: not found\n",
      "/usr/bin/xdg-open: 869: links2: not found\n",
      "/usr/bin/xdg-open: 869: elinks: not found\n",
      "/usr/bin/xdg-open: 869: links: not found\n",
      "/usr/bin/xdg-open: 869: lynx: not found\n",
      "/usr/bin/xdg-open: 869: w3m: not found\n",
      "xdg-open: no method available for opening 'https://accounts.google.com/o/oauth2/auth?client_id=564921029129.apps.googleusercontent.com&redirect_uri=https%3A%2F%2Fgd-ocaml-auth.appspot.com%2Foauth2callback&scope=https%3A%2F%2Fwww.googleapis.com%2Fauth%2Fdrive&response_type=code&access_type=offline&approval_prompt=force&state=9BmSfXPQoFKNCtIhI5a3KXv0sNZLMPs4B958JOP2sp4'\n",
      "/bin/sh: 1: firefox: not found\n",
      "/bin/sh: 1: google-chrome: not found\n",
      "/bin/sh: 1: chromium-browser: not found\n",
      "/bin/sh: 1: open: not found\n",
      "Cannot retrieve auth tokens.\n",
      "Failure(\"Error opening URL:https://accounts.google.com/o/oauth2/auth?client_id=564921029129.apps.googleusercontent.com&redirect_uri=https%3A%2F%2Fgd-ocaml-auth.appspot.com%2Foauth2callback&scope=https%3A%2F%2Fwww.googleapis.com%2Fauth%2Fdrive&response_type=code&access_type=offline&approval_prompt=force&state=9BmSfXPQoFKNCtIhI5a3KXv0sNZLMPs4B958JOP2sp4\")\n",
      "/content\n",
      "/content/gdrive\n",
      "Access token retrieved correctly.\n"
     ]
    }
   ],
   "source": [
    "!sudo echo -ne '\\n' | sudo add-apt-repository ppa:alessandro-strada/ppa >/dev/null 2>&1 # note: >/dev/null 2>&1 is used to supress printing\n",
    "!sudo apt update >/dev/null 2>&1\n",
    "!sudo apt install google-drive-ocamlfuse >/dev/null 2>&1\n",
    "!google-drive-ocamlfuse\n",
    "!sudo apt-get install w3m >/dev/null 2>&1 # to act as web browser \n",
    "!xdg-settings set default-web-browser w3m.desktop >/dev/null 2>&1 # to set default browser \n",
    "%cd /content\n",
    "!mkdir gdrive\n",
    "%cd gdrive\n",
    "!mkdir \"My Drive\"\n",
    "!google-drive-ocamlfuse \"/content/gdrive/My Drive\""
   ]
  },
  {
   "cell_type": "markdown",
   "metadata": {
    "id": "d2a0vCHCF7hp"
   },
   "source": [
    "# Unzip files"
   ]
  },
  {
   "cell_type": "code",
   "execution_count": 6,
   "metadata": {
    "colab": {
     "base_uri": "https://localhost:8080/"
    },
    "id": "QNH6SprFCefA",
    "outputId": "44ce71eb-5519-486e-8a82-57c27b016438"
   },
   "outputs": [
    {
     "name": "stdout",
     "output_type": "stream",
     "text": [
      "/content/gdrive/My Drive/Data\n"
     ]
    }
   ],
   "source": [
    "%cd /content/gdrive/My Drive/Data/"
   ]
  },
  {
   "cell_type": "code",
   "execution_count": null,
   "metadata": {
    "colab": {
     "base_uri": "https://localhost:8080/"
    },
    "id": "DoIJP9iBDZmn",
    "outputId": "093d4d74-2cf2-45ab-fdb5-c6b944f19dc0"
   },
   "outputs": [
    {
     "name": "stdout",
     "output_type": "stream",
     "text": [
      "Archive:  LCOrigination Data.zip\n",
      "  inflating: LCOrigination.csv       "
     ]
    }
   ],
   "source": [
    "!unzip \"LCOrigination Data.zip\""
   ]
  },
  {
   "cell_type": "code",
   "execution_count": null,
   "metadata": {
    "id": "SRQkiTBhDbM-"
   },
   "outputs": [],
   "source": []
  }
 ],
 "metadata": {
  "colab": {
   "authorship_tag": "ABX9TyPp5zN+vwPXW6O316DnyNtS",
   "include_colab_link": true,
   "provenance": []
  },
  "kernelspec": {
   "display_name": "Python 3 (ipykernel)",
   "language": "python",
   "name": "python3"
  },
  "language_info": {
   "codemirror_mode": {
    "name": "ipython",
    "version": 3
   },
   "file_extension": ".py",
   "mimetype": "text/x-python",
   "name": "python",
   "nbconvert_exporter": "python",
   "pygments_lexer": "ipython3",
   "version": "3.7.13"
  }
 },
 "nbformat": 4,
 "nbformat_minor": 1
}
