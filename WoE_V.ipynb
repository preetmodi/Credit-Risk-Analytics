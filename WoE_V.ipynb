{
  "nbformat": 4,
  "nbformat_minor": 0,
  "metadata": {
    "colab": {
      "provenance": [],
      "authorship_tag": "ABX9TyPEap9zlAa2oskgtH4sRAZ1",
      "include_colab_link": true
    },
    "kernelspec": {
      "name": "python3",
      "display_name": "Python 3"
    },
    "language_info": {
      "name": "python"
    }
  },
  "cells": [
    {
      "cell_type": "markdown",
      "metadata": {
        "id": "view-in-github",
        "colab_type": "text"
      },
      "source": [
        "<a href=\"https://colab.research.google.com/github/preetmodi/Credit-Risk-Analytics/blob/main/WoE_V.ipynb\" target=\"_parent\"><img src=\"https://colab.research.google.com/assets/colab-badge.svg\" alt=\"Open In Colab\"/></a>"
      ]
    },
    {
      "cell_type": "code",
      "execution_count": 2,
      "metadata": {
        "colab": {
          "base_uri": "https://localhost:8080/"
        },
        "id": "pa4AmhWTiymC",
        "outputId": "f0bfcb9e-3820-43b0-89a0-72a90fd0f6d2"
      },
      "outputs": [
        {
          "output_type": "stream",
          "name": "stdout",
          "text": [
            "/content\n",
            "mkdir: cannot create directory ‘gdrive’: File exists\n",
            "/content/gdrive\n",
            "mkdir: cannot create directory ‘My Drive’: File exists\n",
            "fuse: mountpoint is not empty\n",
            "fuse: if you are sure this is safe, use the 'nonempty' mount option\n"
          ]
        }
      ],
      "source": [
        "!sudo echo -ne '\\n' | sudo add-apt-repository ppa:alessandro-strada/ppa >/dev/null 2>&1 # note: >/dev/null 2>&1 is used to supress printing\n",
        "!sudo apt update >/dev/null 2>&1\n",
        "!sudo apt install google-drive-ocamlfuse >/dev/null 2>&1\n",
        "!google-drive-ocamlfuse\n",
        "!sudo apt-get install w3m >/dev/null 2>&1 # to act as web browser \n",
        "!xdg-settings set default-web-browser w3m.desktop >/dev/null 2>&1 # to set default browser \n",
        "%cd /content\n",
        "!mkdir gdrive\n",
        "%cd gdrive\n",
        "!mkdir \"My Drive\"\n",
        "!google-drive-ocamlfuse \"/content/gdrive/My Drive\"\n",
        "     "
      ]
    },
    {
      "cell_type": "code",
      "source": [
        "%cd /content/gdrive/My Drive/Data/"
      ],
      "metadata": {
        "colab": {
          "base_uri": "https://localhost:8080/"
        },
        "id": "QsnOGe7VjwyB",
        "outputId": "19be1b68-3ea2-4d13-e5d0-fee401665d5c"
      },
      "execution_count": 3,
      "outputs": [
        {
          "output_type": "stream",
          "name": "stdout",
          "text": [
            "/content/gdrive/My Drive/Data\n"
          ]
        }
      ]
    },
    {
      "cell_type": "code",
      "source": [
        "import scorecardpy as sc\n",
        "import pandas as pd\n",
        "import matplotlib.pyplot as plt\n",
        "import seaborn as sns\n",
        "import numpy as np\n",
        "import random\n",
        "%matplotlib inline\n",
        "random.seed(251256517)"
      ],
      "metadata": {
        "id": "0HXglKFsj1MV"
      },
      "execution_count": 4,
      "outputs": []
    },
    {
      "cell_type": "code",
      "source": [
        "df_train = pd.read_csv(\"Train.csv\",index_col=0, low_memory=False)"
      ],
      "metadata": {
        "id": "6VQm5xMzkNJn"
      },
      "execution_count": 5,
      "outputs": []
    },
    {
      "cell_type": "code",
      "source": [
        "df_train.info()"
      ],
      "metadata": {
        "colab": {
          "base_uri": "https://localhost:8080/"
        },
        "id": "briA6dhNlERa",
        "outputId": "d5c9ffc2-2062-42be-f24d-9f70a5775cd7"
      },
      "execution_count": 6,
      "outputs": [
        {
          "output_type": "stream",
          "name": "stdout",
          "text": [
            "<class 'pandas.core.frame.DataFrame'>\n",
            "Int64Index: 848276 entries, 0 to 1280644\n",
            "Data columns (total 57 columns):\n",
            " #   Column                      Non-Null Count   Dtype  \n",
            "---  ------                      --------------   -----  \n",
            " 0   loan_amnt                   848276 non-null  float64\n",
            " 1   term                        848276 non-null  object \n",
            " 2   installment                 848276 non-null  float64\n",
            " 3   home_ownership              848276 non-null  object \n",
            " 4   annual_inc                  848276 non-null  float64\n",
            " 5   purpose                     848276 non-null  object \n",
            " 6   title                       848276 non-null  object \n",
            " 7   zip_code                    848276 non-null  object \n",
            " 8   addr_state                  848276 non-null  object \n",
            " 9   dti                         848276 non-null  float64\n",
            " 10  delinq_2yrs                 848276 non-null  float64\n",
            " 11  earliest_cr_line            848276 non-null  object \n",
            " 12  fico_range_low              848276 non-null  float64\n",
            " 13  fico_range_high             848276 non-null  float64\n",
            " 14  inq_last_6mths              848276 non-null  float64\n",
            " 15  open_acc                    848276 non-null  float64\n",
            " 16  pub_rec                     848276 non-null  float64\n",
            " 17  revol_bal                   848276 non-null  float64\n",
            " 18  revol_util                  848276 non-null  float64\n",
            " 19  total_acc                   848276 non-null  float64\n",
            " 20  application_type            848276 non-null  object \n",
            " 21  dti_joint                   848276 non-null  float64\n",
            " 22  tot_coll_amt                848276 non-null  float64\n",
            " 23  tot_cur_bal                 848276 non-null  float64\n",
            " 24  total_bal_il                848276 non-null  float64\n",
            " 25  il_util                     848276 non-null  float64\n",
            " 26  acc_open_past_24mths        848276 non-null  float64\n",
            " 27  avg_cur_bal                 848276 non-null  float64\n",
            " 28  bc_open_to_buy              848276 non-null  float64\n",
            " 29  bc_util                     848276 non-null  float64\n",
            " 30  mort_acc                    848276 non-null  float64\n",
            " 31  mths_since_recent_bc        848276 non-null  float64\n",
            " 32  mths_since_recent_inq       848276 non-null  float64\n",
            " 33  num_accts_ever_120_pd       848276 non-null  float64\n",
            " 34  num_actv_bc_tl              848276 non-null  float64\n",
            " 35  num_actv_rev_tl             848276 non-null  float64\n",
            " 36  num_bc_sats                 848276 non-null  float64\n",
            " 37  num_bc_tl                   848276 non-null  float64\n",
            " 38  num_il_tl                   848276 non-null  float64\n",
            " 39  num_op_rev_tl               848276 non-null  float64\n",
            " 40  num_rev_accts               848276 non-null  float64\n",
            " 41  num_rev_tl_bal_gt_0         848276 non-null  float64\n",
            " 42  num_sats                    848276 non-null  float64\n",
            " 43  pct_tl_nvr_dlq              848276 non-null  float64\n",
            " 44  percent_bc_gt_75            848276 non-null  float64\n",
            " 45  pub_rec_bankruptcies        848276 non-null  float64\n",
            " 46  tax_liens                   848276 non-null  float64\n",
            " 47  tot_hi_cred_lim             848276 non-null  float64\n",
            " 48  total_bal_ex_mort           848276 non-null  float64\n",
            " 49  total_bc_limit              848276 non-null  float64\n",
            " 50  total_il_high_credit_limit  848276 non-null  float64\n",
            " 51  Default                     848276 non-null  int64  \n",
            " 52  coborrower_inc              848276 non-null  float64\n",
            " 53  bank_dlq                    848276 non-null  int64  \n",
            " 54  il_acc                      848276 non-null  int64  \n",
            " 55  payment_history             848276 non-null  float64\n",
            " 56  collateral_coverage_ratio   848276 non-null  float64\n",
            "dtypes: float64(46), int64(3), object(8)\n",
            "memory usage: 375.4+ MB\n"
          ]
        }
      ]
    },
    {
      "cell_type": "code",
      "source": [
        "df_train.head()"
      ],
      "metadata": {
        "colab": {
          "base_uri": "https://localhost:8080/",
          "height": 382
        },
        "id": "EWCykgPErASL",
        "outputId": "104b5d42-a5ee-40c1-bfbf-0432e91393e7"
      },
      "execution_count": 7,
      "outputs": [
        {
          "output_type": "execute_result",
          "data": {
            "text/plain": [
              "    loan_amnt        term  installment home_ownership  annual_inc  \\\n",
              "0     24700.0   36 months       820.28       MORTGAGE     65000.0   \n",
              "2     20000.0   36 months       631.26       MORTGAGE     85000.0   \n",
              "6     18000.0   60 months       471.70           RENT    150000.0   \n",
              "8     16000.0   60 months       379.39       MORTGAGE     48000.0   \n",
              "10     6000.0   36 months       186.61       MORTGAGE    100000.0   \n",
              "\n",
              "               purpose                    title zip_code addr_state    dti  \\\n",
              "0       small_business                 Business    577xx         SD  16.06   \n",
              "2       major_purchase           Major purchase    293xx         SC  17.61   \n",
              "6   debt_consolidation       Debt consolidation    916xx         CA   9.39   \n",
              "8          credit_card  Credit card refinancing    297xx         SC  33.18   \n",
              "10  debt_consolidation       Debt consolidation    750xx         TX  13.28   \n",
              "\n",
              "    ...  tot_hi_cred_lim total_bal_ex_mort  total_bc_limit  \\\n",
              "0   ...         314017.0           39475.0         79300.0   \n",
              "2   ...         193390.0           27937.0         14500.0   \n",
              "6   ...          65819.0           36247.0         10300.0   \n",
              "8   ...         298100.0           31329.0        281300.0   \n",
              "10  ...         156354.0           22741.0          3800.0   \n",
              "\n",
              "    total_il_high_credit_limit  Default  coborrower_inc  bank_dlq  il_acc  \\\n",
              "0                      24667.0        0             0.0         0       1   \n",
              "2                      36144.0        0             0.0         0       1   \n",
              "6                      31319.0        1             0.0         0       1   \n",
              "8                      13400.0        0             0.0         1       1   \n",
              "10                     36083.0        0             0.0         1       1   \n",
              "\n",
              "    payment_history  collateral_coverage_ratio  \n",
              "0          0.631895                   0.998664  \n",
              "2          0.666333                   1.807200  \n",
              "6          0.740741                   1.739944  \n",
              "8          0.367947                   0.837500  \n",
              "10         0.812000                   6.013833  \n",
              "\n",
              "[5 rows x 57 columns]"
            ],
            "text/html": [
              "\n",
              "  <div id=\"df-874b5403-0346-4aa2-b722-920e92c75102\">\n",
              "    <div class=\"colab-df-container\">\n",
              "      <div>\n",
              "<style scoped>\n",
              "    .dataframe tbody tr th:only-of-type {\n",
              "        vertical-align: middle;\n",
              "    }\n",
              "\n",
              "    .dataframe tbody tr th {\n",
              "        vertical-align: top;\n",
              "    }\n",
              "\n",
              "    .dataframe thead th {\n",
              "        text-align: right;\n",
              "    }\n",
              "</style>\n",
              "<table border=\"1\" class=\"dataframe\">\n",
              "  <thead>\n",
              "    <tr style=\"text-align: right;\">\n",
              "      <th></th>\n",
              "      <th>loan_amnt</th>\n",
              "      <th>term</th>\n",
              "      <th>installment</th>\n",
              "      <th>home_ownership</th>\n",
              "      <th>annual_inc</th>\n",
              "      <th>purpose</th>\n",
              "      <th>title</th>\n",
              "      <th>zip_code</th>\n",
              "      <th>addr_state</th>\n",
              "      <th>dti</th>\n",
              "      <th>...</th>\n",
              "      <th>tot_hi_cred_lim</th>\n",
              "      <th>total_bal_ex_mort</th>\n",
              "      <th>total_bc_limit</th>\n",
              "      <th>total_il_high_credit_limit</th>\n",
              "      <th>Default</th>\n",
              "      <th>coborrower_inc</th>\n",
              "      <th>bank_dlq</th>\n",
              "      <th>il_acc</th>\n",
              "      <th>payment_history</th>\n",
              "      <th>collateral_coverage_ratio</th>\n",
              "    </tr>\n",
              "  </thead>\n",
              "  <tbody>\n",
              "    <tr>\n",
              "      <th>0</th>\n",
              "      <td>24700.0</td>\n",
              "      <td>36 months</td>\n",
              "      <td>820.28</td>\n",
              "      <td>MORTGAGE</td>\n",
              "      <td>65000.0</td>\n",
              "      <td>small_business</td>\n",
              "      <td>Business</td>\n",
              "      <td>577xx</td>\n",
              "      <td>SD</td>\n",
              "      <td>16.06</td>\n",
              "      <td>...</td>\n",
              "      <td>314017.0</td>\n",
              "      <td>39475.0</td>\n",
              "      <td>79300.0</td>\n",
              "      <td>24667.0</td>\n",
              "      <td>0</td>\n",
              "      <td>0.0</td>\n",
              "      <td>0</td>\n",
              "      <td>1</td>\n",
              "      <td>0.631895</td>\n",
              "      <td>0.998664</td>\n",
              "    </tr>\n",
              "    <tr>\n",
              "      <th>2</th>\n",
              "      <td>20000.0</td>\n",
              "      <td>36 months</td>\n",
              "      <td>631.26</td>\n",
              "      <td>MORTGAGE</td>\n",
              "      <td>85000.0</td>\n",
              "      <td>major_purchase</td>\n",
              "      <td>Major purchase</td>\n",
              "      <td>293xx</td>\n",
              "      <td>SC</td>\n",
              "      <td>17.61</td>\n",
              "      <td>...</td>\n",
              "      <td>193390.0</td>\n",
              "      <td>27937.0</td>\n",
              "      <td>14500.0</td>\n",
              "      <td>36144.0</td>\n",
              "      <td>0</td>\n",
              "      <td>0.0</td>\n",
              "      <td>0</td>\n",
              "      <td>1</td>\n",
              "      <td>0.666333</td>\n",
              "      <td>1.807200</td>\n",
              "    </tr>\n",
              "    <tr>\n",
              "      <th>6</th>\n",
              "      <td>18000.0</td>\n",
              "      <td>60 months</td>\n",
              "      <td>471.70</td>\n",
              "      <td>RENT</td>\n",
              "      <td>150000.0</td>\n",
              "      <td>debt_consolidation</td>\n",
              "      <td>Debt consolidation</td>\n",
              "      <td>916xx</td>\n",
              "      <td>CA</td>\n",
              "      <td>9.39</td>\n",
              "      <td>...</td>\n",
              "      <td>65819.0</td>\n",
              "      <td>36247.0</td>\n",
              "      <td>10300.0</td>\n",
              "      <td>31319.0</td>\n",
              "      <td>1</td>\n",
              "      <td>0.0</td>\n",
              "      <td>0</td>\n",
              "      <td>1</td>\n",
              "      <td>0.740741</td>\n",
              "      <td>1.739944</td>\n",
              "    </tr>\n",
              "    <tr>\n",
              "      <th>8</th>\n",
              "      <td>16000.0</td>\n",
              "      <td>60 months</td>\n",
              "      <td>379.39</td>\n",
              "      <td>MORTGAGE</td>\n",
              "      <td>48000.0</td>\n",
              "      <td>credit_card</td>\n",
              "      <td>Credit card refinancing</td>\n",
              "      <td>297xx</td>\n",
              "      <td>SC</td>\n",
              "      <td>33.18</td>\n",
              "      <td>...</td>\n",
              "      <td>298100.0</td>\n",
              "      <td>31329.0</td>\n",
              "      <td>281300.0</td>\n",
              "      <td>13400.0</td>\n",
              "      <td>0</td>\n",
              "      <td>0.0</td>\n",
              "      <td>1</td>\n",
              "      <td>1</td>\n",
              "      <td>0.367947</td>\n",
              "      <td>0.837500</td>\n",
              "    </tr>\n",
              "    <tr>\n",
              "      <th>10</th>\n",
              "      <td>6000.0</td>\n",
              "      <td>36 months</td>\n",
              "      <td>186.61</td>\n",
              "      <td>MORTGAGE</td>\n",
              "      <td>100000.0</td>\n",
              "      <td>debt_consolidation</td>\n",
              "      <td>Debt consolidation</td>\n",
              "      <td>750xx</td>\n",
              "      <td>TX</td>\n",
              "      <td>13.28</td>\n",
              "      <td>...</td>\n",
              "      <td>156354.0</td>\n",
              "      <td>22741.0</td>\n",
              "      <td>3800.0</td>\n",
              "      <td>36083.0</td>\n",
              "      <td>0</td>\n",
              "      <td>0.0</td>\n",
              "      <td>1</td>\n",
              "      <td>1</td>\n",
              "      <td>0.812000</td>\n",
              "      <td>6.013833</td>\n",
              "    </tr>\n",
              "  </tbody>\n",
              "</table>\n",
              "<p>5 rows × 57 columns</p>\n",
              "</div>\n",
              "      <button class=\"colab-df-convert\" onclick=\"convertToInteractive('df-874b5403-0346-4aa2-b722-920e92c75102')\"\n",
              "              title=\"Convert this dataframe to an interactive table.\"\n",
              "              style=\"display:none;\">\n",
              "        \n",
              "  <svg xmlns=\"http://www.w3.org/2000/svg\" height=\"24px\"viewBox=\"0 0 24 24\"\n",
              "       width=\"24px\">\n",
              "    <path d=\"M0 0h24v24H0V0z\" fill=\"none\"/>\n",
              "    <path d=\"M18.56 5.44l.94 2.06.94-2.06 2.06-.94-2.06-.94-.94-2.06-.94 2.06-2.06.94zm-11 1L8.5 8.5l.94-2.06 2.06-.94-2.06-.94L8.5 2.5l-.94 2.06-2.06.94zm10 10l.94 2.06.94-2.06 2.06-.94-2.06-.94-.94-2.06-.94 2.06-2.06.94z\"/><path d=\"M17.41 7.96l-1.37-1.37c-.4-.4-.92-.59-1.43-.59-.52 0-1.04.2-1.43.59L10.3 9.45l-7.72 7.72c-.78.78-.78 2.05 0 2.83L4 21.41c.39.39.9.59 1.41.59.51 0 1.02-.2 1.41-.59l7.78-7.78 2.81-2.81c.8-.78.8-2.07 0-2.86zM5.41 20L4 18.59l7.72-7.72 1.47 1.35L5.41 20z\"/>\n",
              "  </svg>\n",
              "      </button>\n",
              "      \n",
              "  <style>\n",
              "    .colab-df-container {\n",
              "      display:flex;\n",
              "      flex-wrap:wrap;\n",
              "      gap: 12px;\n",
              "    }\n",
              "\n",
              "    .colab-df-convert {\n",
              "      background-color: #E8F0FE;\n",
              "      border: none;\n",
              "      border-radius: 50%;\n",
              "      cursor: pointer;\n",
              "      display: none;\n",
              "      fill: #1967D2;\n",
              "      height: 32px;\n",
              "      padding: 0 0 0 0;\n",
              "      width: 32px;\n",
              "    }\n",
              "\n",
              "    .colab-df-convert:hover {\n",
              "      background-color: #E2EBFA;\n",
              "      box-shadow: 0px 1px 2px rgba(60, 64, 67, 0.3), 0px 1px 3px 1px rgba(60, 64, 67, 0.15);\n",
              "      fill: #174EA6;\n",
              "    }\n",
              "\n",
              "    [theme=dark] .colab-df-convert {\n",
              "      background-color: #3B4455;\n",
              "      fill: #D2E3FC;\n",
              "    }\n",
              "\n",
              "    [theme=dark] .colab-df-convert:hover {\n",
              "      background-color: #434B5C;\n",
              "      box-shadow: 0px 1px 3px 1px rgba(0, 0, 0, 0.15);\n",
              "      filter: drop-shadow(0px 1px 2px rgba(0, 0, 0, 0.3));\n",
              "      fill: #FFFFFF;\n",
              "    }\n",
              "  </style>\n",
              "\n",
              "      <script>\n",
              "        const buttonEl =\n",
              "          document.querySelector('#df-874b5403-0346-4aa2-b722-920e92c75102 button.colab-df-convert');\n",
              "        buttonEl.style.display =\n",
              "          google.colab.kernel.accessAllowed ? 'block' : 'none';\n",
              "\n",
              "        async function convertToInteractive(key) {\n",
              "          const element = document.querySelector('#df-874b5403-0346-4aa2-b722-920e92c75102');\n",
              "          const dataTable =\n",
              "            await google.colab.kernel.invokeFunction('convertToInteractive',\n",
              "                                                     [key], {});\n",
              "          if (!dataTable) return;\n",
              "\n",
              "          const docLinkHtml = 'Like what you see? Visit the ' +\n",
              "            '<a target=\"_blank\" href=https://colab.research.google.com/notebooks/data_table.ipynb>data table notebook</a>'\n",
              "            + ' to learn more about interactive tables.';\n",
              "          element.innerHTML = '';\n",
              "          dataTable['output_type'] = 'display_data';\n",
              "          await google.colab.output.renderOutput(dataTable, element);\n",
              "          const docLink = document.createElement('div');\n",
              "          docLink.innerHTML = docLinkHtml;\n",
              "          element.appendChild(docLink);\n",
              "        }\n",
              "      </script>\n",
              "    </div>\n",
              "  </div>\n",
              "  "
            ]
          },
          "metadata": {},
          "execution_count": 7
        }
      ]
    },
    {
      "cell_type": "code",
      "source": [
        "print(df_train.dtypes)"
      ],
      "metadata": {
        "colab": {
          "base_uri": "https://localhost:8080/"
        },
        "id": "4XJEayEtsAQG",
        "outputId": "034d6671-67f8-4736-d016-b66966488b3d"
      },
      "execution_count": 21,
      "outputs": [
        {
          "output_type": "stream",
          "name": "stdout",
          "text": [
            "loan_amnt                     float64\n",
            "term                           object\n",
            "installment                   float64\n",
            "home_ownership                 object\n",
            "annual_inc                    float64\n",
            "purpose                        object\n",
            "title                          object\n",
            "zip_code                       object\n",
            "addr_state                     object\n",
            "dti                           float64\n",
            "delinq_2yrs                   float64\n",
            "earliest_cr_line               object\n",
            "fico_range_low                float64\n",
            "fico_range_high               float64\n",
            "inq_last_6mths                float64\n",
            "open_acc                      float64\n",
            "pub_rec                       float64\n",
            "revol_bal                     float64\n",
            "revol_util                    float64\n",
            "total_acc                     float64\n",
            "application_type               object\n",
            "dti_joint                     float64\n",
            "tot_coll_amt                  float64\n",
            "tot_cur_bal                   float64\n",
            "total_bal_il                  float64\n",
            "il_util                       float64\n",
            "acc_open_past_24mths          float64\n",
            "avg_cur_bal                   float64\n",
            "bc_open_to_buy                float64\n",
            "bc_util                       float64\n",
            "mort_acc                      float64\n",
            "mths_since_recent_bc          float64\n",
            "mths_since_recent_inq         float64\n",
            "num_accts_ever_120_pd         float64\n",
            "num_actv_bc_tl                float64\n",
            "num_actv_rev_tl               float64\n",
            "num_bc_sats                   float64\n",
            "num_bc_tl                     float64\n",
            "num_il_tl                     float64\n",
            "num_op_rev_tl                 float64\n",
            "num_rev_accts                 float64\n",
            "num_rev_tl_bal_gt_0           float64\n",
            "num_sats                      float64\n",
            "pct_tl_nvr_dlq                float64\n",
            "percent_bc_gt_75              float64\n",
            "pub_rec_bankruptcies          float64\n",
            "tax_liens                     float64\n",
            "tot_hi_cred_lim               float64\n",
            "total_bal_ex_mort             float64\n",
            "total_bc_limit                float64\n",
            "total_il_high_credit_limit    float64\n",
            "Default                         int64\n",
            "coborrower_inc                float64\n",
            "bank_dlq                        int64\n",
            "il_acc                          int64\n",
            "payment_history               float64\n",
            "collateral_coverage_ratio     float64\n",
            "dtype: object\n"
          ]
        }
      ]
    },
    {
      "cell_type": "code",
      "source": [
        "df_train['home_ownership']. unique()"
      ],
      "metadata": {
        "colab": {
          "base_uri": "https://localhost:8080/"
        },
        "id": "dRJ_qjd0sZQI",
        "outputId": "5cfa2300-adf0-4557-d74c-243977ecc1df"
      },
      "execution_count": 22,
      "outputs": [
        {
          "output_type": "execute_result",
          "data": {
            "text/plain": [
              "array(['MORTGAGE', 'RENT', 'OWN', 'ANY', 'NONE', 'OTHER'], dtype=object)"
            ]
          },
          "metadata": {},
          "execution_count": 22
        }
      ]
    },
    {
      "cell_type": "code",
      "source": [
        "# Group 1 \n",
        "group1_vars = ['loan_amnt', 'term', 'installment', 'home_ownership', 'annual_inc']\n",
        "\n",
        "# Group 2\n",
        "group2_vars = ['purpose', 'title', 'zip_code', 'addr_state', 'dti']\n",
        "\n",
        "# Group 3\n",
        "group3_vars = ['delinq_2yrs', 'earliest_cr_line', 'fico_range_low', 'fico_range_high', 'inq_last_6mths']\n",
        "\n",
        "# Group 4\n",
        "group4_vars = ['open_acc', 'pub_rec', 'revol_bal', 'revol_util', 'total_acc']\n"
      ],
      "metadata": {
        "id": "k1Vh5o1EnqM-"
      },
      "execution_count": 8,
      "outputs": []
    },
    {
      "cell_type": "code",
      "source": [
        "def preprocess_data(df):\n",
        "    # Convert non-numeric columns to string\n",
        "    non_numeric_cols = df.select_dtypes(include=['object']).columns\n",
        "    df[non_numeric_cols] = df[non_numeric_cols].astype('str')\n",
        "    \n",
        "    # Create dummy variables for categorical columns\n",
        "    df = pd.get_dummies(df, columns=non_numeric_cols, drop_first=True)\n",
        "\n",
        "    # Convert numeric columns to float and replace NaNs with a suitable value\n",
        "    numeric_cols = df.select_dtypes(include=[np.number]).columns\n",
        "    df[numeric_cols] = df[numeric_cols].astype('float64')\n",
        "    df[numeric_cols] = df[numeric_cols].fillna(-999999)\n",
        "\n",
        "    return df\n"
      ],
      "metadata": {
        "id": "yqCBmYdup9D_"
      },
      "execution_count": 9,
      "outputs": []
    },
    {
      "cell_type": "code",
      "source": [
        "df_train_preprocessed = preprocess_data(df_train.copy())"
      ],
      "metadata": {
        "id": "SfQpCKZgs657"
      },
      "execution_count": null,
      "outputs": []
    },
    {
      "cell_type": "code",
      "source": [
        "bins = sc.woebin(df_train, y='Default',\n",
        "                 x='loan_amnt',  # Include only the first 5 variables\n",
        "                 min_perc_fine_bin=0.01,  # How many bins to cut initially into\n",
        "                 min_perc_coarse_bin=0.05,  # Minimum percentage per final bin\n",
        "                 stop_limit=0.02,  # Minimum information value\n",
        "                 max_num_bin=8,  # Maximum number of bins\n",
        "                 method='tree'\n",
        "                 )"
      ],
      "metadata": {
        "colab": {
          "base_uri": "https://localhost:8080/"
        },
        "id": "RwwrtHM4mv7g",
        "outputId": "b03234ee-5a4f-4026-c850-8a56a22f15ec"
      },
      "execution_count": 10,
      "outputs": [
        {
          "output_type": "stream",
          "name": "stdout",
          "text": [
            "[INFO] creating woe binning ...\n",
            "Binning on 848276 rows and 2 columns in 00:00:11\n"
          ]
        }
      ]
    },
    {
      "cell_type": "code",
      "source": [
        "import seaborn as sns\n",
        "\n",
        "sc.woebin_plot(bins)"
      ],
      "metadata": {
        "colab": {
          "base_uri": "https://localhost:8080/",
          "height": 298
        },
        "id": "2giWoJbJwWRR",
        "outputId": "c534c7b9-3cb1-4878-d04c-02ce3aaa0e4c"
      },
      "execution_count": 11,
      "outputs": [
        {
          "output_type": "execute_result",
          "data": {
            "text/plain": [
              "{'loan_amnt': <Figure size 432x288 with 2 Axes>}"
            ]
          },
          "metadata": {},
          "execution_count": 11
        },
        {
          "output_type": "display_data",
          "data": {
            "text/plain": [
              "<Figure size 432x288 with 2 Axes>"
            ],
            "image/png": "[encoded data removed]"
          },
          "metadata": {
            "needs_background": "light"
          }
        }
      ]
    }
  ]
}