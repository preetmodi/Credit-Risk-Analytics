{
  "nbformat": 4,
  "nbformat_minor": 0,
  "metadata": {
    "colab": {
      "provenance": [],
      "authorship_tag": "ABX9TyP7YIQebnBJw7mYEY44vsoV",
      "include_colab_link": true
    },
    "kernelspec": {
      "name": "python3",
      "display_name": "Python 3"
    },
    "language_info": {
      "name": "python"
    }
  },
  "cells": [
    {
      "cell_type": "markdown",
      "metadata": {
        "id": "view-in-github",
        "colab_type": "text"
      },
      "source": [
        "<a href=\"https://colab.research.google.com/github/preetmodi/Credit-Risk-Analytics/blob/main/All_WOE.ipynb\" target=\"_parent\"><img src=\"https://colab.research.google.com/assets/colab-badge.svg\" alt=\"Open In Colab\"/></a>"
      ]
    },
    {
      "cell_type": "code",
      "execution_count": 1,
      "metadata": {
        "colab": {
          "base_uri": "https://localhost:8080/"
        },
        "id": "YfmwFIsSPBGH",
        "outputId": "740b775c-3b6d-4bfd-e835-15fb1d761d0a"
      },
      "outputs": [
        {
          "output_type": "stream",
          "name": "stdout",
          "text": [
            "/usr/bin/xdg-open: 869: www-browser: not found\n",
            "/usr/bin/xdg-open: 869: links2: not found\n",
            "/usr/bin/xdg-open: 869: elinks: not found\n",
            "/usr/bin/xdg-open: 869: links: not found\n",
            "/usr/bin/xdg-open: 869: lynx: not found\n",
            "/usr/bin/xdg-open: 869: w3m: not found\n",
            "xdg-open: no method available for opening 'https://accounts.google.com/o/oauth2/auth?client_id=564921029129.apps.googleusercontent.com&redirect_uri=https%3A%2F%2Fgd-ocaml-auth.appspot.com%2Foauth2callback&scope=https%3A%2F%2Fwww.googleapis.com%2Fauth%2Fdrive&response_type=code&access_type=offline&approval_prompt=force&state=W-srgydc651EMtkWRLYZqNlBOHQ2TlSlZ2kTNCGWctI'\n",
            "/bin/sh: 1: firefox: not found\n",
            "/bin/sh: 1: google-chrome: not found\n",
            "/bin/sh: 1: chromium-browser: not found\n",
            "/bin/sh: 1: open: not found\n",
            "Cannot retrieve auth tokens.\n",
            "Failure(\"Error opening URL:https://accounts.google.com/o/oauth2/auth?client_id=564921029129.apps.googleusercontent.com&redirect_uri=https%3A%2F%2Fgd-ocaml-auth.appspot.com%2Foauth2callback&scope=https%3A%2F%2Fwww.googleapis.com%2Fauth%2Fdrive&response_type=code&access_type=offline&approval_prompt=force&state=W-srgydc651EMtkWRLYZqNlBOHQ2TlSlZ2kTNCGWctI\")\n",
            "/content\n",
            "/content/gdrive\n",
            "Access token retrieved correctly.\n"
          ]
        }
      ],
      "source": [
        "!sudo echo -ne '\\n' | sudo add-apt-repository ppa:alessandro-strada/ppa >/dev/null 2>&1 # note: >/dev/null 2>&1 is used to supress printing\n",
        "!sudo apt update >/dev/null 2>&1\n",
        "!sudo apt install google-drive-ocamlfuse >/dev/null 2>&1\n",
        "!google-drive-ocamlfuse\n",
        "!sudo apt-get install w3m >/dev/null 2>&1 # to act as web browser \n",
        "!xdg-settings set default-web-browser w3m.desktop >/dev/null 2>&1 # to set default browser \n",
        "%cd /content\n",
        "!mkdir gdrive\n",
        "%cd gdrive\n",
        "!mkdir \"My Drive\"\n",
        "!google-drive-ocamlfuse \"/content/gdrive/My Drive\""
      ]
    },
    {
      "cell_type": "code",
      "source": [
        "!pip install git+https://github.com/CBravoR/scorecardpy"
      ],
      "metadata": {
        "colab": {
          "base_uri": "https://localhost:8080/"
        },
        "id": "31WO-GggPFH-",
        "outputId": "d66cf097-3a89-41c1-e36d-cf45b227f634"
      },
      "execution_count": 2,
      "outputs": [
        {
          "output_type": "stream",
          "name": "stdout",
          "text": [
            "Looking in indexes: https://pypi.org/simple, https://us-python.pkg.dev/colab-wheels/public/simple/\n",
            "Collecting git+https://github.com/CBravoR/scorecardpy\n",
            "  Cloning https://github.com/CBravoR/scorecardpy to /tmp/pip-req-build-df163poi\n",
            "  Running command git clone --filter=blob:none --quiet https://github.com/CBravoR/scorecardpy /tmp/pip-req-build-df163poi\n",
            "  Resolved https://github.com/CBravoR/scorecardpy to commit 03ec28470391e5c950580ad9ac4877ca33f05fce\n",
            "  Preparing metadata (setup.py) ... \u001b[?25l\u001b[?25hdone\n",
            "Requirement already satisfied: numpy in /usr/local/lib/python3.9/dist-packages (from scorecardpy==0.1.9.3) (1.22.4)\n",
            "Requirement already satisfied: pandas>=0.25.0 in /usr/local/lib/python3.9/dist-packages (from scorecardpy==0.1.9.3) (1.4.4)\n",
            "Requirement already satisfied: matplotlib in /usr/local/lib/python3.9/dist-packages (from scorecardpy==0.1.9.3) (3.7.1)\n",
            "Requirement already satisfied: scikit-learn>=0.19.1 in /usr/local/lib/python3.9/dist-packages (from scorecardpy==0.1.9.3) (1.2.2)\n",
            "Requirement already satisfied: statsmodels in /usr/local/lib/python3.9/dist-packages (from scorecardpy==0.1.9.3) (0.13.5)\n",
            "Requirement already satisfied: patsy in /usr/local/lib/python3.9/dist-packages (from scorecardpy==0.1.9.3) (0.5.3)\n",
            "Requirement already satisfied: pytz>=2020.1 in /usr/local/lib/python3.9/dist-packages (from pandas>=0.25.0->scorecardpy==0.1.9.3) (2022.7.1)\n",
            "Requirement already satisfied: python-dateutil>=2.8.1 in /usr/local/lib/python3.9/dist-packages (from pandas>=0.25.0->scorecardpy==0.1.9.3) (2.8.2)\n",
            "Requirement already satisfied: scipy>=1.3.2 in /usr/local/lib/python3.9/dist-packages (from scikit-learn>=0.19.1->scorecardpy==0.1.9.3) (1.10.1)\n",
            "Requirement already satisfied: threadpoolctl>=2.0.0 in /usr/local/lib/python3.9/dist-packages (from scikit-learn>=0.19.1->scorecardpy==0.1.9.3) (3.1.0)\n",
            "Requirement already satisfied: joblib>=1.1.1 in /usr/local/lib/python3.9/dist-packages (from scikit-learn>=0.19.1->scorecardpy==0.1.9.3) (1.1.1)\n",
            "Requirement already satisfied: importlib-resources>=3.2.0 in /usr/local/lib/python3.9/dist-packages (from matplotlib->scorecardpy==0.1.9.3) (5.12.0)\n",
            "Requirement already satisfied: contourpy>=1.0.1 in /usr/local/lib/python3.9/dist-packages (from matplotlib->scorecardpy==0.1.9.3) (1.0.7)\n",
            "Requirement already satisfied: pillow>=6.2.0 in /usr/local/lib/python3.9/dist-packages (from matplotlib->scorecardpy==0.1.9.3) (8.4.0)\n",
            "Requirement already satisfied: fonttools>=4.22.0 in /usr/local/lib/python3.9/dist-packages (from matplotlib->scorecardpy==0.1.9.3) (4.39.3)\n",
            "Requirement already satisfied: cycler>=0.10 in /usr/local/lib/python3.9/dist-packages (from matplotlib->scorecardpy==0.1.9.3) (0.11.0)\n",
            "Requirement already satisfied: pyparsing>=2.3.1 in /usr/local/lib/python3.9/dist-packages (from matplotlib->scorecardpy==0.1.9.3) (3.0.9)\n",
            "Requirement already satisfied: packaging>=20.0 in /usr/local/lib/python3.9/dist-packages (from matplotlib->scorecardpy==0.1.9.3) (23.0)\n",
            "Requirement already satisfied: kiwisolver>=1.0.1 in /usr/local/lib/python3.9/dist-packages (from matplotlib->scorecardpy==0.1.9.3) (1.4.4)\n",
            "Requirement already satisfied: six in /usr/local/lib/python3.9/dist-packages (from patsy->scorecardpy==0.1.9.3) (1.16.0)\n",
            "Requirement already satisfied: zipp>=3.1.0 in /usr/local/lib/python3.9/dist-packages (from importlib-resources>=3.2.0->matplotlib->scorecardpy==0.1.9.3) (3.15.0)\n",
            "Building wheels for collected packages: scorecardpy\n",
            "  Building wheel for scorecardpy (setup.py) ... \u001b[?25l\u001b[?25hdone\n",
            "  Created wheel for scorecardpy: filename=scorecardpy-0.1.9.3-py3-none-any.whl size=59549 sha256=19248dd2eb6f6682791842a8511132e5e24cec0567cb87ab315464c8ee7ecf61\n",
            "  Stored in directory: /tmp/pip-ephem-wheel-cache-b70qob7n/wheels/61/36/7f/76fa329f36d896910f2251f5cfd54094c722e088b633e47f6f\n",
            "Successfully built scorecardpy\n",
            "Installing collected packages: scorecardpy\n",
            "Successfully installed scorecardpy-0.1.9.3\n"
          ]
        }
      ]
    },
    {
      "cell_type": "code",
      "source": [
        "import pandas as pd\n",
        "import matplotlib.pyplot as plt\n",
        "import seaborn as sns\n",
        "import numpy as np\n",
        "import scorecardpy as sc\n",
        "%matplotlib inline"
      ],
      "metadata": {
        "id": "HXCyngPlPKQC"
      },
      "execution_count": 3,
      "outputs": []
    },
    {
      "cell_type": "code",
      "source": [
        "%cd /content/gdrive/My Drive/Data/"
      ],
      "metadata": {
        "colab": {
          "base_uri": "https://localhost:8080/"
        },
        "id": "f2KhNxZLyiMu",
        "outputId": "c93bd404-5112-417d-8dc8-4c0b418ad491"
      },
      "execution_count": 4,
      "outputs": [
        {
          "output_type": "stream",
          "name": "stdout",
          "text": [
            "/content/gdrive/My Drive/Data\n"
          ]
        }
      ]
    },
    {
      "cell_type": "code",
      "source": [
        "train = pd.read_csv(\"train_mean.csv\", low_memory=False, index_col=0)"
      ],
      "metadata": {
        "id": "TT9-OzV0PMgf"
      },
      "execution_count": 5,
      "outputs": []
    },
    {
      "cell_type": "code",
      "source": [
        "def remove_outliers(data):\n",
        "\n",
        "    df = data.copy()\n",
        "    df.loc[df[\"installment\"]>1650,\"installment\"] = 1650\n",
        "    df.loc[df[\"dti\"]>900,\"dti\"] = 900\n",
        "    df.loc[df[\"delinq_2yrs\"]>30,\"delinq_2yrs\"] = 30\n",
        "    df.loc[df[\"open_acc\"]>75,\"open_acc\"] = 75\n",
        "    df.loc[df[\"pub_rec\"]>40,\"pub_rec\"] = 40\n",
        "    df.loc[df[\"revol_bal\"]>1500000,\"revol_bal\"] = 1500000\n",
        "\n",
        "\n",
        "    df.loc[df[\"revol_util\"]>200,\"revol_util\"] = 200\n",
        "    df.loc[df[\"total_acc\"]>125,\"total_acc\"] = 125\n",
        "    df.loc[df[\"annual_inc_joint\"]>500000,\"annual_inc_joint\"] = 500000\n",
        "    df.loc[df[\"dti_joint\"]>40,\"dti_joint\"] = 40\n",
        "    df.loc[df[\"tot_coll_amt\"]>500000,\"tot_coll_amt\"] = 500000\n",
        "    df.loc[df[\"tot_cur_bal\"]>1000000,\"tot_cur_bal\"] = 1000000\n",
        "    df.loc[df[\"open_acc_6m\"]>10,\"open_acc_6m\"] = 10\n",
        "    df.loc[df[\"open_act_il\"]>40,\"open_act_il\"] = 40\n",
        "    df.loc[df[\"open_il_12m\"]>10,\"open_il_12m\"] = 10\n",
        "    df.loc[df[\"open_il_24m\"]>20,\"open_il_24m\"] = 20\n",
        "    df.loc[df[\"total_bal_il\"]>800000,\"total_bal_il\"] = 800000\n",
        "    df.loc[df[\"il_util\"]>400,\"il_util\"] = 400\n",
        "    df.loc[df[\"open_rv_12m\"]>10,\"open_rv_12m\"] = 10\n",
        "    df.loc[df[\"open_rv_24m\"]>20,\"open_rv_24m\"] = 20\n",
        "    df.loc[df[\"max_bal_bc\"]>150000,\"max_bal_bc\"] = 150000\n",
        "    df.loc[df[\"all_util\"]>200,\"all_util\"] = 200\n",
        "    df.loc[df[\"inq_fi\"]>15,\"inq_fi\"] = 15 \n",
        "    df.loc[df[\"total_cu_tl\"]>40,\"total_cu_tl\"] = 40\n",
        "\n",
        "\n",
        "    df.loc[df[\"inq_last_12m\"]>13,\"inq_last_12m\"] = 13\n",
        "    df.loc[df[\"acc_open_past_24mths\"]>19,\"acc_open_past_24mths\"] = 19\n",
        "    df.loc[df[\"avg_cur_bal\"]>110000,\"avg_cur_bal\"] = 110000\n",
        "    df.loc[df[\"bc_open_to_buy\"]>110000,\"bc_open_to_buy\"] = 110000\n",
        "    df.loc[df[\"bc_util\"]>120,\"bc_util\"] = 120\n",
        "    df.loc[df[\"chargeoff_within_12_mths\"]>1,\"chargeoff_within_12_mths\"] = 1\n",
        "    df.loc[df[\"mo_sin_old_il_acct\"]>350,\"mo_sin_old_il_acct\"] = 350\n",
        "    df.loc[df[\"mo_sin_rcnt_rev_tl_op\"]>110,\"mo_sin_rcnt_rev_tl_op\"] = 110\n",
        "    df.loc[df[\"mo_sin_rcnt_tl\"]>60,\"mo_sin_rcnt_tl\"] = 60\n",
        "    df.loc[df[\"mort_acc\"]>11,\"mort_acc\"] = 11\n",
        "    df.loc[df[\"mths_since_recent_bc\"]>190,\"mths_since_recent_bc\"] = 190\n",
        "    df.loc[df[\"mths_since_recent_revol_delinq\"]>80,\"mths_since_recent_revol_delinq\"] = 80\n",
        "    df.loc[df[\"num_accts_ever_120_pd\"]>8,\"num_accts_ever_120_pd\"] = 8\n",
        "    df.loc[df[\"num_actv_bc_tl\"]>15,\"num_actv_bc_tl\"] = 15\n",
        "    df.loc[df[\"num_actv_rev_tl\"]>22,\"num_actv_rev_tl\"] = 22\n",
        "    df.loc[df[\"num_bc_sats\"]>19,\"num_bc_sats\"] = 19\n",
        "    df.loc[df[\"num_bc_tl\"]>30,\"num_bc_tl\"] = 30\n",
        "    df.loc[df[\"num_il_tl\"]>50,\"num_il_tl\"] = 50\n",
        "    df.loc[df[\"num_op_rev_tl\"]>35,\"num_op_rev_tl\"] = 35\n",
        "\n",
        "    df.loc[df[\"num_rev_accts\"]>60,\"num_rev_accts\"] = 60\n",
        "    df.loc[df[\"num_rev_tl_bal_gt_0\"]>30,\"num_rev_tl_bal_gt_0\"] = 30\n",
        "    df.loc[df[\"num_sats\"]>40,\"num_sats\"] = 40\n",
        "    df.loc[df[\"pct_tl_nvr_dlq\"]<50,\"pct_tl_nvr_dlq\"] = 50\n",
        "    df.loc[df[\"pub_rec_bankruptcies\"]>2,\"pub_rec_bankruptcies\"] = 2\n",
        "    df.loc[df[\"tax_liens\"]>15,\"tax_liens\"] = 15\n",
        "    df.loc[df[\"tot_hi_cred_lim\"]>0.18e+7,\"tot_hi_cred_lim\"] = 0.18e+7\n",
        "    df.loc[df[\"total_bal_ex_mort\"]>0.6e+6,\"total_bal_ex_mort\"] = 0.6e+6\n",
        "    df.loc[df[\"total_bc_limit\"]>200000,\"total_bc_limit\"] = 200000\n",
        "    df.loc[df[\"total_il_high_credit_limit\"]>0.4e+6,\"total_il_high_credit_limit\"] = 0.4e+6\n",
        "    # df.loc[df[\"coborrower_inc\"]>0.2e+6,\"coborrower_inc\"] = 0.2e+6\n",
        "    df.loc[df[\"payment_history\"]<-0.3,\"payment_history\"] = -0.3\n",
        "    df.loc[df[\"collateral_coverage_ratio\"]>50,\"collateral_coverage_ratio\"] = 50\n",
        "    return df\n",
        "\n",
        "\n",
        "\n",
        "\n",
        "# Remove the outliers\n",
        "df_train_no_outliers = remove_outliers(train)"
      ],
      "metadata": {
        "id": "SgtY1WauPheY"
      },
      "execution_count": 6,
      "outputs": []
    },
    {
      "cell_type": "code",
      "source": [
        "p_bins = {'acc_open_past_24mths': [2.0,3.0,4.0,7.0,10.0], 'avg_cur_bal': [6500.0,15000.0,22500.0,31500.0,49500.0], 'bank_dlq': [1.0], 'bc_open_to_buy': [3000.0,11000.0,17500.0,29000.0], 'bc_util': [32.0,53.0,73.0,91.0,99.0], 'collateral_coverage_ratio': [0.2,2.8000000000000003,4.0,4.2,5.4,8.6,13.8], 'il_acc': [1.0], 'inq_last_12m': [0.0,1.0,2.0,4.0,7.0], 'mo_sin_old_il_acct': [30.0,90.0,120.0,130.0,145.0,205.0], 'mo_sin_old_rev_tl_op': [30.0,90.0,120.0,130.0,190.0,210.0,255.0], 'mo_sin_rcnt_rev_tl_op': [2.0,5.0,10.0,17.0,29.0], 'mo_sin_rcnt_tl': [2.0,4.0,9.0,16.0], 'mort_acc': [1.0,2.0,3.0], 'mths_since_recent_bc': [3.0,8.0,16.0,25.0,36.0,94.0], 'mths_since_recent_inq': [0.0,2.0,4.0,5.0,9.0,13.0], 'mths_since_recent_revol_delinq': [0.0,9.0,16.0,33.0,54.0], 'num_accts_ever_120_pd': [0.5070000264607788,1.0,2.0], 'num_actv_bc_tl': [3.0,5.0,7.0], 'num_actv_rev_tl': [2.0,3.0,4.0,5.0,8.0,11.0], 'num_bc_sats': [3.0,4.0,10.0,13.0], 'num_bc_tl': [5.0,7.0,8.0,9.0,13.0,19.0], 'num_il_tl': [1.0,8.0,9.0,14.0,25.0], 'num_op_rev_tl': [3.0,5.0,7.0,8.0,9.0], 'num_rev_accts': [4.0,7.0,13.0,14.0,15.0,20.0], 'num_rev_tl_bal_gt_0': [3.0,4.0,5.0,8.0,11.0], 'num_sats': [5.0,6.0,8.0,10.0,11.0,12.0], 'payment_history': [0.25,0.33999999999999997,0.69,0.7,0.85], 'pct_tl_nvr_dlq': [67.0,78.0,93.0,94.0,94.5,98.5], 'percent_bc_gt_75': [11.0,26.0,34.0,51.0], 'pub_rec_bankruptcies': [0.1305611194492024], 'tax_liens': [1.0], 'tot_hi_cred_lim': [80000.0,180000.0,210000.0,280000.0,510000.0], 'total_bal_ex_mort': [4000.0,8000.0,18000.0,42000.0,66000.0,102000.0,184000.0], 'total_bc_limit': [10000.0,14000.0,25000.0,49000.0], 'total_il_high_credit_limit': [2000.0,10000.0,42000.0,44000.0,84000.0,132000.0]}\n",
        "v_bins = {'delinq_2yrs': [1.0,2.0], 'dti': [9.0,12.5,18.0,24.5], 'fico_range_high': [680.0,705.0,720.0,740.0,765.0], 'fico_range_low': [680.0,705.0,720.0,740.0,765.0], 'home_ownership': ['ANY%,%MORTGAGE','OWN','RENT%,%NONE%,%OTHER'], 'inq_last_6mths': [1.0,2.0], 'installment': [160.0,260.0,300.0,340.0,500.0,600.0,660.0], 'loan_amnt': [4500.0,10500.0,16500.0,20000.0,20500.0,25000.0,35000.0], 'open_acc': [6.0,8.0,10.0,11.0], 'pub_rec': [1.0], 'purpose': ['car%,%credit_card','home_improvement%,%major_purchase','house%,%vacation%,%other','wedding%,%medical%,%debt_consolidation%,%moving%,%renewable_energy%,%small_business%,%educational'], 'revol_bal': [2000.0,4000.0,22500.0,26500.0,36000.0], 'revol_util': [22.0,38.0,48.0,58.0], 'term': [' 36 months',' 60 months'], 'total_acc': [9.0,13.0,23.0,29.0,33.0,44.0]}\n",
        "h_bins = {'all_util': [20], 'annual_inc_joint': [56000.0,66000.0,86000.0,126000.0], 'application_type': ['Joint App','Individual'], 'dti_joint': [0.2], 'il_util': [2], 'inq_fi': [0], 'max_bal_bc': [0.0,6000.0,10400.0], 'open_acc_6m': [0.0], 'open_act_il': [0,7], 'open_il_12m': [0], 'open_il_24m': [0], 'open_rv_12m': [0.0], 'open_rv_24m': [0], 'revol_util': [22.0,38.0,48.0,58.0], 'tot_coll_amt': [40, 210], 'tot_cur_bal': [100000,140000,200000,300000,430000], 'total_acc': [9.0,13.0,23.0,29.0,33.0,44.0], 'total_bal_il': [2000.0, 60000.0], 'total_cu_tl': [0.0]}\n"
      ],
      "metadata": {
        "id": "C9c-Wz0gPuWI"
      },
      "execution_count": 7,
      "outputs": []
    },
    {
      "cell_type": "code",
      "source": [
        "p_good = ['percent_bc_gt_75','bc_open_to_buy', 'mo_sin_old_rev_tl_op','num_rev_tl_bal_gt_0','total_bc_limit','avg_cur_bal','mo_sin_rcnt_rev_tl_op','mths_since_recent_inq','il_acc','tot_hi_cred_lim','mo_sin_rcnt_tl','bc_util','inq_last_12m','acc_open_past_24mths','mths_since_recent_bc','num_actv_rev_tl']\n",
        "v_good = ['term','home_ownership','purpose','dti','fico_range_low','fico_range_high','inq_last_6mths']\n",
        "h_good = list(h_bins.keys())\n",
        "h_good.remove('total_acc')\n",
        "h_good.remove('tot_coll_amt')\n",
        "\n",
        "\n",
        "p_bins = {k:p_bins[k] for k in p_good}\n",
        "p_bins = {k:v_bins[k] for k in v_good}\n",
        "h_bins = {k:h_bins[k] for k in h_good}"
      ],
      "metadata": {
        "id": "qhzyKWWAQFjA"
      },
      "execution_count": 8,
      "outputs": []
    },
    {
      "cell_type": "code",
      "source": [
        "all_bins = p_bins.copy()\n",
        "all_bins.update(v_bins)\n",
        "all_bins.update(h_bins)\n",
        "\n",
        "# all_bins\n",
        "all_good = p_good + v_good + h_good + ['Default']"
      ],
      "metadata": {
        "id": "MN0q19UWQ2CB"
      },
      "execution_count": 9,
      "outputs": []
    },
    {
      "cell_type": "code",
      "source": [
        "train_imp = train[all_good].copy()\n",
        "\n",
        "bins_adj = sc.woebin(train_imp, y=\"Default\", breaks_list=all_bins) # Apply new cuts\n",
        "train_woe = sc.woebin_ply(train_imp, bins_adj) # Calculate WoE dataset (train)"
      ],
      "metadata": {
        "colab": {
          "base_uri": "https://localhost:8080/"
        },
        "id": "RLH2zHL8Q7pa",
        "outputId": "6c2c9081-10c6-4f20-c640-cee37413ed9c"
      },
      "execution_count": 10,
      "outputs": [
        {
          "output_type": "stream",
          "name": "stdout",
          "text": [
            "[INFO] creating woe binning ...\n",
            "Binning on 896430 rows and 41 columns in 00:02:20\n",
            "[INFO] converting into woe values ...\n",
            "Woe transformating on 896430 rows and 40 columns in 00:01:19\n"
          ]
        }
      ]
    },
    {
      "cell_type": "markdown",
      "source": [
        "# For Test set"
      ],
      "metadata": {
        "id": "SeTS_6JvzAN1"
      }
    },
    {
      "cell_type": "code",
      "source": [
        "test = pd.read_csv(\"test_mean.csv\", low_memory=False, index_col=0)"
      ],
      "metadata": {
        "id": "whDmwa15zLma"
      },
      "execution_count": 11,
      "outputs": []
    },
    {
      "cell_type": "code",
      "source": [
        "test_df_no_outlier = remove_outliers(test)\n",
        "\n",
        "test_woe = sc.woebin_ply(test_df_no_outlier, bins_adj) # Calculate WoE dataset (test)\n"
      ],
      "metadata": {
        "colab": {
          "base_uri": "https://localhost:8080/"
        },
        "id": "EohAo3zXy-7U",
        "outputId": "684af0d8-b734-46e2-bb8f-1cf9ad1a1f59"
      },
      "execution_count": 12,
      "outputs": [
        {
          "output_type": "stream",
          "name": "stdout",
          "text": [
            "[INFO] converting into woe values ...\n",
            "Woe transformating on 384185 rows and 40 columns in 00:01:05\n"
          ]
        }
      ]
    },
    {
      "cell_type": "code",
      "source": [
        "train_woe"
      ],
      "metadata": {
        "id": "eefUM-_rzX-E"
      },
      "execution_count": null,
      "outputs": []
    }
  ]
}